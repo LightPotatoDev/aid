{
  "nbformat": 4,
  "nbformat_minor": 0,
  "metadata": {
    "colab": {
      "provenance": [],
      "gpuType": "T4",
      "include_colab_link": true
    },
    "kernelspec": {
      "name": "python3",
      "display_name": "Python 3"
    },
    "language_info": {
      "name": "python"
    },
    "accelerator": "GPU",
    "widgets": {
      "application/vnd.jupyter.widget-state+json": {
        "58780c78ed1645359783ca3880c6052f": {
          "model_module": "@jupyter-widgets/controls",
          "model_name": "HBoxModel",
          "model_module_version": "1.5.0",
          "state": {
            "_dom_classes": [],
            "_model_module": "@jupyter-widgets/controls",
            "_model_module_version": "1.5.0",
            "_model_name": "HBoxModel",
            "_view_count": null,
            "_view_module": "@jupyter-widgets/controls",
            "_view_module_version": "1.5.0",
            "_view_name": "HBoxView",
            "box_style": "",
            "children": [
              "IPY_MODEL_cd14f31f9e4449febe9c0a707d390c03",
              "IPY_MODEL_de706b6c755f4d2e802f472417c8c162",
              "IPY_MODEL_9acf929ba6064a0da114dcd9de2ca33c"
            ],
            "layout": "IPY_MODEL_e8a6f75bf0e74e12b18e9248c27a55ec"
          }
        },
        "cd14f31f9e4449febe9c0a707d390c03": {
          "model_module": "@jupyter-widgets/controls",
          "model_name": "HTMLModel",
          "model_module_version": "1.5.0",
          "state": {
            "_dom_classes": [],
            "_model_module": "@jupyter-widgets/controls",
            "_model_module_version": "1.5.0",
            "_model_name": "HTMLModel",
            "_view_count": null,
            "_view_module": "@jupyter-widgets/controls",
            "_view_module_version": "1.5.0",
            "_view_name": "HTMLView",
            "description": "",
            "description_tooltip": null,
            "layout": "IPY_MODEL_544fb4d9dce84e27b26e478ce4a839d8",
            "placeholder": "​",
            "style": "IPY_MODEL_71b2f74e79ed498384fdc7b8e61b9f2a",
            "value": "tokenizer_config.json: 100%"
          }
        },
        "de706b6c755f4d2e802f472417c8c162": {
          "model_module": "@jupyter-widgets/controls",
          "model_name": "FloatProgressModel",
          "model_module_version": "1.5.0",
          "state": {
            "_dom_classes": [],
            "_model_module": "@jupyter-widgets/controls",
            "_model_module_version": "1.5.0",
            "_model_name": "FloatProgressModel",
            "_view_count": null,
            "_view_module": "@jupyter-widgets/controls",
            "_view_module_version": "1.5.0",
            "_view_name": "ProgressView",
            "bar_style": "success",
            "description": "",
            "description_tooltip": null,
            "layout": "IPY_MODEL_29dcdd1532c24aa0bcb3b135af62ac32",
            "max": 289,
            "min": 0,
            "orientation": "horizontal",
            "style": "IPY_MODEL_80eee2c9a3854ec5965c7560b4fe59b2",
            "value": 289
          }
        },
        "9acf929ba6064a0da114dcd9de2ca33c": {
          "model_module": "@jupyter-widgets/controls",
          "model_name": "HTMLModel",
          "model_module_version": "1.5.0",
          "state": {
            "_dom_classes": [],
            "_model_module": "@jupyter-widgets/controls",
            "_model_module_version": "1.5.0",
            "_model_name": "HTMLModel",
            "_view_count": null,
            "_view_module": "@jupyter-widgets/controls",
            "_view_module_version": "1.5.0",
            "_view_name": "HTMLView",
            "description": "",
            "description_tooltip": null,
            "layout": "IPY_MODEL_6e4045c0659a45af9b077cf7070989b1",
            "placeholder": "​",
            "style": "IPY_MODEL_2d79bdfc0a114aac9d74a141bed185e8",
            "value": " 289/289 [00:00&lt;00:00, 7.62kB/s]"
          }
        },
        "e8a6f75bf0e74e12b18e9248c27a55ec": {
          "model_module": "@jupyter-widgets/base",
          "model_name": "LayoutModel",
          "model_module_version": "1.2.0",
          "state": {
            "_model_module": "@jupyter-widgets/base",
            "_model_module_version": "1.2.0",
            "_model_name": "LayoutModel",
            "_view_count": null,
            "_view_module": "@jupyter-widgets/base",
            "_view_module_version": "1.2.0",
            "_view_name": "LayoutView",
            "align_content": null,
            "align_items": null,
            "align_self": null,
            "border": null,
            "bottom": null,
            "display": null,
            "flex": null,
            "flex_flow": null,
            "grid_area": null,
            "grid_auto_columns": null,
            "grid_auto_flow": null,
            "grid_auto_rows": null,
            "grid_column": null,
            "grid_gap": null,
            "grid_row": null,
            "grid_template_areas": null,
            "grid_template_columns": null,
            "grid_template_rows": null,
            "height": null,
            "justify_content": null,
            "justify_items": null,
            "left": null,
            "margin": null,
            "max_height": null,
            "max_width": null,
            "min_height": null,
            "min_width": null,
            "object_fit": null,
            "object_position": null,
            "order": null,
            "overflow": null,
            "overflow_x": null,
            "overflow_y": null,
            "padding": null,
            "right": null,
            "top": null,
            "visibility": null,
            "width": null
          }
        },
        "544fb4d9dce84e27b26e478ce4a839d8": {
          "model_module": "@jupyter-widgets/base",
          "model_name": "LayoutModel",
          "model_module_version": "1.2.0",
          "state": {
            "_model_module": "@jupyter-widgets/base",
            "_model_module_version": "1.2.0",
            "_model_name": "LayoutModel",
            "_view_count": null,
            "_view_module": "@jupyter-widgets/base",
            "_view_module_version": "1.2.0",
            "_view_name": "LayoutView",
            "align_content": null,
            "align_items": null,
            "align_self": null,
            "border": null,
            "bottom": null,
            "display": null,
            "flex": null,
            "flex_flow": null,
            "grid_area": null,
            "grid_auto_columns": null,
            "grid_auto_flow": null,
            "grid_auto_rows": null,
            "grid_column": null,
            "grid_gap": null,
            "grid_row": null,
            "grid_template_areas": null,
            "grid_template_columns": null,
            "grid_template_rows": null,
            "height": null,
            "justify_content": null,
            "justify_items": null,
            "left": null,
            "margin": null,
            "max_height": null,
            "max_width": null,
            "min_height": null,
            "min_width": null,
            "object_fit": null,
            "object_position": null,
            "order": null,
            "overflow": null,
            "overflow_x": null,
            "overflow_y": null,
            "padding": null,
            "right": null,
            "top": null,
            "visibility": null,
            "width": null
          }
        },
        "71b2f74e79ed498384fdc7b8e61b9f2a": {
          "model_module": "@jupyter-widgets/controls",
          "model_name": "DescriptionStyleModel",
          "model_module_version": "1.5.0",
          "state": {
            "_model_module": "@jupyter-widgets/controls",
            "_model_module_version": "1.5.0",
            "_model_name": "DescriptionStyleModel",
            "_view_count": null,
            "_view_module": "@jupyter-widgets/base",
            "_view_module_version": "1.2.0",
            "_view_name": "StyleView",
            "description_width": ""
          }
        },
        "29dcdd1532c24aa0bcb3b135af62ac32": {
          "model_module": "@jupyter-widgets/base",
          "model_name": "LayoutModel",
          "model_module_version": "1.2.0",
          "state": {
            "_model_module": "@jupyter-widgets/base",
            "_model_module_version": "1.2.0",
            "_model_name": "LayoutModel",
            "_view_count": null,
            "_view_module": "@jupyter-widgets/base",
            "_view_module_version": "1.2.0",
            "_view_name": "LayoutView",
            "align_content": null,
            "align_items": null,
            "align_self": null,
            "border": null,
            "bottom": null,
            "display": null,
            "flex": null,
            "flex_flow": null,
            "grid_area": null,
            "grid_auto_columns": null,
            "grid_auto_flow": null,
            "grid_auto_rows": null,
            "grid_column": null,
            "grid_gap": null,
            "grid_row": null,
            "grid_template_areas": null,
            "grid_template_columns": null,
            "grid_template_rows": null,
            "height": null,
            "justify_content": null,
            "justify_items": null,
            "left": null,
            "margin": null,
            "max_height": null,
            "max_width": null,
            "min_height": null,
            "min_width": null,
            "object_fit": null,
            "object_position": null,
            "order": null,
            "overflow": null,
            "overflow_x": null,
            "overflow_y": null,
            "padding": null,
            "right": null,
            "top": null,
            "visibility": null,
            "width": null
          }
        },
        "80eee2c9a3854ec5965c7560b4fe59b2": {
          "model_module": "@jupyter-widgets/controls",
          "model_name": "ProgressStyleModel",
          "model_module_version": "1.5.0",
          "state": {
            "_model_module": "@jupyter-widgets/controls",
            "_model_module_version": "1.5.0",
            "_model_name": "ProgressStyleModel",
            "_view_count": null,
            "_view_module": "@jupyter-widgets/base",
            "_view_module_version": "1.2.0",
            "_view_name": "StyleView",
            "bar_color": null,
            "description_width": ""
          }
        },
        "6e4045c0659a45af9b077cf7070989b1": {
          "model_module": "@jupyter-widgets/base",
          "model_name": "LayoutModel",
          "model_module_version": "1.2.0",
          "state": {
            "_model_module": "@jupyter-widgets/base",
            "_model_module_version": "1.2.0",
            "_model_name": "LayoutModel",
            "_view_count": null,
            "_view_module": "@jupyter-widgets/base",
            "_view_module_version": "1.2.0",
            "_view_name": "LayoutView",
            "align_content": null,
            "align_items": null,
            "align_self": null,
            "border": null,
            "bottom": null,
            "display": null,
            "flex": null,
            "flex_flow": null,
            "grid_area": null,
            "grid_auto_columns": null,
            "grid_auto_flow": null,
            "grid_auto_rows": null,
            "grid_column": null,
            "grid_gap": null,
            "grid_row": null,
            "grid_template_areas": null,
            "grid_template_columns": null,
            "grid_template_rows": null,
            "height": null,
            "justify_content": null,
            "justify_items": null,
            "left": null,
            "margin": null,
            "max_height": null,
            "max_width": null,
            "min_height": null,
            "min_width": null,
            "object_fit": null,
            "object_position": null,
            "order": null,
            "overflow": null,
            "overflow_x": null,
            "overflow_y": null,
            "padding": null,
            "right": null,
            "top": null,
            "visibility": null,
            "width": null
          }
        },
        "2d79bdfc0a114aac9d74a141bed185e8": {
          "model_module": "@jupyter-widgets/controls",
          "model_name": "DescriptionStyleModel",
          "model_module_version": "1.5.0",
          "state": {
            "_model_module": "@jupyter-widgets/controls",
            "_model_module_version": "1.5.0",
            "_model_name": "DescriptionStyleModel",
            "_view_count": null,
            "_view_module": "@jupyter-widgets/base",
            "_view_module_version": "1.2.0",
            "_view_name": "StyleView",
            "description_width": ""
          }
        },
        "64b9319641064cc394e1d3b06ec2f651": {
          "model_module": "@jupyter-widgets/controls",
          "model_name": "HBoxModel",
          "model_module_version": "1.5.0",
          "state": {
            "_dom_classes": [],
            "_model_module": "@jupyter-widgets/controls",
            "_model_module_version": "1.5.0",
            "_model_name": "HBoxModel",
            "_view_count": null,
            "_view_module": "@jupyter-widgets/controls",
            "_view_module_version": "1.5.0",
            "_view_name": "HBoxView",
            "box_style": "",
            "children": [
              "IPY_MODEL_5f1ffb33fc6041cd81337813e9c5286b",
              "IPY_MODEL_310fdfe69b37443cb030413516b8bdda",
              "IPY_MODEL_b240b16c9ea3470e8fdde33487adcd12"
            ],
            "layout": "IPY_MODEL_61712958c8c74cae8311face85a5c7be"
          }
        },
        "5f1ffb33fc6041cd81337813e9c5286b": {
          "model_module": "@jupyter-widgets/controls",
          "model_name": "HTMLModel",
          "model_module_version": "1.5.0",
          "state": {
            "_dom_classes": [],
            "_model_module": "@jupyter-widgets/controls",
            "_model_module_version": "1.5.0",
            "_model_name": "HTMLModel",
            "_view_count": null,
            "_view_module": "@jupyter-widgets/controls",
            "_view_module_version": "1.5.0",
            "_view_name": "HTMLView",
            "description": "",
            "description_tooltip": null,
            "layout": "IPY_MODEL_698795d37655450b8e86174e3a42647e",
            "placeholder": "​",
            "style": "IPY_MODEL_5e8d5c2c6ee54282b4bd325d6ae50b7b",
            "value": "config.json: 100%"
          }
        },
        "310fdfe69b37443cb030413516b8bdda": {
          "model_module": "@jupyter-widgets/controls",
          "model_name": "FloatProgressModel",
          "model_module_version": "1.5.0",
          "state": {
            "_dom_classes": [],
            "_model_module": "@jupyter-widgets/controls",
            "_model_module_version": "1.5.0",
            "_model_name": "FloatProgressModel",
            "_view_count": null,
            "_view_module": "@jupyter-widgets/controls",
            "_view_module_version": "1.5.0",
            "_view_name": "ProgressView",
            "bar_style": "success",
            "description": "",
            "description_tooltip": null,
            "layout": "IPY_MODEL_b2f233ffc195470ab1c3f7aed98efec0",
            "max": 425,
            "min": 0,
            "orientation": "horizontal",
            "style": "IPY_MODEL_10079118092d4e55955709abe42a9caf",
            "value": 425
          }
        },
        "b240b16c9ea3470e8fdde33487adcd12": {
          "model_module": "@jupyter-widgets/controls",
          "model_name": "HTMLModel",
          "model_module_version": "1.5.0",
          "state": {
            "_dom_classes": [],
            "_model_module": "@jupyter-widgets/controls",
            "_model_module_version": "1.5.0",
            "_model_name": "HTMLModel",
            "_view_count": null,
            "_view_module": "@jupyter-widgets/controls",
            "_view_module_version": "1.5.0",
            "_view_name": "HTMLView",
            "description": "",
            "description_tooltip": null,
            "layout": "IPY_MODEL_3e62442b7a224e28b85022aae046758f",
            "placeholder": "​",
            "style": "IPY_MODEL_e0a4402d8dd14f629dec4f6ce5bb65d1",
            "value": " 425/425 [00:00&lt;00:00, 6.91kB/s]"
          }
        },
        "61712958c8c74cae8311face85a5c7be": {
          "model_module": "@jupyter-widgets/base",
          "model_name": "LayoutModel",
          "model_module_version": "1.2.0",
          "state": {
            "_model_module": "@jupyter-widgets/base",
            "_model_module_version": "1.2.0",
            "_model_name": "LayoutModel",
            "_view_count": null,
            "_view_module": "@jupyter-widgets/base",
            "_view_module_version": "1.2.0",
            "_view_name": "LayoutView",
            "align_content": null,
            "align_items": null,
            "align_self": null,
            "border": null,
            "bottom": null,
            "display": null,
            "flex": null,
            "flex_flow": null,
            "grid_area": null,
            "grid_auto_columns": null,
            "grid_auto_flow": null,
            "grid_auto_rows": null,
            "grid_column": null,
            "grid_gap": null,
            "grid_row": null,
            "grid_template_areas": null,
            "grid_template_columns": null,
            "grid_template_rows": null,
            "height": null,
            "justify_content": null,
            "justify_items": null,
            "left": null,
            "margin": null,
            "max_height": null,
            "max_width": null,
            "min_height": null,
            "min_width": null,
            "object_fit": null,
            "object_position": null,
            "order": null,
            "overflow": null,
            "overflow_x": null,
            "overflow_y": null,
            "padding": null,
            "right": null,
            "top": null,
            "visibility": null,
            "width": null
          }
        },
        "698795d37655450b8e86174e3a42647e": {
          "model_module": "@jupyter-widgets/base",
          "model_name": "LayoutModel",
          "model_module_version": "1.2.0",
          "state": {
            "_model_module": "@jupyter-widgets/base",
            "_model_module_version": "1.2.0",
            "_model_name": "LayoutModel",
            "_view_count": null,
            "_view_module": "@jupyter-widgets/base",
            "_view_module_version": "1.2.0",
            "_view_name": "LayoutView",
            "align_content": null,
            "align_items": null,
            "align_self": null,
            "border": null,
            "bottom": null,
            "display": null,
            "flex": null,
            "flex_flow": null,
            "grid_area": null,
            "grid_auto_columns": null,
            "grid_auto_flow": null,
            "grid_auto_rows": null,
            "grid_column": null,
            "grid_gap": null,
            "grid_row": null,
            "grid_template_areas": null,
            "grid_template_columns": null,
            "grid_template_rows": null,
            "height": null,
            "justify_content": null,
            "justify_items": null,
            "left": null,
            "margin": null,
            "max_height": null,
            "max_width": null,
            "min_height": null,
            "min_width": null,
            "object_fit": null,
            "object_position": null,
            "order": null,
            "overflow": null,
            "overflow_x": null,
            "overflow_y": null,
            "padding": null,
            "right": null,
            "top": null,
            "visibility": null,
            "width": null
          }
        },
        "5e8d5c2c6ee54282b4bd325d6ae50b7b": {
          "model_module": "@jupyter-widgets/controls",
          "model_name": "DescriptionStyleModel",
          "model_module_version": "1.5.0",
          "state": {
            "_model_module": "@jupyter-widgets/controls",
            "_model_module_version": "1.5.0",
            "_model_name": "DescriptionStyleModel",
            "_view_count": null,
            "_view_module": "@jupyter-widgets/base",
            "_view_module_version": "1.2.0",
            "_view_name": "StyleView",
            "description_width": ""
          }
        },
        "b2f233ffc195470ab1c3f7aed98efec0": {
          "model_module": "@jupyter-widgets/base",
          "model_name": "LayoutModel",
          "model_module_version": "1.2.0",
          "state": {
            "_model_module": "@jupyter-widgets/base",
            "_model_module_version": "1.2.0",
            "_model_name": "LayoutModel",
            "_view_count": null,
            "_view_module": "@jupyter-widgets/base",
            "_view_module_version": "1.2.0",
            "_view_name": "LayoutView",
            "align_content": null,
            "align_items": null,
            "align_self": null,
            "border": null,
            "bottom": null,
            "display": null,
            "flex": null,
            "flex_flow": null,
            "grid_area": null,
            "grid_auto_columns": null,
            "grid_auto_flow": null,
            "grid_auto_rows": null,
            "grid_column": null,
            "grid_gap": null,
            "grid_row": null,
            "grid_template_areas": null,
            "grid_template_columns": null,
            "grid_template_rows": null,
            "height": null,
            "justify_content": null,
            "justify_items": null,
            "left": null,
            "margin": null,
            "max_height": null,
            "max_width": null,
            "min_height": null,
            "min_width": null,
            "object_fit": null,
            "object_position": null,
            "order": null,
            "overflow": null,
            "overflow_x": null,
            "overflow_y": null,
            "padding": null,
            "right": null,
            "top": null,
            "visibility": null,
            "width": null
          }
        },
        "10079118092d4e55955709abe42a9caf": {
          "model_module": "@jupyter-widgets/controls",
          "model_name": "ProgressStyleModel",
          "model_module_version": "1.5.0",
          "state": {
            "_model_module": "@jupyter-widgets/controls",
            "_model_module_version": "1.5.0",
            "_model_name": "ProgressStyleModel",
            "_view_count": null,
            "_view_module": "@jupyter-widgets/base",
            "_view_module_version": "1.2.0",
            "_view_name": "StyleView",
            "bar_color": null,
            "description_width": ""
          }
        },
        "3e62442b7a224e28b85022aae046758f": {
          "model_module": "@jupyter-widgets/base",
          "model_name": "LayoutModel",
          "model_module_version": "1.2.0",
          "state": {
            "_model_module": "@jupyter-widgets/base",
            "_model_module_version": "1.2.0",
            "_model_name": "LayoutModel",
            "_view_count": null,
            "_view_module": "@jupyter-widgets/base",
            "_view_module_version": "1.2.0",
            "_view_name": "LayoutView",
            "align_content": null,
            "align_items": null,
            "align_self": null,
            "border": null,
            "bottom": null,
            "display": null,
            "flex": null,
            "flex_flow": null,
            "grid_area": null,
            "grid_auto_columns": null,
            "grid_auto_flow": null,
            "grid_auto_rows": null,
            "grid_column": null,
            "grid_gap": null,
            "grid_row": null,
            "grid_template_areas": null,
            "grid_template_columns": null,
            "grid_template_rows": null,
            "height": null,
            "justify_content": null,
            "justify_items": null,
            "left": null,
            "margin": null,
            "max_height": null,
            "max_width": null,
            "min_height": null,
            "min_width": null,
            "object_fit": null,
            "object_position": null,
            "order": null,
            "overflow": null,
            "overflow_x": null,
            "overflow_y": null,
            "padding": null,
            "right": null,
            "top": null,
            "visibility": null,
            "width": null
          }
        },
        "e0a4402d8dd14f629dec4f6ce5bb65d1": {
          "model_module": "@jupyter-widgets/controls",
          "model_name": "DescriptionStyleModel",
          "model_module_version": "1.5.0",
          "state": {
            "_model_module": "@jupyter-widgets/controls",
            "_model_module_version": "1.5.0",
            "_model_name": "DescriptionStyleModel",
            "_view_count": null,
            "_view_module": "@jupyter-widgets/base",
            "_view_module_version": "1.2.0",
            "_view_name": "StyleView",
            "description_width": ""
          }
        },
        "7d1506e1aeb347abac43060f75430067": {
          "model_module": "@jupyter-widgets/controls",
          "model_name": "HBoxModel",
          "model_module_version": "1.5.0",
          "state": {
            "_dom_classes": [],
            "_model_module": "@jupyter-widgets/controls",
            "_model_module_version": "1.5.0",
            "_model_name": "HBoxModel",
            "_view_count": null,
            "_view_module": "@jupyter-widgets/controls",
            "_view_module_version": "1.5.0",
            "_view_name": "HBoxView",
            "box_style": "",
            "children": [
              "IPY_MODEL_5185c9775a6f496da0d449b32ae0a914",
              "IPY_MODEL_c3913608dabb49a3bc36293e07d84321",
              "IPY_MODEL_6cac55583b824375aa733856737ec419"
            ],
            "layout": "IPY_MODEL_eb281d70d80349719ada99bf8dfa48b5"
          }
        },
        "5185c9775a6f496da0d449b32ae0a914": {
          "model_module": "@jupyter-widgets/controls",
          "model_name": "HTMLModel",
          "model_module_version": "1.5.0",
          "state": {
            "_dom_classes": [],
            "_model_module": "@jupyter-widgets/controls",
            "_model_module_version": "1.5.0",
            "_model_name": "HTMLModel",
            "_view_count": null,
            "_view_module": "@jupyter-widgets/controls",
            "_view_module_version": "1.5.0",
            "_view_name": "HTMLView",
            "description": "",
            "description_tooltip": null,
            "layout": "IPY_MODEL_5c370da3a4174b8eb8950686fa22decb",
            "placeholder": "​",
            "style": "IPY_MODEL_6c2b95bd924d4e47be6dfbaa4b5203f6",
            "value": "vocab.txt: 100%"
          }
        },
        "c3913608dabb49a3bc36293e07d84321": {
          "model_module": "@jupyter-widgets/controls",
          "model_name": "FloatProgressModel",
          "model_module_version": "1.5.0",
          "state": {
            "_dom_classes": [],
            "_model_module": "@jupyter-widgets/controls",
            "_model_module_version": "1.5.0",
            "_model_name": "FloatProgressModel",
            "_view_count": null,
            "_view_module": "@jupyter-widgets/controls",
            "_view_module_version": "1.5.0",
            "_view_name": "ProgressView",
            "bar_style": "success",
            "description": "",
            "description_tooltip": null,
            "layout": "IPY_MODEL_2f74626bcf614882982e9c65ebb3ad8a",
            "max": 248477,
            "min": 0,
            "orientation": "horizontal",
            "style": "IPY_MODEL_22e512e739944f089e40f217730c2a56",
            "value": 248477
          }
        },
        "6cac55583b824375aa733856737ec419": {
          "model_module": "@jupyter-widgets/controls",
          "model_name": "HTMLModel",
          "model_module_version": "1.5.0",
          "state": {
            "_dom_classes": [],
            "_model_module": "@jupyter-widgets/controls",
            "_model_module_version": "1.5.0",
            "_model_name": "HTMLModel",
            "_view_count": null,
            "_view_module": "@jupyter-widgets/controls",
            "_view_module_version": "1.5.0",
            "_view_name": "HTMLView",
            "description": "",
            "description_tooltip": null,
            "layout": "IPY_MODEL_6c09219714024690a813191ea1259eef",
            "placeholder": "​",
            "style": "IPY_MODEL_79a70c22b7b2491bb48e4e9bbc27d9a2",
            "value": " 248k/248k [00:00&lt;00:00, 1.17MB/s]"
          }
        },
        "eb281d70d80349719ada99bf8dfa48b5": {
          "model_module": "@jupyter-widgets/base",
          "model_name": "LayoutModel",
          "model_module_version": "1.2.0",
          "state": {
            "_model_module": "@jupyter-widgets/base",
            "_model_module_version": "1.2.0",
            "_model_name": "LayoutModel",
            "_view_count": null,
            "_view_module": "@jupyter-widgets/base",
            "_view_module_version": "1.2.0",
            "_view_name": "LayoutView",
            "align_content": null,
            "align_items": null,
            "align_self": null,
            "border": null,
            "bottom": null,
            "display": null,
            "flex": null,
            "flex_flow": null,
            "grid_area": null,
            "grid_auto_columns": null,
            "grid_auto_flow": null,
            "grid_auto_rows": null,
            "grid_column": null,
            "grid_gap": null,
            "grid_row": null,
            "grid_template_areas": null,
            "grid_template_columns": null,
            "grid_template_rows": null,
            "height": null,
            "justify_content": null,
            "justify_items": null,
            "left": null,
            "margin": null,
            "max_height": null,
            "max_width": null,
            "min_height": null,
            "min_width": null,
            "object_fit": null,
            "object_position": null,
            "order": null,
            "overflow": null,
            "overflow_x": null,
            "overflow_y": null,
            "padding": null,
            "right": null,
            "top": null,
            "visibility": null,
            "width": null
          }
        },
        "5c370da3a4174b8eb8950686fa22decb": {
          "model_module": "@jupyter-widgets/base",
          "model_name": "LayoutModel",
          "model_module_version": "1.2.0",
          "state": {
            "_model_module": "@jupyter-widgets/base",
            "_model_module_version": "1.2.0",
            "_model_name": "LayoutModel",
            "_view_count": null,
            "_view_module": "@jupyter-widgets/base",
            "_view_module_version": "1.2.0",
            "_view_name": "LayoutView",
            "align_content": null,
            "align_items": null,
            "align_self": null,
            "border": null,
            "bottom": null,
            "display": null,
            "flex": null,
            "flex_flow": null,
            "grid_area": null,
            "grid_auto_columns": null,
            "grid_auto_flow": null,
            "grid_auto_rows": null,
            "grid_column": null,
            "grid_gap": null,
            "grid_row": null,
            "grid_template_areas": null,
            "grid_template_columns": null,
            "grid_template_rows": null,
            "height": null,
            "justify_content": null,
            "justify_items": null,
            "left": null,
            "margin": null,
            "max_height": null,
            "max_width": null,
            "min_height": null,
            "min_width": null,
            "object_fit": null,
            "object_position": null,
            "order": null,
            "overflow": null,
            "overflow_x": null,
            "overflow_y": null,
            "padding": null,
            "right": null,
            "top": null,
            "visibility": null,
            "width": null
          }
        },
        "6c2b95bd924d4e47be6dfbaa4b5203f6": {
          "model_module": "@jupyter-widgets/controls",
          "model_name": "DescriptionStyleModel",
          "model_module_version": "1.5.0",
          "state": {
            "_model_module": "@jupyter-widgets/controls",
            "_model_module_version": "1.5.0",
            "_model_name": "DescriptionStyleModel",
            "_view_count": null,
            "_view_module": "@jupyter-widgets/base",
            "_view_module_version": "1.2.0",
            "_view_name": "StyleView",
            "description_width": ""
          }
        },
        "2f74626bcf614882982e9c65ebb3ad8a": {
          "model_module": "@jupyter-widgets/base",
          "model_name": "LayoutModel",
          "model_module_version": "1.2.0",
          "state": {
            "_model_module": "@jupyter-widgets/base",
            "_model_module_version": "1.2.0",
            "_model_name": "LayoutModel",
            "_view_count": null,
            "_view_module": "@jupyter-widgets/base",
            "_view_module_version": "1.2.0",
            "_view_name": "LayoutView",
            "align_content": null,
            "align_items": null,
            "align_self": null,
            "border": null,
            "bottom": null,
            "display": null,
            "flex": null,
            "flex_flow": null,
            "grid_area": null,
            "grid_auto_columns": null,
            "grid_auto_flow": null,
            "grid_auto_rows": null,
            "grid_column": null,
            "grid_gap": null,
            "grid_row": null,
            "grid_template_areas": null,
            "grid_template_columns": null,
            "grid_template_rows": null,
            "height": null,
            "justify_content": null,
            "justify_items": null,
            "left": null,
            "margin": null,
            "max_height": null,
            "max_width": null,
            "min_height": null,
            "min_width": null,
            "object_fit": null,
            "object_position": null,
            "order": null,
            "overflow": null,
            "overflow_x": null,
            "overflow_y": null,
            "padding": null,
            "right": null,
            "top": null,
            "visibility": null,
            "width": null
          }
        },
        "22e512e739944f089e40f217730c2a56": {
          "model_module": "@jupyter-widgets/controls",
          "model_name": "ProgressStyleModel",
          "model_module_version": "1.5.0",
          "state": {
            "_model_module": "@jupyter-widgets/controls",
            "_model_module_version": "1.5.0",
            "_model_name": "ProgressStyleModel",
            "_view_count": null,
            "_view_module": "@jupyter-widgets/base",
            "_view_module_version": "1.2.0",
            "_view_name": "StyleView",
            "bar_color": null,
            "description_width": ""
          }
        },
        "6c09219714024690a813191ea1259eef": {
          "model_module": "@jupyter-widgets/base",
          "model_name": "LayoutModel",
          "model_module_version": "1.2.0",
          "state": {
            "_model_module": "@jupyter-widgets/base",
            "_model_module_version": "1.2.0",
            "_model_name": "LayoutModel",
            "_view_count": null,
            "_view_module": "@jupyter-widgets/base",
            "_view_module_version": "1.2.0",
            "_view_name": "LayoutView",
            "align_content": null,
            "align_items": null,
            "align_self": null,
            "border": null,
            "bottom": null,
            "display": null,
            "flex": null,
            "flex_flow": null,
            "grid_area": null,
            "grid_auto_columns": null,
            "grid_auto_flow": null,
            "grid_auto_rows": null,
            "grid_column": null,
            "grid_gap": null,
            "grid_row": null,
            "grid_template_areas": null,
            "grid_template_columns": null,
            "grid_template_rows": null,
            "height": null,
            "justify_content": null,
            "justify_items": null,
            "left": null,
            "margin": null,
            "max_height": null,
            "max_width": null,
            "min_height": null,
            "min_width": null,
            "object_fit": null,
            "object_position": null,
            "order": null,
            "overflow": null,
            "overflow_x": null,
            "overflow_y": null,
            "padding": null,
            "right": null,
            "top": null,
            "visibility": null,
            "width": null
          }
        },
        "79a70c22b7b2491bb48e4e9bbc27d9a2": {
          "model_module": "@jupyter-widgets/controls",
          "model_name": "DescriptionStyleModel",
          "model_module_version": "1.5.0",
          "state": {
            "_model_module": "@jupyter-widgets/controls",
            "_model_module_version": "1.5.0",
            "_model_name": "DescriptionStyleModel",
            "_view_count": null,
            "_view_module": "@jupyter-widgets/base",
            "_view_module_version": "1.2.0",
            "_view_name": "StyleView",
            "description_width": ""
          }
        },
        "bc2b22ed541d44feb44a5987ef8798e2": {
          "model_module": "@jupyter-widgets/controls",
          "model_name": "HBoxModel",
          "model_module_version": "1.5.0",
          "state": {
            "_dom_classes": [],
            "_model_module": "@jupyter-widgets/controls",
            "_model_module_version": "1.5.0",
            "_model_name": "HBoxModel",
            "_view_count": null,
            "_view_module": "@jupyter-widgets/controls",
            "_view_module_version": "1.5.0",
            "_view_name": "HBoxView",
            "box_style": "",
            "children": [
              "IPY_MODEL_923c03e859fe4baea7d1269dfd5512b4",
              "IPY_MODEL_546f8f277a834374912f7aae4c32af24",
              "IPY_MODEL_432742976f784243a7623cf58f8b9885"
            ],
            "layout": "IPY_MODEL_cfbb31154cd649a589f749f80baec476"
          }
        },
        "923c03e859fe4baea7d1269dfd5512b4": {
          "model_module": "@jupyter-widgets/controls",
          "model_name": "HTMLModel",
          "model_module_version": "1.5.0",
          "state": {
            "_dom_classes": [],
            "_model_module": "@jupyter-widgets/controls",
            "_model_module_version": "1.5.0",
            "_model_name": "HTMLModel",
            "_view_count": null,
            "_view_module": "@jupyter-widgets/controls",
            "_view_module_version": "1.5.0",
            "_view_name": "HTMLView",
            "description": "",
            "description_tooltip": null,
            "layout": "IPY_MODEL_d1204dfaa12b4cffb47810c73110bad4",
            "placeholder": "​",
            "style": "IPY_MODEL_931efb0474d648d889364917bf4b98d5",
            "value": "tokenizer.json: 100%"
          }
        },
        "546f8f277a834374912f7aae4c32af24": {
          "model_module": "@jupyter-widgets/controls",
          "model_name": "FloatProgressModel",
          "model_module_version": "1.5.0",
          "state": {
            "_dom_classes": [],
            "_model_module": "@jupyter-widgets/controls",
            "_model_module_version": "1.5.0",
            "_model_name": "FloatProgressModel",
            "_view_count": null,
            "_view_module": "@jupyter-widgets/controls",
            "_view_module_version": "1.5.0",
            "_view_name": "ProgressView",
            "bar_style": "success",
            "description": "",
            "description_tooltip": null,
            "layout": "IPY_MODEL_d8991ee7dbb3473abf6ae70febfab463",
            "max": 494860,
            "min": 0,
            "orientation": "horizontal",
            "style": "IPY_MODEL_688c086cf65f454ca6589fb24b77e145",
            "value": 494860
          }
        },
        "432742976f784243a7623cf58f8b9885": {
          "model_module": "@jupyter-widgets/controls",
          "model_name": "HTMLModel",
          "model_module_version": "1.5.0",
          "state": {
            "_dom_classes": [],
            "_model_module": "@jupyter-widgets/controls",
            "_model_module_version": "1.5.0",
            "_model_name": "HTMLModel",
            "_view_count": null,
            "_view_module": "@jupyter-widgets/controls",
            "_view_module_version": "1.5.0",
            "_view_name": "HTMLView",
            "description": "",
            "description_tooltip": null,
            "layout": "IPY_MODEL_56f9f94d694148e6bca168ebc06449b2",
            "placeholder": "​",
            "style": "IPY_MODEL_542c55975eb44f74acdc9e5f4f2a2cff",
            "value": " 495k/495k [00:00&lt;00:00, 1.17MB/s]"
          }
        },
        "cfbb31154cd649a589f749f80baec476": {
          "model_module": "@jupyter-widgets/base",
          "model_name": "LayoutModel",
          "model_module_version": "1.2.0",
          "state": {
            "_model_module": "@jupyter-widgets/base",
            "_model_module_version": "1.2.0",
            "_model_name": "LayoutModel",
            "_view_count": null,
            "_view_module": "@jupyter-widgets/base",
            "_view_module_version": "1.2.0",
            "_view_name": "LayoutView",
            "align_content": null,
            "align_items": null,
            "align_self": null,
            "border": null,
            "bottom": null,
            "display": null,
            "flex": null,
            "flex_flow": null,
            "grid_area": null,
            "grid_auto_columns": null,
            "grid_auto_flow": null,
            "grid_auto_rows": null,
            "grid_column": null,
            "grid_gap": null,
            "grid_row": null,
            "grid_template_areas": null,
            "grid_template_columns": null,
            "grid_template_rows": null,
            "height": null,
            "justify_content": null,
            "justify_items": null,
            "left": null,
            "margin": null,
            "max_height": null,
            "max_width": null,
            "min_height": null,
            "min_width": null,
            "object_fit": null,
            "object_position": null,
            "order": null,
            "overflow": null,
            "overflow_x": null,
            "overflow_y": null,
            "padding": null,
            "right": null,
            "top": null,
            "visibility": null,
            "width": null
          }
        },
        "d1204dfaa12b4cffb47810c73110bad4": {
          "model_module": "@jupyter-widgets/base",
          "model_name": "LayoutModel",
          "model_module_version": "1.2.0",
          "state": {
            "_model_module": "@jupyter-widgets/base",
            "_model_module_version": "1.2.0",
            "_model_name": "LayoutModel",
            "_view_count": null,
            "_view_module": "@jupyter-widgets/base",
            "_view_module_version": "1.2.0",
            "_view_name": "LayoutView",
            "align_content": null,
            "align_items": null,
            "align_self": null,
            "border": null,
            "bottom": null,
            "display": null,
            "flex": null,
            "flex_flow": null,
            "grid_area": null,
            "grid_auto_columns": null,
            "grid_auto_flow": null,
            "grid_auto_rows": null,
            "grid_column": null,
            "grid_gap": null,
            "grid_row": null,
            "grid_template_areas": null,
            "grid_template_columns": null,
            "grid_template_rows": null,
            "height": null,
            "justify_content": null,
            "justify_items": null,
            "left": null,
            "margin": null,
            "max_height": null,
            "max_width": null,
            "min_height": null,
            "min_width": null,
            "object_fit": null,
            "object_position": null,
            "order": null,
            "overflow": null,
            "overflow_x": null,
            "overflow_y": null,
            "padding": null,
            "right": null,
            "top": null,
            "visibility": null,
            "width": null
          }
        },
        "931efb0474d648d889364917bf4b98d5": {
          "model_module": "@jupyter-widgets/controls",
          "model_name": "DescriptionStyleModel",
          "model_module_version": "1.5.0",
          "state": {
            "_model_module": "@jupyter-widgets/controls",
            "_model_module_version": "1.5.0",
            "_model_name": "DescriptionStyleModel",
            "_view_count": null,
            "_view_module": "@jupyter-widgets/base",
            "_view_module_version": "1.2.0",
            "_view_name": "StyleView",
            "description_width": ""
          }
        },
        "d8991ee7dbb3473abf6ae70febfab463": {
          "model_module": "@jupyter-widgets/base",
          "model_name": "LayoutModel",
          "model_module_version": "1.2.0",
          "state": {
            "_model_module": "@jupyter-widgets/base",
            "_model_module_version": "1.2.0",
            "_model_name": "LayoutModel",
            "_view_count": null,
            "_view_module": "@jupyter-widgets/base",
            "_view_module_version": "1.2.0",
            "_view_name": "LayoutView",
            "align_content": null,
            "align_items": null,
            "align_self": null,
            "border": null,
            "bottom": null,
            "display": null,
            "flex": null,
            "flex_flow": null,
            "grid_area": null,
            "grid_auto_columns": null,
            "grid_auto_flow": null,
            "grid_auto_rows": null,
            "grid_column": null,
            "grid_gap": null,
            "grid_row": null,
            "grid_template_areas": null,
            "grid_template_columns": null,
            "grid_template_rows": null,
            "height": null,
            "justify_content": null,
            "justify_items": null,
            "left": null,
            "margin": null,
            "max_height": null,
            "max_width": null,
            "min_height": null,
            "min_width": null,
            "object_fit": null,
            "object_position": null,
            "order": null,
            "overflow": null,
            "overflow_x": null,
            "overflow_y": null,
            "padding": null,
            "right": null,
            "top": null,
            "visibility": null,
            "width": null
          }
        },
        "688c086cf65f454ca6589fb24b77e145": {
          "model_module": "@jupyter-widgets/controls",
          "model_name": "ProgressStyleModel",
          "model_module_version": "1.5.0",
          "state": {
            "_model_module": "@jupyter-widgets/controls",
            "_model_module_version": "1.5.0",
            "_model_name": "ProgressStyleModel",
            "_view_count": null,
            "_view_module": "@jupyter-widgets/base",
            "_view_module_version": "1.2.0",
            "_view_name": "StyleView",
            "bar_color": null,
            "description_width": ""
          }
        },
        "56f9f94d694148e6bca168ebc06449b2": {
          "model_module": "@jupyter-widgets/base",
          "model_name": "LayoutModel",
          "model_module_version": "1.2.0",
          "state": {
            "_model_module": "@jupyter-widgets/base",
            "_model_module_version": "1.2.0",
            "_model_name": "LayoutModel",
            "_view_count": null,
            "_view_module": "@jupyter-widgets/base",
            "_view_module_version": "1.2.0",
            "_view_name": "LayoutView",
            "align_content": null,
            "align_items": null,
            "align_self": null,
            "border": null,
            "bottom": null,
            "display": null,
            "flex": null,
            "flex_flow": null,
            "grid_area": null,
            "grid_auto_columns": null,
            "grid_auto_flow": null,
            "grid_auto_rows": null,
            "grid_column": null,
            "grid_gap": null,
            "grid_row": null,
            "grid_template_areas": null,
            "grid_template_columns": null,
            "grid_template_rows": null,
            "height": null,
            "justify_content": null,
            "justify_items": null,
            "left": null,
            "margin": null,
            "max_height": null,
            "max_width": null,
            "min_height": null,
            "min_width": null,
            "object_fit": null,
            "object_position": null,
            "order": null,
            "overflow": null,
            "overflow_x": null,
            "overflow_y": null,
            "padding": null,
            "right": null,
            "top": null,
            "visibility": null,
            "width": null
          }
        },
        "542c55975eb44f74acdc9e5f4f2a2cff": {
          "model_module": "@jupyter-widgets/controls",
          "model_name": "DescriptionStyleModel",
          "model_module_version": "1.5.0",
          "state": {
            "_model_module": "@jupyter-widgets/controls",
            "_model_module_version": "1.5.0",
            "_model_name": "DescriptionStyleModel",
            "_view_count": null,
            "_view_module": "@jupyter-widgets/base",
            "_view_module_version": "1.2.0",
            "_view_name": "StyleView",
            "description_width": ""
          }
        },
        "4d62a519bf8c4a9fb02656cc10dcac9f": {
          "model_module": "@jupyter-widgets/controls",
          "model_name": "HBoxModel",
          "model_module_version": "1.5.0",
          "state": {
            "_dom_classes": [],
            "_model_module": "@jupyter-widgets/controls",
            "_model_module_version": "1.5.0",
            "_model_name": "HBoxModel",
            "_view_count": null,
            "_view_module": "@jupyter-widgets/controls",
            "_view_module_version": "1.5.0",
            "_view_name": "HBoxView",
            "box_style": "",
            "children": [
              "IPY_MODEL_a2eeff9983fe4d92bd7699f200f58bb0",
              "IPY_MODEL_d84b8c8e5dad400b9ea6893423a8d48a",
              "IPY_MODEL_d2ee6926db93497886717553566f390e"
            ],
            "layout": "IPY_MODEL_ec8ff8d91f134becad481653a09978cf"
          }
        },
        "a2eeff9983fe4d92bd7699f200f58bb0": {
          "model_module": "@jupyter-widgets/controls",
          "model_name": "HTMLModel",
          "model_module_version": "1.5.0",
          "state": {
            "_dom_classes": [],
            "_model_module": "@jupyter-widgets/controls",
            "_model_module_version": "1.5.0",
            "_model_name": "HTMLModel",
            "_view_count": null,
            "_view_module": "@jupyter-widgets/controls",
            "_view_module_version": "1.5.0",
            "_view_name": "HTMLView",
            "description": "",
            "description_tooltip": null,
            "layout": "IPY_MODEL_f63a4f9a62504321a8dc7f13bdc896c9",
            "placeholder": "​",
            "style": "IPY_MODEL_7ed886c144754a6282e06146f9621801",
            "value": "special_tokens_map.json: 100%"
          }
        },
        "d84b8c8e5dad400b9ea6893423a8d48a": {
          "model_module": "@jupyter-widgets/controls",
          "model_name": "FloatProgressModel",
          "model_module_version": "1.5.0",
          "state": {
            "_dom_classes": [],
            "_model_module": "@jupyter-widgets/controls",
            "_model_module_version": "1.5.0",
            "_model_name": "FloatProgressModel",
            "_view_count": null,
            "_view_module": "@jupyter-widgets/controls",
            "_view_module_version": "1.5.0",
            "_view_name": "ProgressView",
            "bar_style": "success",
            "description": "",
            "description_tooltip": null,
            "layout": "IPY_MODEL_3e2637f0e8aa4f10a86eed382fae38a3",
            "max": 125,
            "min": 0,
            "orientation": "horizontal",
            "style": "IPY_MODEL_2a1ce6b376bc4659a82eb4821318cd3e",
            "value": 125
          }
        },
        "d2ee6926db93497886717553566f390e": {
          "model_module": "@jupyter-widgets/controls",
          "model_name": "HTMLModel",
          "model_module_version": "1.5.0",
          "state": {
            "_dom_classes": [],
            "_model_module": "@jupyter-widgets/controls",
            "_model_module_version": "1.5.0",
            "_model_name": "HTMLModel",
            "_view_count": null,
            "_view_module": "@jupyter-widgets/controls",
            "_view_module_version": "1.5.0",
            "_view_name": "HTMLView",
            "description": "",
            "description_tooltip": null,
            "layout": "IPY_MODEL_28fbf82c712344e8a92b30a042c16e43",
            "placeholder": "​",
            "style": "IPY_MODEL_61c1b53405af4891a02e4170a2ff12d3",
            "value": " 125/125 [00:00&lt;00:00, 14.6kB/s]"
          }
        },
        "ec8ff8d91f134becad481653a09978cf": {
          "model_module": "@jupyter-widgets/base",
          "model_name": "LayoutModel",
          "model_module_version": "1.2.0",
          "state": {
            "_model_module": "@jupyter-widgets/base",
            "_model_module_version": "1.2.0",
            "_model_name": "LayoutModel",
            "_view_count": null,
            "_view_module": "@jupyter-widgets/base",
            "_view_module_version": "1.2.0",
            "_view_name": "LayoutView",
            "align_content": null,
            "align_items": null,
            "align_self": null,
            "border": null,
            "bottom": null,
            "display": null,
            "flex": null,
            "flex_flow": null,
            "grid_area": null,
            "grid_auto_columns": null,
            "grid_auto_flow": null,
            "grid_auto_rows": null,
            "grid_column": null,
            "grid_gap": null,
            "grid_row": null,
            "grid_template_areas": null,
            "grid_template_columns": null,
            "grid_template_rows": null,
            "height": null,
            "justify_content": null,
            "justify_items": null,
            "left": null,
            "margin": null,
            "max_height": null,
            "max_width": null,
            "min_height": null,
            "min_width": null,
            "object_fit": null,
            "object_position": null,
            "order": null,
            "overflow": null,
            "overflow_x": null,
            "overflow_y": null,
            "padding": null,
            "right": null,
            "top": null,
            "visibility": null,
            "width": null
          }
        },
        "f63a4f9a62504321a8dc7f13bdc896c9": {
          "model_module": "@jupyter-widgets/base",
          "model_name": "LayoutModel",
          "model_module_version": "1.2.0",
          "state": {
            "_model_module": "@jupyter-widgets/base",
            "_model_module_version": "1.2.0",
            "_model_name": "LayoutModel",
            "_view_count": null,
            "_view_module": "@jupyter-widgets/base",
            "_view_module_version": "1.2.0",
            "_view_name": "LayoutView",
            "align_content": null,
            "align_items": null,
            "align_self": null,
            "border": null,
            "bottom": null,
            "display": null,
            "flex": null,
            "flex_flow": null,
            "grid_area": null,
            "grid_auto_columns": null,
            "grid_auto_flow": null,
            "grid_auto_rows": null,
            "grid_column": null,
            "grid_gap": null,
            "grid_row": null,
            "grid_template_areas": null,
            "grid_template_columns": null,
            "grid_template_rows": null,
            "height": null,
            "justify_content": null,
            "justify_items": null,
            "left": null,
            "margin": null,
            "max_height": null,
            "max_width": null,
            "min_height": null,
            "min_width": null,
            "object_fit": null,
            "object_position": null,
            "order": null,
            "overflow": null,
            "overflow_x": null,
            "overflow_y": null,
            "padding": null,
            "right": null,
            "top": null,
            "visibility": null,
            "width": null
          }
        },
        "7ed886c144754a6282e06146f9621801": {
          "model_module": "@jupyter-widgets/controls",
          "model_name": "DescriptionStyleModel",
          "model_module_version": "1.5.0",
          "state": {
            "_model_module": "@jupyter-widgets/controls",
            "_model_module_version": "1.5.0",
            "_model_name": "DescriptionStyleModel",
            "_view_count": null,
            "_view_module": "@jupyter-widgets/base",
            "_view_module_version": "1.2.0",
            "_view_name": "StyleView",
            "description_width": ""
          }
        },
        "3e2637f0e8aa4f10a86eed382fae38a3": {
          "model_module": "@jupyter-widgets/base",
          "model_name": "LayoutModel",
          "model_module_version": "1.2.0",
          "state": {
            "_model_module": "@jupyter-widgets/base",
            "_model_module_version": "1.2.0",
            "_model_name": "LayoutModel",
            "_view_count": null,
            "_view_module": "@jupyter-widgets/base",
            "_view_module_version": "1.2.0",
            "_view_name": "LayoutView",
            "align_content": null,
            "align_items": null,
            "align_self": null,
            "border": null,
            "bottom": null,
            "display": null,
            "flex": null,
            "flex_flow": null,
            "grid_area": null,
            "grid_auto_columns": null,
            "grid_auto_flow": null,
            "grid_auto_rows": null,
            "grid_column": null,
            "grid_gap": null,
            "grid_row": null,
            "grid_template_areas": null,
            "grid_template_columns": null,
            "grid_template_rows": null,
            "height": null,
            "justify_content": null,
            "justify_items": null,
            "left": null,
            "margin": null,
            "max_height": null,
            "max_width": null,
            "min_height": null,
            "min_width": null,
            "object_fit": null,
            "object_position": null,
            "order": null,
            "overflow": null,
            "overflow_x": null,
            "overflow_y": null,
            "padding": null,
            "right": null,
            "top": null,
            "visibility": null,
            "width": null
          }
        },
        "2a1ce6b376bc4659a82eb4821318cd3e": {
          "model_module": "@jupyter-widgets/controls",
          "model_name": "ProgressStyleModel",
          "model_module_version": "1.5.0",
          "state": {
            "_model_module": "@jupyter-widgets/controls",
            "_model_module_version": "1.5.0",
            "_model_name": "ProgressStyleModel",
            "_view_count": null,
            "_view_module": "@jupyter-widgets/base",
            "_view_module_version": "1.2.0",
            "_view_name": "StyleView",
            "bar_color": null,
            "description_width": ""
          }
        },
        "28fbf82c712344e8a92b30a042c16e43": {
          "model_module": "@jupyter-widgets/base",
          "model_name": "LayoutModel",
          "model_module_version": "1.2.0",
          "state": {
            "_model_module": "@jupyter-widgets/base",
            "_model_module_version": "1.2.0",
            "_model_name": "LayoutModel",
            "_view_count": null,
            "_view_module": "@jupyter-widgets/base",
            "_view_module_version": "1.2.0",
            "_view_name": "LayoutView",
            "align_content": null,
            "align_items": null,
            "align_self": null,
            "border": null,
            "bottom": null,
            "display": null,
            "flex": null,
            "flex_flow": null,
            "grid_area": null,
            "grid_auto_columns": null,
            "grid_auto_flow": null,
            "grid_auto_rows": null,
            "grid_column": null,
            "grid_gap": null,
            "grid_row": null,
            "grid_template_areas": null,
            "grid_template_columns": null,
            "grid_template_rows": null,
            "height": null,
            "justify_content": null,
            "justify_items": null,
            "left": null,
            "margin": null,
            "max_height": null,
            "max_width": null,
            "min_height": null,
            "min_width": null,
            "object_fit": null,
            "object_position": null,
            "order": null,
            "overflow": null,
            "overflow_x": null,
            "overflow_y": null,
            "padding": null,
            "right": null,
            "top": null,
            "visibility": null,
            "width": null
          }
        },
        "61c1b53405af4891a02e4170a2ff12d3": {
          "model_module": "@jupyter-widgets/controls",
          "model_name": "DescriptionStyleModel",
          "model_module_version": "1.5.0",
          "state": {
            "_model_module": "@jupyter-widgets/controls",
            "_model_module_version": "1.5.0",
            "_model_name": "DescriptionStyleModel",
            "_view_count": null,
            "_view_module": "@jupyter-widgets/base",
            "_view_module_version": "1.2.0",
            "_view_name": "StyleView",
            "description_width": ""
          }
        },
        "334e4478175e454eb944247711f2ae17": {
          "model_module": "@jupyter-widgets/controls",
          "model_name": "HBoxModel",
          "model_module_version": "1.5.0",
          "state": {
            "_dom_classes": [],
            "_model_module": "@jupyter-widgets/controls",
            "_model_module_version": "1.5.0",
            "_model_name": "HBoxModel",
            "_view_count": null,
            "_view_module": "@jupyter-widgets/controls",
            "_view_module_version": "1.5.0",
            "_view_name": "HBoxView",
            "box_style": "",
            "children": [
              "IPY_MODEL_c4233541529d488a815fab4abb510f29",
              "IPY_MODEL_53c0fc7f2e164146849d6487eb391348",
              "IPY_MODEL_6fa92175b86f4e26b4d569b658bfc2fd"
            ],
            "layout": "IPY_MODEL_064a1125bc93483ab31589429c75be15"
          }
        },
        "c4233541529d488a815fab4abb510f29": {
          "model_module": "@jupyter-widgets/controls",
          "model_name": "HTMLModel",
          "model_module_version": "1.5.0",
          "state": {
            "_dom_classes": [],
            "_model_module": "@jupyter-widgets/controls",
            "_model_module_version": "1.5.0",
            "_model_name": "HTMLModel",
            "_view_count": null,
            "_view_module": "@jupyter-widgets/controls",
            "_view_module_version": "1.5.0",
            "_view_name": "HTMLView",
            "description": "",
            "description_tooltip": null,
            "layout": "IPY_MODEL_aca31ae092084716b262899b8325bde8",
            "placeholder": "​",
            "style": "IPY_MODEL_d0372c8578054760acd4fd54b6921a94",
            "value": "model.safetensors: 100%"
          }
        },
        "53c0fc7f2e164146849d6487eb391348": {
          "model_module": "@jupyter-widgets/controls",
          "model_name": "FloatProgressModel",
          "model_module_version": "1.5.0",
          "state": {
            "_dom_classes": [],
            "_model_module": "@jupyter-widgets/controls",
            "_model_module_version": "1.5.0",
            "_model_name": "FloatProgressModel",
            "_view_count": null,
            "_view_module": "@jupyter-widgets/controls",
            "_view_module_version": "1.5.0",
            "_view_name": "ProgressView",
            "bar_style": "success",
            "description": "",
            "description_tooltip": null,
            "layout": "IPY_MODEL_23a8b816f3204800809560bcce9bdc8a",
            "max": 445000316,
            "min": 0,
            "orientation": "horizontal",
            "style": "IPY_MODEL_debea1958d7c434683fdf30616d75b52",
            "value": 445000316
          }
        },
        "6fa92175b86f4e26b4d569b658bfc2fd": {
          "model_module": "@jupyter-widgets/controls",
          "model_name": "HTMLModel",
          "model_module_version": "1.5.0",
          "state": {
            "_dom_classes": [],
            "_model_module": "@jupyter-widgets/controls",
            "_model_module_version": "1.5.0",
            "_model_name": "HTMLModel",
            "_view_count": null,
            "_view_module": "@jupyter-widgets/controls",
            "_view_module_version": "1.5.0",
            "_view_name": "HTMLView",
            "description": "",
            "description_tooltip": null,
            "layout": "IPY_MODEL_b2c712658e474e15b81e4fe5d6648030",
            "placeholder": "​",
            "style": "IPY_MODEL_9d50d4519aaf49968895f27f05043c36",
            "value": " 445M/445M [00:10&lt;00:00, 38.7MB/s]"
          }
        },
        "064a1125bc93483ab31589429c75be15": {
          "model_module": "@jupyter-widgets/base",
          "model_name": "LayoutModel",
          "model_module_version": "1.2.0",
          "state": {
            "_model_module": "@jupyter-widgets/base",
            "_model_module_version": "1.2.0",
            "_model_name": "LayoutModel",
            "_view_count": null,
            "_view_module": "@jupyter-widgets/base",
            "_view_module_version": "1.2.0",
            "_view_name": "LayoutView",
            "align_content": null,
            "align_items": null,
            "align_self": null,
            "border": null,
            "bottom": null,
            "display": null,
            "flex": null,
            "flex_flow": null,
            "grid_area": null,
            "grid_auto_columns": null,
            "grid_auto_flow": null,
            "grid_auto_rows": null,
            "grid_column": null,
            "grid_gap": null,
            "grid_row": null,
            "grid_template_areas": null,
            "grid_template_columns": null,
            "grid_template_rows": null,
            "height": null,
            "justify_content": null,
            "justify_items": null,
            "left": null,
            "margin": null,
            "max_height": null,
            "max_width": null,
            "min_height": null,
            "min_width": null,
            "object_fit": null,
            "object_position": null,
            "order": null,
            "overflow": null,
            "overflow_x": null,
            "overflow_y": null,
            "padding": null,
            "right": null,
            "top": null,
            "visibility": null,
            "width": null
          }
        },
        "aca31ae092084716b262899b8325bde8": {
          "model_module": "@jupyter-widgets/base",
          "model_name": "LayoutModel",
          "model_module_version": "1.2.0",
          "state": {
            "_model_module": "@jupyter-widgets/base",
            "_model_module_version": "1.2.0",
            "_model_name": "LayoutModel",
            "_view_count": null,
            "_view_module": "@jupyter-widgets/base",
            "_view_module_version": "1.2.0",
            "_view_name": "LayoutView",
            "align_content": null,
            "align_items": null,
            "align_self": null,
            "border": null,
            "bottom": null,
            "display": null,
            "flex": null,
            "flex_flow": null,
            "grid_area": null,
            "grid_auto_columns": null,
            "grid_auto_flow": null,
            "grid_auto_rows": null,
            "grid_column": null,
            "grid_gap": null,
            "grid_row": null,
            "grid_template_areas": null,
            "grid_template_columns": null,
            "grid_template_rows": null,
            "height": null,
            "justify_content": null,
            "justify_items": null,
            "left": null,
            "margin": null,
            "max_height": null,
            "max_width": null,
            "min_height": null,
            "min_width": null,
            "object_fit": null,
            "object_position": null,
            "order": null,
            "overflow": null,
            "overflow_x": null,
            "overflow_y": null,
            "padding": null,
            "right": null,
            "top": null,
            "visibility": null,
            "width": null
          }
        },
        "d0372c8578054760acd4fd54b6921a94": {
          "model_module": "@jupyter-widgets/controls",
          "model_name": "DescriptionStyleModel",
          "model_module_version": "1.5.0",
          "state": {
            "_model_module": "@jupyter-widgets/controls",
            "_model_module_version": "1.5.0",
            "_model_name": "DescriptionStyleModel",
            "_view_count": null,
            "_view_module": "@jupyter-widgets/base",
            "_view_module_version": "1.2.0",
            "_view_name": "StyleView",
            "description_width": ""
          }
        },
        "23a8b816f3204800809560bcce9bdc8a": {
          "model_module": "@jupyter-widgets/base",
          "model_name": "LayoutModel",
          "model_module_version": "1.2.0",
          "state": {
            "_model_module": "@jupyter-widgets/base",
            "_model_module_version": "1.2.0",
            "_model_name": "LayoutModel",
            "_view_count": null,
            "_view_module": "@jupyter-widgets/base",
            "_view_module_version": "1.2.0",
            "_view_name": "LayoutView",
            "align_content": null,
            "align_items": null,
            "align_self": null,
            "border": null,
            "bottom": null,
            "display": null,
            "flex": null,
            "flex_flow": null,
            "grid_area": null,
            "grid_auto_columns": null,
            "grid_auto_flow": null,
            "grid_auto_rows": null,
            "grid_column": null,
            "grid_gap": null,
            "grid_row": null,
            "grid_template_areas": null,
            "grid_template_columns": null,
            "grid_template_rows": null,
            "height": null,
            "justify_content": null,
            "justify_items": null,
            "left": null,
            "margin": null,
            "max_height": null,
            "max_width": null,
            "min_height": null,
            "min_width": null,
            "object_fit": null,
            "object_position": null,
            "order": null,
            "overflow": null,
            "overflow_x": null,
            "overflow_y": null,
            "padding": null,
            "right": null,
            "top": null,
            "visibility": null,
            "width": null
          }
        },
        "debea1958d7c434683fdf30616d75b52": {
          "model_module": "@jupyter-widgets/controls",
          "model_name": "ProgressStyleModel",
          "model_module_version": "1.5.0",
          "state": {
            "_model_module": "@jupyter-widgets/controls",
            "_model_module_version": "1.5.0",
            "_model_name": "ProgressStyleModel",
            "_view_count": null,
            "_view_module": "@jupyter-widgets/base",
            "_view_module_version": "1.2.0",
            "_view_name": "StyleView",
            "bar_color": null,
            "description_width": ""
          }
        },
        "b2c712658e474e15b81e4fe5d6648030": {
          "model_module": "@jupyter-widgets/base",
          "model_name": "LayoutModel",
          "model_module_version": "1.2.0",
          "state": {
            "_model_module": "@jupyter-widgets/base",
            "_model_module_version": "1.2.0",
            "_model_name": "LayoutModel",
            "_view_count": null,
            "_view_module": "@jupyter-widgets/base",
            "_view_module_version": "1.2.0",
            "_view_name": "LayoutView",
            "align_content": null,
            "align_items": null,
            "align_self": null,
            "border": null,
            "bottom": null,
            "display": null,
            "flex": null,
            "flex_flow": null,
            "grid_area": null,
            "grid_auto_columns": null,
            "grid_auto_flow": null,
            "grid_auto_rows": null,
            "grid_column": null,
            "grid_gap": null,
            "grid_row": null,
            "grid_template_areas": null,
            "grid_template_columns": null,
            "grid_template_rows": null,
            "height": null,
            "justify_content": null,
            "justify_items": null,
            "left": null,
            "margin": null,
            "max_height": null,
            "max_width": null,
            "min_height": null,
            "min_width": null,
            "object_fit": null,
            "object_position": null,
            "order": null,
            "overflow": null,
            "overflow_x": null,
            "overflow_y": null,
            "padding": null,
            "right": null,
            "top": null,
            "visibility": null,
            "width": null
          }
        },
        "9d50d4519aaf49968895f27f05043c36": {
          "model_module": "@jupyter-widgets/controls",
          "model_name": "DescriptionStyleModel",
          "model_module_version": "1.5.0",
          "state": {
            "_model_module": "@jupyter-widgets/controls",
            "_model_module_version": "1.5.0",
            "_model_name": "DescriptionStyleModel",
            "_view_count": null,
            "_view_module": "@jupyter-widgets/base",
            "_view_module_version": "1.2.0",
            "_view_name": "StyleView",
            "description_width": ""
          }
        }
      }
    }
  },
  "cells": [
    {
      "cell_type": "markdown",
      "metadata": {
        "id": "view-in-github",
        "colab_type": "text"
      },
      "source": [
        "<a href=\"https://colab.research.google.com/github/LightPotatoDev/aid/blob/master/modelstuff.ipynb\" target=\"_parent\"><img src=\"https://colab.research.google.com/assets/colab-badge.svg\" alt=\"Open In Colab\"/></a>"
      ]
    },
    {
      "cell_type": "code",
      "source": [
        "!pip install scikit-learn"
      ],
      "metadata": {
        "id": "ZKaIxGSCWBCg",
        "colab": {
          "base_uri": "https://localhost:8080/"
        },
        "outputId": "10b11689-b717-468f-9b0b-3e567ea6adfe"
      },
      "execution_count": 1,
      "outputs": [
        {
          "output_type": "stream",
          "name": "stdout",
          "text": [
            "Requirement already satisfied: scikit-learn in /usr/local/lib/python3.11/dist-packages (1.6.1)\n",
            "Requirement already satisfied: numpy>=1.19.5 in /usr/local/lib/python3.11/dist-packages (from scikit-learn) (2.0.2)\n",
            "Requirement already satisfied: scipy>=1.6.0 in /usr/local/lib/python3.11/dist-packages (from scikit-learn) (1.15.3)\n",
            "Requirement already satisfied: joblib>=1.2.0 in /usr/local/lib/python3.11/dist-packages (from scikit-learn) (1.5.0)\n",
            "Requirement already satisfied: threadpoolctl>=3.1.0 in /usr/local/lib/python3.11/dist-packages (from scikit-learn) (3.6.0)\n"
          ]
        }
      ]
    },
    {
      "cell_type": "code",
      "execution_count": 2,
      "metadata": {
        "colab": {
          "base_uri": "https://localhost:8080/"
        },
        "id": "5H_RkYzLsJeF",
        "outputId": "f719078e-7616-43fe-dba0-14bad6174232"
      },
      "outputs": [
        {
          "output_type": "stream",
          "name": "stdout",
          "text": [
            "Mounted at /content/drive\n",
            "['labels_강경민.csv', 'construction-safety-guidelines.csv', 'part4_sentence.csv', '건설 데이터라벨링_최민혜2.CSV', 'aid_3_데이터 추출_박비원.csv']\n"
          ]
        }
      ],
      "source": [
        "from google.colab import drive\n",
        "import os\n",
        "\n",
        "# 마운트\n",
        "drive.mount('/content/drive')\n",
        "\n",
        "csv_folder = '/content/drive/MyDrive/modelStuff/input/csvs/labels'\n",
        "print(os.listdir(csv_folder))"
      ]
    },
    {
      "cell_type": "code",
      "source": [
        "# 간단한 3개 카테고리로 시작 -> 학습용\n",
        "categories = ['위험경고', '예방조치', '점검사항']\n",
        "\n",
        "# 수동 라벨링 예시 (각 카테고리당 30-50개)\n",
        "labeled_examples = [\n",
        "    {'text': '교각 브라켓 해체작업 시 근로자가 추락할 위험이 있습니다.', 'category': '위험경고'},\n",
        "    {'text': '거푸집은 시공 중 변형이 발생되지 않도록 강성과 정밀도를 확보하여야 한다.', 'category': '예방조치'},\n",
        "    {'text': '이동식 작업대차는 정기 및 수시 점검을 통하여 이상유무를 확인하여야 한다.', 'category': '점검사항'}\n",
        "]\n",
        "\n",
        "# Flair 형식으로 변환\n",
        "with open('train.txt', 'w', encoding='utf-8') as f:\n",
        "    for example in labeled_examples:\n",
        "        f.write(f\"__label__{example['category']} {example['text']}\\n\")\n",
        "\n",
        "# 결과 예시(train.txt) -> __label__ , 카테고리 , 우리 넣은  모델 훈련 용 데이터셋\n",
        "\n",
        "# __label__위험경고 교각 브라켓 해체작업 시 근로자가 추락할 위험이 있습니다.\n",
        "# __label__예방조치 거푸집은 시공 중 변형이 발생되지 않도록 강성과 정밀도를 확보하여야 한다.\n",
        "# __label__점검사항 이동식 작업대차는 정기 및 수시 점검을 통하여 이상유무를 확인하여야 한다.\n",
        "# __label__위험경고 크레인 작업 반경 내에 근로자의 출입을 금지시켜야 한다.\n",
        "# __label__예방조치 추락위험이 있는 장소에서 콘크리트 타설 작업 시에는 안전모, 안전대 등의 보호구를 항상 착용하여야 한다.\n",
        "# __label__점검사항 압출잭의 압출용량이 충분한지를 확인하고, 압출력 및 압출상태 등 압출장비에 대한 이상유무도 점검하여야 한다."
      ],
      "metadata": {
        "id": "qfvB9dP0aQ2W"
      },
      "execution_count": 3,
      "outputs": []
    },
    {
      "cell_type": "markdown",
      "source": [
        "# Changelog\n",
        " - 처음 데이터프레임에서 불필요한 공백을 삭제하는 코드 추가 및 코드 간략화"
      ],
      "metadata": {
        "id": "twX8nYaohFlU"
      }
    },
    {
      "cell_type": "code",
      "source": [
        "# 이게 실제로 우리가 사용할 학습데이터들.\n",
        "\n",
        "import pandas as pd\n",
        "from sklearn.model_selection import train_test_split\n",
        "\n",
        "# CSV 파일에서 데이터 로드\n",
        "filepaths = [csv_folder+'/'+f for f in os.listdir(csv_folder)]\n",
        "df = pd.concat(map(pd.read_csv, filepaths), ignore_index=True)\n",
        "\n",
        "# NaN 값 처리 및 텍스트 정제\n",
        "df = df.dropna(subset=['지침내용', '지침유형', '공사종류'])         # 필수 열에 NaN이 있는 행 제거\n",
        "df['지침내용'] = df['지침내용'].str.replace('\\n', ' ').str.strip()  # 줄바꿈 제거 및 공백 정리\n",
        "df = df.map(lambda x: x.strip() if isinstance(x, str) else x)       # 모든 값의 양 옆 공백 제거\n",
        "df['지침유형'] = df['지침유형'].str.replace(' ', '')                # 지침유형 행의 모든 공백 제거\n",
        "\n",
        "indices_to_drop = df[df[\"지침유형\"] == \"지침유형\"].index\n",
        "df = df.drop(indices_to_drop) # 또는 .isin()\n",
        "\n",
        "print(df[\"지침유형\"].unique())\n",
        "print(df['공사종류'].unique())\n",
        "print(df['지침유형'].value_counts())\n",
        "print(df['공사종류'].value_counts())\n",
        "\n",
        "pd.set_option('display.max_rows', 10)\n",
        "display(df)"
      ],
      "metadata": {
        "id": "2hRSJnSQFeVW",
        "colab": {
          "base_uri": "https://localhost:8080/",
          "height": 706
        },
        "outputId": "0db71a08-71e8-430a-fbc3-11ce49d36a9e"
      },
      "execution_count": 4,
      "outputs": [
        {
          "output_type": "stream",
          "name": "stdout",
          "text": [
            "['위험경고' '예방조치' '점검사항']\n",
            "['건축' '굴착공사' '가설구조물' '교량' '공통' '양중작업']\n",
            "지침유형\n",
            "예방조치    538\n",
            "점검사항    393\n",
            "위험경고    117\n",
            "Name: count, dtype: int64\n",
            "공사종류\n",
            "공통       301\n",
            "가설구조물    251\n",
            "교량       173\n",
            "굴착공사     134\n",
            "건축       100\n",
            "양중작업      89\n",
            "Name: count, dtype: int64\n"
          ]
        },
        {
          "output_type": "display_data",
          "data": {
            "text/plain": [
              "                                                   지침내용 공사종류  지침유형\n",
              "0         천장 먹놓기 작업 시에는 이동식비계 등을 사용하고, 사다리를 사용하여서는 안된다.   건축  위험경고\n",
              "1     경량철골 천장틀 설치 시에는 천장 높이가 높은 경우에는 비계 등을 조립하여 작업발판...   건축  위험경고\n",
              "2                철물작업 시 손의 베임 등을 방지하기 위하여 장갑을 착용하여야 한다.   건축  예방조치\n",
              "3     부재 적재장소는 근로자의 통행에 불편을 주지 않고 타 작업에 간섭이 되지 않는 위치...   건축  예방조치\n",
              "4     당일 시공요구량 적정여부, 작업방법 및 순서, 타공정과의 간섭 여부 등 작업 계획의...   건축  점검사항\n",
              "...                                                 ...  ...   ...\n",
              "1044  자재를 반입할 경우에는 설계도서와의 부합여부를 검수하여야 하며, 검수 도중 불량 자...   공통  점검사항\n",
              "1045  설계도서와 시공계획서에 준하여 시공하여야 하며, 공사 도중 지반조건이 설계도서와 상...   공통  점검사항\n",
              "1046  천공장비를 이동할 경우에는 장비의 전도·전락을 방지하기 위하여 이동통 로의 안전성을...   공통  예방조치\n",
              "1047  천공 중에는 비산 먼지 및 소음이 심하므로 근로자에게는 방진마스크 및 귀마개를 착용...   공통  예방조치\n",
              "1048  지중에 매립된 강선을 제거할 때에는 급격한 인발로 인한 위험이 발생되지 않도록 서서...   공통  위험경고\n",
              "\n",
              "[1048 rows x 3 columns]"
            ],
            "text/html": [
              "\n",
              "  <div id=\"df-a556d7d3-db9c-4161-833e-beacfe36ab4d\" class=\"colab-df-container\">\n",
              "    <div>\n",
              "<style scoped>\n",
              "    .dataframe tbody tr th:only-of-type {\n",
              "        vertical-align: middle;\n",
              "    }\n",
              "\n",
              "    .dataframe tbody tr th {\n",
              "        vertical-align: top;\n",
              "    }\n",
              "\n",
              "    .dataframe thead th {\n",
              "        text-align: right;\n",
              "    }\n",
              "</style>\n",
              "<table border=\"1\" class=\"dataframe\">\n",
              "  <thead>\n",
              "    <tr style=\"text-align: right;\">\n",
              "      <th></th>\n",
              "      <th>지침내용</th>\n",
              "      <th>공사종류</th>\n",
              "      <th>지침유형</th>\n",
              "    </tr>\n",
              "  </thead>\n",
              "  <tbody>\n",
              "    <tr>\n",
              "      <th>0</th>\n",
              "      <td>천장 먹놓기 작업 시에는 이동식비계 등을 사용하고, 사다리를 사용하여서는 안된다.</td>\n",
              "      <td>건축</td>\n",
              "      <td>위험경고</td>\n",
              "    </tr>\n",
              "    <tr>\n",
              "      <th>1</th>\n",
              "      <td>경량철골 천장틀 설치 시에는 천장 높이가 높은 경우에는 비계 등을 조립하여 작업발판...</td>\n",
              "      <td>건축</td>\n",
              "      <td>위험경고</td>\n",
              "    </tr>\n",
              "    <tr>\n",
              "      <th>2</th>\n",
              "      <td>철물작업 시 손의 베임 등을 방지하기 위하여 장갑을 착용하여야 한다.</td>\n",
              "      <td>건축</td>\n",
              "      <td>예방조치</td>\n",
              "    </tr>\n",
              "    <tr>\n",
              "      <th>3</th>\n",
              "      <td>부재 적재장소는 근로자의 통행에 불편을 주지 않고 타 작업에 간섭이 되지 않는 위치...</td>\n",
              "      <td>건축</td>\n",
              "      <td>예방조치</td>\n",
              "    </tr>\n",
              "    <tr>\n",
              "      <th>4</th>\n",
              "      <td>당일 시공요구량 적정여부, 작업방법 및 순서, 타공정과의 간섭 여부 등 작업 계획의...</td>\n",
              "      <td>건축</td>\n",
              "      <td>점검사항</td>\n",
              "    </tr>\n",
              "    <tr>\n",
              "      <th>...</th>\n",
              "      <td>...</td>\n",
              "      <td>...</td>\n",
              "      <td>...</td>\n",
              "    </tr>\n",
              "    <tr>\n",
              "      <th>1044</th>\n",
              "      <td>자재를 반입할 경우에는 설계도서와의 부합여부를 검수하여야 하며, 검수 도중 불량 자...</td>\n",
              "      <td>공통</td>\n",
              "      <td>점검사항</td>\n",
              "    </tr>\n",
              "    <tr>\n",
              "      <th>1045</th>\n",
              "      <td>설계도서와 시공계획서에 준하여 시공하여야 하며, 공사 도중 지반조건이 설계도서와 상...</td>\n",
              "      <td>공통</td>\n",
              "      <td>점검사항</td>\n",
              "    </tr>\n",
              "    <tr>\n",
              "      <th>1046</th>\n",
              "      <td>천공장비를 이동할 경우에는 장비의 전도·전락을 방지하기 위하여 이동통 로의 안전성을...</td>\n",
              "      <td>공통</td>\n",
              "      <td>예방조치</td>\n",
              "    </tr>\n",
              "    <tr>\n",
              "      <th>1047</th>\n",
              "      <td>천공 중에는 비산 먼지 및 소음이 심하므로 근로자에게는 방진마스크 및 귀마개를 착용...</td>\n",
              "      <td>공통</td>\n",
              "      <td>예방조치</td>\n",
              "    </tr>\n",
              "    <tr>\n",
              "      <th>1048</th>\n",
              "      <td>지중에 매립된 강선을 제거할 때에는 급격한 인발로 인한 위험이 발생되지 않도록 서서...</td>\n",
              "      <td>공통</td>\n",
              "      <td>위험경고</td>\n",
              "    </tr>\n",
              "  </tbody>\n",
              "</table>\n",
              "<p>1048 rows × 3 columns</p>\n",
              "</div>\n",
              "    <div class=\"colab-df-buttons\">\n",
              "\n",
              "  <div class=\"colab-df-container\">\n",
              "    <button class=\"colab-df-convert\" onclick=\"convertToInteractive('df-a556d7d3-db9c-4161-833e-beacfe36ab4d')\"\n",
              "            title=\"Convert this dataframe to an interactive table.\"\n",
              "            style=\"display:none;\">\n",
              "\n",
              "  <svg xmlns=\"http://www.w3.org/2000/svg\" height=\"24px\" viewBox=\"0 -960 960 960\">\n",
              "    <path d=\"M120-120v-720h720v720H120Zm60-500h600v-160H180v160Zm220 220h160v-160H400v160Zm0 220h160v-160H400v160ZM180-400h160v-160H180v160Zm440 0h160v-160H620v160ZM180-180h160v-160H180v160Zm440 0h160v-160H620v160Z\"/>\n",
              "  </svg>\n",
              "    </button>\n",
              "\n",
              "  <style>\n",
              "    .colab-df-container {\n",
              "      display:flex;\n",
              "      gap: 12px;\n",
              "    }\n",
              "\n",
              "    .colab-df-convert {\n",
              "      background-color: #E8F0FE;\n",
              "      border: none;\n",
              "      border-radius: 50%;\n",
              "      cursor: pointer;\n",
              "      display: none;\n",
              "      fill: #1967D2;\n",
              "      height: 32px;\n",
              "      padding: 0 0 0 0;\n",
              "      width: 32px;\n",
              "    }\n",
              "\n",
              "    .colab-df-convert:hover {\n",
              "      background-color: #E2EBFA;\n",
              "      box-shadow: 0px 1px 2px rgba(60, 64, 67, 0.3), 0px 1px 3px 1px rgba(60, 64, 67, 0.15);\n",
              "      fill: #174EA6;\n",
              "    }\n",
              "\n",
              "    .colab-df-buttons div {\n",
              "      margin-bottom: 4px;\n",
              "    }\n",
              "\n",
              "    [theme=dark] .colab-df-convert {\n",
              "      background-color: #3B4455;\n",
              "      fill: #D2E3FC;\n",
              "    }\n",
              "\n",
              "    [theme=dark] .colab-df-convert:hover {\n",
              "      background-color: #434B5C;\n",
              "      box-shadow: 0px 1px 3px 1px rgba(0, 0, 0, 0.15);\n",
              "      filter: drop-shadow(0px 1px 2px rgba(0, 0, 0, 0.3));\n",
              "      fill: #FFFFFF;\n",
              "    }\n",
              "  </style>\n",
              "\n",
              "    <script>\n",
              "      const buttonEl =\n",
              "        document.querySelector('#df-a556d7d3-db9c-4161-833e-beacfe36ab4d button.colab-df-convert');\n",
              "      buttonEl.style.display =\n",
              "        google.colab.kernel.accessAllowed ? 'block' : 'none';\n",
              "\n",
              "      async function convertToInteractive(key) {\n",
              "        const element = document.querySelector('#df-a556d7d3-db9c-4161-833e-beacfe36ab4d');\n",
              "        const dataTable =\n",
              "          await google.colab.kernel.invokeFunction('convertToInteractive',\n",
              "                                                    [key], {});\n",
              "        if (!dataTable) return;\n",
              "\n",
              "        const docLinkHtml = 'Like what you see? Visit the ' +\n",
              "          '<a target=\"_blank\" href=https://colab.research.google.com/notebooks/data_table.ipynb>data table notebook</a>'\n",
              "          + ' to learn more about interactive tables.';\n",
              "        element.innerHTML = '';\n",
              "        dataTable['output_type'] = 'display_data';\n",
              "        await google.colab.output.renderOutput(dataTable, element);\n",
              "        const docLink = document.createElement('div');\n",
              "        docLink.innerHTML = docLinkHtml;\n",
              "        element.appendChild(docLink);\n",
              "      }\n",
              "    </script>\n",
              "  </div>\n",
              "\n",
              "\n",
              "    <div id=\"df-fa0979ae-f38a-4004-8d9a-7ab7efac1cc3\">\n",
              "      <button class=\"colab-df-quickchart\" onclick=\"quickchart('df-fa0979ae-f38a-4004-8d9a-7ab7efac1cc3')\"\n",
              "                title=\"Suggest charts\"\n",
              "                style=\"display:none;\">\n",
              "\n",
              "<svg xmlns=\"http://www.w3.org/2000/svg\" height=\"24px\"viewBox=\"0 0 24 24\"\n",
              "     width=\"24px\">\n",
              "    <g>\n",
              "        <path d=\"M19 3H5c-1.1 0-2 .9-2 2v14c0 1.1.9 2 2 2h14c1.1 0 2-.9 2-2V5c0-1.1-.9-2-2-2zM9 17H7v-7h2v7zm4 0h-2V7h2v10zm4 0h-2v-4h2v4z\"/>\n",
              "    </g>\n",
              "</svg>\n",
              "      </button>\n",
              "\n",
              "<style>\n",
              "  .colab-df-quickchart {\n",
              "      --bg-color: #E8F0FE;\n",
              "      --fill-color: #1967D2;\n",
              "      --hover-bg-color: #E2EBFA;\n",
              "      --hover-fill-color: #174EA6;\n",
              "      --disabled-fill-color: #AAA;\n",
              "      --disabled-bg-color: #DDD;\n",
              "  }\n",
              "\n",
              "  [theme=dark] .colab-df-quickchart {\n",
              "      --bg-color: #3B4455;\n",
              "      --fill-color: #D2E3FC;\n",
              "      --hover-bg-color: #434B5C;\n",
              "      --hover-fill-color: #FFFFFF;\n",
              "      --disabled-bg-color: #3B4455;\n",
              "      --disabled-fill-color: #666;\n",
              "  }\n",
              "\n",
              "  .colab-df-quickchart {\n",
              "    background-color: var(--bg-color);\n",
              "    border: none;\n",
              "    border-radius: 50%;\n",
              "    cursor: pointer;\n",
              "    display: none;\n",
              "    fill: var(--fill-color);\n",
              "    height: 32px;\n",
              "    padding: 0;\n",
              "    width: 32px;\n",
              "  }\n",
              "\n",
              "  .colab-df-quickchart:hover {\n",
              "    background-color: var(--hover-bg-color);\n",
              "    box-shadow: 0 1px 2px rgba(60, 64, 67, 0.3), 0 1px 3px 1px rgba(60, 64, 67, 0.15);\n",
              "    fill: var(--button-hover-fill-color);\n",
              "  }\n",
              "\n",
              "  .colab-df-quickchart-complete:disabled,\n",
              "  .colab-df-quickchart-complete:disabled:hover {\n",
              "    background-color: var(--disabled-bg-color);\n",
              "    fill: var(--disabled-fill-color);\n",
              "    box-shadow: none;\n",
              "  }\n",
              "\n",
              "  .colab-df-spinner {\n",
              "    border: 2px solid var(--fill-color);\n",
              "    border-color: transparent;\n",
              "    border-bottom-color: var(--fill-color);\n",
              "    animation:\n",
              "      spin 1s steps(1) infinite;\n",
              "  }\n",
              "\n",
              "  @keyframes spin {\n",
              "    0% {\n",
              "      border-color: transparent;\n",
              "      border-bottom-color: var(--fill-color);\n",
              "      border-left-color: var(--fill-color);\n",
              "    }\n",
              "    20% {\n",
              "      border-color: transparent;\n",
              "      border-left-color: var(--fill-color);\n",
              "      border-top-color: var(--fill-color);\n",
              "    }\n",
              "    30% {\n",
              "      border-color: transparent;\n",
              "      border-left-color: var(--fill-color);\n",
              "      border-top-color: var(--fill-color);\n",
              "      border-right-color: var(--fill-color);\n",
              "    }\n",
              "    40% {\n",
              "      border-color: transparent;\n",
              "      border-right-color: var(--fill-color);\n",
              "      border-top-color: var(--fill-color);\n",
              "    }\n",
              "    60% {\n",
              "      border-color: transparent;\n",
              "      border-right-color: var(--fill-color);\n",
              "    }\n",
              "    80% {\n",
              "      border-color: transparent;\n",
              "      border-right-color: var(--fill-color);\n",
              "      border-bottom-color: var(--fill-color);\n",
              "    }\n",
              "    90% {\n",
              "      border-color: transparent;\n",
              "      border-bottom-color: var(--fill-color);\n",
              "    }\n",
              "  }\n",
              "</style>\n",
              "\n",
              "      <script>\n",
              "        async function quickchart(key) {\n",
              "          const quickchartButtonEl =\n",
              "            document.querySelector('#' + key + ' button');\n",
              "          quickchartButtonEl.disabled = true;  // To prevent multiple clicks.\n",
              "          quickchartButtonEl.classList.add('colab-df-spinner');\n",
              "          try {\n",
              "            const charts = await google.colab.kernel.invokeFunction(\n",
              "                'suggestCharts', [key], {});\n",
              "          } catch (error) {\n",
              "            console.error('Error during call to suggestCharts:', error);\n",
              "          }\n",
              "          quickchartButtonEl.classList.remove('colab-df-spinner');\n",
              "          quickchartButtonEl.classList.add('colab-df-quickchart-complete');\n",
              "        }\n",
              "        (() => {\n",
              "          let quickchartButtonEl =\n",
              "            document.querySelector('#df-fa0979ae-f38a-4004-8d9a-7ab7efac1cc3 button');\n",
              "          quickchartButtonEl.style.display =\n",
              "            google.colab.kernel.accessAllowed ? 'block' : 'none';\n",
              "        })();\n",
              "      </script>\n",
              "    </div>\n",
              "\n",
              "  <div id=\"id_6e42c4ce-d518-4c6d-87f6-e6dd04957b14\">\n",
              "    <style>\n",
              "      .colab-df-generate {\n",
              "        background-color: #E8F0FE;\n",
              "        border: none;\n",
              "        border-radius: 50%;\n",
              "        cursor: pointer;\n",
              "        display: none;\n",
              "        fill: #1967D2;\n",
              "        height: 32px;\n",
              "        padding: 0 0 0 0;\n",
              "        width: 32px;\n",
              "      }\n",
              "\n",
              "      .colab-df-generate:hover {\n",
              "        background-color: #E2EBFA;\n",
              "        box-shadow: 0px 1px 2px rgba(60, 64, 67, 0.3), 0px 1px 3px 1px rgba(60, 64, 67, 0.15);\n",
              "        fill: #174EA6;\n",
              "      }\n",
              "\n",
              "      [theme=dark] .colab-df-generate {\n",
              "        background-color: #3B4455;\n",
              "        fill: #D2E3FC;\n",
              "      }\n",
              "\n",
              "      [theme=dark] .colab-df-generate:hover {\n",
              "        background-color: #434B5C;\n",
              "        box-shadow: 0px 1px 3px 1px rgba(0, 0, 0, 0.15);\n",
              "        filter: drop-shadow(0px 1px 2px rgba(0, 0, 0, 0.3));\n",
              "        fill: #FFFFFF;\n",
              "      }\n",
              "    </style>\n",
              "    <button class=\"colab-df-generate\" onclick=\"generateWithVariable('df')\"\n",
              "            title=\"Generate code using this dataframe.\"\n",
              "            style=\"display:none;\">\n",
              "\n",
              "  <svg xmlns=\"http://www.w3.org/2000/svg\" height=\"24px\"viewBox=\"0 0 24 24\"\n",
              "       width=\"24px\">\n",
              "    <path d=\"M7,19H8.4L18.45,9,17,7.55,7,17.6ZM5,21V16.75L18.45,3.32a2,2,0,0,1,2.83,0l1.4,1.43a1.91,1.91,0,0,1,.58,1.4,1.91,1.91,0,0,1-.58,1.4L9.25,21ZM18.45,9,17,7.55Zm-12,3A5.31,5.31,0,0,0,4.9,8.1,5.31,5.31,0,0,0,1,6.5,5.31,5.31,0,0,0,4.9,4.9,5.31,5.31,0,0,0,6.5,1,5.31,5.31,0,0,0,8.1,4.9,5.31,5.31,0,0,0,12,6.5,5.46,5.46,0,0,0,6.5,12Z\"/>\n",
              "  </svg>\n",
              "    </button>\n",
              "    <script>\n",
              "      (() => {\n",
              "      const buttonEl =\n",
              "        document.querySelector('#id_6e42c4ce-d518-4c6d-87f6-e6dd04957b14 button.colab-df-generate');\n",
              "      buttonEl.style.display =\n",
              "        google.colab.kernel.accessAllowed ? 'block' : 'none';\n",
              "\n",
              "      buttonEl.onclick = () => {\n",
              "        google.colab.notebook.generateWithVariable('df');\n",
              "      }\n",
              "      })();\n",
              "    </script>\n",
              "  </div>\n",
              "\n",
              "    </div>\n",
              "  </div>\n"
            ],
            "application/vnd.google.colaboratory.intrinsic+json": {
              "type": "dataframe",
              "variable_name": "df",
              "summary": "{\n  \"name\": \"df\",\n  \"rows\": 1048,\n  \"fields\": [\n    {\n      \"column\": \"\\uc9c0\\uce68\\ub0b4\\uc6a9\",\n      \"properties\": {\n        \"dtype\": \"string\",\n        \"num_unique_values\": 1044,\n        \"samples\": [\n          \"\\ub2e8\\uc704\\uacf5\\uc885\\ubcc4 \\uc791\\uc5c5\\uc744 \\uc2dc\\uc791\\ud558\\uae30 \\uc804\\uc5d0\\ub294 \\uc704\\ud5d8\\uc131\\ud3c9\\uac00\\ub97c \\uc2e4\\uc2dc\\ud558\\uace0 \\uc138\\ubd80 \\ub2e8\\uc704\\uc791\\uc5c5 \\ubcc4 \\ud5c8\\uc6a9 \\uac00\\ub2a5\\ud55c \\uc704\\ud5d8\\ubc94\\uc704 \\uc774\\ub0b4\\uac00 \\ub418\\ub3c4\\ub85d \\uc791\\uc5c5\\ubc29\\ubc95\\uc744 \\uac1c\\uc120\\ud55c \\ud6c4\\uac00 \\uc544\\ub2c8\\uba74 \\uc791\\uc5c5\\ud558\\uc9c0 \\uc54a\\ub3c4\\ub85d \\ud558\\uc5ec\\uc57c \\ud55c\\ub2e4.\",\n          \"\\uc218\\ubaa9\\uc758 \\uc6b4\\ubc18 \\ubc0f \\uc0c1\\u2024\\ud558\\ucc28 \\uc2dc\\uc5d0\\ub294 <\\uadf8\\ub9bc 3>\\uacfc \\uac19\\uc774 \\ud5dd\\uac8a\\uc744 \\uc2f8\\uc11c \\uc218\\ubaa9\\uc758\\uc190\\uc0c1\\uc744 \\ubc29\\uc9c0 \\ud558\\uace0 \\ub300\\ud615\\ubaa9\\uc778 \\uacbd\\uc6b0\\uc5d0 \\uccb4\\uc778 \\ube14\\ub7ed\\uc774\\ub098 \\uc774\\ub3d9\\uc2dd \\ud06c\\ub808\\uc778\\uc744 \\uc0ac\\uc6a9\\ud558\\uc5ec\\uc57c \\ud55c\\ub2e4. \\uc774\\ub3d9\\uc2dd \\ud06c\\ub808\\uc778\\uc744 \\uc774\\uc6a9\\ud558\\uc5ec \\uc0c1, \\ud558\\ucc28\\uc2dc \\uc218\\ubaa9\\uc774 \\ud68c\\uc804\\ud558\\uc9c0 \\uc54a\\ub3c4\\ub85d \\uac78\\uc774\\ub97c \\ud558\\uc5ec\\uc57c \\ud558\\uba70, \\ud06c\\ub808\\uc778 \\uc124\\uce58\\uc2dc\\uc5d0 \\ub118\\uc5b4\\uc9d0\\uc744 \\ubc29\\uc9c0\\ud558\\uae30 \\uc704\\ud558\\uc5ec \\uc9c0\\ud615 \\ubc0f \\uc8fc\\ubcc0 \\uc0c1\\ud669\\uc5d0 \\ub9de\\uac8c \\uc7a5\\ube44\\uc704\\uce58\\ub97c \\uc120\\uc815\\ud558\\uc5ec\\uc57c \\ud55c\\ub2e4.\",\n          \"\\ud574\\uccb4\\uc791\\uc5c5\\uc740 \\uc2dc\\uae30\\ub294 \\ud0c0\\uc124\\ub41c \\ucf58\\ud06c\\ub9ac\\ud2b8\\uac00 \\ucda9\\ubd84\\ud55c \\uac15\\ub3c4 \\ubc1c\\ud604\\uc744 \\ud655\\uc778\\ud558\\uace0 \\uc791\\uc5c5 \\ud5c8\\uac00\\ub97c \\ubc1b\\uc544 \\uc2e4\\uc2dc\\ud558\\uc5ec\\uc57c \\ud55c\\ub2e4.\"\n        ],\n        \"semantic_type\": \"\",\n        \"description\": \"\"\n      }\n    },\n    {\n      \"column\": \"\\uacf5\\uc0ac\\uc885\\ub958\",\n      \"properties\": {\n        \"dtype\": \"category\",\n        \"num_unique_values\": 6,\n        \"samples\": [\n          \"\\uac74\\ucd95\",\n          \"\\uad74\\ucc29\\uacf5\\uc0ac\",\n          \"\\uc591\\uc911\\uc791\\uc5c5\"\n        ],\n        \"semantic_type\": \"\",\n        \"description\": \"\"\n      }\n    },\n    {\n      \"column\": \"\\uc9c0\\uce68\\uc720\\ud615\",\n      \"properties\": {\n        \"dtype\": \"category\",\n        \"num_unique_values\": 3,\n        \"samples\": [\n          \"\\uc704\\ud5d8\\uacbd\\uace0\",\n          \"\\uc608\\ubc29\\uc870\\uce58\",\n          \"\\uc810\\uac80\\uc0ac\\ud56d\"\n        ],\n        \"semantic_type\": \"\",\n        \"description\": \"\"\n      }\n    }\n  ]\n}"
            }
          },
          "metadata": {}
        }
      ]
    },
    {
      "cell_type": "code",
      "source": [
        "# 먼저 train과 temp로 나누기 (80% 학습, 20% 임시)\n",
        "train_df, temp_df = train_test_split(df, test_size=0.2, random_state=42)\n",
        "\n",
        "print(train_df['지침유형'].value_counts())\n",
        "\n",
        "# temp를 다시 dev와 test로 나누기 (각각 10%)\n",
        "dev_df, test_df = train_test_split(temp_df, test_size=0.5, random_state=42)\n",
        "\n",
        "# 각 분류 차원에 대한 별도 파일 생성\n",
        "with open('type_train.txt', 'w', encoding='utf-8') as f:\n",
        "    for _, row in train_df.iterrows():\n",
        "        text = row['지침내용']\n",
        "        type_category = row['지침유형']\n",
        "        f.write(f\"__label__{type_category} {text}\\n\")\n",
        "\n",
        "with open('type_dev.txt', 'w', encoding='utf-8') as f:\n",
        "    for _, row in dev_df.iterrows():\n",
        "        text = row['지침내용']\n",
        "        type_category = row['지침유형']\n",
        "        f.write(f\"__label__{type_category} {text}\\n\")\n",
        "\n",
        "with open('type_test.txt', 'w', encoding='utf-8') as f:\n",
        "    for _, row in test_df.iterrows():\n",
        "        text = row['지침내용']\n",
        "        type_category = row['지침유형']\n",
        "        f.write(f\"__label__{type_category} {text}\\n\")\n",
        "\n",
        "with open('construction_train.txt', 'w', encoding='utf-8') as f:\n",
        "    for _, row in train_df.iterrows():\n",
        "        text = row['지침내용']\n",
        "        construction_category = row['공사종류']\n",
        "        f.write(f\"__label__{construction_category} {text}\\n\")\n",
        "\n",
        "with open('construction_dev.txt', 'w', encoding='utf-8') as f:\n",
        "    for _, row in dev_df.iterrows():\n",
        "        text = row['지침내용']\n",
        "        type_category = row['공사종류']\n",
        "        f.write(f\"__label__{type_category} {text}\\n\")\n",
        "\n",
        "with open('construction_test.txt', 'w', encoding='utf-8') as f:\n",
        "    for _, row in test_df.iterrows():\n",
        "        text = row['지침내용']\n",
        "        type_category = row['공사종류']\n",
        "        f.write(f\"__label__{type_category} {text}\\n\")\n",
        "\n",
        "print(f\"처리된 데이터 수: {len(df)}\")"
      ],
      "metadata": {
        "colab": {
          "base_uri": "https://localhost:8080/"
        },
        "id": "yLmY9rLHfqwR",
        "outputId": "7f407265-30cb-451d-a324-381f9956e57f"
      },
      "execution_count": 5,
      "outputs": [
        {
          "output_type": "stream",
          "name": "stdout",
          "text": [
            "지침유형\n",
            "예방조치    433\n",
            "점검사항    316\n",
            "위험경고     89\n",
            "Name: count, dtype: int64\n",
            "처리된 데이터 수: 1048\n"
          ]
        }
      ]
    },
    {
      "cell_type": "code",
      "source": [
        "!head -n 5 /content/sample_data/type_train_dev_test/type_train.txt"
      ],
      "metadata": {
        "colab": {
          "base_uri": "https://localhost:8080/"
        },
        "id": "hsEmOVGbwKYn",
        "outputId": "38ec6181-82c2-4923-df05-499250bb6df8"
      },
      "execution_count": 33,
      "outputs": [
        {
          "output_type": "stream",
          "name": "stdout",
          "text": [
            "head: cannot open '/content/sample_data/type_train_dev_test/type_train.txt' for reading: No such file or directory\n"
          ]
        }
      ]
    },
    {
      "cell_type": "markdown",
      "source": [
        "<1주차 정리>\n",
        "\n",
        "- 머신러닝 , 딥러닝 , 지도학습 , 비지도학습 , 강화학습 기본 설명\n",
        "\n",
        "- 안전지침 pdf들이 모여있는 폴더를 순회하면서 ,\n",
        "   키 : pdf의 제목 , value: 추출한 문장들 형식의 추출결과 저장\n",
        "\n",
        "- train.csv 를 읽어서 필요한 열의 정보들을 추출\n",
        "\n",
        "- 안전지침만을 자동으로 추출하는 엔진 제작 과정을 설명\n",
        "\n",
        "- 안전지침 분류 모델로 사용할 Flair 모듈에 주입할 훈련용 라벨링 데이터 제작 설명\n",
        "\n",
        "해야할 것 : 개인별 랩탑 세팅 , 개인별 라벨링 한 데이터 수집."
      ],
      "metadata": {
        "id": "OqrClUUDb-rC"
      }
    },
    {
      "cell_type": "markdown",
      "source": [
        "PyTorch(torch)는 딥러닝 프레임워크로, Flair 라이브러리가 내부적으로 PyTorch를 기반으로 작동하기 때문에 필요합니다.\n",
        "\n",
        "Flair의 핵심 기능들은 모두 PyTorch로 구현되어 있습니다:\n",
        "\n",
        "모델 구조: TextClassifier 같은 Flair의 모델들은 PyTorch의 nn.Module을 상속받아 구현됩니다.\n",
        "\n",
        "학습 과정: 모델 학습은 PyTorch의 옵티마이저와 손실 함수를 사용합니다.\n",
        "\n",
        "GPU 가속: PyTorch를 통해 CUDA를 활용한 GPU 학습이 가능합니다.\n",
        "\n",
        "임베딩 처리: 트랜스포머 모델을 포함한 다양한 임베딩도 PyTorch를 통해 처리됩니다.\n",
        "\n",
        "따라서 Flair를 사용하려면 반드시 PyTorch가 설치되어 있어야 합니다. PyTorch가 없으면 Flair 라이브러리 자체가 작동하지 않습니다."
      ],
      "metadata": {
        "id": "uEMzxve8qBjq"
      }
    },
    {
      "cell_type": "code",
      "source": [
        "# 1. 필요한 패키지 설치\n",
        "!pip install flair transformers torch sentencepiece kobert-transformers -q\n",
        "# 넘파이 - transformer 버전 조합 때문에 고민을 했었는데 tourch 를 설치 함으로써 딥러닝이 요하는 연산을 다 커버할 수 있게 되었다.\n",
        "!pip install -U huggingface_hub\n",
        "\n",
        "# 2. 디렉토리 생성\n",
        "!mkdir -p /content/sample_data/type_train_dev_test\n",
        "!mkdir -p /content/sample_data/construction_train_dev_test\n",
        "!mkdir -p models/type-classifier\n",
        "!mkdir -p models/construction-classifier"
      ],
      "metadata": {
        "colab": {
          "base_uri": "https://localhost:8080/"
        },
        "id": "BHGDM4s-p77z",
        "outputId": "7fccf3a8-01eb-4397-a7f8-6089a2b2f66b",
        "collapsed": true
      },
      "execution_count": 6,
      "outputs": [
        {
          "output_type": "stream",
          "name": "stdout",
          "text": [
            "\u001b[?25l     \u001b[90m━━━━━━━━━━━━━━━━━━━━━━━━━━━━━━━━━━━━━━━━\u001b[0m \u001b[32m0.0/981.5 kB\u001b[0m \u001b[31m?\u001b[0m eta \u001b[36m-:--:--\u001b[0m\r\u001b[2K     \u001b[90m━━━━━━━━━━━━━━━━━━━━━━━━━━━━━━━━━━━━━━\u001b[0m \u001b[32m981.5/981.5 kB\u001b[0m \u001b[31m66.4 MB/s\u001b[0m eta \u001b[36m0:00:00\u001b[0m\n",
            "\u001b[?25h  Preparing metadata (setup.py) ... \u001b[?25l\u001b[?25hdone\n",
            "  Preparing metadata (setup.py) ... \u001b[?25l\u001b[?25hdone\n",
            "  Preparing metadata (setup.py) ... \u001b[?25l\u001b[?25hdone\n",
            "  Preparing metadata (setup.py) ... \u001b[?25l\u001b[?25hdone\n",
            "  Preparing metadata (setup.py) ... \u001b[?25l\u001b[?25hdone\n",
            "  Preparing metadata (setup.py) ... \u001b[?25l\u001b[?25hdone\n",
            "\u001b[2K   \u001b[90m━━━━━━━━━━━━━━━━━━━━━━━━━━━━━━━━━━━━━━━━\u001b[0m \u001b[32m1.2/1.2 MB\u001b[0m \u001b[31m70.3 MB/s\u001b[0m eta \u001b[36m0:00:00\u001b[0m\n",
            "\u001b[2K   \u001b[90m━━━━━━━━━━━━━━━━━━━━━━━━━━━━━━━━━━━━━━━━\u001b[0m \u001b[32m363.4/363.4 MB\u001b[0m \u001b[31m3.9 MB/s\u001b[0m eta \u001b[36m0:00:00\u001b[0m\n",
            "\u001b[2K   \u001b[90m━━━━━━━━━━━━━━━━━━━━━━━━━━━━━━━━━━━━━━━━\u001b[0m \u001b[32m13.8/13.8 MB\u001b[0m \u001b[31m86.3 MB/s\u001b[0m eta \u001b[36m0:00:00\u001b[0m\n",
            "\u001b[2K   \u001b[90m━━━━━━━━━━━━━━━━━━━━━━━━━━━━━━━━━━━━━━━━\u001b[0m \u001b[32m24.6/24.6 MB\u001b[0m \u001b[31m98.5 MB/s\u001b[0m eta \u001b[36m0:00:00\u001b[0m\n",
            "\u001b[2K   \u001b[90m━━━━━━━━━━━━━━━━━━━━━━━━━━━━━━━━━━━━━━━━\u001b[0m \u001b[32m883.7/883.7 kB\u001b[0m \u001b[31m60.7 MB/s\u001b[0m eta \u001b[36m0:00:00\u001b[0m\n",
            "\u001b[2K   \u001b[90m━━━━━━━━━━━━━━━━━━━━━━━━━━━━━━━━━━━━━━━━\u001b[0m \u001b[32m664.8/664.8 MB\u001b[0m \u001b[31m1.9 MB/s\u001b[0m eta \u001b[36m0:00:00\u001b[0m\n",
            "\u001b[2K   \u001b[90m━━━━━━━━━━━━━━━━━━━━━━━━━━━━━━━━━━━━━━━━\u001b[0m \u001b[32m211.5/211.5 MB\u001b[0m \u001b[31m5.4 MB/s\u001b[0m eta \u001b[36m0:00:00\u001b[0m\n",
            "\u001b[2K   \u001b[90m━━━━━━━━━━━━━━━━━━━━━━━━━━━━━━━━━━━━━━━━\u001b[0m \u001b[32m56.3/56.3 MB\u001b[0m \u001b[31m13.7 MB/s\u001b[0m eta \u001b[36m0:00:00\u001b[0m\n",
            "\u001b[2K   \u001b[90m━━━━━━━━━━━━━━━━━━━━━━━━━━━━━━━━━━━━━━━━\u001b[0m \u001b[32m127.9/127.9 MB\u001b[0m \u001b[31m9.5 MB/s\u001b[0m eta \u001b[36m0:00:00\u001b[0m\n",
            "\u001b[2K   \u001b[90m━━━━━━━━━━━━━━━━━━━━━━━━━━━━━━━━━━━━━━━━\u001b[0m \u001b[32m207.5/207.5 MB\u001b[0m \u001b[31m5.5 MB/s\u001b[0m eta \u001b[36m0:00:00\u001b[0m\n",
            "\u001b[2K   \u001b[90m━━━━━━━━━━━━━━━━━━━━━━━━━━━━━━━━━━━━━━━━\u001b[0m \u001b[32m21.1/21.1 MB\u001b[0m \u001b[31m44.1 MB/s\u001b[0m eta \u001b[36m0:00:00\u001b[0m\n",
            "\u001b[2K   \u001b[90m━━━━━━━━━━━━━━━━━━━━━━━━━━━━━━━━━━━━━━━━\u001b[0m \u001b[32m139.9/139.9 kB\u001b[0m \u001b[31m14.3 MB/s\u001b[0m eta \u001b[36m0:00:00\u001b[0m\n",
            "\u001b[2K   \u001b[90m━━━━━━━━━━━━━━━━━━━━━━━━━━━━━━━━━━━━━━━━\u001b[0m \u001b[32m44.8/44.8 kB\u001b[0m \u001b[31m4.2 MB/s\u001b[0m eta \u001b[36m0:00:00\u001b[0m\n",
            "\u001b[2K   \u001b[90m━━━━━━━━━━━━━━━━━━━━━━━━━━━━━━━━━━━━━━━━\u001b[0m \u001b[32m202.6/202.6 kB\u001b[0m \u001b[31m18.4 MB/s\u001b[0m eta \u001b[36m0:00:00\u001b[0m\n",
            "\u001b[2K   \u001b[90m━━━━━━━━━━━━━━━━━━━━━━━━━━━━━━━━━━━━━━━━\u001b[0m \u001b[32m13.6/13.6 MB\u001b[0m \u001b[31m127.2 MB/s\u001b[0m eta \u001b[36m0:00:00\u001b[0m\n",
            "\u001b[2K   \u001b[90m━━━━━━━━━━━━━━━━━━━━━━━━━━━━━━━━━━━━━━━━\u001b[0m \u001b[32m84.8/84.8 kB\u001b[0m \u001b[31m7.5 MB/s\u001b[0m eta \u001b[36m0:00:00\u001b[0m\n",
            "\u001b[?25h  Building wheel for langdetect (setup.py) ... \u001b[?25l\u001b[?25hdone\n",
            "  Building wheel for pptree (setup.py) ... \u001b[?25l\u001b[?25hdone\n",
            "  Building wheel for sqlitedict (setup.py) ... \u001b[?25l\u001b[?25hdone\n",
            "  Building wheel for wikipedia-api (setup.py) ... \u001b[?25l\u001b[?25hdone\n",
            "  Building wheel for docopt (setup.py) ... \u001b[?25l\u001b[?25hdone\n",
            "  Building wheel for intervaltree (setup.py) ... \u001b[?25l\u001b[?25hdone\n",
            "Requirement already satisfied: huggingface_hub in /usr/local/lib/python3.11/dist-packages (0.31.1)\n",
            "Collecting huggingface_hub\n",
            "  Downloading huggingface_hub-0.31.2-py3-none-any.whl.metadata (13 kB)\n",
            "Requirement already satisfied: filelock in /usr/local/lib/python3.11/dist-packages (from huggingface_hub) (3.18.0)\n",
            "Requirement already satisfied: fsspec>=2023.5.0 in /usr/local/lib/python3.11/dist-packages (from huggingface_hub) (2025.3.2)\n",
            "Requirement already satisfied: packaging>=20.9 in /usr/local/lib/python3.11/dist-packages (from huggingface_hub) (24.2)\n",
            "Requirement already satisfied: pyyaml>=5.1 in /usr/local/lib/python3.11/dist-packages (from huggingface_hub) (6.0.2)\n",
            "Requirement already satisfied: requests in /usr/local/lib/python3.11/dist-packages (from huggingface_hub) (2.32.3)\n",
            "Requirement already satisfied: tqdm>=4.42.1 in /usr/local/lib/python3.11/dist-packages (from huggingface_hub) (4.67.1)\n",
            "Requirement already satisfied: typing-extensions>=3.7.4.3 in /usr/local/lib/python3.11/dist-packages (from huggingface_hub) (4.13.2)\n",
            "Requirement already satisfied: charset-normalizer<4,>=2 in /usr/local/lib/python3.11/dist-packages (from requests->huggingface_hub) (3.4.2)\n",
            "Requirement already satisfied: idna<4,>=2.5 in /usr/local/lib/python3.11/dist-packages (from requests->huggingface_hub) (3.10)\n",
            "Requirement already satisfied: urllib3<3,>=1.21.1 in /usr/local/lib/python3.11/dist-packages (from requests->huggingface_hub) (2.4.0)\n",
            "Requirement already satisfied: certifi>=2017.4.17 in /usr/local/lib/python3.11/dist-packages (from requests->huggingface_hub) (2025.4.26)\n",
            "Downloading huggingface_hub-0.31.2-py3-none-any.whl (484 kB)\n",
            "\u001b[2K   \u001b[90m━━━━━━━━━━━━━━━━━━━━━━━━━━━━━━━━━━━━━━━━\u001b[0m \u001b[32m484.2/484.2 kB\u001b[0m \u001b[31m28.9 MB/s\u001b[0m eta \u001b[36m0:00:00\u001b[0m\n",
            "\u001b[?25hInstalling collected packages: huggingface_hub\n",
            "  Attempting uninstall: huggingface_hub\n",
            "    Found existing installation: huggingface-hub 0.31.1\n",
            "    Uninstalling huggingface-hub-0.31.1:\n",
            "      Successfully uninstalled huggingface-hub-0.31.1\n",
            "Successfully installed huggingface_hub-0.31.2\n"
          ]
        }
      ]
    },
    {
      "cell_type": "code",
      "source": [
        "# 3. 이미 생성된 파일들을 적절한 디렉토리로 이동\n",
        "!mv type_train.txt /content/sample_data/type_train_dev_test/\n",
        "!mv type_dev.txt /content/sample_data/type_train_dev_test/\n",
        "!mv type_test.txt /content/sample_data/type_train_dev_test/\n",
        "!mv construction_train.txt /content/sample_data/construction_train_dev_test/\n",
        "!mv construction_dev.txt /content/sample_data/construction_train_dev_test/\n",
        "!mv construction_test.txt /content/sample_data/construction_train_dev_test/\n",
        "\n",
        "# 4. 필요한 라이브러리 및 모듈 임포트\n",
        "import torch\n",
        "from flair.data import Corpus, Sentence # 텍스트 데이터 처리를 위한 Corpus 클래스\n",
        "from flair.datasets import ClassificationCorpus # 분류 작업을 위한 특화된 코퍼스 클래스\n",
        "from flair.embeddings import TransformerDocumentEmbeddings # 트랜스포머 기반 임베딩 (BERT 등)\n",
        "from flair.models import TextClassifier # 텍스트 분류 모델\n",
        "from flair.trainers import ModelTrainer # 모델 학습을 위한 트레이너\n",
        "\n",
        "import random\n",
        "import numpy as np\n",
        "from sklearn.model_selection import StratifiedKFold\n",
        "import tempfile\n",
        "import gc\n",
        "\n",
        "# 5. GPU 확인 # colab 설정에서 하드웨어 가속기로 cpu가 아닌 gpu를 사용하도록 설정 변경.\n",
        "print(f\"CUDA 사용 가능: {torch.cuda.is_available()}\")\n",
        "if torch.cuda.is_available():\n",
        "    print(f\"GPU 이름: {torch.cuda.get_device_name(0)}\")"
      ],
      "metadata": {
        "colab": {
          "base_uri": "https://localhost:8080/"
        },
        "id": "_TLsfhIls_7t",
        "outputId": "b347f174-d18e-4bd9-e94b-3f9f0bf2c6a5"
      },
      "execution_count": 7,
      "outputs": [
        {
          "output_type": "stream",
          "name": "stdout",
          "text": [
            "CUDA 사용 가능: True\n",
            "GPU 이름: Tesla T4\n"
          ]
        }
      ]
    },
    {
      "cell_type": "markdown",
      "source": [
        "type_corpus = ClassificationCorpus(\"/content/sample_data/type_train_dev_test\",  # 데이터 디렉토리 경로\n",
        "                                 train_file='type_train.txt',  # 학습 데이터 파일\n",
        "                                 dev_file='type_dev.txt',  # 검증 데이터 파일\n",
        "                                 test_file='type_test.txt')  # 테스트 데이터 파일:\n",
        "\n",
        "이 코드의 역할 ->\n",
        "\n",
        "1.파일 경로 지정\n",
        "\n",
        "- 첫 번째 인자 (\"/content/sample_data/type_train_dev_test\")는 데이터 파일들이 위치한 기본 디렉토리 경로입니다 ,\n",
        "\n",
        "- train_file, dev_file, test_file 매개변수는 각각 학습, 검증, 테스트에 사용될 데이터 파일의 이름을 지정합니다.\n",
        "\n",
        "2.데이터 로드 및 전처리:\n",
        "\n",
        "- 지정된 파일들에서 텍스트와 라벨을 읽어옵니다.(아까 txt 파일을 열어서 봤듯이 __label__라벨명-실제내용 이런 형태로 쭉 쓰여져 있다.)\n",
        "- 텍스트와 라벨을 Flair의 내부 형식으로 변환합니다.\n",
        "- 학습/검증/테스트 세트를 각각 분리하여 저장합니다.\n",
        "\n",
        "3.라벨 처리:\n",
        "\n",
        "- 파일에서 'label'로 시작하는 라벨을 추출하고, 기본적으로 'class' 타입의 라벨로 변환합니다.\n",
        "- 이렇게 생성된 코퍼스에서 나중에 make_label_dictionary()를 호출하면 라벨 사전을 얻을 수 있습니다.\n",
        "\n",
        "\n",
        "결론 : type_corpus 객체는 모델 학습, 평가, 예측 등의 과정에서 데이터를 제공하는 역할 -> 모델이 이해할 수 있도록 우리가 만든 텍스트와 라벨쌍을 그 내부 구조에 맞춰 바꿔주는 역할.\n"
      ],
      "metadata": {
        "id": "Fm-Uklq5yTcq"
      }
    },
    {
      "cell_type": "markdown",
      "source": [
        "\n",
        "---------------------------------------------------------\n",
        "\n",
        "type_classifier = TextClassifier(document_embeddings,\n",
        "                                label_dictionary=type_corpus.make_label_dictionary(label_type= 'class'), label_type='class')\n",
        " 이 코드의 역할 :\n",
        "\n",
        "1.분류기 생성:\n",
        "\n",
        "- TextClassifier 인스턴스를 생성합니다.\n",
        "\n",
        "2.임베딩 모델 연결:\n",
        "\n",
        "- document_embeddings 매개변수를 통해 텍스트를 벡터로на 변환하는 임베딩 모델을 분류기에 연결합니다.\n",
        "\n",
        "3.라벨 사전 설정:\n",
        "\n",
        "- type_corpus.make_label_dictionary(label_type='class')는 코퍼스에서 'class' 타입으로 지정된 모든 라벨을 수집하여 사전(dictionary) 형태로 만듭니다. 이 사전은 분류기가 어떤 클래스들을 예측할 수 있는지 정의합니다.\n",
        "\n",
        "4.라벨 타입 지정:\n",
        "\n",
        "- label_type='class' 매개변수는 분류기가 'class' 타입의 라벨을 예측할 것임을 지정합니다. 이는 코퍼스에서 사용한 라벨 타입과 일치해야 합니다.\n",
        "\n",
        "- (결과적으로 분류된 그 카테고리의 타입이 class일 것을 의미함 -> 당연하다. 왜냐면 class 타입의 라벨들을 corpus에서 받아서 dictionary의 인덱스로 설정해 놓은 셈이기에.)\n",
        "\n",
        "결론:\n",
        "\n",
        "- 이 분류기는 입력 텍스트를 document_embeddings를 사용해 벡터로 변환한 후, 그 벡터를 바탕으로 라벨 사전에 정의된 클래스 중 하나로 분류하는 작업을 수행합니다. 'class' 타입으로 지정된 라벨들(원래 파일에서는 'label'로 시작하는 태그들)을 예측하게 됩니다."
      ],
      "metadata": {
        "id": "SG1Fv7sg0hhc"
      }
    },
    {
      "cell_type": "markdown",
      "source": [
        "# 랜덤 서치 + 교차 검증 방식:\n",
        "\n",
        "하이퍼파라미터 공간 정의:\n",
        "\n",
        "- 학습률: [0.001, 0.1] 연속 공간\n",
        "- 배치 크기: [8, 16, 32, 64]\n",
        "- 에폭 수: [5, 10, 20]\n",
        "\n",
        "\n",
        "랜덤 조합 생성:\n",
        "\n",
        "- 정의된 공간에서 15 ~ 20개 하이퍼 파라미터 조합을 무작위로 추출\n",
        "\n",
        "\n",
        "각 랜덤 조합에 교차 검증 적용:\n",
        "\n",
        "- 각 조합마다 5-fold 교차 검증 수행\n",
        "- 각 조합별로 5개 성능 점수의 평균 계산\n",
        "\n",
        "\n",
        "최적 조합 선택:\n",
        "\n",
        "- 교차 검증 평균 성능이 가장 높은 하이퍼 파라미터 조합 선택\n",
        "\n",
        "\n",
        "최종 모델링:\n",
        "\n",
        "- 선택된 최적 조합으로 전체 훈련 데이터 사용해 최종 모델 학습\n",
        "\n",
        "\n",
        "## 교차검증이란?\n",
        "\n",
        "- 교차 검증(Cross-validation)은 모델 성능을 더 안정적으로 평가하고 과적합을 방지하는 기법입니다.\n",
        "교차 검증 기본 개념:\n",
        "\n",
        "데이터 분할:\n",
        "- 전체 데이터셋을 여러 개의 부분(폴드)으로 나눕니다.\n",
        "반복 학습 및 평가: 각 반복에서 하나의 폴드를 검증용으로 사용하고 나머지를 훈련용으로 사용합니다.\n",
        "성능 평균화: 모든 폴드에 대한 평가 결과를 평균내어 최종 성능을 측정합니다.\n",
        "\n",
        "가장 일반적인 형태 - k-fold 교차 검증:\n",
        "\n",
        "예를 들어 5-fold 교차 검증에서는:\n",
        "\n",
        "데이터를 5개 부분으로 나눕니다.\n",
        "5번의 실험을 수행합니다:\n",
        "\n",
        "1번째 실험: 1번 폴드를 검증용, 2~5번 폴드를 훈련용으로 사용\n",
        "\n",
        "2번째 실험: 2번 폴드를 검증용, 1,3~5번 폴드를 훈련용으로 사용\n",
        "\n",
        "...이런 식으로 5번째 실험까지 진행\n",
        "\n",
        "\n",
        "5번의 실험에서 얻은 성능 지표의 평균값을 최종 성능으로 사용합니다.\n",
        "\n",
        "교차 검증의 장점:\n",
        "\n",
        "- 더 안정적인 성능 평가: 데이터 분할에 따른 우연의 영향을 줄여줍니다.\n",
        "- 전체 데이터 활용: 모든 데이터 포인트가 훈련과 검증에 모두 사용됩니다.\n",
        "- 과적합 감지: 폴드 간 성능 차이가 크면 과적합의 징후일 수 있습니다.\n",
        "- 하이퍼파라미터 튜닝 신뢰성 향상: 단일 검증 세트보다 더 안정적인 평가를 제공합니다.\n",
        "\n",
        "- 텍스트 분류 모델 튜닝에서는 5-fold나 10-fold 교차 검증을 많이 사용하며, 각 하이퍼파라미터 조합에 대해 교차 검증 점수의 평균을 비교하여 최적의 조합을 선택합니다.\n",
        "\n",
        "### 교차검증 수행 예시(구체적)\n",
        "\n",
        "5-fold 교차 검증의 정확한 과정:\n",
        "\n",
        "- 데이터 분할: 전체 데이터를 5개의 동일한 크기의 폴드로 나눕니다.\n",
        "\n",
        "  각 폴드는 전체 데이터의 20%를 포함\n",
        "\n",
        "\n",
        "- 1차 반복:\n",
        "\n",
        "  검증용: 1번 폴드(전체의 20%)\n",
        "  훈련용: 2,3,4,5번 폴드(전체의 80%)\n",
        "  모델을 처음부터 학습 후 1번 폴드로 검증\n",
        "\n",
        "\n",
        "- 2차 반복:\n",
        "\n",
        "  검증용: 2번 폴드(전체의 20%)\n",
        "  훈련용: 1,3,4,5번 폴드(전체의 80%)\n",
        "  새 모델을 처음부터 학습 후 2번 폴드로 검증\n",
        "\n",
        "\n",
        "- 3~5차 반복:\n",
        "\n",
        "  각 폴드를 한 번씩 검증용으로 사용\n",
        "  항상 나머지 4개 폴드(80%)로 훈련\n",
        "\n",
        "\n",
        "- 최종 결과:\n",
        "\n",
        "  5번의 검증 성능 평균을 해당 하이퍼파라미터의 성능으로 결정\n",
        "\n",
        "\n",
        "\n",
        "각 폴드가 검증용으로 사용될 때, 그 폴드 전체가 검증에 사용됩니다(폴드 내에서 다시 나누지 않음). 이렇게 모든 데이터가 한 번씩 검증에 사용되고, 모든 데이터 포인트가 모델 평가에 기여하게 됩니다.\n",
        "\n",
        "#올바른 머신러닝 평가 파이프라인:\n",
        "\n",
        "1. 최초 데이터 분리:\n",
        "\n",
        "  전체 데이터를 훈련/검증용(80%)과 테스트용(20%)으로 분리\n",
        "  테스트 데이터는 \"봉인\"하여 최종 평가 전까지 절대 사용하지 않음\n",
        "\n",
        "\n",
        "\n",
        "2. 하이퍼파라미터 최적화 (랜덤 서치 + 교차 검증):\n",
        "\n",
        "  훈련/검증용 데이터(80%)만 가지고 교차 검증 수행\n",
        "  각 하이퍼파라미터 조합마다 k-fold 교차 검증으로 안정적인 평가\n",
        "  평균 성능이 가장 높은 하이퍼파라미터 조합 선택\n",
        "\n",
        "\n",
        "\n",
        "3. 최종 모델 학습:\n",
        "\n",
        "  선택된 최적 하이퍼파라미터로\n",
        "  전체 훈련/검증용 데이터(80%)를 사용해 최종 모델 학습\n",
        "\n",
        "\n",
        "4.  최종 평가:\n",
        "\n",
        "  처음에 분리해 놓은 테스트 데이터(20%)로\n",
        "  최종 모델의 성능을 한 번만 평가\n",
        "  이 성능이 가장 신뢰할 수 있는 일반화 성능 지표\n"
      ],
      "metadata": {
        "id": "iGFLupf3Szij"
      }
    },
    {
      "cell_type": "code",
      "source": [
        "def random_search_with_cross_validation(corpus, document_embeddings, n_trials=15, n_folds=2, label_type='class'): # 15 ~ 20 회가 랜덤 수행의 결과가 좋을 가능성이 높지만 , gpu시간을 고려해서 우선 15회로 설정.\n",
        "    \"\"\"\n",
        "    랜덤 하이퍼파라미터 서치 + 교차 검증\n",
        "    \"\"\"\n",
        "    # 데이터 준비\n",
        "    sentences = corpus.train\n",
        "    texts = [s.to_plain_string() for s in sentences]\n",
        "    labels = [s.get_label(label_type).value for s in sentences]\n",
        "\n",
        "    # 계층적 폴드 분할 -> labels-texts 를 균등하게(shuffle = true) fold 만큼의 카테고리로 나누기.\n",
        "    skf = StratifiedKFold(n_splits=n_folds, shuffle=True, random_state=42)\n",
        "    fold_indices = list(skf.split(texts, labels))\n",
        "\n",
        "    # 하이퍼파라미터 범위 정의\n",
        "    learning_rate_range = [0.005, 0.1]  # 학습률 범위\n",
        "    batch_sizes = [8, 16, 32]  # 배치 크기 옵션\n",
        "    epochs_range = [5, 12]  # 에폭 범위(이 범위를 넘어서는 수가 설정되면 바로 과적합 나옴.)\n",
        "\n",
        "    # 결과 저장용\n",
        "    best_score = 0\n",
        "    best_params = None\n",
        "    results = []\n",
        "\n",
        "    # 랜덤 서치 시작\n",
        "    for trial in range(n_trials):\n",
        "        # 랜덤 하이퍼파라미터 생성\n",
        "        lr = np.exp(random.uniform(np.log(learning_rate_range[0]),\n",
        "                                  np.log(learning_rate_range[1])))\n",
        "        batch_size = random.choice(batch_sizes)\n",
        "        epochs = random.randint(epochs_range[0], epochs_range[1])\n",
        "\n",
        "        params = {\n",
        "            'learning_rate': lr,\n",
        "            'batch_size': batch_size,\n",
        "            'epochs': epochs\n",
        "        }\n",
        "\n",
        "        print(f\"시도 {trial+1}/{n_trials}: lr={lr:.4f}, batch_size={batch_size}, epochs={epochs}\")\n",
        "\n",
        "        # 교차 검증 수행\n",
        "        fold_scores = []\n",
        "        valid_fold_count = 0  # 유효한 폴드 수 추적\n",
        "\n",
        "        for fold_idx, (train_idx, val_idx) in enumerate(fold_indices): # fold_idx 는 해당 폴드가 몇번째인지 , (train_idx , val_idx) 는 해당 폴드에 지정된 np.array\n",
        "            print(f\"  폴드 {fold_idx+1}/{n_folds} 학습 중...\")\n",
        "\n",
        "            # 이 폴드의 훈련/검증 문장 추출\n",
        "            train_sentences = [sentences[i] for i in train_idx]\n",
        "            val_sentences = [sentences[i] for i in val_idx]\n",
        "\n",
        "            # 임시 파일 및 코퍼스 생성 -> 그냥 label-texts 쌍만 우리가 만들어 놓은 상태라서 이를 학습용 파일 즉 flair이 사용할 수 있는 형태의 텍스트 임시 파일로 변형.\n",
        "            with tempfile.TemporaryDirectory() as temp_dir:\n",
        "                # 훈련/검증 파일 생성 -> 임시 디렉터리 생성 후 그 내에 임시 파일 생성 -> 각 순번의 훈련이 끝나면 삭제.\n",
        "                train_file = os.path.join(temp_dir, \"train.txt\")\n",
        "                dev_file = os.path.join(temp_dir, \"dev.txt\")\n",
        "\n",
        "                # 훈련 파일 작성\n",
        "                with open(train_file, 'w', encoding='utf-8') as f:\n",
        "                    for s in train_sentences:\n",
        "                        f.write(f\"__label__{s.get_label(label_type).value} {s.to_plain_string()}\\n\")\n",
        "\n",
        "                # 검증 파일 작성\n",
        "                with open(dev_file, 'w', encoding='utf-8') as f:\n",
        "                    for s in val_sentences:\n",
        "                        f.write(f\"__label__{s.get_label(label_type).value} {s.to_plain_string()}\\n\")\n",
        "\n",
        "                # 임시 코퍼스 생성\n",
        "                temp_corpus = ClassificationCorpus(temp_dir, train_file=\"train.txt\",\n",
        "                                                 dev_file=\"dev.txt\", test_file=None)\n",
        "\n",
        "                # 분류기 생성\n",
        "                classifier = TextClassifier(document_embeddings,\n",
        "                                          label_dictionary=temp_corpus.make_label_dictionary(label_type),\n",
        "                                          label_type=label_type)\n",
        "\n",
        "                # 트레이너 생성 및 학습\n",
        "                trainer = ModelTrainer(classifier, temp_corpus)\n",
        "                try:\n",
        "                    result = trainer.train(\n",
        "                        base_path=os.path.join(temp_dir, f\"model\"),\n",
        "                        learning_rate=lr,\n",
        "                        mini_batch_size=batch_size,\n",
        "                        max_epochs=epochs\n",
        "                    )\n",
        "                    # 결과 출력해보기\n",
        "                    print(f\"  훈련 결과: {result}\")\n",
        "\n",
        "                    # 결과 구조에 따라 적절히 접근\n",
        "                    # 현재 폴드에서 학습된 모델을 로드해서 직접 평가하는 것이 더 안전\n",
        "                    current_fold_model_path = os.path.join(temp_dir, f\"model/best-model.pt\")\n",
        "\n",
        "                    # 현재 폴드에서 학습된 모델로 직접 점수 계산\n",
        "                    current_fold_model = TextClassifier.load(current_fold_model_path)\n",
        "\n",
        "                    # 현재 폴드의 검증 세트에서 직접 평가\n",
        "                    correct_predictions = 0\n",
        "                    total_samples = 0\n",
        "\n",
        "                    for sentence in val_sentences:\n",
        "                        # 문장 복제 (레이블 정보 보존)\n",
        "                        test_sentence = Sentence(sentence.to_plain_string())\n",
        "                        true_label = sentence.get_label(label_type).value\n",
        "\n",
        "                        # 예측\n",
        "                        current_fold_model.predict(test_sentence)\n",
        "                        pred_label = test_sentence.get_label('class').value\n",
        "\n",
        "                        if pred_label == true_label:\n",
        "                            correct_predictions += 1\n",
        "                        total_samples += 1\n",
        "\n",
        "                    # 현재 폴드의 정확도 계산\n",
        "                    current_fold_accuracy = correct_predictions / total_samples if total_samples > 0 else 0\n",
        "                    fold_scores.append(current_fold_accuracy)\n",
        "                    valid_fold_count += 1  # 유효한 폴드 증가\n",
        "                    print(f\"  현재 폴드 정확도: {current_fold_accuracy:.4f}\")\n",
        "\n",
        "                    # 메모리 정리\n",
        "                    del current_fold_model\n",
        "                    if torch.cuda.is_available():\n",
        "                        torch.cuda.empty_cache()\n",
        "                    gc.collect()\n",
        "\n",
        "                except Exception as e:\n",
        "                    print(f\"  오류 발생: {e}\")\n",
        "                    # 오류 발생 시 점수를 추가하지 않음 (유효 폴드 수가 증가하지 않음)\n",
        "\n",
        "        # 이 조합의 평균 점수 계산\n",
        "        if valid_fold_count > 0:  # 유효한 폴드가 있을 때만 처리\n",
        "            avg_score = sum(fold_scores) / valid_fold_count\n",
        "            print(f\"  평균 성능: {avg_score:.4f} (유효한 폴드: {valid_fold_count}/{n_folds})\")\n",
        "\n",
        "            results.append({\n",
        "                'params': params,\n",
        "                'score': avg_score,\n",
        "                'fold_scores': fold_scores,\n",
        "                'valid_folds': valid_fold_count\n",
        "            })\n",
        "\n",
        "            # 최고 성능 갱신\n",
        "            if avg_score > best_score:\n",
        "                best_score = avg_score\n",
        "                best_params = params\n",
        "        else:\n",
        "            print(f\"  이 하이퍼파라미터 조합에 대한 유효한 결과 없음\")\n",
        "\n",
        "    # 결과 정렬 및 출력\n",
        "    sorted_results = sorted(results, key=lambda x: x['score'], reverse=True)\n",
        "\n",
        "    print(\"\\n=== 랜덤 서치 결과 요약 ===\")\n",
        "    for i, result in enumerate(sorted_results[:5]):  # 상위 5개만 표시\n",
        "        p = result['params']\n",
        "        print(f\"{i+1}위: lr={p['learning_rate']:.4f}, batch_size={p['batch_size']}, epochs={p['epochs']} \"\n",
        "              f\"- 점수: {result['score']:.4f} (유효 폴드: {result['valid_folds']}/{n_folds})\")\n",
        "\n",
        "    print(f\"\\n최적 하이퍼파라미터: {best_params}, 점수: {best_score:.4f}\")\n",
        "\n",
        "    return best_params, sorted_results"
      ],
      "metadata": {
        "id": "qvrELbdtHM1Y",
        "collapsed": true
      },
      "execution_count": 8,
      "outputs": []
    },
    {
      "cell_type": "code",
      "source": [
        "construction_corpus = ClassificationCorpus(\"/content/sample_data/construction_train_dev_test\",  # 데이터 디렉토리 경로\n",
        "                                         train_file='construction_train.txt',  # 학습 데이터 파일\n",
        "                                         dev_file='construction_dev.txt',  # 검증 데이터 파일\n",
        "                                         test_file='construction_test.txt', # 테스트 데이터 파일\n",
        "                                         )\n",
        "\n",
        "document_embeddings = TransformerDocumentEmbeddings('klue/bert-base')\n",
        "\n",
        "\n",
        "# 앞서 생성한 document_embeddings를 재사용 (모델 공유)\n",
        "construction_classifier = TextClassifier(document_embeddings,\n",
        "                                       label_dictionary=construction_corpus.make_label_dictionary(label_type= 'class'), label_type='class')  # 공사 유형 레이블 사전 생성\n",
        "\n",
        "\n",
        "\n",
        "#랜덤서치 하이퍼파라미터 최적화 수행\n",
        "best_params, results = random_search_with_cross_validation(\n",
        "    corpus=construction_corpus,\n",
        "    document_embeddings=document_embeddings,\n",
        "    n_trials=2,  # 10번의 랜덤 시도 -> 즉!! \"n-trials * (폴드수) \" -> 만큼의 accuracy 측정이 있겠죠.\n",
        "    n_folds=5     # 5-fold 교차 검증\n",
        ")"
      ],
      "metadata": {
        "colab": {
          "base_uri": "https://localhost:8080/",
          "height": 1000,
          "referenced_widgets": [
            "58780c78ed1645359783ca3880c6052f",
            "cd14f31f9e4449febe9c0a707d390c03",
            "de706b6c755f4d2e802f472417c8c162",
            "9acf929ba6064a0da114dcd9de2ca33c",
            "e8a6f75bf0e74e12b18e9248c27a55ec",
            "544fb4d9dce84e27b26e478ce4a839d8",
            "71b2f74e79ed498384fdc7b8e61b9f2a",
            "29dcdd1532c24aa0bcb3b135af62ac32",
            "80eee2c9a3854ec5965c7560b4fe59b2",
            "6e4045c0659a45af9b077cf7070989b1",
            "2d79bdfc0a114aac9d74a141bed185e8",
            "64b9319641064cc394e1d3b06ec2f651",
            "5f1ffb33fc6041cd81337813e9c5286b",
            "310fdfe69b37443cb030413516b8bdda",
            "b240b16c9ea3470e8fdde33487adcd12",
            "61712958c8c74cae8311face85a5c7be",
            "698795d37655450b8e86174e3a42647e",
            "5e8d5c2c6ee54282b4bd325d6ae50b7b",
            "b2f233ffc195470ab1c3f7aed98efec0",
            "10079118092d4e55955709abe42a9caf",
            "3e62442b7a224e28b85022aae046758f",
            "e0a4402d8dd14f629dec4f6ce5bb65d1",
            "7d1506e1aeb347abac43060f75430067",
            "5185c9775a6f496da0d449b32ae0a914",
            "c3913608dabb49a3bc36293e07d84321",
            "6cac55583b824375aa733856737ec419",
            "eb281d70d80349719ada99bf8dfa48b5",
            "5c370da3a4174b8eb8950686fa22decb",
            "6c2b95bd924d4e47be6dfbaa4b5203f6",
            "2f74626bcf614882982e9c65ebb3ad8a",
            "22e512e739944f089e40f217730c2a56",
            "6c09219714024690a813191ea1259eef",
            "79a70c22b7b2491bb48e4e9bbc27d9a2",
            "bc2b22ed541d44feb44a5987ef8798e2",
            "923c03e859fe4baea7d1269dfd5512b4",
            "546f8f277a834374912f7aae4c32af24",
            "432742976f784243a7623cf58f8b9885",
            "cfbb31154cd649a589f749f80baec476",
            "d1204dfaa12b4cffb47810c73110bad4",
            "931efb0474d648d889364917bf4b98d5",
            "d8991ee7dbb3473abf6ae70febfab463",
            "688c086cf65f454ca6589fb24b77e145",
            "56f9f94d694148e6bca168ebc06449b2",
            "542c55975eb44f74acdc9e5f4f2a2cff",
            "4d62a519bf8c4a9fb02656cc10dcac9f",
            "a2eeff9983fe4d92bd7699f200f58bb0",
            "d84b8c8e5dad400b9ea6893423a8d48a",
            "d2ee6926db93497886717553566f390e",
            "ec8ff8d91f134becad481653a09978cf",
            "f63a4f9a62504321a8dc7f13bdc896c9",
            "7ed886c144754a6282e06146f9621801",
            "3e2637f0e8aa4f10a86eed382fae38a3",
            "2a1ce6b376bc4659a82eb4821318cd3e",
            "28fbf82c712344e8a92b30a042c16e43",
            "61c1b53405af4891a02e4170a2ff12d3",
            "334e4478175e454eb944247711f2ae17",
            "c4233541529d488a815fab4abb510f29",
            "53c0fc7f2e164146849d6487eb391348",
            "6fa92175b86f4e26b4d569b658bfc2fd",
            "064a1125bc93483ab31589429c75be15",
            "aca31ae092084716b262899b8325bde8",
            "d0372c8578054760acd4fd54b6921a94",
            "23a8b816f3204800809560bcce9bdc8a",
            "debea1958d7c434683fdf30616d75b52",
            "b2c712658e474e15b81e4fe5d6648030",
            "9d50d4519aaf49968895f27f05043c36"
          ]
        },
        "id": "zc39GTqbr_Si",
        "outputId": "b27305c1-095c-4c55-9fa7-22cb64161495"
      },
      "execution_count": 9,
      "outputs": [
        {
          "output_type": "stream",
          "name": "stdout",
          "text": [
            "2025-05-15 11:31:23,142 Reading data from /content/sample_data/construction_train_dev_test\n",
            "2025-05-15 11:31:23,144 Train: /content/sample_data/construction_train_dev_test/construction_train.txt\n",
            "2025-05-15 11:31:23,144 Dev: /content/sample_data/construction_train_dev_test/construction_dev.txt\n",
            "2025-05-15 11:31:23,145 Test: /content/sample_data/construction_train_dev_test/construction_test.txt\n",
            "2025-05-15 11:31:23,187 Initialized corpus /content/sample_data/construction_train_dev_test (label type name is 'class')\n"
          ]
        },
        {
          "output_type": "stream",
          "name": "stderr",
          "text": [
            "/usr/local/lib/python3.11/dist-packages/huggingface_hub/utils/_auth.py:94: UserWarning: \n",
            "The secret `HF_TOKEN` does not exist in your Colab secrets.\n",
            "To authenticate with the Hugging Face Hub, create a token in your settings tab (https://huggingface.co/settings/tokens), set it as secret in your Google Colab and restart your session.\n",
            "You will be able to reuse this secret in all of your notebooks.\n",
            "Please note that authentication is recommended but still optional to access public models or datasets.\n",
            "  warnings.warn(\n"
          ]
        },
        {
          "output_type": "display_data",
          "data": {
            "text/plain": [
              "tokenizer_config.json:   0%|          | 0.00/289 [00:00<?, ?B/s]"
            ],
            "application/vnd.jupyter.widget-view+json": {
              "version_major": 2,
              "version_minor": 0,
              "model_id": "58780c78ed1645359783ca3880c6052f"
            }
          },
          "metadata": {}
        },
        {
          "output_type": "display_data",
          "data": {
            "text/plain": [
              "config.json:   0%|          | 0.00/425 [00:00<?, ?B/s]"
            ],
            "application/vnd.jupyter.widget-view+json": {
              "version_major": 2,
              "version_minor": 0,
              "model_id": "64b9319641064cc394e1d3b06ec2f651"
            }
          },
          "metadata": {}
        },
        {
          "output_type": "display_data",
          "data": {
            "text/plain": [
              "vocab.txt:   0%|          | 0.00/248k [00:00<?, ?B/s]"
            ],
            "application/vnd.jupyter.widget-view+json": {
              "version_major": 2,
              "version_minor": 0,
              "model_id": "7d1506e1aeb347abac43060f75430067"
            }
          },
          "metadata": {}
        },
        {
          "output_type": "display_data",
          "data": {
            "text/plain": [
              "tokenizer.json:   0%|          | 0.00/495k [00:00<?, ?B/s]"
            ],
            "application/vnd.jupyter.widget-view+json": {
              "version_major": 2,
              "version_minor": 0,
              "model_id": "bc2b22ed541d44feb44a5987ef8798e2"
            }
          },
          "metadata": {}
        },
        {
          "output_type": "display_data",
          "data": {
            "text/plain": [
              "special_tokens_map.json:   0%|          | 0.00/125 [00:00<?, ?B/s]"
            ],
            "application/vnd.jupyter.widget-view+json": {
              "version_major": 2,
              "version_minor": 0,
              "model_id": "4d62a519bf8c4a9fb02656cc10dcac9f"
            }
          },
          "metadata": {}
        },
        {
          "output_type": "display_data",
          "data": {
            "text/plain": [
              "model.safetensors:   0%|          | 0.00/445M [00:00<?, ?B/s]"
            ],
            "application/vnd.jupyter.widget-view+json": {
              "version_major": 2,
              "version_minor": 0,
              "model_id": "334e4478175e454eb944247711f2ae17"
            }
          },
          "metadata": {}
        },
        {
          "output_type": "stream",
          "name": "stdout",
          "text": [
            "2025-05-15 11:31:44,657 Computing label dictionary. Progress:\n"
          ]
        },
        {
          "output_type": "stream",
          "name": "stderr",
          "text": [
            "0it [00:00, ?it/s]\n",
            "838it [00:00, 5296.60it/s]"
          ]
        },
        {
          "output_type": "stream",
          "name": "stdout",
          "text": [
            "2025-05-15 11:31:44,831 Dictionary created for label 'class' with 6 values: 공통 (seen 246 times), 가설구조물 (seen 191 times), 교량 (seen 143 times), 굴착공사 (seen 109 times), 건축 (seen 76 times), 양중작업 (seen 73 times)\n"
          ]
        },
        {
          "output_type": "stream",
          "name": "stderr",
          "text": [
            "\n"
          ]
        },
        {
          "output_type": "stream",
          "name": "stdout",
          "text": [
            "시도 1/2: lr=0.0083, batch_size=8, epochs=9\n",
            "  폴드 1/5 학습 중...\n",
            "2025-05-15 11:31:45,221 Reading data from /tmp/tmpi3rkj50o\n",
            "2025-05-15 11:31:45,223 Train: /tmp/tmpi3rkj50o/train.txt\n",
            "2025-05-15 11:31:45,227 Dev: /tmp/tmpi3rkj50o/dev.txt\n",
            "2025-05-15 11:31:45,228 Test: None\n",
            "2025-05-15 11:31:45,275 No test split found. Using 10% (i.e. 67 samples) of the train split as test data\n",
            "2025-05-15 11:31:45,276 Initialized corpus /tmp/tmpi3rkj50o (label type name is 'class')\n",
            "2025-05-15 11:31:45,277 Computing label dictionary. Progress:\n"
          ]
        },
        {
          "output_type": "stream",
          "name": "stderr",
          "text": [
            "0it [00:00, ?it/s]\n",
            "603it [00:00, 5190.66it/s]"
          ]
        },
        {
          "output_type": "stream",
          "name": "stdout",
          "text": [
            "2025-05-15 11:31:45,401 Dictionary created for label 'class' with 6 values: 공통 (seen 174 times), 가설구조물 (seen 138 times), 교량 (seen 105 times), 굴착공사 (seen 82 times), 건축 (seen 55 times), 양중작업 (seen 49 times)\n",
            "2025-05-15 11:31:45,407 ----------------------------------------------------------------------------------------------------\n",
            "2025-05-15 11:31:45,408 Model: \"TextClassifier(\n",
            "  (embeddings): TransformerDocumentEmbeddings(\n",
            "    (model): BertModel(\n",
            "      (embeddings): BertEmbeddings(\n",
            "        (word_embeddings): Embedding(32001, 768, padding_idx=0)\n",
            "        (position_embeddings): Embedding(512, 768)\n",
            "        (token_type_embeddings): Embedding(2, 768)\n",
            "        (LayerNorm): LayerNorm((768,), eps=1e-12, elementwise_affine=True)\n",
            "        (dropout): Dropout(p=0.1, inplace=False)\n",
            "      )\n",
            "      (encoder): BertEncoder(\n",
            "        (layer): ModuleList(\n",
            "          (0-11): 12 x BertLayer(\n",
            "            (attention): BertAttention(\n",
            "              (self): BertSdpaSelfAttention(\n",
            "                (query): Linear(in_features=768, out_features=768, bias=True)\n",
            "                (key): Linear(in_features=768, out_features=768, bias=True)\n",
            "                (value): Linear(in_features=768, out_features=768, bias=True)\n",
            "                (dropout): Dropout(p=0.1, inplace=False)\n",
            "              )\n",
            "              (output): BertSelfOutput(\n",
            "                (dense): Linear(in_features=768, out_features=768, bias=True)\n",
            "                (LayerNorm): LayerNorm((768,), eps=1e-12, elementwise_affine=True)\n",
            "                (dropout): Dropout(p=0.1, inplace=False)\n",
            "              )\n",
            "            )\n",
            "            (intermediate): BertIntermediate(\n",
            "              (dense): Linear(in_features=768, out_features=3072, bias=True)\n",
            "              (intermediate_act_fn): GELUActivation()\n",
            "            )\n",
            "            (output): BertOutput(\n",
            "              (dense): Linear(in_features=3072, out_features=768, bias=True)\n",
            "              (LayerNorm): LayerNorm((768,), eps=1e-12, elementwise_affine=True)\n",
            "              (dropout): Dropout(p=0.1, inplace=False)\n",
            "            )\n",
            "          )\n",
            "        )\n",
            "      )\n",
            "      (pooler): BertPooler(\n",
            "        (dense): Linear(in_features=768, out_features=768, bias=True)\n",
            "        (activation): Tanh()\n",
            "      )\n",
            "    )\n",
            "  )\n",
            "  (decoder): Linear(in_features=768, out_features=6, bias=True)\n",
            "  (dropout): Dropout(p=0.0, inplace=False)\n",
            "  (locked_dropout): LockedDropout(p=0.0)\n",
            "  (word_dropout): WordDropout(p=0.0)\n",
            "  (loss_function): CrossEntropyLoss()\n",
            "  (weights): None\n",
            "  (weight_tensor) None\n",
            ")\"\n",
            "2025-05-15 11:31:45,409 ----------------------------------------------------------------------------------------------------\n",
            "2025-05-15 11:31:45,410 Corpus: 603 train + 168 dev + 67 test sentences\n",
            "2025-05-15 11:31:45,411 ----------------------------------------------------------------------------------------------------\n",
            "2025-05-15 11:31:45,412 Train:  603 sentences\n",
            "2025-05-15 11:31:45,413         (train_with_dev=False, train_with_test=False)\n",
            "2025-05-15 11:31:45,414 ----------------------------------------------------------------------------------------------------\n",
            "2025-05-15 11:31:45,415 Training Params:\n",
            "2025-05-15 11:31:45,415  - learning_rate: \"0.00833881207622449\" \n",
            "2025-05-15 11:31:45,416  - mini_batch_size: \"8\"\n",
            "2025-05-15 11:31:45,417  - max_epochs: \"9\"\n",
            "2025-05-15 11:31:45,418  - shuffle: \"True\"\n",
            "2025-05-15 11:31:45,418 ----------------------------------------------------------------------------------------------------\n",
            "2025-05-15 11:31:45,419 Plugins:\n",
            "2025-05-15 11:31:45,420  - AnnealOnPlateau | patience: '3', anneal_factor: '0.5', min_learning_rate: '0.0001'\n",
            "2025-05-15 11:31:45,421 ----------------------------------------------------------------------------------------------------\n",
            "2025-05-15 11:31:45,421 Final evaluation on model from best epoch (best-model.pt)\n",
            "2025-05-15 11:31:45,422  - metric: \"('micro avg', 'f1-score')\"\n",
            "2025-05-15 11:31:45,423 ----------------------------------------------------------------------------------------------------\n",
            "2025-05-15 11:31:45,424 Computation:\n",
            "2025-05-15 11:31:45,424  - compute on device: cuda:0\n",
            "2025-05-15 11:31:45,425  - embedding storage: cpu\n",
            "2025-05-15 11:31:45,426 ----------------------------------------------------------------------------------------------------\n",
            "2025-05-15 11:31:45,426 Model training base path: \"/tmp/tmpi3rkj50o/model\"\n",
            "2025-05-15 11:31:45,427 ----------------------------------------------------------------------------------------------------\n",
            "2025-05-15 11:31:45,428 ----------------------------------------------------------------------------------------------------\n"
          ]
        },
        {
          "output_type": "stream",
          "name": "stderr",
          "text": [
            "\n",
            "/usr/local/lib/python3.11/dist-packages/flair/trainers/trainer.py:545: FutureWarning: `torch.cuda.amp.GradScaler(args...)` is deprecated. Please use `torch.amp.GradScaler('cuda', args...)` instead.\n",
            "  scaler = torch.cuda.amp.GradScaler(enabled=use_amp and flair.device.type != \"cpu\")\n"
          ]
        },
        {
          "output_type": "stream",
          "name": "stdout",
          "text": [
            "2025-05-15 11:31:46,909 epoch 1 - iter 7/76 - loss 2.24598249 - time (sec): 1.47 - samples/sec: 37.98 - lr: 0.008339 - momentum: 0.000000\n",
            "2025-05-15 11:31:47,571 epoch 1 - iter 14/76 - loss 2.07134363 - time (sec): 2.14 - samples/sec: 52.44 - lr: 0.008339 - momentum: 0.000000\n",
            "2025-05-15 11:31:48,110 epoch 1 - iter 21/76 - loss 1.99963963 - time (sec): 2.68 - samples/sec: 62.80 - lr: 0.008339 - momentum: 0.000000\n",
            "2025-05-15 11:31:48,752 epoch 1 - iter 28/76 - loss 1.96360830 - time (sec): 3.32 - samples/sec: 67.54 - lr: 0.008339 - momentum: 0.000000\n",
            "2025-05-15 11:31:49,460 epoch 1 - iter 35/76 - loss 1.94968315 - time (sec): 4.03 - samples/sec: 69.56 - lr: 0.008339 - momentum: 0.000000\n",
            "2025-05-15 11:31:50,099 epoch 1 - iter 42/76 - loss 1.92224654 - time (sec): 4.66 - samples/sec: 72.05 - lr: 0.008339 - momentum: 0.000000\n",
            "2025-05-15 11:31:50,689 epoch 1 - iter 49/76 - loss 1.90776300 - time (sec): 5.25 - samples/sec: 74.60 - lr: 0.008339 - momentum: 0.000000\n",
            "2025-05-15 11:31:51,316 epoch 1 - iter 56/76 - loss 1.88659298 - time (sec): 5.88 - samples/sec: 76.17 - lr: 0.008339 - momentum: 0.000000\n",
            "2025-05-15 11:31:51,950 epoch 1 - iter 63/76 - loss 1.86923702 - time (sec): 6.52 - samples/sec: 77.36 - lr: 0.008339 - momentum: 0.000000\n",
            "2025-05-15 11:31:52,571 epoch 1 - iter 70/76 - loss 1.85000149 - time (sec): 7.14 - samples/sec: 78.48 - lr: 0.008339 - momentum: 0.000000\n",
            "2025-05-15 11:31:53,240 ----------------------------------------------------------------------------------------------------\n",
            "2025-05-15 11:31:53,241 EPOCH 1 done: loss 1.8452 - lr: 0.008339\n"
          ]
        },
        {
          "output_type": "stream",
          "name": "stderr",
          "text": [
            "100%|██████████| 3/3 [00:00<00:00,  3.84it/s]\n"
          ]
        },
        {
          "output_type": "stream",
          "name": "stdout",
          "text": [
            "2025-05-15 11:31:54,046 DEV : loss 1.6779558658599854 - f1-score (micro avg)  0.3095\n",
            "2025-05-15 11:31:54,080  - 0 epochs without improvement\n",
            "2025-05-15 11:31:54,081 saving best model\n",
            "2025-05-15 11:31:55,197 ----------------------------------------------------------------------------------------------------\n",
            "2025-05-15 11:31:55,756 epoch 2 - iter 7/76 - loss 1.59267807 - time (sec): 0.56 - samples/sec: 100.49 - lr: 0.008339 - momentum: 0.000000\n",
            "2025-05-15 11:31:56,359 epoch 2 - iter 14/76 - loss 1.58301370 - time (sec): 1.16 - samples/sec: 96.53 - lr: 0.008339 - momentum: 0.000000\n",
            "2025-05-15 11:31:56,919 epoch 2 - iter 21/76 - loss 1.56910279 - time (sec): 1.72 - samples/sec: 97.67 - lr: 0.008339 - momentum: 0.000000\n",
            "2025-05-15 11:31:57,699 epoch 2 - iter 28/76 - loss 1.57269700 - time (sec): 2.50 - samples/sec: 89.59 - lr: 0.008339 - momentum: 0.000000\n",
            "2025-05-15 11:31:58,350 epoch 2 - iter 35/76 - loss 1.54882442 - time (sec): 3.15 - samples/sec: 88.87 - lr: 0.008339 - momentum: 0.000000\n",
            "2025-05-15 11:31:58,986 epoch 2 - iter 42/76 - loss 1.52796155 - time (sec): 3.79 - samples/sec: 88.72 - lr: 0.008339 - momentum: 0.000000\n",
            "2025-05-15 11:31:59,632 epoch 2 - iter 49/76 - loss 1.50671798 - time (sec): 4.43 - samples/sec: 88.43 - lr: 0.008339 - momentum: 0.000000\n",
            "2025-05-15 11:32:00,264 epoch 2 - iter 56/76 - loss 1.48435839 - time (sec): 5.07 - samples/sec: 88.45 - lr: 0.008339 - momentum: 0.000000\n",
            "2025-05-15 11:32:00,883 epoch 2 - iter 63/76 - loss 1.48823271 - time (sec): 5.68 - samples/sec: 88.67 - lr: 0.008339 - momentum: 0.000000\n",
            "2025-05-15 11:32:01,616 epoch 2 - iter 70/76 - loss 1.48100162 - time (sec): 6.42 - samples/sec: 87.27 - lr: 0.008339 - momentum: 0.000000\n",
            "2025-05-15 11:32:02,169 ----------------------------------------------------------------------------------------------------\n",
            "2025-05-15 11:32:02,170 EPOCH 2 done: loss 1.4653 - lr: 0.008339\n"
          ]
        },
        {
          "output_type": "stream",
          "name": "stderr",
          "text": [
            "100%|██████████| 3/3 [00:00<00:00,  3.96it/s]\n"
          ]
        },
        {
          "output_type": "stream",
          "name": "stdout",
          "text": [
            "2025-05-15 11:32:02,948 DEV : loss 1.2877326011657715 - f1-score (micro avg)  0.5\n",
            "2025-05-15 11:32:02,983  - 0 epochs without improvement\n",
            "2025-05-15 11:32:02,984 saving best model\n",
            "2025-05-15 11:32:04,202 ----------------------------------------------------------------------------------------------------\n",
            "2025-05-15 11:32:04,792 epoch 3 - iter 7/76 - loss 1.14534247 - time (sec): 0.59 - samples/sec: 95.66 - lr: 0.008339 - momentum: 0.000000\n",
            "2025-05-15 11:32:05,356 epoch 3 - iter 14/76 - loss 1.16085575 - time (sec): 1.15 - samples/sec: 97.42 - lr: 0.008339 - momentum: 0.000000\n",
            "2025-05-15 11:32:05,977 epoch 3 - iter 21/76 - loss 1.17774773 - time (sec): 1.77 - samples/sec: 94.88 - lr: 0.008339 - momentum: 0.000000\n",
            "2025-05-15 11:32:06,581 epoch 3 - iter 28/76 - loss 1.19750998 - time (sec): 2.37 - samples/sec: 94.34 - lr: 0.008339 - momentum: 0.000000\n",
            "2025-05-15 11:32:07,316 epoch 3 - iter 35/76 - loss 1.16419533 - time (sec): 3.11 - samples/sec: 90.03 - lr: 0.008339 - momentum: 0.000000\n",
            "2025-05-15 11:32:08,094 epoch 3 - iter 42/76 - loss 1.14542538 - time (sec): 3.89 - samples/sec: 86.43 - lr: 0.008339 - momentum: 0.000000\n",
            "2025-05-15 11:32:08,724 epoch 3 - iter 49/76 - loss 1.14584851 - time (sec): 4.52 - samples/sec: 86.78 - lr: 0.008339 - momentum: 0.000000\n",
            "2025-05-15 11:32:09,408 epoch 3 - iter 56/76 - loss 1.14409856 - time (sec): 5.20 - samples/sec: 86.12 - lr: 0.008339 - momentum: 0.000000\n",
            "2025-05-15 11:32:10,063 epoch 3 - iter 63/76 - loss 1.11550479 - time (sec): 5.86 - samples/sec: 86.06 - lr: 0.008339 - momentum: 0.000000\n",
            "2025-05-15 11:32:10,659 epoch 3 - iter 70/76 - loss 1.13396345 - time (sec): 6.45 - samples/sec: 86.78 - lr: 0.008339 - momentum: 0.000000\n",
            "2025-05-15 11:32:11,250 ----------------------------------------------------------------------------------------------------\n",
            "2025-05-15 11:32:11,251 EPOCH 3 done: loss 1.1387 - lr: 0.008339\n"
          ]
        },
        {
          "output_type": "stream",
          "name": "stderr",
          "text": [
            "100%|██████████| 3/3 [00:00<00:00,  3.82it/s]\n"
          ]
        },
        {
          "output_type": "stream",
          "name": "stdout",
          "text": [
            "2025-05-15 11:32:12,058 DEV : loss 1.0891491174697876 - f1-score (micro avg)  0.5893\n",
            "2025-05-15 11:32:12,095  - 0 epochs without improvement\n",
            "2025-05-15 11:32:12,096 saving best model\n",
            "2025-05-15 11:32:13,265 ----------------------------------------------------------------------------------------------------\n",
            "2025-05-15 11:32:13,826 epoch 4 - iter 7/76 - loss 0.88152923 - time (sec): 0.56 - samples/sec: 100.25 - lr: 0.008339 - momentum: 0.000000\n",
            "2025-05-15 11:32:14,538 epoch 4 - iter 14/76 - loss 0.93474705 - time (sec): 1.27 - samples/sec: 88.14 - lr: 0.008339 - momentum: 0.000000\n",
            "2025-05-15 11:32:15,162 epoch 4 - iter 21/76 - loss 0.92465792 - time (sec): 1.89 - samples/sec: 88.68 - lr: 0.008339 - momentum: 0.000000\n",
            "2025-05-15 11:32:15,831 epoch 4 - iter 28/76 - loss 0.86202119 - time (sec): 2.56 - samples/sec: 87.37 - lr: 0.008339 - momentum: 0.000000\n",
            "2025-05-15 11:32:16,474 epoch 4 - iter 35/76 - loss 0.86899863 - time (sec): 3.21 - samples/sec: 87.32 - lr: 0.008339 - momentum: 0.000000\n",
            "2025-05-15 11:32:17,157 epoch 4 - iter 42/76 - loss 0.88467017 - time (sec): 3.89 - samples/sec: 86.40 - lr: 0.008339 - momentum: 0.000000\n",
            "2025-05-15 11:32:17,964 epoch 4 - iter 49/76 - loss 0.87051394 - time (sec): 4.70 - samples/sec: 83.47 - lr: 0.008339 - momentum: 0.000000\n",
            "2025-05-15 11:32:18,601 epoch 4 - iter 56/76 - loss 0.88027047 - time (sec): 5.33 - samples/sec: 84.00 - lr: 0.008339 - momentum: 0.000000\n",
            "2025-05-15 11:32:19,313 epoch 4 - iter 63/76 - loss 0.90855028 - time (sec): 6.05 - samples/sec: 83.36 - lr: 0.008339 - momentum: 0.000000\n",
            "2025-05-15 11:32:19,874 epoch 4 - iter 70/76 - loss 0.91172278 - time (sec): 6.61 - samples/sec: 84.77 - lr: 0.008339 - momentum: 0.000000\n",
            "2025-05-15 11:32:20,466 ----------------------------------------------------------------------------------------------------\n",
            "2025-05-15 11:32:20,467 EPOCH 4 done: loss 0.9194 - lr: 0.008339\n"
          ]
        },
        {
          "output_type": "stream",
          "name": "stderr",
          "text": [
            "100%|██████████| 3/3 [00:00<00:00,  3.80it/s]\n"
          ]
        },
        {
          "output_type": "stream",
          "name": "stdout",
          "text": [
            "2025-05-15 11:32:21,284 DEV : loss 1.1158713102340698 - f1-score (micro avg)  0.631\n",
            "2025-05-15 11:32:21,319  - 0 epochs without improvement\n",
            "2025-05-15 11:32:21,320 saving best model\n",
            "2025-05-15 11:32:22,574 ----------------------------------------------------------------------------------------------------\n",
            "2025-05-15 11:32:23,159 epoch 5 - iter 7/76 - loss 0.82153653 - time (sec): 0.58 - samples/sec: 96.25 - lr: 0.008339 - momentum: 0.000000\n",
            "2025-05-15 11:32:23,858 epoch 5 - iter 14/76 - loss 0.73881106 - time (sec): 1.28 - samples/sec: 87.42 - lr: 0.008339 - momentum: 0.000000\n",
            "2025-05-15 11:32:24,482 epoch 5 - iter 21/76 - loss 0.73968668 - time (sec): 1.91 - samples/sec: 88.16 - lr: 0.008339 - momentum: 0.000000\n",
            "2025-05-15 11:32:25,322 epoch 5 - iter 28/76 - loss 0.73653299 - time (sec): 2.74 - samples/sec: 81.61 - lr: 0.008339 - momentum: 0.000000\n",
            "2025-05-15 11:32:26,007 epoch 5 - iter 35/76 - loss 0.74417054 - time (sec): 3.43 - samples/sec: 81.63 - lr: 0.008339 - momentum: 0.000000\n",
            "2025-05-15 11:32:26,594 epoch 5 - iter 42/76 - loss 0.74308954 - time (sec): 4.02 - samples/sec: 83.64 - lr: 0.008339 - momentum: 0.000000\n",
            "2025-05-15 11:32:27,299 epoch 5 - iter 49/76 - loss 0.70376418 - time (sec): 4.72 - samples/sec: 83.02 - lr: 0.008339 - momentum: 0.000000\n",
            "2025-05-15 11:32:27,960 epoch 5 - iter 56/76 - loss 0.68264281 - time (sec): 5.38 - samples/sec: 83.23 - lr: 0.008339 - momentum: 0.000000\n",
            "2025-05-15 11:32:28,622 epoch 5 - iter 63/76 - loss 0.67939864 - time (sec): 6.05 - samples/sec: 83.37 - lr: 0.008339 - momentum: 0.000000\n",
            "2025-05-15 11:32:29,199 epoch 5 - iter 70/76 - loss 0.68212934 - time (sec): 6.62 - samples/sec: 84.56 - lr: 0.008339 - momentum: 0.000000\n",
            "2025-05-15 11:32:29,762 ----------------------------------------------------------------------------------------------------\n",
            "2025-05-15 11:32:29,763 EPOCH 5 done: loss 0.6961 - lr: 0.008339\n"
          ]
        },
        {
          "output_type": "stream",
          "name": "stderr",
          "text": [
            "100%|██████████| 3/3 [00:00<00:00,  3.59it/s]"
          ]
        },
        {
          "output_type": "stream",
          "name": "stdout",
          "text": [
            "2025-05-15 11:32:30,626 DEV : loss 1.0375055074691772 - f1-score (micro avg)  0.6726\n",
            "2025-05-15 11:32:30,680  - 0 epochs without improvement\n",
            "2025-05-15 11:32:30,681 saving best model\n"
          ]
        },
        {
          "output_type": "stream",
          "name": "stderr",
          "text": [
            "\n"
          ]
        },
        {
          "output_type": "stream",
          "name": "stdout",
          "text": [
            "2025-05-15 11:32:32,022 ----------------------------------------------------------------------------------------------------\n",
            "2025-05-15 11:32:32,661 epoch 6 - iter 7/76 - loss 0.59932222 - time (sec): 0.64 - samples/sec: 88.15 - lr: 0.008339 - momentum: 0.000000\n",
            "2025-05-15 11:32:33,306 epoch 6 - iter 14/76 - loss 0.54105421 - time (sec): 1.28 - samples/sec: 87.49 - lr: 0.008339 - momentum: 0.000000\n",
            "2025-05-15 11:32:33,997 epoch 6 - iter 21/76 - loss 0.53645844 - time (sec): 1.97 - samples/sec: 85.25 - lr: 0.008339 - momentum: 0.000000\n",
            "2025-05-15 11:32:34,669 epoch 6 - iter 28/76 - loss 0.50628907 - time (sec): 2.64 - samples/sec: 84.76 - lr: 0.008339 - momentum: 0.000000\n",
            "2025-05-15 11:32:35,292 epoch 6 - iter 35/76 - loss 0.55679462 - time (sec): 3.27 - samples/sec: 85.73 - lr: 0.008339 - momentum: 0.000000\n",
            "2025-05-15 11:32:35,989 epoch 6 - iter 42/76 - loss 0.56068736 - time (sec): 3.96 - samples/sec: 84.77 - lr: 0.008339 - momentum: 0.000000\n",
            "2025-05-15 11:32:36,641 epoch 6 - iter 49/76 - loss 0.54655610 - time (sec): 4.61 - samples/sec: 84.94 - lr: 0.008339 - momentum: 0.000000\n",
            "2025-05-15 11:32:37,284 epoch 6 - iter 56/76 - loss 0.54906078 - time (sec): 5.26 - samples/sec: 85.20 - lr: 0.008339 - momentum: 0.000000\n",
            "2025-05-15 11:32:38,080 epoch 6 - iter 63/76 - loss 0.56328524 - time (sec): 6.05 - samples/sec: 83.26 - lr: 0.008339 - momentum: 0.000000\n",
            "2025-05-15 11:32:38,806 epoch 6 - iter 70/76 - loss 0.55805480 - time (sec): 6.78 - samples/sec: 82.59 - lr: 0.008339 - momentum: 0.000000\n",
            "2025-05-15 11:32:39,395 ----------------------------------------------------------------------------------------------------\n",
            "2025-05-15 11:32:39,396 EPOCH 6 done: loss 0.5705 - lr: 0.008339\n"
          ]
        },
        {
          "output_type": "stream",
          "name": "stderr",
          "text": [
            "100%|██████████| 3/3 [00:00<00:00,  3.70it/s]"
          ]
        },
        {
          "output_type": "stream",
          "name": "stdout",
          "text": [
            "2025-05-15 11:32:40,228 DEV : loss 1.1291438341140747 - f1-score (micro avg)  0.5952\n",
            "2025-05-15 11:32:40,267  - 1 epochs without improvement\n",
            "2025-05-15 11:32:40,268 ----------------------------------------------------------------------------------------------------\n"
          ]
        },
        {
          "output_type": "stream",
          "name": "stderr",
          "text": [
            "\n"
          ]
        },
        {
          "output_type": "stream",
          "name": "stdout",
          "text": [
            "2025-05-15 11:32:40,998 epoch 7 - iter 7/76 - loss 0.55604052 - time (sec): 0.73 - samples/sec: 77.15 - lr: 0.008339 - momentum: 0.000000\n",
            "2025-05-15 11:32:41,649 epoch 7 - iter 14/76 - loss 0.41544770 - time (sec): 1.38 - samples/sec: 81.32 - lr: 0.008339 - momentum: 0.000000\n",
            "2025-05-15 11:32:42,271 epoch 7 - iter 21/76 - loss 0.37864562 - time (sec): 2.00 - samples/sec: 84.04 - lr: 0.008339 - momentum: 0.000000\n",
            "2025-05-15 11:32:43,024 epoch 7 - iter 28/76 - loss 0.38643735 - time (sec): 2.75 - samples/sec: 81.39 - lr: 0.008339 - momentum: 0.000000\n",
            "2025-05-15 11:32:43,693 epoch 7 - iter 35/76 - loss 0.38963546 - time (sec): 3.42 - samples/sec: 81.85 - lr: 0.008339 - momentum: 0.000000\n",
            "2025-05-15 11:32:44,412 epoch 7 - iter 42/76 - loss 0.42688610 - time (sec): 4.14 - samples/sec: 81.15 - lr: 0.008339 - momentum: 0.000000\n",
            "2025-05-15 11:32:45,098 epoch 7 - iter 49/76 - loss 0.42536049 - time (sec): 4.83 - samples/sec: 81.22 - lr: 0.008339 - momentum: 0.000000\n",
            "2025-05-15 11:32:45,832 epoch 7 - iter 56/76 - loss 0.43665621 - time (sec): 5.56 - samples/sec: 80.57 - lr: 0.008339 - momentum: 0.000000\n",
            "2025-05-15 11:32:46,514 epoch 7 - iter 63/76 - loss 0.43132666 - time (sec): 6.24 - samples/sec: 80.74 - lr: 0.008339 - momentum: 0.000000\n",
            "2025-05-15 11:32:47,097 epoch 7 - iter 70/76 - loss 0.42771878 - time (sec): 6.83 - samples/sec: 82.05 - lr: 0.008339 - momentum: 0.000000\n",
            "2025-05-15 11:32:47,636 ----------------------------------------------------------------------------------------------------\n",
            "2025-05-15 11:32:47,637 EPOCH 7 done: loss 0.4240 - lr: 0.008339\n"
          ]
        },
        {
          "output_type": "stream",
          "name": "stderr",
          "text": [
            "100%|██████████| 3/3 [00:00<00:00,  3.71it/s]\n"
          ]
        },
        {
          "output_type": "stream",
          "name": "stdout",
          "text": [
            "2025-05-15 11:32:48,468 DEV : loss 1.0163098573684692 - f1-score (micro avg)  0.7321\n",
            "2025-05-15 11:32:48,503  - 0 epochs without improvement\n",
            "2025-05-15 11:32:48,504 saving best model\n",
            "2025-05-15 11:32:51,464 ----------------------------------------------------------------------------------------------------\n",
            "2025-05-15 11:32:52,216 epoch 8 - iter 7/76 - loss 0.37083372 - time (sec): 0.75 - samples/sec: 74.80 - lr: 0.008339 - momentum: 0.000000\n",
            "2025-05-15 11:32:52,852 epoch 8 - iter 14/76 - loss 0.28286649 - time (sec): 1.38 - samples/sec: 80.89 - lr: 0.008339 - momentum: 0.000000\n",
            "2025-05-15 11:32:53,576 epoch 8 - iter 21/76 - loss 0.29817173 - time (sec): 2.11 - samples/sec: 79.68 - lr: 0.008339 - momentum: 0.000000\n",
            "2025-05-15 11:32:54,299 epoch 8 - iter 28/76 - loss 0.26443069 - time (sec): 2.83 - samples/sec: 79.12 - lr: 0.008339 - momentum: 0.000000\n",
            "2025-05-15 11:32:55,022 epoch 8 - iter 35/76 - loss 0.28885875 - time (sec): 3.55 - samples/sec: 78.77 - lr: 0.008339 - momentum: 0.000000\n",
            "2025-05-15 11:32:55,707 epoch 8 - iter 42/76 - loss 0.28421444 - time (sec): 4.24 - samples/sec: 79.26 - lr: 0.008339 - momentum: 0.000000\n",
            "2025-05-15 11:32:56,404 epoch 8 - iter 49/76 - loss 0.31842113 - time (sec): 4.94 - samples/sec: 79.41 - lr: 0.008339 - momentum: 0.000000\n",
            "2025-05-15 11:32:57,197 epoch 8 - iter 56/76 - loss 0.32901785 - time (sec): 5.73 - samples/sec: 78.20 - lr: 0.008339 - momentum: 0.000000\n",
            "2025-05-15 11:32:57,838 epoch 8 - iter 63/76 - loss 0.33428506 - time (sec): 6.37 - samples/sec: 79.12 - lr: 0.008339 - momentum: 0.000000\n",
            "2025-05-15 11:32:58,513 epoch 8 - iter 70/76 - loss 0.32976990 - time (sec): 7.05 - samples/sec: 79.49 - lr: 0.008339 - momentum: 0.000000\n",
            "2025-05-15 11:32:59,122 ----------------------------------------------------------------------------------------------------\n",
            "2025-05-15 11:32:59,125 EPOCH 8 done: loss 0.3174 - lr: 0.008339\n"
          ]
        },
        {
          "output_type": "stream",
          "name": "stderr",
          "text": [
            "100%|██████████| 3/3 [00:00<00:00,  3.55it/s]"
          ]
        },
        {
          "output_type": "stream",
          "name": "stdout",
          "text": [
            "2025-05-15 11:32:59,995 DEV : loss 1.1551108360290527 - f1-score (micro avg)  0.6667\n",
            "2025-05-15 11:33:00,030  - 1 epochs without improvement\n",
            "2025-05-15 11:33:00,031 ----------------------------------------------------------------------------------------------------\n"
          ]
        },
        {
          "output_type": "stream",
          "name": "stderr",
          "text": [
            "\n"
          ]
        },
        {
          "output_type": "stream",
          "name": "stdout",
          "text": [
            "2025-05-15 11:33:00,626 epoch 9 - iter 7/76 - loss 0.28959566 - time (sec): 0.59 - samples/sec: 94.77 - lr: 0.008339 - momentum: 0.000000\n",
            "2025-05-15 11:33:01,378 epoch 9 - iter 14/76 - loss 0.23208734 - time (sec): 1.34 - samples/sec: 83.40 - lr: 0.008339 - momentum: 0.000000\n",
            "2025-05-15 11:33:02,015 epoch 9 - iter 21/76 - loss 0.29615702 - time (sec): 1.98 - samples/sec: 84.83 - lr: 0.008339 - momentum: 0.000000\n",
            "2025-05-15 11:33:02,676 epoch 9 - iter 28/76 - loss 0.30271066 - time (sec): 2.64 - samples/sec: 84.80 - lr: 0.008339 - momentum: 0.000000\n",
            "2025-05-15 11:33:03,468 epoch 9 - iter 35/76 - loss 0.28012554 - time (sec): 3.43 - samples/sec: 81.55 - lr: 0.008339 - momentum: 0.000000\n",
            "2025-05-15 11:33:04,190 epoch 9 - iter 42/76 - loss 0.27115989 - time (sec): 4.16 - samples/sec: 80.87 - lr: 0.008339 - momentum: 0.000000\n",
            "2025-05-15 11:33:04,934 epoch 9 - iter 49/76 - loss 0.25836660 - time (sec): 4.90 - samples/sec: 80.01 - lr: 0.008339 - momentum: 0.000000\n",
            "2025-05-15 11:33:05,671 epoch 9 - iter 56/76 - loss 0.26157837 - time (sec): 5.64 - samples/sec: 79.48 - lr: 0.008339 - momentum: 0.000000\n",
            "2025-05-15 11:33:06,308 epoch 9 - iter 63/76 - loss 0.27041286 - time (sec): 6.27 - samples/sec: 80.35 - lr: 0.008339 - momentum: 0.000000\n",
            "2025-05-15 11:33:06,992 epoch 9 - iter 70/76 - loss 0.27225796 - time (sec): 6.96 - samples/sec: 80.49 - lr: 0.008339 - momentum: 0.000000\n",
            "2025-05-15 11:33:07,516 ----------------------------------------------------------------------------------------------------\n",
            "2025-05-15 11:33:07,517 EPOCH 9 done: loss 0.2718 - lr: 0.008339\n"
          ]
        },
        {
          "output_type": "stream",
          "name": "stderr",
          "text": [
            "100%|██████████| 3/3 [00:00<00:00,  3.55it/s]"
          ]
        },
        {
          "output_type": "stream",
          "name": "stdout",
          "text": [
            "2025-05-15 11:33:08,382 DEV : loss 1.0401538610458374 - f1-score (micro avg)  0.7143\n",
            "2025-05-15 11:33:08,415  - 2 epochs without improvement\n"
          ]
        },
        {
          "output_type": "stream",
          "name": "stderr",
          "text": [
            "\n"
          ]
        },
        {
          "output_type": "stream",
          "name": "stdout",
          "text": [
            "2025-05-15 11:33:09,606 ----------------------------------------------------------------------------------------------------\n",
            "2025-05-15 11:33:09,609 Loading model from best epoch ...\n"
          ]
        },
        {
          "output_type": "stream",
          "name": "stderr",
          "text": [
            "100%|██████████| 2/2 [00:00<00:00,  4.56it/s]"
          ]
        },
        {
          "output_type": "stream",
          "name": "stdout",
          "text": [
            "2025-05-15 11:33:13,667 \n",
            "Results:\n",
            "- F-score (micro) 0.6418\n",
            "- F-score (macro) 0.5716\n",
            "- Accuracy 0.6418\n",
            "\n",
            "By class:\n",
            "              precision    recall  f1-score   support\n",
            "\n",
            "          공통     0.5429    0.8636    0.6667        22\n",
            "       가설구조물     1.0000    0.7333    0.8462        15\n",
            "          교량     1.0000    0.5000    0.6667        10\n",
            "        양중작업     0.4000    0.2222    0.2857         9\n",
            "        굴착공사     0.6250    0.8333    0.7143         6\n",
            "          건축     0.3333    0.2000    0.2500         5\n",
            "\n",
            "    accuracy                         0.6418        67\n",
            "   macro avg     0.6502    0.5588    0.5716        67\n",
            "weighted avg     0.6860    0.6418    0.6288        67\n",
            "\n",
            "2025-05-15 11:33:13,668 ----------------------------------------------------------------------------------------------------\n"
          ]
        },
        {
          "output_type": "stream",
          "name": "stderr",
          "text": [
            "\n"
          ]
        },
        {
          "output_type": "stream",
          "name": "stdout",
          "text": [
            "  훈련 결과: {'test_score': 0.6417910447761194}\n",
            "  현재 폴드 정확도: 0.7321\n",
            "  폴드 2/5 학습 중...\n",
            "2025-05-15 11:33:18,359 Reading data from /tmp/tmp298rhkoo\n",
            "2025-05-15 11:33:18,360 Train: /tmp/tmp298rhkoo/train.txt\n",
            "2025-05-15 11:33:18,363 Dev: /tmp/tmp298rhkoo/dev.txt\n",
            "2025-05-15 11:33:18,366 Test: None\n",
            "2025-05-15 11:33:18,403 No test split found. Using 10% (i.e. 67 samples) of the train split as test data\n",
            "2025-05-15 11:33:18,404 Initialized corpus /tmp/tmp298rhkoo (label type name is 'class')\n",
            "2025-05-15 11:33:18,404 Computing label dictionary. Progress:\n"
          ]
        },
        {
          "output_type": "stream",
          "name": "stderr",
          "text": [
            "0it [00:00, ?it/s]\n",
            "603it [00:00, 5188.36it/s]"
          ]
        },
        {
          "output_type": "stream",
          "name": "stdout",
          "text": [
            "2025-05-15 11:33:18,527 Dictionary created for label 'class' with 6 values: 공통 (seen 174 times), 가설구조물 (seen 136 times), 교량 (seen 104 times), 굴착공사 (seen 81 times), 건축 (seen 58 times), 양중작업 (seen 50 times)\n",
            "2025-05-15 11:33:18,533 ----------------------------------------------------------------------------------------------------\n",
            "2025-05-15 11:33:18,536 Model: \"TextClassifier(\n",
            "  (embeddings): TransformerDocumentEmbeddings(\n",
            "    (model): BertModel(\n",
            "      (embeddings): BertEmbeddings(\n",
            "        (word_embeddings): Embedding(32001, 768, padding_idx=0)\n",
            "        (position_embeddings): Embedding(512, 768)\n",
            "        (token_type_embeddings): Embedding(2, 768)\n",
            "        (LayerNorm): LayerNorm((768,), eps=1e-12, elementwise_affine=True)\n",
            "        (dropout): Dropout(p=0.1, inplace=False)\n",
            "      )\n",
            "      (encoder): BertEncoder(\n",
            "        (layer): ModuleList(\n",
            "          (0-11): 12 x BertLayer(\n",
            "            (attention): BertAttention(\n",
            "              (self): BertSdpaSelfAttention(\n",
            "                (query): Linear(in_features=768, out_features=768, bias=True)\n",
            "                (key): Linear(in_features=768, out_features=768, bias=True)\n",
            "                (value): Linear(in_features=768, out_features=768, bias=True)\n",
            "                (dropout): Dropout(p=0.1, inplace=False)\n",
            "              )\n",
            "              (output): BertSelfOutput(\n",
            "                (dense): Linear(in_features=768, out_features=768, bias=True)\n",
            "                (LayerNorm): LayerNorm((768,), eps=1e-12, elementwise_affine=True)\n",
            "                (dropout): Dropout(p=0.1, inplace=False)\n",
            "              )\n",
            "            )\n",
            "            (intermediate): BertIntermediate(\n",
            "              (dense): Linear(in_features=768, out_features=3072, bias=True)\n",
            "              (intermediate_act_fn): GELUActivation()\n",
            "            )\n",
            "            (output): BertOutput(\n",
            "              (dense): Linear(in_features=3072, out_features=768, bias=True)\n",
            "              (LayerNorm): LayerNorm((768,), eps=1e-12, elementwise_affine=True)\n",
            "              (dropout): Dropout(p=0.1, inplace=False)\n",
            "            )\n",
            "          )\n",
            "        )\n",
            "      )\n",
            "      (pooler): BertPooler(\n",
            "        (dense): Linear(in_features=768, out_features=768, bias=True)\n",
            "        (activation): Tanh()\n",
            "      )\n",
            "    )\n",
            "  )\n",
            "  (decoder): Linear(in_features=768, out_features=6, bias=True)\n",
            "  (dropout): Dropout(p=0.0, inplace=False)\n",
            "  (locked_dropout): LockedDropout(p=0.0)\n",
            "  (word_dropout): WordDropout(p=0.0)\n",
            "  (loss_function): CrossEntropyLoss()\n",
            "  (weights): None\n",
            "  (weight_tensor) None\n",
            ")\"\n",
            "2025-05-15 11:33:18,537 ----------------------------------------------------------------------------------------------------\n",
            "2025-05-15 11:33:18,539 Corpus: 603 train + 168 dev + 67 test sentences\n",
            "2025-05-15 11:33:18,540 ----------------------------------------------------------------------------------------------------\n",
            "2025-05-15 11:33:18,540 Train:  603 sentences\n",
            "2025-05-15 11:33:18,541         (train_with_dev=False, train_with_test=False)\n",
            "2025-05-15 11:33:18,542 ----------------------------------------------------------------------------------------------------\n",
            "2025-05-15 11:33:18,543 Training Params:\n",
            "2025-05-15 11:33:18,544  - learning_rate: \"0.00833881207622449\" \n",
            "2025-05-15 11:33:18,545  - mini_batch_size: \"8\"\n",
            "2025-05-15 11:33:18,545  - max_epochs: \"9\"\n",
            "2025-05-15 11:33:18,546  - shuffle: \"True\"\n",
            "2025-05-15 11:33:18,547 ----------------------------------------------------------------------------------------------------\n",
            "2025-05-15 11:33:18,548 Plugins:\n",
            "2025-05-15 11:33:18,549  - AnnealOnPlateau | patience: '3', anneal_factor: '0.5', min_learning_rate: '0.0001'\n",
            "2025-05-15 11:33:18,549 ----------------------------------------------------------------------------------------------------\n",
            "2025-05-15 11:33:18,550 Final evaluation on model from best epoch (best-model.pt)\n",
            "2025-05-15 11:33:18,551  - metric: \"('micro avg', 'f1-score')\"\n",
            "2025-05-15 11:33:18,552 ----------------------------------------------------------------------------------------------------\n",
            "2025-05-15 11:33:18,553 Computation:\n",
            "2025-05-15 11:33:18,553  - compute on device: cuda:0\n",
            "2025-05-15 11:33:18,554  - embedding storage: cpu\n",
            "2025-05-15 11:33:18,555 ----------------------------------------------------------------------------------------------------\n",
            "2025-05-15 11:33:18,555 Model training base path: \"/tmp/tmp298rhkoo/model\"\n",
            "2025-05-15 11:33:18,556 ----------------------------------------------------------------------------------------------------\n",
            "2025-05-15 11:33:18,556 ----------------------------------------------------------------------------------------------------\n"
          ]
        },
        {
          "output_type": "stream",
          "name": "stderr",
          "text": [
            "\n",
            "/usr/local/lib/python3.11/dist-packages/flair/trainers/trainer.py:545: FutureWarning: `torch.cuda.amp.GradScaler(args...)` is deprecated. Please use `torch.amp.GradScaler('cuda', args...)` instead.\n",
            "  scaler = torch.cuda.amp.GradScaler(enabled=use_amp and flair.device.type != \"cpu\")\n"
          ]
        },
        {
          "output_type": "stream",
          "name": "stdout",
          "text": [
            "2025-05-15 11:33:19,299 epoch 1 - iter 7/76 - loss 1.99191039 - time (sec): 0.74 - samples/sec: 75.60 - lr: 0.008339 - momentum: 0.000000\n",
            "2025-05-15 11:33:20,033 epoch 1 - iter 14/76 - loss 1.94306644 - time (sec): 1.47 - samples/sec: 75.97 - lr: 0.008339 - momentum: 0.000000\n",
            "2025-05-15 11:33:20,780 epoch 1 - iter 21/76 - loss 1.83026192 - time (sec): 2.22 - samples/sec: 75.61 - lr: 0.008339 - momentum: 0.000000\n",
            "2025-05-15 11:33:21,510 epoch 1 - iter 28/76 - loss 1.80329108 - time (sec): 2.95 - samples/sec: 75.90 - lr: 0.008339 - momentum: 0.000000\n",
            "2025-05-15 11:33:22,222 epoch 1 - iter 35/76 - loss 1.68019090 - time (sec): 3.66 - samples/sec: 76.43 - lr: 0.008339 - momentum: 0.000000\n",
            "2025-05-15 11:33:22,994 epoch 1 - iter 42/76 - loss 1.61408808 - time (sec): 4.44 - samples/sec: 75.74 - lr: 0.008339 - momentum: 0.000000\n",
            "2025-05-15 11:33:23,748 epoch 1 - iter 49/76 - loss 1.55537354 - time (sec): 5.19 - samples/sec: 75.53 - lr: 0.008339 - momentum: 0.000000\n",
            "2025-05-15 11:33:24,401 epoch 1 - iter 56/76 - loss 1.50012718 - time (sec): 5.84 - samples/sec: 76.68 - lr: 0.008339 - momentum: 0.000000\n",
            "2025-05-15 11:33:25,103 epoch 1 - iter 63/76 - loss 1.49705087 - time (sec): 6.54 - samples/sec: 77.01 - lr: 0.008339 - momentum: 0.000000\n",
            "2025-05-15 11:33:25,779 epoch 1 - iter 70/76 - loss 1.46146644 - time (sec): 7.22 - samples/sec: 77.56 - lr: 0.008339 - momentum: 0.000000\n",
            "2025-05-15 11:33:26,393 ----------------------------------------------------------------------------------------------------\n",
            "2025-05-15 11:33:26,393 EPOCH 1 done: loss 1.4616 - lr: 0.008339\n"
          ]
        },
        {
          "output_type": "stream",
          "name": "stderr",
          "text": [
            "100%|██████████| 3/3 [00:00<00:00,  3.22it/s]"
          ]
        },
        {
          "output_type": "stream",
          "name": "stdout",
          "text": [
            "2025-05-15 11:33:27,351 DEV : loss 0.9554641246795654 - f1-score (micro avg)  0.6726\n",
            "2025-05-15 11:33:27,385  - 0 epochs without improvement\n",
            "2025-05-15 11:33:27,386 saving best model\n"
          ]
        },
        {
          "output_type": "stream",
          "name": "stderr",
          "text": [
            "\n"
          ]
        },
        {
          "output_type": "stream",
          "name": "stdout",
          "text": [
            "2025-05-15 11:33:28,449 ----------------------------------------------------------------------------------------------------\n",
            "2025-05-15 11:33:29,014 epoch 2 - iter 7/76 - loss 1.09520677 - time (sec): 0.56 - samples/sec: 99.62 - lr: 0.008339 - momentum: 0.000000\n",
            "2025-05-15 11:33:29,777 epoch 2 - iter 14/76 - loss 0.94125741 - time (sec): 1.33 - samples/sec: 84.50 - lr: 0.008339 - momentum: 0.000000\n",
            "2025-05-15 11:33:30,538 epoch 2 - iter 21/76 - loss 0.90666972 - time (sec): 2.09 - samples/sec: 80.50 - lr: 0.008339 - momentum: 0.000000\n",
            "2025-05-15 11:33:31,276 epoch 2 - iter 28/76 - loss 0.92071848 - time (sec): 2.82 - samples/sec: 79.31 - lr: 0.008339 - momentum: 0.000000\n",
            "2025-05-15 11:33:32,013 epoch 2 - iter 35/76 - loss 0.90350052 - time (sec): 3.56 - samples/sec: 78.61 - lr: 0.008339 - momentum: 0.000000\n",
            "2025-05-15 11:33:32,777 epoch 2 - iter 42/76 - loss 0.88711435 - time (sec): 4.33 - samples/sec: 77.67 - lr: 0.008339 - momentum: 0.000000\n",
            "2025-05-15 11:33:33,551 epoch 2 - iter 49/76 - loss 0.87390531 - time (sec): 5.10 - samples/sec: 76.87 - lr: 0.008339 - momentum: 0.000000\n",
            "2025-05-15 11:33:34,211 epoch 2 - iter 56/76 - loss 0.85244604 - time (sec): 5.76 - samples/sec: 77.79 - lr: 0.008339 - momentum: 0.000000\n",
            "2025-05-15 11:33:34,851 epoch 2 - iter 63/76 - loss 0.87263357 - time (sec): 6.40 - samples/sec: 78.75 - lr: 0.008339 - momentum: 0.000000\n",
            "2025-05-15 11:33:35,602 epoch 2 - iter 70/76 - loss 0.86656931 - time (sec): 7.15 - samples/sec: 78.32 - lr: 0.008339 - momentum: 0.000000\n",
            "2025-05-15 11:33:36,194 ----------------------------------------------------------------------------------------------------\n",
            "2025-05-15 11:33:36,197 EPOCH 2 done: loss 0.8454 - lr: 0.008339\n"
          ]
        },
        {
          "output_type": "stream",
          "name": "stderr",
          "text": [
            "100%|██████████| 3/3 [00:00<00:00,  3.05it/s]"
          ]
        },
        {
          "output_type": "stream",
          "name": "stdout",
          "text": [
            "2025-05-15 11:33:37,209 DEV : loss 0.8705568313598633 - f1-score (micro avg)  0.6964\n",
            "2025-05-15 11:33:37,261  - 0 epochs without improvement\n",
            "2025-05-15 11:33:37,265 saving best model\n"
          ]
        },
        {
          "output_type": "stream",
          "name": "stderr",
          "text": [
            "\n"
          ]
        },
        {
          "output_type": "stream",
          "name": "stdout",
          "text": [
            "2025-05-15 11:33:40,509 ----------------------------------------------------------------------------------------------------\n",
            "2025-05-15 11:33:41,359 epoch 3 - iter 7/76 - loss 0.58399333 - time (sec): 0.84 - samples/sec: 66.33 - lr: 0.008339 - momentum: 0.000000\n",
            "2025-05-15 11:33:42,040 epoch 3 - iter 14/76 - loss 0.58057882 - time (sec): 1.53 - samples/sec: 73.44 - lr: 0.008339 - momentum: 0.000000\n",
            "2025-05-15 11:33:42,813 epoch 3 - iter 21/76 - loss 0.60346093 - time (sec): 2.30 - samples/sec: 73.12 - lr: 0.008339 - momentum: 0.000000\n",
            "2025-05-15 11:33:43,514 epoch 3 - iter 28/76 - loss 0.62130053 - time (sec): 3.00 - samples/sec: 74.69 - lr: 0.008339 - momentum: 0.000000\n",
            "2025-05-15 11:33:44,277 epoch 3 - iter 35/76 - loss 0.61632384 - time (sec): 3.76 - samples/sec: 74.44 - lr: 0.008339 - momentum: 0.000000\n",
            "2025-05-15 11:33:45,003 epoch 3 - iter 42/76 - loss 0.63451548 - time (sec): 4.49 - samples/sec: 74.87 - lr: 0.008339 - momentum: 0.000000\n",
            "2025-05-15 11:33:45,671 epoch 3 - iter 49/76 - loss 0.63506514 - time (sec): 5.16 - samples/sec: 76.02 - lr: 0.008339 - momentum: 0.000000\n",
            "2025-05-15 11:33:46,364 epoch 3 - iter 56/76 - loss 0.63387825 - time (sec): 5.85 - samples/sec: 76.59 - lr: 0.008339 - momentum: 0.000000\n",
            "2025-05-15 11:33:47,031 epoch 3 - iter 63/76 - loss 0.65054827 - time (sec): 6.52 - samples/sec: 77.34 - lr: 0.008339 - momentum: 0.000000\n",
            "2025-05-15 11:33:47,742 epoch 3 - iter 70/76 - loss 0.65037429 - time (sec): 7.23 - samples/sec: 77.49 - lr: 0.008339 - momentum: 0.000000\n",
            "2025-05-15 11:33:48,245 ----------------------------------------------------------------------------------------------------\n",
            "2025-05-15 11:33:48,246 EPOCH 3 done: loss 0.6445 - lr: 0.008339\n"
          ]
        },
        {
          "output_type": "stream",
          "name": "stderr",
          "text": [
            "100%|██████████| 3/3 [00:00<00:00,  3.24it/s]"
          ]
        },
        {
          "output_type": "stream",
          "name": "stdout",
          "text": [
            "2025-05-15 11:33:49,206 DEV : loss 0.7652020454406738 - f1-score (micro avg)  0.7262\n",
            "2025-05-15 11:33:49,281  - 0 epochs without improvement\n",
            "2025-05-15 11:33:49,282 saving best model\n"
          ]
        },
        {
          "output_type": "stream",
          "name": "stderr",
          "text": [
            "\n"
          ]
        },
        {
          "output_type": "stream",
          "name": "stdout",
          "text": [
            "2025-05-15 11:33:50,537 ----------------------------------------------------------------------------------------------------\n",
            "2025-05-15 11:33:51,173 epoch 4 - iter 7/76 - loss 0.37446138 - time (sec): 0.63 - samples/sec: 88.42 - lr: 0.008339 - momentum: 0.000000\n",
            "2025-05-15 11:33:52,016 epoch 4 - iter 14/76 - loss 0.39856859 - time (sec): 1.48 - samples/sec: 75.85 - lr: 0.008339 - momentum: 0.000000\n",
            "2025-05-15 11:33:52,729 epoch 4 - iter 21/76 - loss 0.41447523 - time (sec): 2.19 - samples/sec: 76.74 - lr: 0.008339 - momentum: 0.000000\n",
            "2025-05-15 11:33:53,413 epoch 4 - iter 28/76 - loss 0.45615552 - time (sec): 2.87 - samples/sec: 77.95 - lr: 0.008339 - momentum: 0.000000\n",
            "2025-05-15 11:33:54,091 epoch 4 - iter 35/76 - loss 0.44775216 - time (sec): 3.55 - samples/sec: 78.85 - lr: 0.008339 - momentum: 0.000000\n",
            "2025-05-15 11:33:54,695 epoch 4 - iter 42/76 - loss 0.48667567 - time (sec): 4.16 - samples/sec: 80.86 - lr: 0.008339 - momentum: 0.000000\n",
            "2025-05-15 11:33:55,463 epoch 4 - iter 49/76 - loss 0.46757641 - time (sec): 4.92 - samples/sec: 79.63 - lr: 0.008339 - momentum: 0.000000\n",
            "2025-05-15 11:33:56,166 epoch 4 - iter 56/76 - loss 0.48494100 - time (sec): 5.63 - samples/sec: 79.63 - lr: 0.008339 - momentum: 0.000000\n",
            "2025-05-15 11:33:56,898 epoch 4 - iter 63/76 - loss 0.46653670 - time (sec): 6.36 - samples/sec: 79.27 - lr: 0.008339 - momentum: 0.000000\n",
            "2025-05-15 11:33:57,665 epoch 4 - iter 70/76 - loss 0.45479622 - time (sec): 7.13 - samples/sec: 78.59 - lr: 0.008339 - momentum: 0.000000\n",
            "2025-05-15 11:33:58,268 ----------------------------------------------------------------------------------------------------\n",
            "2025-05-15 11:33:58,269 EPOCH 4 done: loss 0.4623 - lr: 0.008339\n"
          ]
        },
        {
          "output_type": "stream",
          "name": "stderr",
          "text": [
            "100%|██████████| 3/3 [00:00<00:00,  3.33it/s]\n"
          ]
        },
        {
          "output_type": "stream",
          "name": "stdout",
          "text": [
            "2025-05-15 11:33:59,194 DEV : loss 0.7430423498153687 - f1-score (micro avg)  0.7321\n",
            "2025-05-15 11:33:59,229  - 0 epochs without improvement\n",
            "2025-05-15 11:33:59,230 saving best model\n",
            "2025-05-15 11:34:00,390 ----------------------------------------------------------------------------------------------------\n",
            "2025-05-15 11:34:01,016 epoch 5 - iter 7/76 - loss 0.34815972 - time (sec): 0.62 - samples/sec: 89.73 - lr: 0.008339 - momentum: 0.000000\n",
            "2025-05-15 11:34:01,679 epoch 5 - iter 14/76 - loss 0.36355599 - time (sec): 1.29 - samples/sec: 87.05 - lr: 0.008339 - momentum: 0.000000\n",
            "2025-05-15 11:34:02,409 epoch 5 - iter 21/76 - loss 0.40026316 - time (sec): 2.02 - samples/sec: 83.29 - lr: 0.008339 - momentum: 0.000000\n",
            "2025-05-15 11:34:03,114 epoch 5 - iter 28/76 - loss 0.36743060 - time (sec): 2.72 - samples/sec: 82.31 - lr: 0.008339 - momentum: 0.000000\n",
            "2025-05-15 11:34:03,741 epoch 5 - iter 35/76 - loss 0.34798198 - time (sec): 3.35 - samples/sec: 83.60 - lr: 0.008339 - momentum: 0.000000\n",
            "2025-05-15 11:34:04,361 epoch 5 - iter 42/76 - loss 0.35526702 - time (sec): 3.97 - samples/sec: 84.66 - lr: 0.008339 - momentum: 0.000000\n",
            "2025-05-15 11:34:05,219 epoch 5 - iter 49/76 - loss 0.36806717 - time (sec): 4.83 - samples/sec: 81.22 - lr: 0.008339 - momentum: 0.000000\n",
            "2025-05-15 11:34:06,015 epoch 5 - iter 56/76 - loss 0.35388621 - time (sec): 5.62 - samples/sec: 79.67 - lr: 0.008339 - momentum: 0.000000\n",
            "2025-05-15 11:34:06,733 epoch 5 - iter 63/76 - loss 0.37569520 - time (sec): 6.34 - samples/sec: 79.49 - lr: 0.008339 - momentum: 0.000000\n",
            "2025-05-15 11:34:07,465 epoch 5 - iter 70/76 - loss 0.37689430 - time (sec): 7.07 - samples/sec: 79.18 - lr: 0.008339 - momentum: 0.000000\n",
            "2025-05-15 11:34:08,083 ----------------------------------------------------------------------------------------------------\n",
            "2025-05-15 11:34:08,083 EPOCH 5 done: loss 0.3631 - lr: 0.008339\n"
          ]
        },
        {
          "output_type": "stream",
          "name": "stderr",
          "text": [
            "100%|██████████| 3/3 [00:00<00:00,  3.32it/s]\n"
          ]
        },
        {
          "output_type": "stream",
          "name": "stdout",
          "text": [
            "2025-05-15 11:34:09,011 DEV : loss 0.7211204171180725 - f1-score (micro avg)  0.75\n",
            "2025-05-15 11:34:09,048  - 0 epochs without improvement\n",
            "2025-05-15 11:34:09,049 saving best model\n",
            "2025-05-15 11:34:10,261 ----------------------------------------------------------------------------------------------------\n",
            "2025-05-15 11:34:10,925 epoch 6 - iter 7/76 - loss 0.30702693 - time (sec): 0.66 - samples/sec: 84.72 - lr: 0.008339 - momentum: 0.000000\n",
            "2025-05-15 11:34:11,601 epoch 6 - iter 14/76 - loss 0.36665628 - time (sec): 1.34 - samples/sec: 83.73 - lr: 0.008339 - momentum: 0.000000\n",
            "2025-05-15 11:34:12,244 epoch 6 - iter 21/76 - loss 0.30366642 - time (sec): 1.98 - samples/sec: 84.84 - lr: 0.008339 - momentum: 0.000000\n",
            "2025-05-15 11:34:12,949 epoch 6 - iter 28/76 - loss 0.29803122 - time (sec): 2.69 - samples/sec: 83.42 - lr: 0.008339 - momentum: 0.000000\n",
            "2025-05-15 11:34:13,722 epoch 6 - iter 35/76 - loss 0.30081317 - time (sec): 3.46 - samples/sec: 80.96 - lr: 0.008339 - momentum: 0.000000\n",
            "2025-05-15 11:34:14,463 epoch 6 - iter 42/76 - loss 0.30112631 - time (sec): 4.20 - samples/sec: 80.02 - lr: 0.008339 - momentum: 0.000000\n",
            "2025-05-15 11:34:15,178 epoch 6 - iter 49/76 - loss 0.29997461 - time (sec): 4.91 - samples/sec: 79.77 - lr: 0.008339 - momentum: 0.000000\n",
            "2025-05-15 11:34:15,878 epoch 6 - iter 56/76 - loss 0.29325902 - time (sec): 5.61 - samples/sec: 79.80 - lr: 0.008339 - momentum: 0.000000\n",
            "2025-05-15 11:34:16,576 epoch 6 - iter 63/76 - loss 0.28715078 - time (sec): 6.31 - samples/sec: 79.84 - lr: 0.008339 - momentum: 0.000000\n",
            "2025-05-15 11:34:17,217 epoch 6 - iter 70/76 - loss 0.28517217 - time (sec): 6.95 - samples/sec: 80.54 - lr: 0.008339 - momentum: 0.000000\n",
            "2025-05-15 11:34:17,868 ----------------------------------------------------------------------------------------------------\n",
            "2025-05-15 11:34:17,871 EPOCH 6 done: loss 0.2735 - lr: 0.008339\n"
          ]
        },
        {
          "output_type": "stream",
          "name": "stderr",
          "text": [
            "100%|██████████| 3/3 [00:00<00:00,  3.30it/s]\n"
          ]
        },
        {
          "output_type": "stream",
          "name": "stdout",
          "text": [
            "2025-05-15 11:34:18,804 DEV : loss 0.8777328133583069 - f1-score (micro avg)  0.7202\n",
            "2025-05-15 11:34:18,839  - 1 epochs without improvement\n",
            "2025-05-15 11:34:18,840 ----------------------------------------------------------------------------------------------------\n",
            "2025-05-15 11:34:19,583 epoch 7 - iter 7/76 - loss 0.21783378 - time (sec): 0.74 - samples/sec: 75.65 - lr: 0.008339 - momentum: 0.000000\n",
            "2025-05-15 11:34:20,331 epoch 7 - iter 14/76 - loss 0.17425924 - time (sec): 1.49 - samples/sec: 75.28 - lr: 0.008339 - momentum: 0.000000\n",
            "2025-05-15 11:34:21,040 epoch 7 - iter 21/76 - loss 0.17253876 - time (sec): 2.20 - samples/sec: 76.48 - lr: 0.008339 - momentum: 0.000000\n",
            "2025-05-15 11:34:21,728 epoch 7 - iter 28/76 - loss 0.17112300 - time (sec): 2.89 - samples/sec: 77.64 - lr: 0.008339 - momentum: 0.000000\n",
            "2025-05-15 11:34:22,301 epoch 7 - iter 35/76 - loss 0.18819222 - time (sec): 3.46 - samples/sec: 80.97 - lr: 0.008339 - momentum: 0.000000\n",
            "2025-05-15 11:34:22,957 epoch 7 - iter 42/76 - loss 0.19258645 - time (sec): 4.11 - samples/sec: 81.67 - lr: 0.008339 - momentum: 0.000000\n",
            "2025-05-15 11:34:23,674 epoch 7 - iter 49/76 - loss 0.18794736 - time (sec): 4.83 - samples/sec: 81.14 - lr: 0.008339 - momentum: 0.000000\n",
            "2025-05-15 11:34:24,352 epoch 7 - iter 56/76 - loss 0.18726072 - time (sec): 5.51 - samples/sec: 81.33 - lr: 0.008339 - momentum: 0.000000\n",
            "2025-05-15 11:34:25,094 epoch 7 - iter 63/76 - loss 0.18984780 - time (sec): 6.25 - samples/sec: 80.63 - lr: 0.008339 - momentum: 0.000000\n",
            "2025-05-15 11:34:25,804 epoch 7 - iter 70/76 - loss 0.18907682 - time (sec): 6.96 - samples/sec: 80.44 - lr: 0.008339 - momentum: 0.000000\n",
            "2025-05-15 11:34:26,412 ----------------------------------------------------------------------------------------------------\n",
            "2025-05-15 11:34:26,413 EPOCH 7 done: loss 0.1914 - lr: 0.008339\n"
          ]
        },
        {
          "output_type": "stream",
          "name": "stderr",
          "text": [
            "100%|██████████| 3/3 [00:00<00:00,  3.30it/s]\n"
          ]
        },
        {
          "output_type": "stream",
          "name": "stdout",
          "text": [
            "2025-05-15 11:34:27,348 DEV : loss 0.6781454086303711 - f1-score (micro avg)  0.7976\n",
            "2025-05-15 11:34:27,389  - 0 epochs without improvement\n",
            "2025-05-15 11:34:27,391 saving best model\n",
            "2025-05-15 11:34:28,548 ----------------------------------------------------------------------------------------------------\n",
            "2025-05-15 11:34:29,207 epoch 8 - iter 7/76 - loss 0.30398881 - time (sec): 0.66 - samples/sec: 85.39 - lr: 0.008339 - momentum: 0.000000\n",
            "2025-05-15 11:34:29,981 epoch 8 - iter 14/76 - loss 0.20712246 - time (sec): 1.43 - samples/sec: 78.33 - lr: 0.008339 - momentum: 0.000000\n",
            "2025-05-15 11:34:30,687 epoch 8 - iter 21/76 - loss 0.17920236 - time (sec): 2.14 - samples/sec: 78.67 - lr: 0.008339 - momentum: 0.000000\n",
            "2025-05-15 11:34:31,463 epoch 8 - iter 28/76 - loss 0.17210895 - time (sec): 2.91 - samples/sec: 76.93 - lr: 0.008339 - momentum: 0.000000\n",
            "2025-05-15 11:34:32,305 epoch 8 - iter 35/76 - loss 0.15873897 - time (sec): 3.75 - samples/sec: 74.60 - lr: 0.008339 - momentum: 0.000000\n",
            "2025-05-15 11:34:32,911 epoch 8 - iter 42/76 - loss 0.15486270 - time (sec): 4.36 - samples/sec: 77.08 - lr: 0.008339 - momentum: 0.000000\n",
            "2025-05-15 11:34:33,584 epoch 8 - iter 49/76 - loss 0.15053430 - time (sec): 5.03 - samples/sec: 77.89 - lr: 0.008339 - momentum: 0.000000\n",
            "2025-05-15 11:34:34,293 epoch 8 - iter 56/76 - loss 0.16153763 - time (sec): 5.74 - samples/sec: 78.03 - lr: 0.008339 - momentum: 0.000000\n",
            "2025-05-15 11:34:35,046 epoch 8 - iter 63/76 - loss 0.15454654 - time (sec): 6.49 - samples/sec: 77.61 - lr: 0.008339 - momentum: 0.000000\n",
            "2025-05-15 11:34:35,734 epoch 8 - iter 70/76 - loss 0.14972799 - time (sec): 7.18 - samples/sec: 77.97 - lr: 0.008339 - momentum: 0.000000\n",
            "2025-05-15 11:34:36,215 ----------------------------------------------------------------------------------------------------\n",
            "2025-05-15 11:34:36,216 EPOCH 8 done: loss 0.1536 - lr: 0.008339\n"
          ]
        },
        {
          "output_type": "stream",
          "name": "stderr",
          "text": [
            "100%|██████████| 3/3 [00:00<00:00,  3.33it/s]\n"
          ]
        },
        {
          "output_type": "stream",
          "name": "stdout",
          "text": [
            "2025-05-15 11:34:37,148 DEV : loss 0.7812503576278687 - f1-score (micro avg)  0.7321\n",
            "2025-05-15 11:34:37,187  - 1 epochs without improvement\n",
            "2025-05-15 11:34:37,188 ----------------------------------------------------------------------------------------------------\n",
            "2025-05-15 11:34:37,828 epoch 9 - iter 7/76 - loss 0.06338450 - time (sec): 0.64 - samples/sec: 87.80 - lr: 0.008339 - momentum: 0.000000\n",
            "2025-05-15 11:34:38,503 epoch 9 - iter 14/76 - loss 0.04685513 - time (sec): 1.31 - samples/sec: 85.30 - lr: 0.008339 - momentum: 0.000000\n",
            "2025-05-15 11:34:39,216 epoch 9 - iter 21/76 - loss 0.07684922 - time (sec): 2.03 - samples/sec: 82.93 - lr: 0.008339 - momentum: 0.000000\n",
            "2025-05-15 11:34:40,035 epoch 9 - iter 28/76 - loss 0.07496484 - time (sec): 2.84 - samples/sec: 78.75 - lr: 0.008339 - momentum: 0.000000\n",
            "2025-05-15 11:34:40,843 epoch 9 - iter 35/76 - loss 0.09388783 - time (sec): 3.65 - samples/sec: 76.66 - lr: 0.008339 - momentum: 0.000000\n",
            "2025-05-15 11:34:41,545 epoch 9 - iter 42/76 - loss 0.08904220 - time (sec): 4.35 - samples/sec: 77.17 - lr: 0.008339 - momentum: 0.000000\n",
            "2025-05-15 11:34:42,234 epoch 9 - iter 49/76 - loss 0.09407783 - time (sec): 5.04 - samples/sec: 77.73 - lr: 0.008339 - momentum: 0.000000\n",
            "2025-05-15 11:34:42,915 epoch 9 - iter 56/76 - loss 0.09363799 - time (sec): 5.72 - samples/sec: 78.26 - lr: 0.008339 - momentum: 0.000000\n",
            "2025-05-15 11:34:43,648 epoch 9 - iter 63/76 - loss 0.08999993 - time (sec): 6.46 - samples/sec: 78.05 - lr: 0.008339 - momentum: 0.000000\n",
            "2025-05-15 11:34:44,340 epoch 9 - iter 70/76 - loss 0.08993749 - time (sec): 7.15 - samples/sec: 78.33 - lr: 0.008339 - momentum: 0.000000\n",
            "2025-05-15 11:34:44,875 ----------------------------------------------------------------------------------------------------\n",
            "2025-05-15 11:34:44,876 EPOCH 9 done: loss 0.1038 - lr: 0.008339\n"
          ]
        },
        {
          "output_type": "stream",
          "name": "stderr",
          "text": [
            "100%|██████████| 3/3 [00:00<00:00,  3.31it/s]\n"
          ]
        },
        {
          "output_type": "stream",
          "name": "stdout",
          "text": [
            "2025-05-15 11:34:45,809 DEV : loss 0.7839986681938171 - f1-score (micro avg)  0.7619\n",
            "2025-05-15 11:34:45,848  - 2 epochs without improvement\n",
            "2025-05-15 11:34:46,936 ----------------------------------------------------------------------------------------------------\n",
            "2025-05-15 11:34:46,939 Loading model from best epoch ...\n"
          ]
        },
        {
          "output_type": "stream",
          "name": "stderr",
          "text": [
            "100%|██████████| 2/2 [00:00<00:00,  5.62it/s]"
          ]
        },
        {
          "output_type": "stream",
          "name": "stdout",
          "text": [
            "2025-05-15 11:34:49,469 \n",
            "Results:\n",
            "- F-score (micro) 0.7015\n",
            "- F-score (macro) 0.6923\n",
            "- Accuracy 0.7015\n",
            "\n",
            "By class:\n",
            "              precision    recall  f1-score   support\n",
            "\n",
            "          공통     0.9286    0.5652    0.7027        23\n",
            "       가설구조물     0.7059    0.7059    0.7059        17\n",
            "          교량     0.7778    0.7000    0.7368        10\n",
            "        양중작업     0.7000    0.8750    0.7778         8\n",
            "        굴착공사     0.7143    0.8333    0.7692         6\n",
            "          건축     0.3000    1.0000    0.4615         3\n",
            "\n",
            "    accuracy                         0.7015        67\n",
            "   macro avg     0.6878    0.7799    0.6923        67\n",
            "weighted avg     0.7749    0.7015    0.7127        67\n",
            "\n",
            "2025-05-15 11:34:49,470 ----------------------------------------------------------------------------------------------------\n"
          ]
        },
        {
          "output_type": "stream",
          "name": "stderr",
          "text": [
            "\n"
          ]
        },
        {
          "output_type": "stream",
          "name": "stdout",
          "text": [
            "  훈련 결과: {'test_score': 0.7014925373134329}\n",
            "  현재 폴드 정확도: 0.7976\n",
            "  폴드 3/5 학습 중...\n",
            "2025-05-15 11:34:54,036 Reading data from /tmp/tmp7olz7_ni\n",
            "2025-05-15 11:34:54,038 Train: /tmp/tmp7olz7_ni/train.txt\n",
            "2025-05-15 11:34:54,041 Dev: /tmp/tmp7olz7_ni/dev.txt\n",
            "2025-05-15 11:34:54,043 Test: None\n",
            "2025-05-15 11:34:54,084 No test split found. Using 10% (i.e. 67 samples) of the train split as test data\n",
            "2025-05-15 11:34:54,084 Initialized corpus /tmp/tmp7olz7_ni (label type name is 'class')\n",
            "2025-05-15 11:34:54,088 Computing label dictionary. Progress:\n"
          ]
        },
        {
          "output_type": "stream",
          "name": "stderr",
          "text": [
            "0it [00:00, ?it/s]\n",
            "603it [00:00, 5097.11it/s]"
          ]
        },
        {
          "output_type": "stream",
          "name": "stdout",
          "text": [
            "2025-05-15 11:34:54,212 Dictionary created for label 'class' with 6 values: 공통 (seen 173 times), 가설구조물 (seen 139 times), 교량 (seen 101 times), 굴착공사 (seen 81 times), 양중작업 (seen 56 times), 건축 (seen 53 times)\n",
            "2025-05-15 11:34:54,220 ----------------------------------------------------------------------------------------------------\n",
            "2025-05-15 11:34:54,223 Model: \"TextClassifier(\n",
            "  (embeddings): TransformerDocumentEmbeddings(\n",
            "    (model): BertModel(\n",
            "      (embeddings): BertEmbeddings(\n",
            "        (word_embeddings): Embedding(32001, 768, padding_idx=0)\n",
            "        (position_embeddings): Embedding(512, 768)\n",
            "        (token_type_embeddings): Embedding(2, 768)\n",
            "        (LayerNorm): LayerNorm((768,), eps=1e-12, elementwise_affine=True)\n",
            "        (dropout): Dropout(p=0.1, inplace=False)\n",
            "      )\n",
            "      (encoder): BertEncoder(\n",
            "        (layer): ModuleList(\n",
            "          (0-11): 12 x BertLayer(\n",
            "            (attention): BertAttention(\n",
            "              (self): BertSdpaSelfAttention(\n",
            "                (query): Linear(in_features=768, out_features=768, bias=True)\n",
            "                (key): Linear(in_features=768, out_features=768, bias=True)\n",
            "                (value): Linear(in_features=768, out_features=768, bias=True)\n",
            "                (dropout): Dropout(p=0.1, inplace=False)\n",
            "              )\n",
            "              (output): BertSelfOutput(\n",
            "                (dense): Linear(in_features=768, out_features=768, bias=True)\n",
            "                (LayerNorm): LayerNorm((768,), eps=1e-12, elementwise_affine=True)\n",
            "                (dropout): Dropout(p=0.1, inplace=False)\n",
            "              )\n",
            "            )\n",
            "            (intermediate): BertIntermediate(\n",
            "              (dense): Linear(in_features=768, out_features=3072, bias=True)\n",
            "              (intermediate_act_fn): GELUActivation()\n",
            "            )\n",
            "            (output): BertOutput(\n",
            "              (dense): Linear(in_features=3072, out_features=768, bias=True)\n",
            "              (LayerNorm): LayerNorm((768,), eps=1e-12, elementwise_affine=True)\n",
            "              (dropout): Dropout(p=0.1, inplace=False)\n",
            "            )\n",
            "          )\n",
            "        )\n",
            "      )\n",
            "      (pooler): BertPooler(\n",
            "        (dense): Linear(in_features=768, out_features=768, bias=True)\n",
            "        (activation): Tanh()\n",
            "      )\n",
            "    )\n",
            "  )\n",
            "  (decoder): Linear(in_features=768, out_features=6, bias=True)\n",
            "  (dropout): Dropout(p=0.0, inplace=False)\n",
            "  (locked_dropout): LockedDropout(p=0.0)\n",
            "  (word_dropout): WordDropout(p=0.0)\n",
            "  (loss_function): CrossEntropyLoss()\n",
            "  (weights): None\n",
            "  (weight_tensor) None\n",
            ")\"\n",
            "2025-05-15 11:34:54,224 ----------------------------------------------------------------------------------------------------\n",
            "2025-05-15 11:34:54,224 Corpus: 603 train + 168 dev + 67 test sentences\n",
            "2025-05-15 11:34:54,225 ----------------------------------------------------------------------------------------------------\n",
            "2025-05-15 11:34:54,226 Train:  603 sentences\n",
            "2025-05-15 11:34:54,227         (train_with_dev=False, train_with_test=False)\n",
            "2025-05-15 11:34:54,227 ----------------------------------------------------------------------------------------------------\n",
            "2025-05-15 11:34:54,228 Training Params:\n",
            "2025-05-15 11:34:54,229  - learning_rate: \"0.00833881207622449\" \n",
            "2025-05-15 11:34:54,230  - mini_batch_size: \"8\"\n",
            "2025-05-15 11:34:54,231  - max_epochs: \"9\"\n",
            "2025-05-15 11:34:54,232  - shuffle: \"True\"\n",
            "2025-05-15 11:34:54,233 ----------------------------------------------------------------------------------------------------\n",
            "2025-05-15 11:34:54,233 Plugins:\n",
            "2025-05-15 11:34:54,234  - AnnealOnPlateau | patience: '3', anneal_factor: '0.5', min_learning_rate: '0.0001'\n",
            "2025-05-15 11:34:54,235 ----------------------------------------------------------------------------------------------------\n",
            "2025-05-15 11:34:54,236 Final evaluation on model from best epoch (best-model.pt)\n",
            "2025-05-15 11:34:54,237  - metric: \"('micro avg', 'f1-score')\"\n",
            "2025-05-15 11:34:54,237 ----------------------------------------------------------------------------------------------------\n",
            "2025-05-15 11:34:54,238 Computation:\n",
            "2025-05-15 11:34:54,239  - compute on device: cuda:0\n",
            "2025-05-15 11:34:54,239  - embedding storage: cpu\n",
            "2025-05-15 11:34:54,240 ----------------------------------------------------------------------------------------------------\n",
            "2025-05-15 11:34:54,241 Model training base path: \"/tmp/tmp7olz7_ni/model\"\n",
            "2025-05-15 11:34:54,241 ----------------------------------------------------------------------------------------------------\n",
            "2025-05-15 11:34:54,242 ----------------------------------------------------------------------------------------------------\n"
          ]
        },
        {
          "output_type": "stream",
          "name": "stderr",
          "text": [
            "\n",
            "/usr/local/lib/python3.11/dist-packages/flair/trainers/trainer.py:545: FutureWarning: `torch.cuda.amp.GradScaler(args...)` is deprecated. Please use `torch.amp.GradScaler('cuda', args...)` instead.\n",
            "  scaler = torch.cuda.amp.GradScaler(enabled=use_amp and flair.device.type != \"cpu\")\n"
          ]
        },
        {
          "output_type": "stream",
          "name": "stdout",
          "text": [
            "2025-05-15 11:34:54,891 epoch 1 - iter 7/76 - loss 2.00602143 - time (sec): 0.65 - samples/sec: 86.54 - lr: 0.008339 - momentum: 0.000000\n",
            "2025-05-15 11:34:55,687 epoch 1 - iter 14/76 - loss 1.80268620 - time (sec): 1.44 - samples/sec: 77.63 - lr: 0.008339 - momentum: 0.000000\n",
            "2025-05-15 11:34:56,371 epoch 1 - iter 21/76 - loss 1.54829814 - time (sec): 2.13 - samples/sec: 79.00 - lr: 0.008339 - momentum: 0.000000\n",
            "2025-05-15 11:34:57,127 epoch 1 - iter 28/76 - loss 1.42778424 - time (sec): 2.88 - samples/sec: 77.71 - lr: 0.008339 - momentum: 0.000000\n",
            "2025-05-15 11:34:57,871 epoch 1 - iter 35/76 - loss 1.31935969 - time (sec): 3.63 - samples/sec: 77.19 - lr: 0.008339 - momentum: 0.000000\n",
            "2025-05-15 11:34:58,525 epoch 1 - iter 42/76 - loss 1.21536294 - time (sec): 4.28 - samples/sec: 78.48 - lr: 0.008339 - momentum: 0.000000\n",
            "2025-05-15 11:34:59,255 epoch 1 - iter 49/76 - loss 1.15706206 - time (sec): 5.01 - samples/sec: 78.24 - lr: 0.008339 - momentum: 0.000000\n",
            "2025-05-15 11:34:59,928 epoch 1 - iter 56/76 - loss 1.13267343 - time (sec): 5.68 - samples/sec: 78.81 - lr: 0.008339 - momentum: 0.000000\n",
            "2025-05-15 11:35:00,684 epoch 1 - iter 63/76 - loss 1.09694203 - time (sec): 6.44 - samples/sec: 78.27 - lr: 0.008339 - momentum: 0.000000\n",
            "2025-05-15 11:35:01,328 epoch 1 - iter 70/76 - loss 1.05921017 - time (sec): 7.08 - samples/sec: 79.05 - lr: 0.008339 - momentum: 0.000000\n",
            "2025-05-15 11:35:01,906 ----------------------------------------------------------------------------------------------------\n",
            "2025-05-15 11:35:01,907 EPOCH 1 done: loss 1.0525 - lr: 0.008339\n"
          ]
        },
        {
          "output_type": "stream",
          "name": "stderr",
          "text": [
            "100%|██████████| 3/3 [00:00<00:00,  3.83it/s]\n"
          ]
        },
        {
          "output_type": "stream",
          "name": "stdout",
          "text": [
            "2025-05-15 11:35:02,718 DEV : loss 0.4847210645675659 - f1-score (micro avg)  0.8393\n",
            "2025-05-15 11:35:02,764  - 0 epochs without improvement\n",
            "2025-05-15 11:35:02,766 saving best model\n",
            "2025-05-15 11:35:03,886 ----------------------------------------------------------------------------------------------------\n",
            "2025-05-15 11:35:04,499 epoch 2 - iter 7/76 - loss 0.55357599 - time (sec): 0.61 - samples/sec: 91.98 - lr: 0.008339 - momentum: 0.000000\n",
            "2025-05-15 11:35:05,205 epoch 2 - iter 14/76 - loss 0.52945288 - time (sec): 1.31 - samples/sec: 85.19 - lr: 0.008339 - momentum: 0.000000\n",
            "2025-05-15 11:35:05,968 epoch 2 - iter 21/76 - loss 0.52168543 - time (sec): 2.08 - samples/sec: 80.85 - lr: 0.008339 - momentum: 0.000000\n",
            "2025-05-15 11:35:06,569 epoch 2 - iter 28/76 - loss 0.51359414 - time (sec): 2.68 - samples/sec: 83.62 - lr: 0.008339 - momentum: 0.000000\n",
            "2025-05-15 11:35:07,238 epoch 2 - iter 35/76 - loss 0.55393011 - time (sec): 3.35 - samples/sec: 83.64 - lr: 0.008339 - momentum: 0.000000\n",
            "2025-05-15 11:35:07,988 epoch 2 - iter 42/76 - loss 0.53102446 - time (sec): 4.10 - samples/sec: 81.99 - lr: 0.008339 - momentum: 0.000000\n",
            "2025-05-15 11:35:08,659 epoch 2 - iter 49/76 - loss 0.52501842 - time (sec): 4.77 - samples/sec: 82.19 - lr: 0.008339 - momentum: 0.000000\n",
            "2025-05-15 11:35:09,416 epoch 2 - iter 56/76 - loss 0.52846366 - time (sec): 5.53 - samples/sec: 81.07 - lr: 0.008339 - momentum: 0.000000\n",
            "2025-05-15 11:35:10,222 epoch 2 - iter 63/76 - loss 0.51138666 - time (sec): 6.33 - samples/sec: 79.59 - lr: 0.008339 - momentum: 0.000000\n",
            "2025-05-15 11:35:10,926 epoch 2 - iter 70/76 - loss 0.51401929 - time (sec): 7.04 - samples/sec: 79.59 - lr: 0.008339 - momentum: 0.000000\n",
            "2025-05-15 11:35:11,532 ----------------------------------------------------------------------------------------------------\n",
            "2025-05-15 11:35:11,535 EPOCH 2 done: loss 0.5199 - lr: 0.008339\n"
          ]
        },
        {
          "output_type": "stream",
          "name": "stderr",
          "text": [
            "100%|██████████| 3/3 [00:00<00:00,  3.73it/s]\n"
          ]
        },
        {
          "output_type": "stream",
          "name": "stdout",
          "text": [
            "2025-05-15 11:35:12,366 DEV : loss 0.3849886953830719 - f1-score (micro avg)  0.8571\n",
            "2025-05-15 11:35:12,400  - 0 epochs without improvement\n",
            "2025-05-15 11:35:12,401 saving best model\n",
            "2025-05-15 11:35:13,589 ----------------------------------------------------------------------------------------------------\n",
            "2025-05-15 11:35:14,176 epoch 3 - iter 7/76 - loss 0.53913719 - time (sec): 0.58 - samples/sec: 95.90 - lr: 0.008339 - momentum: 0.000000\n",
            "2025-05-15 11:35:14,823 epoch 3 - iter 14/76 - loss 0.43446814 - time (sec): 1.23 - samples/sec: 91.02 - lr: 0.008339 - momentum: 0.000000\n",
            "2025-05-15 11:35:15,587 epoch 3 - iter 21/76 - loss 0.39451387 - time (sec): 2.00 - samples/sec: 84.20 - lr: 0.008339 - momentum: 0.000000\n",
            "2025-05-15 11:35:16,344 epoch 3 - iter 28/76 - loss 0.43504969 - time (sec): 2.75 - samples/sec: 81.40 - lr: 0.008339 - momentum: 0.000000\n",
            "2025-05-15 11:35:17,107 epoch 3 - iter 35/76 - loss 0.41446617 - time (sec): 3.52 - samples/sec: 79.65 - lr: 0.008339 - momentum: 0.000000\n",
            "2025-05-15 11:35:17,840 epoch 3 - iter 42/76 - loss 0.40090996 - time (sec): 4.25 - samples/sec: 79.10 - lr: 0.008339 - momentum: 0.000000\n",
            "2025-05-15 11:35:18,524 epoch 3 - iter 49/76 - loss 0.41265904 - time (sec): 4.93 - samples/sec: 79.48 - lr: 0.008339 - momentum: 0.000000\n",
            "2025-05-15 11:35:19,320 epoch 3 - iter 56/76 - loss 0.39699633 - time (sec): 5.73 - samples/sec: 78.21 - lr: 0.008339 - momentum: 0.000000\n",
            "2025-05-15 11:35:20,052 epoch 3 - iter 63/76 - loss 0.41156525 - time (sec): 6.46 - samples/sec: 78.02 - lr: 0.008339 - momentum: 0.000000\n",
            "2025-05-15 11:35:20,765 epoch 3 - iter 70/76 - loss 0.40254271 - time (sec): 7.17 - samples/sec: 78.07 - lr: 0.008339 - momentum: 0.000000\n",
            "2025-05-15 11:35:21,348 ----------------------------------------------------------------------------------------------------\n",
            "2025-05-15 11:35:21,352 EPOCH 3 done: loss 0.4003 - lr: 0.008339\n"
          ]
        },
        {
          "output_type": "stream",
          "name": "stderr",
          "text": [
            "100%|██████████| 3/3 [00:00<00:00,  3.51it/s]"
          ]
        },
        {
          "output_type": "stream",
          "name": "stdout",
          "text": [
            "2025-05-15 11:35:22,237 DEV : loss 0.2968686521053314 - f1-score (micro avg)  0.8988\n",
            "2025-05-15 11:35:22,298  - 0 epochs without improvement\n",
            "2025-05-15 11:35:22,302 saving best model\n"
          ]
        },
        {
          "output_type": "stream",
          "name": "stderr",
          "text": [
            "\n"
          ]
        },
        {
          "output_type": "stream",
          "name": "stdout",
          "text": [
            "2025-05-15 11:35:23,646 ----------------------------------------------------------------------------------------------------\n",
            "2025-05-15 11:35:24,317 epoch 4 - iter 7/76 - loss 0.17438986 - time (sec): 0.66 - samples/sec: 84.25 - lr: 0.008339 - momentum: 0.000000\n",
            "2025-05-15 11:35:24,959 epoch 4 - iter 14/76 - loss 0.19980032 - time (sec): 1.31 - samples/sec: 85.72 - lr: 0.008339 - momentum: 0.000000\n",
            "2025-05-15 11:35:25,639 epoch 4 - iter 21/76 - loss 0.24491762 - time (sec): 1.99 - samples/sec: 84.58 - lr: 0.008339 - momentum: 0.000000\n",
            "2025-05-15 11:35:26,343 epoch 4 - iter 28/76 - loss 0.24996213 - time (sec): 2.69 - samples/sec: 83.27 - lr: 0.008339 - momentum: 0.000000\n",
            "2025-05-15 11:35:27,111 epoch 4 - iter 35/76 - loss 0.25619781 - time (sec): 3.46 - samples/sec: 80.98 - lr: 0.008339 - momentum: 0.000000\n",
            "2025-05-15 11:35:27,941 epoch 4 - iter 42/76 - loss 0.26051469 - time (sec): 4.29 - samples/sec: 78.36 - lr: 0.008339 - momentum: 0.000000\n",
            "2025-05-15 11:35:28,666 epoch 4 - iter 49/76 - loss 0.26145483 - time (sec): 5.01 - samples/sec: 78.19 - lr: 0.008339 - momentum: 0.000000\n",
            "2025-05-15 11:35:29,298 epoch 4 - iter 56/76 - loss 0.29184539 - time (sec): 5.64 - samples/sec: 79.36 - lr: 0.008339 - momentum: 0.000000\n",
            "2025-05-15 11:35:29,943 epoch 4 - iter 63/76 - loss 0.28196195 - time (sec): 6.29 - samples/sec: 80.12 - lr: 0.008339 - momentum: 0.000000\n",
            "2025-05-15 11:35:30,660 epoch 4 - iter 70/76 - loss 0.26674741 - time (sec): 7.01 - samples/sec: 79.92 - lr: 0.008339 - momentum: 0.000000\n",
            "2025-05-15 11:35:31,268 ----------------------------------------------------------------------------------------------------\n",
            "2025-05-15 11:35:31,269 EPOCH 4 done: loss 0.2578 - lr: 0.008339\n"
          ]
        },
        {
          "output_type": "stream",
          "name": "stderr",
          "text": [
            "100%|██████████| 3/3 [00:00<00:00,  3.69it/s]\n"
          ]
        },
        {
          "output_type": "stream",
          "name": "stdout",
          "text": [
            "2025-05-15 11:35:32,108 DEV : loss 0.3073533773422241 - f1-score (micro avg)  0.8869\n",
            "2025-05-15 11:35:32,143  - 1 epochs without improvement\n",
            "2025-05-15 11:35:32,144 ----------------------------------------------------------------------------------------------------\n",
            "2025-05-15 11:35:32,871 epoch 5 - iter 7/76 - loss 0.27771234 - time (sec): 0.72 - samples/sec: 77.48 - lr: 0.008339 - momentum: 0.000000\n",
            "2025-05-15 11:35:33,627 epoch 5 - iter 14/76 - loss 0.19703949 - time (sec): 1.48 - samples/sec: 75.71 - lr: 0.008339 - momentum: 0.000000\n",
            "2025-05-15 11:35:34,357 epoch 5 - iter 21/76 - loss 0.18615289 - time (sec): 2.21 - samples/sec: 76.05 - lr: 0.008339 - momentum: 0.000000\n",
            "2025-05-15 11:35:35,053 epoch 5 - iter 28/76 - loss 0.18686500 - time (sec): 2.91 - samples/sec: 77.10 - lr: 0.008339 - momentum: 0.000000\n",
            "2025-05-15 11:35:35,774 epoch 5 - iter 35/76 - loss 0.17616846 - time (sec): 3.63 - samples/sec: 77.22 - lr: 0.008339 - momentum: 0.000000\n",
            "2025-05-15 11:35:36,511 epoch 5 - iter 42/76 - loss 0.18699903 - time (sec): 4.36 - samples/sec: 77.00 - lr: 0.008339 - momentum: 0.000000\n",
            "2025-05-15 11:35:37,202 epoch 5 - iter 49/76 - loss 0.19266451 - time (sec): 5.05 - samples/sec: 77.56 - lr: 0.008339 - momentum: 0.000000\n",
            "2025-05-15 11:35:37,874 epoch 5 - iter 56/76 - loss 0.19304003 - time (sec): 5.73 - samples/sec: 78.23 - lr: 0.008339 - momentum: 0.000000\n",
            "2025-05-15 11:35:38,693 epoch 5 - iter 63/76 - loss 0.20979879 - time (sec): 6.55 - samples/sec: 77.00 - lr: 0.008339 - momentum: 0.000000\n",
            "2025-05-15 11:35:39,392 epoch 5 - iter 70/76 - loss 0.20548328 - time (sec): 7.24 - samples/sec: 77.31 - lr: 0.008339 - momentum: 0.000000\n",
            "2025-05-15 11:35:39,898 ----------------------------------------------------------------------------------------------------\n",
            "2025-05-15 11:35:39,898 EPOCH 5 done: loss 0.2066 - lr: 0.008339\n"
          ]
        },
        {
          "output_type": "stream",
          "name": "stderr",
          "text": [
            "100%|██████████| 3/3 [00:00<00:00,  3.78it/s]\n"
          ]
        },
        {
          "output_type": "stream",
          "name": "stdout",
          "text": [
            "2025-05-15 11:35:40,714 DEV : loss 0.2050739973783493 - f1-score (micro avg)  0.9345\n",
            "2025-05-15 11:35:40,753  - 0 epochs without improvement\n",
            "2025-05-15 11:35:40,754 saving best model\n",
            "2025-05-15 11:35:43,605 ----------------------------------------------------------------------------------------------------\n",
            "2025-05-15 11:35:44,353 epoch 6 - iter 7/76 - loss 0.25805302 - time (sec): 0.74 - samples/sec: 75.73 - lr: 0.008339 - momentum: 0.000000\n",
            "2025-05-15 11:35:45,097 epoch 6 - iter 14/76 - loss 0.20391277 - time (sec): 1.48 - samples/sec: 75.52 - lr: 0.008339 - momentum: 0.000000\n",
            "2025-05-15 11:35:45,690 epoch 6 - iter 21/76 - loss 0.19238673 - time (sec): 2.08 - samples/sec: 80.91 - lr: 0.008339 - momentum: 0.000000\n",
            "2025-05-15 11:35:46,450 epoch 6 - iter 28/76 - loss 0.17709987 - time (sec): 2.84 - samples/sec: 78.98 - lr: 0.008339 - momentum: 0.000000\n",
            "2025-05-15 11:35:47,126 epoch 6 - iter 35/76 - loss 0.15757009 - time (sec): 3.51 - samples/sec: 79.72 - lr: 0.008339 - momentum: 0.000000\n",
            "2025-05-15 11:35:47,776 epoch 6 - iter 42/76 - loss 0.14944192 - time (sec): 4.16 - samples/sec: 80.72 - lr: 0.008339 - momentum: 0.000000\n",
            "2025-05-15 11:35:48,510 epoch 6 - iter 49/76 - loss 0.15513608 - time (sec): 4.90 - samples/sec: 80.06 - lr: 0.008339 - momentum: 0.000000\n",
            "2025-05-15 11:35:49,223 epoch 6 - iter 56/76 - loss 0.15552000 - time (sec): 5.61 - samples/sec: 79.87 - lr: 0.008339 - momentum: 0.000000\n",
            "2025-05-15 11:35:50,051 epoch 6 - iter 63/76 - loss 0.15496874 - time (sec): 6.44 - samples/sec: 78.30 - lr: 0.008339 - momentum: 0.000000\n",
            "2025-05-15 11:35:50,651 epoch 6 - iter 70/76 - loss 0.16699509 - time (sec): 7.04 - samples/sec: 79.58 - lr: 0.008339 - momentum: 0.000000\n",
            "2025-05-15 11:35:51,271 ----------------------------------------------------------------------------------------------------\n",
            "2025-05-15 11:35:51,271 EPOCH 6 done: loss 0.1673 - lr: 0.008339\n"
          ]
        },
        {
          "output_type": "stream",
          "name": "stderr",
          "text": [
            "100%|██████████| 3/3 [00:00<00:00,  3.80it/s]\n"
          ]
        },
        {
          "output_type": "stream",
          "name": "stdout",
          "text": [
            "2025-05-15 11:35:52,090 DEV : loss 0.18839901685714722 - f1-score (micro avg)  0.9167\n",
            "2025-05-15 11:35:52,125  - 1 epochs without improvement\n",
            "2025-05-15 11:35:52,127 ----------------------------------------------------------------------------------------------------\n",
            "2025-05-15 11:35:52,844 epoch 7 - iter 7/76 - loss 0.12873222 - time (sec): 0.72 - samples/sec: 78.30 - lr: 0.008339 - momentum: 0.000000\n",
            "2025-05-15 11:35:53,598 epoch 7 - iter 14/76 - loss 0.10809895 - time (sec): 1.47 - samples/sec: 76.22 - lr: 0.008339 - momentum: 0.000000\n",
            "2025-05-15 11:35:54,192 epoch 7 - iter 21/76 - loss 0.08713402 - time (sec): 2.06 - samples/sec: 81.42 - lr: 0.008339 - momentum: 0.000000\n",
            "2025-05-15 11:35:54,917 epoch 7 - iter 28/76 - loss 0.07678432 - time (sec): 2.79 - samples/sec: 80.33 - lr: 0.008339 - momentum: 0.000000\n",
            "2025-05-15 11:35:55,650 epoch 7 - iter 35/76 - loss 0.07408006 - time (sec): 3.52 - samples/sec: 79.51 - lr: 0.008339 - momentum: 0.000000\n",
            "2025-05-15 11:35:56,369 epoch 7 - iter 42/76 - loss 0.09239633 - time (sec): 4.24 - samples/sec: 79.24 - lr: 0.008339 - momentum: 0.000000\n",
            "2025-05-15 11:35:57,120 epoch 7 - iter 49/76 - loss 0.09640466 - time (sec): 4.99 - samples/sec: 78.55 - lr: 0.008339 - momentum: 0.000000\n",
            "2025-05-15 11:35:57,831 epoch 7 - iter 56/76 - loss 0.09406618 - time (sec): 5.70 - samples/sec: 78.56 - lr: 0.008339 - momentum: 0.000000\n",
            "2025-05-15 11:35:58,398 epoch 7 - iter 63/76 - loss 0.09971390 - time (sec): 6.27 - samples/sec: 80.39 - lr: 0.008339 - momentum: 0.000000\n",
            "2025-05-15 11:35:59,096 epoch 7 - iter 70/76 - loss 0.10027532 - time (sec): 6.97 - samples/sec: 80.38 - lr: 0.008339 - momentum: 0.000000\n",
            "2025-05-15 11:35:59,735 ----------------------------------------------------------------------------------------------------\n",
            "2025-05-15 11:35:59,736 EPOCH 7 done: loss 0.1041 - lr: 0.008339\n"
          ]
        },
        {
          "output_type": "stream",
          "name": "stderr",
          "text": [
            "100%|██████████| 3/3 [00:00<00:00,  3.76it/s]"
          ]
        },
        {
          "output_type": "stream",
          "name": "stdout",
          "text": [
            "2025-05-15 11:36:00,566 DEV : loss 0.2912924587726593 - f1-score (micro avg)  0.8929\n",
            "2025-05-15 11:36:00,623  - 2 epochs without improvement\n",
            "2025-05-15 11:36:00,628 ----------------------------------------------------------------------------------------------------\n"
          ]
        },
        {
          "output_type": "stream",
          "name": "stderr",
          "text": [
            "\n"
          ]
        },
        {
          "output_type": "stream",
          "name": "stdout",
          "text": [
            "2025-05-15 11:36:01,262 epoch 8 - iter 7/76 - loss 0.00727894 - time (sec): 0.63 - samples/sec: 88.65 - lr: 0.008339 - momentum: 0.000000\n",
            "2025-05-15 11:36:02,074 epoch 8 - iter 14/76 - loss 0.05382215 - time (sec): 1.44 - samples/sec: 77.58 - lr: 0.008339 - momentum: 0.000000\n",
            "2025-05-15 11:36:02,771 epoch 8 - iter 21/76 - loss 0.06319435 - time (sec): 2.14 - samples/sec: 78.48 - lr: 0.008339 - momentum: 0.000000\n",
            "2025-05-15 11:36:03,477 epoch 8 - iter 28/76 - loss 0.07273404 - time (sec): 2.85 - samples/sec: 78.67 - lr: 0.008339 - momentum: 0.000000\n",
            "2025-05-15 11:36:04,238 epoch 8 - iter 35/76 - loss 0.06590854 - time (sec): 3.61 - samples/sec: 77.61 - lr: 0.008339 - momentum: 0.000000\n",
            "2025-05-15 11:36:04,971 epoch 8 - iter 42/76 - loss 0.06182839 - time (sec): 4.34 - samples/sec: 77.40 - lr: 0.008339 - momentum: 0.000000\n",
            "2025-05-15 11:36:05,622 epoch 8 - iter 49/76 - loss 0.07358115 - time (sec): 4.99 - samples/sec: 78.52 - lr: 0.008339 - momentum: 0.000000\n",
            "2025-05-15 11:36:06,264 epoch 8 - iter 56/76 - loss 0.08842301 - time (sec): 5.63 - samples/sec: 79.52 - lr: 0.008339 - momentum: 0.000000\n",
            "2025-05-15 11:36:07,049 epoch 8 - iter 63/76 - loss 0.08584202 - time (sec): 6.42 - samples/sec: 78.52 - lr: 0.008339 - momentum: 0.000000\n",
            "2025-05-15 11:36:07,695 epoch 8 - iter 70/76 - loss 0.08287239 - time (sec): 7.07 - samples/sec: 79.26 - lr: 0.008339 - momentum: 0.000000\n",
            "2025-05-15 11:36:08,316 ----------------------------------------------------------------------------------------------------\n",
            "2025-05-15 11:36:08,317 EPOCH 8 done: loss 0.0870 - lr: 0.008339\n"
          ]
        },
        {
          "output_type": "stream",
          "name": "stderr",
          "text": [
            "100%|██████████| 3/3 [00:00<00:00,  3.80it/s]\n"
          ]
        },
        {
          "output_type": "stream",
          "name": "stdout",
          "text": [
            "2025-05-15 11:36:09,131 DEV : loss 0.2507059574127197 - f1-score (micro avg)  0.9048\n",
            "2025-05-15 11:36:09,166  - 3 epochs without improvement\n",
            "2025-05-15 11:36:09,167 ----------------------------------------------------------------------------------------------------\n",
            "2025-05-15 11:36:09,833 epoch 9 - iter 7/76 - loss 0.07559625 - time (sec): 0.66 - samples/sec: 84.42 - lr: 0.008339 - momentum: 0.000000\n",
            "2025-05-15 11:36:10,523 epoch 9 - iter 14/76 - loss 0.05732023 - time (sec): 1.35 - samples/sec: 82.73 - lr: 0.008339 - momentum: 0.000000\n",
            "2025-05-15 11:36:11,150 epoch 9 - iter 21/76 - loss 0.04593381 - time (sec): 1.98 - samples/sec: 84.81 - lr: 0.008339 - momentum: 0.000000\n",
            "2025-05-15 11:36:11,894 epoch 9 - iter 28/76 - loss 0.11257053 - time (sec): 2.72 - samples/sec: 82.21 - lr: 0.008339 - momentum: 0.000000\n",
            "2025-05-15 11:36:12,609 epoch 9 - iter 35/76 - loss 0.11590648 - time (sec): 3.44 - samples/sec: 81.39 - lr: 0.008339 - momentum: 0.000000\n",
            "2025-05-15 11:36:13,339 epoch 9 - iter 42/76 - loss 0.10560233 - time (sec): 4.17 - samples/sec: 80.59 - lr: 0.008339 - momentum: 0.000000\n",
            "2025-05-15 11:36:14,142 epoch 9 - iter 49/76 - loss 0.09505918 - time (sec): 4.97 - samples/sec: 78.82 - lr: 0.008339 - momentum: 0.000000\n",
            "2025-05-15 11:36:14,776 epoch 9 - iter 56/76 - loss 0.10138406 - time (sec): 5.61 - samples/sec: 79.91 - lr: 0.008339 - momentum: 0.000000\n",
            "2025-05-15 11:36:15,489 epoch 9 - iter 63/76 - loss 0.09906603 - time (sec): 6.32 - samples/sec: 79.75 - lr: 0.008339 - momentum: 0.000000\n",
            "2025-05-15 11:36:16,161 epoch 9 - iter 70/76 - loss 0.09057319 - time (sec): 6.99 - samples/sec: 80.10 - lr: 0.008339 - momentum: 0.000000\n",
            "2025-05-15 11:36:16,801 ----------------------------------------------------------------------------------------------------\n",
            "2025-05-15 11:36:16,802 EPOCH 9 done: loss 0.0868 - lr: 0.008339\n"
          ]
        },
        {
          "output_type": "stream",
          "name": "stderr",
          "text": [
            "100%|██████████| 3/3 [00:00<00:00,  3.74it/s]\n"
          ]
        },
        {
          "output_type": "stream",
          "name": "stdout",
          "text": [
            "2025-05-15 11:36:17,628 DEV : loss 0.3171601891517639 - f1-score (micro avg)  0.881\n",
            "2025-05-15 11:36:17,663  - 4 epochs without improvement (above 'patience')-> annealing learning_rate to [0.004169406038112245]\n",
            "2025-05-15 11:36:18,769 ----------------------------------------------------------------------------------------------------\n",
            "2025-05-15 11:36:18,770 Loading model from best epoch ...\n"
          ]
        },
        {
          "output_type": "stream",
          "name": "stderr",
          "text": [
            "100%|██████████| 2/2 [00:00<00:00,  5.23it/s]"
          ]
        },
        {
          "output_type": "stream",
          "name": "stdout",
          "text": [
            "2025-05-15 11:36:21,373 \n",
            "Results:\n",
            "- F-score (micro) 0.8507\n",
            "- F-score (macro) 0.8053\n",
            "- Accuracy 0.8507\n",
            "\n",
            "By class:\n",
            "              precision    recall  f1-score   support\n",
            "\n",
            "          공통     0.7778    0.8750    0.8235        24\n",
            "       가설구조물     0.9286    0.9286    0.9286        14\n",
            "          교량     0.8462    0.8462    0.8462        13\n",
            "          건축     1.0000    0.8750    0.9333         8\n",
            "        굴착공사     1.0000    0.6667    0.8000         6\n",
            "        양중작업     0.5000    0.5000    0.5000         2\n",
            "\n",
            "    accuracy                         0.8507        67\n",
            "   macro avg     0.8421    0.7819    0.8053        67\n",
            "weighted avg     0.8607    0.8507    0.8512        67\n",
            "\n",
            "2025-05-15 11:36:21,374 ----------------------------------------------------------------------------------------------------\n"
          ]
        },
        {
          "output_type": "stream",
          "name": "stderr",
          "text": [
            "\n"
          ]
        },
        {
          "output_type": "stream",
          "name": "stdout",
          "text": [
            "  훈련 결과: {'test_score': 0.8507462686567164}\n",
            "  현재 폴드 정확도: 0.9345\n",
            "  폴드 4/5 학습 중...\n",
            "2025-05-15 11:36:25,899 Reading data from /tmp/tmpisf4f8we\n",
            "2025-05-15 11:36:25,900 Train: /tmp/tmpisf4f8we/train.txt\n",
            "2025-05-15 11:36:25,901 Dev: /tmp/tmpisf4f8we/dev.txt\n",
            "2025-05-15 11:36:25,902 Test: None\n",
            "2025-05-15 11:36:25,945 No test split found. Using 10% (i.e. 67 samples) of the train split as test data\n",
            "2025-05-15 11:36:25,946 Initialized corpus /tmp/tmpisf4f8we (label type name is 'class')\n",
            "2025-05-15 11:36:25,948 Computing label dictionary. Progress:\n"
          ]
        },
        {
          "output_type": "stream",
          "name": "stderr",
          "text": [
            "0it [00:00, ?it/s]\n",
            "604it [00:00, 4953.38it/s]"
          ]
        },
        {
          "output_type": "stream",
          "name": "stdout",
          "text": [
            "2025-05-15 11:36:26,078 Dictionary created for label 'class' with 6 values: 공통 (seen 175 times), 가설구조물 (seen 136 times), 교량 (seen 103 times), 굴착공사 (seen 82 times), 건축 (seen 57 times), 양중작업 (seen 51 times)\n",
            "2025-05-15 11:36:26,086 ----------------------------------------------------------------------------------------------------\n",
            "2025-05-15 11:36:26,088 Model: \"TextClassifier(\n",
            "  (embeddings): TransformerDocumentEmbeddings(\n",
            "    (model): BertModel(\n",
            "      (embeddings): BertEmbeddings(\n",
            "        (word_embeddings): Embedding(32001, 768, padding_idx=0)\n",
            "        (position_embeddings): Embedding(512, 768)\n",
            "        (token_type_embeddings): Embedding(2, 768)\n",
            "        (LayerNorm): LayerNorm((768,), eps=1e-12, elementwise_affine=True)\n",
            "        (dropout): Dropout(p=0.1, inplace=False)\n",
            "      )\n",
            "      (encoder): BertEncoder(\n",
            "        (layer): ModuleList(\n",
            "          (0-11): 12 x BertLayer(\n",
            "            (attention): BertAttention(\n",
            "              (self): BertSdpaSelfAttention(\n",
            "                (query): Linear(in_features=768, out_features=768, bias=True)\n",
            "                (key): Linear(in_features=768, out_features=768, bias=True)\n",
            "                (value): Linear(in_features=768, out_features=768, bias=True)\n",
            "                (dropout): Dropout(p=0.1, inplace=False)\n",
            "              )\n",
            "              (output): BertSelfOutput(\n",
            "                (dense): Linear(in_features=768, out_features=768, bias=True)\n",
            "                (LayerNorm): LayerNorm((768,), eps=1e-12, elementwise_affine=True)\n",
            "                (dropout): Dropout(p=0.1, inplace=False)\n",
            "              )\n",
            "            )\n",
            "            (intermediate): BertIntermediate(\n",
            "              (dense): Linear(in_features=768, out_features=3072, bias=True)\n",
            "              (intermediate_act_fn): GELUActivation()\n",
            "            )\n",
            "            (output): BertOutput(\n",
            "              (dense): Linear(in_features=3072, out_features=768, bias=True)\n",
            "              (LayerNorm): LayerNorm((768,), eps=1e-12, elementwise_affine=True)\n",
            "              (dropout): Dropout(p=0.1, inplace=False)\n",
            "            )\n",
            "          )\n",
            "        )\n",
            "      )\n",
            "      (pooler): BertPooler(\n",
            "        (dense): Linear(in_features=768, out_features=768, bias=True)\n",
            "        (activation): Tanh()\n",
            "      )\n",
            "    )\n",
            "  )\n",
            "  (decoder): Linear(in_features=768, out_features=6, bias=True)\n",
            "  (dropout): Dropout(p=0.0, inplace=False)\n",
            "  (locked_dropout): LockedDropout(p=0.0)\n",
            "  (word_dropout): WordDropout(p=0.0)\n",
            "  (loss_function): CrossEntropyLoss()\n",
            "  (weights): None\n",
            "  (weight_tensor) None\n",
            ")\"\n",
            "2025-05-15 11:36:26,089 ----------------------------------------------------------------------------------------------------\n",
            "2025-05-15 11:36:26,090 Corpus: 604 train + 167 dev + 67 test sentences\n",
            "2025-05-15 11:36:26,090 ----------------------------------------------------------------------------------------------------\n",
            "2025-05-15 11:36:26,091 Train:  604 sentences\n",
            "2025-05-15 11:36:26,092         (train_with_dev=False, train_with_test=False)\n",
            "2025-05-15 11:36:26,093 ----------------------------------------------------------------------------------------------------\n",
            "2025-05-15 11:36:26,094 Training Params:\n",
            "2025-05-15 11:36:26,094  - learning_rate: \"0.00833881207622449\" \n",
            "2025-05-15 11:36:26,095  - mini_batch_size: \"8\"\n",
            "2025-05-15 11:36:26,096  - max_epochs: \"9\"\n",
            "2025-05-15 11:36:26,097  - shuffle: \"True\"\n",
            "2025-05-15 11:36:26,098 ----------------------------------------------------------------------------------------------------\n",
            "2025-05-15 11:36:26,098 Plugins:\n",
            "2025-05-15 11:36:26,099  - AnnealOnPlateau | patience: '3', anneal_factor: '0.5', min_learning_rate: '0.0001'\n",
            "2025-05-15 11:36:26,100 ----------------------------------------------------------------------------------------------------\n",
            "2025-05-15 11:36:26,101 Final evaluation on model from best epoch (best-model.pt)\n",
            "2025-05-15 11:36:26,101  - metric: \"('micro avg', 'f1-score')\"\n",
            "2025-05-15 11:36:26,102 ----------------------------------------------------------------------------------------------------\n",
            "2025-05-15 11:36:26,103 Computation:\n",
            "2025-05-15 11:36:26,103  - compute on device: cuda:0\n",
            "2025-05-15 11:36:26,104  - embedding storage: cpu\n",
            "2025-05-15 11:36:26,104 ----------------------------------------------------------------------------------------------------\n",
            "2025-05-15 11:36:26,105 Model training base path: \"/tmp/tmpisf4f8we/model\"\n",
            "2025-05-15 11:36:26,106 ----------------------------------------------------------------------------------------------------\n",
            "2025-05-15 11:36:26,106 ----------------------------------------------------------------------------------------------------\n"
          ]
        },
        {
          "output_type": "stream",
          "name": "stderr",
          "text": [
            "\n",
            "/usr/local/lib/python3.11/dist-packages/flair/trainers/trainer.py:545: FutureWarning: `torch.cuda.amp.GradScaler(args...)` is deprecated. Please use `torch.amp.GradScaler('cuda', args...)` instead.\n",
            "  scaler = torch.cuda.amp.GradScaler(enabled=use_amp and flair.device.type != \"cpu\")\n"
          ]
        },
        {
          "output_type": "stream",
          "name": "stdout",
          "text": [
            "2025-05-15 11:36:26,768 epoch 1 - iter 7/76 - loss 2.10176122 - time (sec): 0.66 - samples/sec: 84.85 - lr: 0.008339 - momentum: 0.000000\n",
            "2025-05-15 11:36:27,526 epoch 1 - iter 14/76 - loss 1.78149216 - time (sec): 1.42 - samples/sec: 79.01 - lr: 0.008339 - momentum: 0.000000\n",
            "2025-05-15 11:36:28,264 epoch 1 - iter 21/76 - loss 1.57431434 - time (sec): 2.16 - samples/sec: 77.94 - lr: 0.008339 - momentum: 0.000000\n",
            "2025-05-15 11:36:28,989 epoch 1 - iter 28/76 - loss 1.38035814 - time (sec): 2.88 - samples/sec: 77.75 - lr: 0.008339 - momentum: 0.000000\n",
            "2025-05-15 11:36:29,704 epoch 1 - iter 35/76 - loss 1.27514833 - time (sec): 3.60 - samples/sec: 77.87 - lr: 0.008339 - momentum: 0.000000\n",
            "2025-05-15 11:36:30,273 epoch 1 - iter 42/76 - loss 1.17084009 - time (sec): 4.16 - samples/sec: 80.68 - lr: 0.008339 - momentum: 0.000000\n",
            "2025-05-15 11:36:30,916 epoch 1 - iter 49/76 - loss 1.06775039 - time (sec): 4.81 - samples/sec: 81.54 - lr: 0.008339 - momentum: 0.000000\n",
            "2025-05-15 11:36:31,709 epoch 1 - iter 56/76 - loss 1.00201123 - time (sec): 5.60 - samples/sec: 80.00 - lr: 0.008339 - momentum: 0.000000\n",
            "2025-05-15 11:36:32,425 epoch 1 - iter 63/76 - loss 0.96188349 - time (sec): 6.32 - samples/sec: 79.78 - lr: 0.008339 - momentum: 0.000000\n",
            "2025-05-15 11:36:33,031 epoch 1 - iter 70/76 - loss 0.93324939 - time (sec): 6.92 - samples/sec: 80.89 - lr: 0.008339 - momentum: 0.000000\n",
            "2025-05-15 11:36:33,585 ----------------------------------------------------------------------------------------------------\n",
            "2025-05-15 11:36:33,585 EPOCH 1 done: loss 0.8973 - lr: 0.008339\n"
          ]
        },
        {
          "output_type": "stream",
          "name": "stderr",
          "text": [
            "100%|██████████| 3/3 [00:01<00:00,  2.93it/s]"
          ]
        },
        {
          "output_type": "stream",
          "name": "stdout",
          "text": [
            "2025-05-15 11:36:34,631 DEV : loss 0.3513771593570709 - f1-score (micro avg)  0.8563\n",
            "2025-05-15 11:36:34,669  - 0 epochs without improvement\n",
            "2025-05-15 11:36:34,670 saving best model\n"
          ]
        },
        {
          "output_type": "stream",
          "name": "stderr",
          "text": [
            "\n"
          ]
        },
        {
          "output_type": "stream",
          "name": "stdout",
          "text": [
            "2025-05-15 11:36:35,825 ----------------------------------------------------------------------------------------------------\n",
            "2025-05-15 11:36:36,397 epoch 2 - iter 7/76 - loss 0.31158337 - time (sec): 0.57 - samples/sec: 98.86 - lr: 0.008339 - momentum: 0.000000\n",
            "2025-05-15 11:36:37,068 epoch 2 - iter 14/76 - loss 0.35485236 - time (sec): 1.24 - samples/sec: 90.51 - lr: 0.008339 - momentum: 0.000000\n",
            "2025-05-15 11:36:37,730 epoch 2 - iter 21/76 - loss 0.29673646 - time (sec): 1.90 - samples/sec: 88.42 - lr: 0.008339 - momentum: 0.000000\n",
            "2025-05-15 11:36:38,471 epoch 2 - iter 28/76 - loss 0.28206285 - time (sec): 2.64 - samples/sec: 84.83 - lr: 0.008339 - momentum: 0.000000\n",
            "2025-05-15 11:36:39,225 epoch 2 - iter 35/76 - loss 0.31320655 - time (sec): 3.39 - samples/sec: 82.49 - lr: 0.008339 - momentum: 0.000000\n",
            "2025-05-15 11:36:39,941 epoch 2 - iter 42/76 - loss 0.32228159 - time (sec): 4.11 - samples/sec: 81.74 - lr: 0.008339 - momentum: 0.000000\n",
            "2025-05-15 11:36:40,576 epoch 2 - iter 49/76 - loss 0.33975896 - time (sec): 4.75 - samples/sec: 82.59 - lr: 0.008339 - momentum: 0.000000\n",
            "2025-05-15 11:36:41,265 epoch 2 - iter 56/76 - loss 0.35385265 - time (sec): 5.43 - samples/sec: 82.43 - lr: 0.008339 - momentum: 0.000000\n",
            "2025-05-15 11:36:42,056 epoch 2 - iter 63/76 - loss 0.35252483 - time (sec): 6.23 - samples/sec: 80.95 - lr: 0.008339 - momentum: 0.000000\n",
            "2025-05-15 11:36:42,817 epoch 2 - iter 70/76 - loss 0.33537392 - time (sec): 6.99 - samples/sec: 80.16 - lr: 0.008339 - momentum: 0.000000\n",
            "2025-05-15 11:36:43,357 ----------------------------------------------------------------------------------------------------\n",
            "2025-05-15 11:36:43,358 EPOCH 2 done: loss 0.3375 - lr: 0.008339\n"
          ]
        },
        {
          "output_type": "stream",
          "name": "stderr",
          "text": [
            "100%|██████████| 3/3 [00:01<00:00,  2.88it/s]"
          ]
        },
        {
          "output_type": "stream",
          "name": "stdout",
          "text": [
            "2025-05-15 11:36:44,427 DEV : loss 0.21594205498695374 - f1-score (micro avg)  0.9162\n",
            "2025-05-15 11:36:44,463  - 0 epochs without improvement\n",
            "2025-05-15 11:36:44,464 saving best model\n"
          ]
        },
        {
          "output_type": "stream",
          "name": "stderr",
          "text": [
            "\n"
          ]
        },
        {
          "output_type": "stream",
          "name": "stdout",
          "text": [
            "2025-05-15 11:36:45,651 ----------------------------------------------------------------------------------------------------\n",
            "2025-05-15 11:36:46,335 epoch 3 - iter 7/76 - loss 0.31841719 - time (sec): 0.68 - samples/sec: 82.23 - lr: 0.008339 - momentum: 0.000000\n",
            "2025-05-15 11:36:47,008 epoch 3 - iter 14/76 - loss 0.26031839 - time (sec): 1.35 - samples/sec: 82.68 - lr: 0.008339 - momentum: 0.000000\n",
            "2025-05-15 11:36:47,739 epoch 3 - iter 21/76 - loss 0.27348645 - time (sec): 2.08 - samples/sec: 80.58 - lr: 0.008339 - momentum: 0.000000\n",
            "2025-05-15 11:36:48,431 epoch 3 - iter 28/76 - loss 0.26401972 - time (sec): 2.78 - samples/sec: 80.66 - lr: 0.008339 - momentum: 0.000000\n",
            "2025-05-15 11:36:49,153 epoch 3 - iter 35/76 - loss 0.25201742 - time (sec): 3.50 - samples/sec: 80.02 - lr: 0.008339 - momentum: 0.000000\n",
            "2025-05-15 11:36:49,779 epoch 3 - iter 42/76 - loss 0.25217777 - time (sec): 4.12 - samples/sec: 81.46 - lr: 0.008339 - momentum: 0.000000\n",
            "2025-05-15 11:36:50,468 epoch 3 - iter 49/76 - loss 0.23575709 - time (sec): 4.81 - samples/sec: 81.43 - lr: 0.008339 - momentum: 0.000000\n",
            "2025-05-15 11:36:51,226 epoch 3 - iter 56/76 - loss 0.24615145 - time (sec): 5.57 - samples/sec: 80.39 - lr: 0.008339 - momentum: 0.000000\n",
            "2025-05-15 11:36:51,965 epoch 3 - iter 63/76 - loss 0.24499541 - time (sec): 6.31 - samples/sec: 79.85 - lr: 0.008339 - momentum: 0.000000\n",
            "2025-05-15 11:36:52,614 epoch 3 - iter 70/76 - loss 0.25292381 - time (sec): 6.96 - samples/sec: 80.46 - lr: 0.008339 - momentum: 0.000000\n",
            "2025-05-15 11:36:53,140 ----------------------------------------------------------------------------------------------------\n",
            "2025-05-15 11:36:53,142 EPOCH 3 done: loss 0.2567 - lr: 0.008339\n"
          ]
        },
        {
          "output_type": "stream",
          "name": "stderr",
          "text": [
            "100%|██████████| 3/3 [00:01<00:00,  2.78it/s]"
          ]
        },
        {
          "output_type": "stream",
          "name": "stdout",
          "text": [
            "2025-05-15 11:36:54,252 DEV : loss 0.28659382462501526 - f1-score (micro avg)  0.9102\n",
            "2025-05-15 11:36:54,315  - 1 epochs without improvement\n",
            "2025-05-15 11:36:54,320 ----------------------------------------------------------------------------------------------------\n"
          ]
        },
        {
          "output_type": "stream",
          "name": "stderr",
          "text": [
            "\n"
          ]
        },
        {
          "output_type": "stream",
          "name": "stdout",
          "text": [
            "2025-05-15 11:36:54,923 epoch 4 - iter 7/76 - loss 0.12603648 - time (sec): 0.60 - samples/sec: 93.16 - lr: 0.008339 - momentum: 0.000000\n",
            "2025-05-15 11:36:55,642 epoch 4 - iter 14/76 - loss 0.25068503 - time (sec): 1.32 - samples/sec: 84.86 - lr: 0.008339 - momentum: 0.000000\n",
            "2025-05-15 11:36:56,341 epoch 4 - iter 21/76 - loss 0.23698819 - time (sec): 2.02 - samples/sec: 83.21 - lr: 0.008339 - momentum: 0.000000\n",
            "2025-05-15 11:36:57,069 epoch 4 - iter 28/76 - loss 0.24639063 - time (sec): 2.75 - samples/sec: 81.52 - lr: 0.008339 - momentum: 0.000000\n",
            "2025-05-15 11:36:57,758 epoch 4 - iter 35/76 - loss 0.22187487 - time (sec): 3.44 - samples/sec: 81.49 - lr: 0.008339 - momentum: 0.000000\n",
            "2025-05-15 11:36:58,520 epoch 4 - iter 42/76 - loss 0.21659330 - time (sec): 4.20 - samples/sec: 80.03 - lr: 0.008339 - momentum: 0.000000\n",
            "2025-05-15 11:36:59,148 epoch 4 - iter 49/76 - loss 0.19682093 - time (sec): 4.83 - samples/sec: 81.23 - lr: 0.008339 - momentum: 0.000000\n",
            "2025-05-15 11:36:59,936 epoch 4 - iter 56/76 - loss 0.18316103 - time (sec): 5.61 - samples/sec: 79.80 - lr: 0.008339 - momentum: 0.000000\n",
            "2025-05-15 11:37:00,645 epoch 4 - iter 63/76 - loss 0.17506791 - time (sec): 6.32 - samples/sec: 79.71 - lr: 0.008339 - momentum: 0.000000\n",
            "2025-05-15 11:37:01,303 epoch 4 - iter 70/76 - loss 0.16236958 - time (sec): 6.98 - samples/sec: 80.22 - lr: 0.008339 - momentum: 0.000000\n",
            "2025-05-15 11:37:01,843 ----------------------------------------------------------------------------------------------------\n",
            "2025-05-15 11:37:01,844 EPOCH 4 done: loss 0.1557 - lr: 0.008339\n"
          ]
        },
        {
          "output_type": "stream",
          "name": "stderr",
          "text": [
            "100%|██████████| 3/3 [00:01<00:00,  2.83it/s]"
          ]
        },
        {
          "output_type": "stream",
          "name": "stdout",
          "text": [
            "2025-05-15 11:37:02,934 DEV : loss 0.3622346520423889 - f1-score (micro avg)  0.8922\n",
            "2025-05-15 11:37:02,969  - 2 epochs without improvement\n",
            "2025-05-15 11:37:02,970 ----------------------------------------------------------------------------------------------------\n"
          ]
        },
        {
          "output_type": "stream",
          "name": "stderr",
          "text": [
            "\n"
          ]
        },
        {
          "output_type": "stream",
          "name": "stdout",
          "text": [
            "2025-05-15 11:37:03,601 epoch 5 - iter 7/76 - loss 0.16402109 - time (sec): 0.63 - samples/sec: 89.11 - lr: 0.008339 - momentum: 0.000000\n",
            "2025-05-15 11:37:04,390 epoch 5 - iter 14/76 - loss 0.16169650 - time (sec): 1.42 - samples/sec: 79.05 - lr: 0.008339 - momentum: 0.000000\n",
            "2025-05-15 11:37:05,059 epoch 5 - iter 21/76 - loss 0.11816305 - time (sec): 2.09 - samples/sec: 80.52 - lr: 0.008339 - momentum: 0.000000\n",
            "2025-05-15 11:37:05,773 epoch 5 - iter 28/76 - loss 0.11812131 - time (sec): 2.80 - samples/sec: 79.99 - lr: 0.008339 - momentum: 0.000000\n",
            "2025-05-15 11:37:06,510 epoch 5 - iter 35/76 - loss 0.13156414 - time (sec): 3.54 - samples/sec: 79.16 - lr: 0.008339 - momentum: 0.000000\n",
            "2025-05-15 11:37:07,227 epoch 5 - iter 42/76 - loss 0.13014518 - time (sec): 4.25 - samples/sec: 78.98 - lr: 0.008339 - momentum: 0.000000\n",
            "2025-05-15 11:37:07,911 epoch 5 - iter 49/76 - loss 0.12878981 - time (sec): 4.94 - samples/sec: 79.38 - lr: 0.008339 - momentum: 0.000000\n",
            "2025-05-15 11:37:08,566 epoch 5 - iter 56/76 - loss 0.13980430 - time (sec): 5.59 - samples/sec: 80.10 - lr: 0.008339 - momentum: 0.000000\n",
            "2025-05-15 11:37:09,290 epoch 5 - iter 63/76 - loss 0.16734956 - time (sec): 6.32 - samples/sec: 79.78 - lr: 0.008339 - momentum: 0.000000\n",
            "2025-05-15 11:37:09,886 epoch 5 - iter 70/76 - loss 0.15849669 - time (sec): 6.91 - samples/sec: 81.00 - lr: 0.008339 - momentum: 0.000000\n",
            "2025-05-15 11:37:10,457 ----------------------------------------------------------------------------------------------------\n",
            "2025-05-15 11:37:10,457 EPOCH 5 done: loss 0.1557 - lr: 0.008339\n"
          ]
        },
        {
          "output_type": "stream",
          "name": "stderr",
          "text": [
            "100%|██████████| 3/3 [00:01<00:00,  2.86it/s]"
          ]
        },
        {
          "output_type": "stream",
          "name": "stdout",
          "text": [
            "2025-05-15 11:37:11,530 DEV : loss 0.20794199407100677 - f1-score (micro avg)  0.9341\n",
            "2025-05-15 11:37:11,566  - 0 epochs without improvement\n",
            "2025-05-15 11:37:11,566 saving best model\n"
          ]
        },
        {
          "output_type": "stream",
          "name": "stderr",
          "text": [
            "\n"
          ]
        },
        {
          "output_type": "stream",
          "name": "stdout",
          "text": [
            "2025-05-15 11:37:12,788 ----------------------------------------------------------------------------------------------------\n",
            "2025-05-15 11:37:13,363 epoch 6 - iter 7/76 - loss 0.11278814 - time (sec): 0.57 - samples/sec: 97.80 - lr: 0.008339 - momentum: 0.000000\n",
            "2025-05-15 11:37:14,073 epoch 6 - iter 14/76 - loss 0.09371997 - time (sec): 1.28 - samples/sec: 87.34 - lr: 0.008339 - momentum: 0.000000\n",
            "2025-05-15 11:37:14,749 epoch 6 - iter 21/76 - loss 0.07381171 - time (sec): 1.96 - samples/sec: 85.78 - lr: 0.008339 - momentum: 0.000000\n",
            "2025-05-15 11:37:15,434 epoch 6 - iter 28/76 - loss 0.07184667 - time (sec): 2.64 - samples/sec: 84.73 - lr: 0.008339 - momentum: 0.000000\n",
            "2025-05-15 11:37:16,149 epoch 6 - iter 35/76 - loss 0.06521494 - time (sec): 3.36 - samples/sec: 83.36 - lr: 0.008339 - momentum: 0.000000\n",
            "2025-05-15 11:37:16,751 epoch 6 - iter 42/76 - loss 0.06589785 - time (sec): 3.96 - samples/sec: 84.84 - lr: 0.008339 - momentum: 0.000000\n",
            "2025-05-15 11:37:17,442 epoch 6 - iter 49/76 - loss 0.07082831 - time (sec): 4.65 - samples/sec: 84.28 - lr: 0.008339 - momentum: 0.000000\n",
            "2025-05-15 11:37:18,181 epoch 6 - iter 56/76 - loss 0.08236089 - time (sec): 5.39 - samples/sec: 83.11 - lr: 0.008339 - momentum: 0.000000\n",
            "2025-05-15 11:37:18,988 epoch 6 - iter 63/76 - loss 0.08059138 - time (sec): 6.20 - samples/sec: 81.32 - lr: 0.008339 - momentum: 0.000000\n",
            "2025-05-15 11:37:19,645 epoch 6 - iter 70/76 - loss 0.07770397 - time (sec): 6.85 - samples/sec: 81.70 - lr: 0.008339 - momentum: 0.000000\n",
            "2025-05-15 11:37:20,233 ----------------------------------------------------------------------------------------------------\n",
            "2025-05-15 11:37:20,237 EPOCH 6 done: loss 0.0745 - lr: 0.008339\n"
          ]
        },
        {
          "output_type": "stream",
          "name": "stderr",
          "text": [
            "100%|██████████| 3/3 [00:01<00:00,  2.75it/s]"
          ]
        },
        {
          "output_type": "stream",
          "name": "stdout",
          "text": [
            "2025-05-15 11:37:21,359 DEV : loss 0.27725541591644287 - f1-score (micro avg)  0.9281\n",
            "2025-05-15 11:37:21,415  - 1 epochs without improvement\n",
            "2025-05-15 11:37:21,419 ----------------------------------------------------------------------------------------------------\n"
          ]
        },
        {
          "output_type": "stream",
          "name": "stderr",
          "text": [
            "\n"
          ]
        },
        {
          "output_type": "stream",
          "name": "stdout",
          "text": [
            "2025-05-15 11:37:22,068 epoch 7 - iter 7/76 - loss 0.08009790 - time (sec): 0.65 - samples/sec: 86.58 - lr: 0.008339 - momentum: 0.000000\n",
            "2025-05-15 11:37:22,742 epoch 7 - iter 14/76 - loss 0.16842940 - time (sec): 1.32 - samples/sec: 84.75 - lr: 0.008339 - momentum: 0.000000\n",
            "2025-05-15 11:37:23,390 epoch 7 - iter 21/76 - loss 0.12832188 - time (sec): 1.97 - samples/sec: 85.30 - lr: 0.008339 - momentum: 0.000000\n",
            "2025-05-15 11:37:24,158 epoch 7 - iter 28/76 - loss 0.11378901 - time (sec): 2.74 - samples/sec: 81.85 - lr: 0.008339 - momentum: 0.000000\n",
            "2025-05-15 11:37:24,862 epoch 7 - iter 35/76 - loss 0.10200821 - time (sec): 3.44 - samples/sec: 81.38 - lr: 0.008339 - momentum: 0.000000\n",
            "2025-05-15 11:37:25,573 epoch 7 - iter 42/76 - loss 0.10101201 - time (sec): 4.15 - samples/sec: 80.93 - lr: 0.008339 - momentum: 0.000000\n",
            "2025-05-15 11:37:26,337 epoch 7 - iter 49/76 - loss 0.08858374 - time (sec): 4.92 - samples/sec: 79.74 - lr: 0.008339 - momentum: 0.000000\n",
            "2025-05-15 11:37:26,997 epoch 7 - iter 56/76 - loss 0.08313458 - time (sec): 5.58 - samples/sec: 80.34 - lr: 0.008339 - momentum: 0.000000\n",
            "2025-05-15 11:37:27,659 epoch 7 - iter 63/76 - loss 0.09211584 - time (sec): 6.24 - samples/sec: 80.79 - lr: 0.008339 - momentum: 0.000000\n",
            "2025-05-15 11:37:28,379 epoch 7 - iter 70/76 - loss 0.09520256 - time (sec): 6.96 - samples/sec: 80.48 - lr: 0.008339 - momentum: 0.000000\n",
            "2025-05-15 11:37:28,966 ----------------------------------------------------------------------------------------------------\n",
            "2025-05-15 11:37:28,967 EPOCH 7 done: loss 0.0985 - lr: 0.008339\n"
          ]
        },
        {
          "output_type": "stream",
          "name": "stderr",
          "text": [
            "100%|██████████| 3/3 [00:01<00:00,  2.95it/s]"
          ]
        },
        {
          "output_type": "stream",
          "name": "stdout",
          "text": [
            "2025-05-15 11:37:30,006 DEV : loss 0.2589242458343506 - f1-score (micro avg)  0.9281\n",
            "2025-05-15 11:37:30,041  - 2 epochs without improvement\n",
            "2025-05-15 11:37:30,042 ----------------------------------------------------------------------------------------------------\n"
          ]
        },
        {
          "output_type": "stream",
          "name": "stderr",
          "text": [
            "\n"
          ]
        },
        {
          "output_type": "stream",
          "name": "stdout",
          "text": [
            "2025-05-15 11:37:30,596 epoch 8 - iter 7/76 - loss 0.02225172 - time (sec): 0.55 - samples/sec: 101.49 - lr: 0.008339 - momentum: 0.000000\n",
            "2025-05-15 11:37:31,275 epoch 8 - iter 14/76 - loss 0.01847395 - time (sec): 1.23 - samples/sec: 91.02 - lr: 0.008339 - momentum: 0.000000\n",
            "2025-05-15 11:37:31,980 epoch 8 - iter 21/76 - loss 0.01875903 - time (sec): 1.94 - samples/sec: 86.81 - lr: 0.008339 - momentum: 0.000000\n",
            "2025-05-15 11:37:32,652 epoch 8 - iter 28/76 - loss 0.04363569 - time (sec): 2.61 - samples/sec: 85.92 - lr: 0.008339 - momentum: 0.000000\n",
            "2025-05-15 11:37:33,490 epoch 8 - iter 35/76 - loss 0.03763090 - time (sec): 3.44 - samples/sec: 81.28 - lr: 0.008339 - momentum: 0.000000\n",
            "2025-05-15 11:37:34,221 epoch 8 - iter 42/76 - loss 0.03412206 - time (sec): 4.18 - samples/sec: 80.45 - lr: 0.008339 - momentum: 0.000000\n",
            "2025-05-15 11:37:34,855 epoch 8 - iter 49/76 - loss 0.03038373 - time (sec): 4.81 - samples/sec: 81.49 - lr: 0.008339 - momentum: 0.000000\n",
            "2025-05-15 11:37:35,519 epoch 8 - iter 56/76 - loss 0.03071216 - time (sec): 5.47 - samples/sec: 81.83 - lr: 0.008339 - momentum: 0.000000\n",
            "2025-05-15 11:37:36,193 epoch 8 - iter 63/76 - loss 0.03406316 - time (sec): 6.15 - samples/sec: 81.98 - lr: 0.008339 - momentum: 0.000000\n",
            "2025-05-15 11:37:36,875 epoch 8 - iter 70/76 - loss 0.03271409 - time (sec): 6.83 - samples/sec: 81.99 - lr: 0.008339 - momentum: 0.000000\n",
            "2025-05-15 11:37:37,463 ----------------------------------------------------------------------------------------------------\n",
            "2025-05-15 11:37:37,464 EPOCH 8 done: loss 0.0304 - lr: 0.008339\n"
          ]
        },
        {
          "output_type": "stream",
          "name": "stderr",
          "text": [
            "100%|██████████| 3/3 [00:01<00:00,  2.91it/s]"
          ]
        },
        {
          "output_type": "stream",
          "name": "stdout",
          "text": [
            "2025-05-15 11:37:38,522 DEV : loss 0.3549773395061493 - f1-score (micro avg)  0.9042\n",
            "2025-05-15 11:37:38,556  - 3 epochs without improvement\n",
            "2025-05-15 11:37:38,557 ----------------------------------------------------------------------------------------------------\n"
          ]
        },
        {
          "output_type": "stream",
          "name": "stderr",
          "text": [
            "\n"
          ]
        },
        {
          "output_type": "stream",
          "name": "stdout",
          "text": [
            "2025-05-15 11:37:39,201 epoch 9 - iter 7/76 - loss 0.07642856 - time (sec): 0.64 - samples/sec: 87.28 - lr: 0.008339 - momentum: 0.000000\n",
            "2025-05-15 11:37:39,970 epoch 9 - iter 14/76 - loss 0.04055827 - time (sec): 1.41 - samples/sec: 79.39 - lr: 0.008339 - momentum: 0.000000\n",
            "2025-05-15 11:37:40,632 epoch 9 - iter 21/76 - loss 0.03308487 - time (sec): 2.07 - samples/sec: 81.04 - lr: 0.008339 - momentum: 0.000000\n",
            "2025-05-15 11:37:41,361 epoch 9 - iter 28/76 - loss 0.02811097 - time (sec): 2.80 - samples/sec: 79.95 - lr: 0.008339 - momentum: 0.000000\n",
            "2025-05-15 11:37:42,104 epoch 9 - iter 35/76 - loss 0.02431146 - time (sec): 3.54 - samples/sec: 79.00 - lr: 0.008339 - momentum: 0.000000\n",
            "2025-05-15 11:37:42,889 epoch 9 - iter 42/76 - loss 0.06274940 - time (sec): 4.33 - samples/sec: 77.62 - lr: 0.008339 - momentum: 0.000000\n",
            "2025-05-15 11:37:43,624 epoch 9 - iter 49/76 - loss 0.06853233 - time (sec): 5.06 - samples/sec: 77.40 - lr: 0.008339 - momentum: 0.000000\n",
            "2025-05-15 11:37:44,203 epoch 9 - iter 56/76 - loss 0.06542058 - time (sec): 5.64 - samples/sec: 79.39 - lr: 0.008339 - momentum: 0.000000\n",
            "2025-05-15 11:37:44,815 epoch 9 - iter 63/76 - loss 0.05940621 - time (sec): 6.26 - samples/sec: 80.56 - lr: 0.008339 - momentum: 0.000000\n",
            "2025-05-15 11:37:45,462 epoch 9 - iter 70/76 - loss 0.05370397 - time (sec): 6.90 - samples/sec: 81.13 - lr: 0.008339 - momentum: 0.000000\n",
            "2025-05-15 11:37:46,016 ----------------------------------------------------------------------------------------------------\n",
            "2025-05-15 11:37:46,019 EPOCH 9 done: loss 0.0501 - lr: 0.008339\n"
          ]
        },
        {
          "output_type": "stream",
          "name": "stderr",
          "text": [
            "100%|██████████| 3/3 [00:01<00:00,  2.79it/s]"
          ]
        },
        {
          "output_type": "stream",
          "name": "stdout",
          "text": [
            "2025-05-15 11:37:47,120 DEV : loss 0.31400614976882935 - f1-score (micro avg)  0.9341\n",
            "2025-05-15 11:37:47,180  - 4 epochs without improvement (above 'patience')-> annealing learning_rate to [0.004169406038112245]\n"
          ]
        },
        {
          "output_type": "stream",
          "name": "stderr",
          "text": [
            "\n"
          ]
        },
        {
          "output_type": "stream",
          "name": "stdout",
          "text": [
            "2025-05-15 11:37:50,415 ----------------------------------------------------------------------------------------------------\n",
            "2025-05-15 11:37:50,418 Loading model from best epoch ...\n"
          ]
        },
        {
          "output_type": "stream",
          "name": "stderr",
          "text": [
            "100%|██████████| 2/2 [00:00<00:00,  5.15it/s]"
          ]
        },
        {
          "output_type": "stream",
          "name": "stdout",
          "text": [
            "2025-05-15 11:37:52,881 \n",
            "Results:\n",
            "- F-score (micro) 0.9104\n",
            "- F-score (macro) 0.8957\n",
            "- Accuracy 0.9104\n",
            "\n",
            "By class:\n",
            "              precision    recall  f1-score   support\n",
            "\n",
            "          공통     0.9545    0.9545    0.9545        22\n",
            "       가설구조물     0.8947    1.0000    0.9444        17\n",
            "          교량     0.8889    0.7273    0.8000        11\n",
            "        양중작업     0.8750    0.8750    0.8750         8\n",
            "        굴착공사     0.8000    0.8000    0.8000         5\n",
            "          건축     1.0000    1.0000    1.0000         4\n",
            "\n",
            "    accuracy                         0.9104        67\n",
            "   macro avg     0.9022    0.8928    0.8957        67\n",
            "weighted avg     0.9103    0.9104    0.9083        67\n",
            "\n",
            "2025-05-15 11:37:52,882 ----------------------------------------------------------------------------------------------------\n"
          ]
        },
        {
          "output_type": "stream",
          "name": "stderr",
          "text": [
            "\n"
          ]
        },
        {
          "output_type": "stream",
          "name": "stdout",
          "text": [
            "  훈련 결과: {'test_score': 0.9104477611940298}\n",
            "  현재 폴드 정확도: 0.9341\n",
            "  폴드 5/5 학습 중...\n",
            "2025-05-15 11:37:57,245 Reading data from /tmp/tmp1foit_yq\n",
            "2025-05-15 11:37:57,246 Train: /tmp/tmp1foit_yq/train.txt\n",
            "2025-05-15 11:37:57,247 Dev: /tmp/tmp1foit_yq/dev.txt\n",
            "2025-05-15 11:37:57,247 Test: None\n",
            "2025-05-15 11:37:57,293 No test split found. Using 10% (i.e. 67 samples) of the train split as test data\n",
            "2025-05-15 11:37:57,294 Initialized corpus /tmp/tmp1foit_yq (label type name is 'class')\n",
            "2025-05-15 11:37:57,296 Computing label dictionary. Progress:\n"
          ]
        },
        {
          "output_type": "stream",
          "name": "stderr",
          "text": [
            "0it [00:00, ?it/s]\n",
            "604it [00:00, 5065.50it/s]"
          ]
        },
        {
          "output_type": "stream",
          "name": "stdout",
          "text": [
            "2025-05-15 11:37:57,424 Dictionary created for label 'class' with 6 values: 공통 (seen 176 times), 가설구조물 (seen 133 times), 교량 (seen 104 times), 굴착공사 (seen 82 times), 건축 (seen 55 times), 양중작업 (seen 54 times)\n",
            "2025-05-15 11:37:57,432 ----------------------------------------------------------------------------------------------------\n",
            "2025-05-15 11:37:57,434 Model: \"TextClassifier(\n",
            "  (embeddings): TransformerDocumentEmbeddings(\n",
            "    (model): BertModel(\n",
            "      (embeddings): BertEmbeddings(\n",
            "        (word_embeddings): Embedding(32001, 768, padding_idx=0)\n",
            "        (position_embeddings): Embedding(512, 768)\n",
            "        (token_type_embeddings): Embedding(2, 768)\n",
            "        (LayerNorm): LayerNorm((768,), eps=1e-12, elementwise_affine=True)\n",
            "        (dropout): Dropout(p=0.1, inplace=False)\n",
            "      )\n",
            "      (encoder): BertEncoder(\n",
            "        (layer): ModuleList(\n",
            "          (0-11): 12 x BertLayer(\n",
            "            (attention): BertAttention(\n",
            "              (self): BertSdpaSelfAttention(\n",
            "                (query): Linear(in_features=768, out_features=768, bias=True)\n",
            "                (key): Linear(in_features=768, out_features=768, bias=True)\n",
            "                (value): Linear(in_features=768, out_features=768, bias=True)\n",
            "                (dropout): Dropout(p=0.1, inplace=False)\n",
            "              )\n",
            "              (output): BertSelfOutput(\n",
            "                (dense): Linear(in_features=768, out_features=768, bias=True)\n",
            "                (LayerNorm): LayerNorm((768,), eps=1e-12, elementwise_affine=True)\n",
            "                (dropout): Dropout(p=0.1, inplace=False)\n",
            "              )\n",
            "            )\n",
            "            (intermediate): BertIntermediate(\n",
            "              (dense): Linear(in_features=768, out_features=3072, bias=True)\n",
            "              (intermediate_act_fn): GELUActivation()\n",
            "            )\n",
            "            (output): BertOutput(\n",
            "              (dense): Linear(in_features=3072, out_features=768, bias=True)\n",
            "              (LayerNorm): LayerNorm((768,), eps=1e-12, elementwise_affine=True)\n",
            "              (dropout): Dropout(p=0.1, inplace=False)\n",
            "            )\n",
            "          )\n",
            "        )\n",
            "      )\n",
            "      (pooler): BertPooler(\n",
            "        (dense): Linear(in_features=768, out_features=768, bias=True)\n",
            "        (activation): Tanh()\n",
            "      )\n",
            "    )\n",
            "  )\n",
            "  (decoder): Linear(in_features=768, out_features=6, bias=True)\n",
            "  (dropout): Dropout(p=0.0, inplace=False)\n",
            "  (locked_dropout): LockedDropout(p=0.0)\n",
            "  (word_dropout): WordDropout(p=0.0)\n",
            "  (loss_function): CrossEntropyLoss()\n",
            "  (weights): None\n",
            "  (weight_tensor) None\n",
            ")\"\n",
            "2025-05-15 11:37:57,435 ----------------------------------------------------------------------------------------------------\n",
            "2025-05-15 11:37:57,436 Corpus: 604 train + 167 dev + 67 test sentences\n",
            "2025-05-15 11:37:57,437 ----------------------------------------------------------------------------------------------------\n",
            "2025-05-15 11:37:57,438 Train:  604 sentences\n",
            "2025-05-15 11:37:57,438         (train_with_dev=False, train_with_test=False)\n",
            "2025-05-15 11:37:57,439 ----------------------------------------------------------------------------------------------------\n",
            "2025-05-15 11:37:57,440 Training Params:\n",
            "2025-05-15 11:37:57,441  - learning_rate: \"0.00833881207622449\" \n",
            "2025-05-15 11:37:57,442  - mini_batch_size: \"8\"\n",
            "2025-05-15 11:37:57,442  - max_epochs: \"9\"\n",
            "2025-05-15 11:37:57,443  - shuffle: \"True\"\n",
            "2025-05-15 11:37:57,444 ----------------------------------------------------------------------------------------------------\n",
            "2025-05-15 11:37:57,445 Plugins:\n",
            "2025-05-15 11:37:57,445  - AnnealOnPlateau | patience: '3', anneal_factor: '0.5', min_learning_rate: '0.0001'\n",
            "2025-05-15 11:37:57,446 ----------------------------------------------------------------------------------------------------\n",
            "2025-05-15 11:37:57,447 Final evaluation on model from best epoch (best-model.pt)\n",
            "2025-05-15 11:37:57,448  - metric: \"('micro avg', 'f1-score')\"\n",
            "2025-05-15 11:37:57,448 ----------------------------------------------------------------------------------------------------\n",
            "2025-05-15 11:37:57,449 Computation:\n",
            "2025-05-15 11:37:57,450  - compute on device: cuda:0\n",
            "2025-05-15 11:37:57,450  - embedding storage: cpu\n",
            "2025-05-15 11:37:57,451 ----------------------------------------------------------------------------------------------------\n",
            "2025-05-15 11:37:57,451 Model training base path: \"/tmp/tmp1foit_yq/model\"\n",
            "2025-05-15 11:37:57,452 ----------------------------------------------------------------------------------------------------\n",
            "2025-05-15 11:37:57,452 ----------------------------------------------------------------------------------------------------\n"
          ]
        },
        {
          "output_type": "stream",
          "name": "stderr",
          "text": [
            "\n",
            "/usr/local/lib/python3.11/dist-packages/flair/trainers/trainer.py:545: FutureWarning: `torch.cuda.amp.GradScaler(args...)` is deprecated. Please use `torch.amp.GradScaler('cuda', args...)` instead.\n",
            "  scaler = torch.cuda.amp.GradScaler(enabled=use_amp and flair.device.type != \"cpu\")\n"
          ]
        },
        {
          "output_type": "stream",
          "name": "stdout",
          "text": [
            "2025-05-15 11:37:58,054 epoch 1 - iter 7/76 - loss 1.62702219 - time (sec): 0.60 - samples/sec: 93.43 - lr: 0.008339 - momentum: 0.000000\n",
            "2025-05-15 11:37:58,754 epoch 1 - iter 14/76 - loss 1.27526114 - time (sec): 1.30 - samples/sec: 86.19 - lr: 0.008339 - momentum: 0.000000\n",
            "2025-05-15 11:37:59,448 epoch 1 - iter 21/76 - loss 1.03354631 - time (sec): 1.99 - samples/sec: 84.29 - lr: 0.008339 - momentum: 0.000000\n",
            "2025-05-15 11:38:00,229 epoch 1 - iter 28/76 - loss 0.89908702 - time (sec): 2.77 - samples/sec: 80.73 - lr: 0.008339 - momentum: 0.000000\n",
            "2025-05-15 11:38:00,818 epoch 1 - iter 35/76 - loss 0.83853014 - time (sec): 3.36 - samples/sec: 83.25 - lr: 0.008339 - momentum: 0.000000\n",
            "2025-05-15 11:38:01,503 epoch 1 - iter 42/76 - loss 0.76803948 - time (sec): 4.05 - samples/sec: 82.98 - lr: 0.008339 - momentum: 0.000000\n",
            "2025-05-15 11:38:02,198 epoch 1 - iter 49/76 - loss 0.71942826 - time (sec): 4.74 - samples/sec: 82.64 - lr: 0.008339 - momentum: 0.000000\n",
            "2025-05-15 11:38:02,882 epoch 1 - iter 56/76 - loss 0.66072756 - time (sec): 5.43 - samples/sec: 82.55 - lr: 0.008339 - momentum: 0.000000\n",
            "2025-05-15 11:38:03,620 epoch 1 - iter 63/76 - loss 0.60942719 - time (sec): 6.17 - samples/sec: 81.74 - lr: 0.008339 - momentum: 0.000000\n",
            "2025-05-15 11:38:04,385 epoch 1 - iter 70/76 - loss 0.58490599 - time (sec): 6.93 - samples/sec: 80.80 - lr: 0.008339 - momentum: 0.000000\n",
            "2025-05-15 11:38:04,930 ----------------------------------------------------------------------------------------------------\n",
            "2025-05-15 11:38:04,932 EPOCH 1 done: loss 0.5588 - lr: 0.008339\n"
          ]
        },
        {
          "output_type": "stream",
          "name": "stderr",
          "text": [
            "100%|██████████| 3/3 [00:00<00:00,  3.09it/s]\n"
          ]
        },
        {
          "output_type": "stream",
          "name": "stdout",
          "text": [
            "2025-05-15 11:38:05,933 DEV : loss 0.19442442059516907 - f1-score (micro avg)  0.9521\n",
            "2025-05-15 11:38:05,970  - 0 epochs without improvement\n",
            "2025-05-15 11:38:05,972 saving best model\n",
            "2025-05-15 11:38:08,920 ----------------------------------------------------------------------------------------------------\n",
            "2025-05-15 11:38:09,671 epoch 2 - iter 7/76 - loss 0.16179838 - time (sec): 0.75 - samples/sec: 74.82 - lr: 0.008339 - momentum: 0.000000\n",
            "2025-05-15 11:38:10,366 epoch 2 - iter 14/76 - loss 0.23119335 - time (sec): 1.44 - samples/sec: 77.61 - lr: 0.008339 - momentum: 0.000000\n",
            "2025-05-15 11:38:11,062 epoch 2 - iter 21/76 - loss 0.22908138 - time (sec): 2.14 - samples/sec: 78.53 - lr: 0.008339 - momentum: 0.000000\n",
            "2025-05-15 11:38:11,850 epoch 2 - iter 28/76 - loss 0.18839782 - time (sec): 2.93 - samples/sec: 76.51 - lr: 0.008339 - momentum: 0.000000\n",
            "2025-05-15 11:38:12,521 epoch 2 - iter 35/76 - loss 0.18745063 - time (sec): 3.60 - samples/sec: 77.82 - lr: 0.008339 - momentum: 0.000000\n",
            "2025-05-15 11:38:13,227 epoch 2 - iter 42/76 - loss 0.16905013 - time (sec): 4.30 - samples/sec: 78.06 - lr: 0.008339 - momentum: 0.000000\n",
            "2025-05-15 11:38:14,014 epoch 2 - iter 49/76 - loss 0.16044082 - time (sec): 5.09 - samples/sec: 76.99 - lr: 0.008339 - momentum: 0.000000\n",
            "2025-05-15 11:38:14,764 epoch 2 - iter 56/76 - loss 0.17106770 - time (sec): 5.84 - samples/sec: 76.69 - lr: 0.008339 - momentum: 0.000000\n",
            "2025-05-15 11:38:15,380 epoch 2 - iter 63/76 - loss 0.18129001 - time (sec): 6.46 - samples/sec: 78.05 - lr: 0.008339 - momentum: 0.000000\n",
            "2025-05-15 11:38:15,990 epoch 2 - iter 70/76 - loss 0.19382005 - time (sec): 7.07 - samples/sec: 79.23 - lr: 0.008339 - momentum: 0.000000\n",
            "2025-05-15 11:38:16,503 ----------------------------------------------------------------------------------------------------\n",
            "2025-05-15 11:38:16,504 EPOCH 2 done: loss 0.1951 - lr: 0.008339\n"
          ]
        },
        {
          "output_type": "stream",
          "name": "stderr",
          "text": [
            "100%|██████████| 3/3 [00:00<00:00,  3.02it/s]\n"
          ]
        },
        {
          "output_type": "stream",
          "name": "stdout",
          "text": [
            "2025-05-15 11:38:17,524 DEV : loss 0.18186450004577637 - f1-score (micro avg)  0.9641\n",
            "2025-05-15 11:38:17,560  - 0 epochs without improvement\n",
            "2025-05-15 11:38:17,561 saving best model\n",
            "2025-05-15 11:38:18,754 ----------------------------------------------------------------------------------------------------\n",
            "2025-05-15 11:38:19,358 epoch 3 - iter 7/76 - loss 0.07577827 - time (sec): 0.60 - samples/sec: 93.22 - lr: 0.008339 - momentum: 0.000000\n",
            "2025-05-15 11:38:19,993 epoch 3 - iter 14/76 - loss 0.15517639 - time (sec): 1.24 - samples/sec: 90.65 - lr: 0.008339 - momentum: 0.000000\n",
            "2025-05-15 11:38:20,679 epoch 3 - iter 21/76 - loss 0.12836265 - time (sec): 1.92 - samples/sec: 87.43 - lr: 0.008339 - momentum: 0.000000\n",
            "2025-05-15 11:38:21,317 epoch 3 - iter 28/76 - loss 0.11535093 - time (sec): 2.56 - samples/sec: 87.52 - lr: 0.008339 - momentum: 0.000000\n",
            "2025-05-15 11:38:22,056 epoch 3 - iter 35/76 - loss 0.11041550 - time (sec): 3.30 - samples/sec: 84.90 - lr: 0.008339 - momentum: 0.000000\n",
            "2025-05-15 11:38:22,789 epoch 3 - iter 42/76 - loss 0.11447276 - time (sec): 4.03 - samples/sec: 83.35 - lr: 0.008339 - momentum: 0.000000\n",
            "2025-05-15 11:38:23,512 epoch 3 - iter 49/76 - loss 0.10580106 - time (sec): 4.75 - samples/sec: 82.45 - lr: 0.008339 - momentum: 0.000000\n",
            "2025-05-15 11:38:24,301 epoch 3 - iter 56/76 - loss 0.11093214 - time (sec): 5.54 - samples/sec: 80.82 - lr: 0.008339 - momentum: 0.000000\n",
            "2025-05-15 11:38:25,028 epoch 3 - iter 63/76 - loss 0.10699138 - time (sec): 6.27 - samples/sec: 80.37 - lr: 0.008339 - momentum: 0.000000\n",
            "2025-05-15 11:38:25,778 epoch 3 - iter 70/76 - loss 0.10260568 - time (sec): 7.02 - samples/sec: 79.77 - lr: 0.008339 - momentum: 0.000000\n",
            "2025-05-15 11:38:26,405 ----------------------------------------------------------------------------------------------------\n",
            "2025-05-15 11:38:26,409 EPOCH 3 done: loss 0.1092 - lr: 0.008339\n"
          ]
        },
        {
          "output_type": "stream",
          "name": "stderr",
          "text": [
            "100%|██████████| 3/3 [00:01<00:00,  2.83it/s]"
          ]
        },
        {
          "output_type": "stream",
          "name": "stdout",
          "text": [
            "2025-05-15 11:38:27,505 DEV : loss 0.11722248792648315 - f1-score (micro avg)  0.9641\n",
            "2025-05-15 11:38:27,572  - 0 epochs without improvement\n",
            "2025-05-15 11:38:27,574 ----------------------------------------------------------------------------------------------------\n"
          ]
        },
        {
          "output_type": "stream",
          "name": "stderr",
          "text": [
            "\n"
          ]
        },
        {
          "output_type": "stream",
          "name": "stdout",
          "text": [
            "2025-05-15 11:38:28,228 epoch 4 - iter 7/76 - loss 0.01796152 - time (sec): 0.65 - samples/sec: 86.13 - lr: 0.008339 - momentum: 0.000000\n",
            "2025-05-15 11:38:28,900 epoch 4 - iter 14/76 - loss 0.03330343 - time (sec): 1.32 - samples/sec: 84.77 - lr: 0.008339 - momentum: 0.000000\n",
            "2025-05-15 11:38:29,572 epoch 4 - iter 21/76 - loss 0.02513414 - time (sec): 1.99 - samples/sec: 84.26 - lr: 0.008339 - momentum: 0.000000\n",
            "2025-05-15 11:38:30,307 epoch 4 - iter 28/76 - loss 0.04265862 - time (sec): 2.73 - samples/sec: 82.08 - lr: 0.008339 - momentum: 0.000000\n",
            "2025-05-15 11:38:31,071 epoch 4 - iter 35/76 - loss 0.05495235 - time (sec): 3.49 - samples/sec: 80.16 - lr: 0.008339 - momentum: 0.000000\n",
            "2025-05-15 11:38:31,745 epoch 4 - iter 42/76 - loss 0.05207381 - time (sec): 4.17 - samples/sec: 80.63 - lr: 0.008339 - momentum: 0.000000\n",
            "2025-05-15 11:38:32,472 epoch 4 - iter 49/76 - loss 0.05845073 - time (sec): 4.89 - samples/sec: 80.11 - lr: 0.008339 - momentum: 0.000000\n",
            "2025-05-15 11:38:33,186 epoch 4 - iter 56/76 - loss 0.05498447 - time (sec): 5.61 - samples/sec: 79.90 - lr: 0.008339 - momentum: 0.000000\n",
            "2025-05-15 11:38:33,886 epoch 4 - iter 63/76 - loss 0.04979626 - time (sec): 6.31 - samples/sec: 79.90 - lr: 0.008339 - momentum: 0.000000\n",
            "2025-05-15 11:38:34,634 epoch 4 - iter 70/76 - loss 0.05883935 - time (sec): 7.06 - samples/sec: 79.36 - lr: 0.008339 - momentum: 0.000000\n",
            "2025-05-15 11:38:35,249 ----------------------------------------------------------------------------------------------------\n",
            "2025-05-15 11:38:35,250 EPOCH 4 done: loss 0.0623 - lr: 0.008339\n"
          ]
        },
        {
          "output_type": "stream",
          "name": "stderr",
          "text": [
            "100%|██████████| 3/3 [00:00<00:00,  3.03it/s]\n"
          ]
        },
        {
          "output_type": "stream",
          "name": "stdout",
          "text": [
            "2025-05-15 11:38:36,266 DEV : loss 0.15933039784431458 - f1-score (micro avg)  0.9581\n",
            "2025-05-15 11:38:36,306  - 1 epochs without improvement\n",
            "2025-05-15 11:38:36,308 ----------------------------------------------------------------------------------------------------\n",
            "2025-05-15 11:38:36,956 epoch 5 - iter 7/76 - loss 0.04932380 - time (sec): 0.65 - samples/sec: 86.67 - lr: 0.008339 - momentum: 0.000000\n",
            "2025-05-15 11:38:37,608 epoch 5 - iter 14/76 - loss 0.02570450 - time (sec): 1.30 - samples/sec: 86.26 - lr: 0.008339 - momentum: 0.000000\n",
            "2025-05-15 11:38:38,326 epoch 5 - iter 21/76 - loss 0.03772283 - time (sec): 2.02 - samples/sec: 83.31 - lr: 0.008339 - momentum: 0.000000\n",
            "2025-05-15 11:38:39,047 epoch 5 - iter 28/76 - loss 0.04962183 - time (sec): 2.74 - samples/sec: 81.84 - lr: 0.008339 - momentum: 0.000000\n",
            "2025-05-15 11:38:39,761 epoch 5 - iter 35/76 - loss 0.04301876 - time (sec): 3.45 - samples/sec: 81.13 - lr: 0.008339 - momentum: 0.000000\n",
            "2025-05-15 11:38:40,420 epoch 5 - iter 42/76 - loss 0.05312975 - time (sec): 4.11 - samples/sec: 81.76 - lr: 0.008339 - momentum: 0.000000\n",
            "2025-05-15 11:38:41,076 epoch 5 - iter 49/76 - loss 0.07288363 - time (sec): 4.77 - samples/sec: 82.25 - lr: 0.008339 - momentum: 0.000000\n",
            "2025-05-15 11:38:41,817 epoch 5 - iter 56/76 - loss 0.07777796 - time (sec): 5.51 - samples/sec: 81.35 - lr: 0.008339 - momentum: 0.000000\n",
            "2025-05-15 11:38:42,570 epoch 5 - iter 63/76 - loss 0.07638934 - time (sec): 6.26 - samples/sec: 80.51 - lr: 0.008339 - momentum: 0.000000\n",
            "2025-05-15 11:38:43,358 epoch 5 - iter 70/76 - loss 0.07535541 - time (sec): 7.05 - samples/sec: 79.45 - lr: 0.008339 - momentum: 0.000000\n",
            "2025-05-15 11:38:43,935 ----------------------------------------------------------------------------------------------------\n",
            "2025-05-15 11:38:43,936 EPOCH 5 done: loss 0.0752 - lr: 0.008339\n"
          ]
        },
        {
          "output_type": "stream",
          "name": "stderr",
          "text": [
            "100%|██████████| 3/3 [00:00<00:00,  3.06it/s]\n"
          ]
        },
        {
          "output_type": "stream",
          "name": "stdout",
          "text": [
            "2025-05-15 11:38:44,945 DEV : loss 0.07819869369268417 - f1-score (micro avg)  0.9701\n",
            "2025-05-15 11:38:44,994  - 0 epochs without improvement\n",
            "2025-05-15 11:38:44,995 saving best model\n",
            "2025-05-15 11:38:47,921 ----------------------------------------------------------------------------------------------------\n",
            "2025-05-15 11:38:48,578 epoch 6 - iter 7/76 - loss 0.03095315 - time (sec): 0.65 - samples/sec: 85.92 - lr: 0.008339 - momentum: 0.000000\n",
            "2025-05-15 11:38:49,279 epoch 6 - iter 14/76 - loss 0.01578112 - time (sec): 1.35 - samples/sec: 82.83 - lr: 0.008339 - momentum: 0.000000\n",
            "2025-05-15 11:38:50,063 epoch 6 - iter 21/76 - loss 0.01990702 - time (sec): 2.14 - samples/sec: 78.61 - lr: 0.008339 - momentum: 0.000000\n",
            "2025-05-15 11:38:50,685 epoch 6 - iter 28/76 - loss 0.02001031 - time (sec): 2.76 - samples/sec: 81.22 - lr: 0.008339 - momentum: 0.000000\n",
            "2025-05-15 11:38:51,342 epoch 6 - iter 35/76 - loss 0.01697381 - time (sec): 3.42 - samples/sec: 81.97 - lr: 0.008339 - momentum: 0.000000\n",
            "2025-05-15 11:38:51,998 epoch 6 - iter 42/76 - loss 0.02167677 - time (sec): 4.07 - samples/sec: 82.53 - lr: 0.008339 - momentum: 0.000000\n",
            "2025-05-15 11:38:52,700 epoch 6 - iter 49/76 - loss 0.02335530 - time (sec): 4.77 - samples/sec: 82.12 - lr: 0.008339 - momentum: 0.000000\n",
            "2025-05-15 11:38:53,393 epoch 6 - iter 56/76 - loss 0.02501096 - time (sec): 5.47 - samples/sec: 81.95 - lr: 0.008339 - momentum: 0.000000\n",
            "2025-05-15 11:38:54,139 epoch 6 - iter 63/76 - loss 0.02769087 - time (sec): 6.21 - samples/sec: 81.13 - lr: 0.008339 - momentum: 0.000000\n",
            "2025-05-15 11:38:54,797 epoch 6 - iter 70/76 - loss 0.02510840 - time (sec): 6.87 - samples/sec: 81.51 - lr: 0.008339 - momentum: 0.000000\n",
            "2025-05-15 11:38:55,351 ----------------------------------------------------------------------------------------------------\n",
            "2025-05-15 11:38:55,352 EPOCH 6 done: loss 0.0234 - lr: 0.008339\n"
          ]
        },
        {
          "output_type": "stream",
          "name": "stderr",
          "text": [
            "100%|██████████| 3/3 [00:00<00:00,  3.06it/s]\n"
          ]
        },
        {
          "output_type": "stream",
          "name": "stdout",
          "text": [
            "2025-05-15 11:38:56,364 DEV : loss 0.13484498858451843 - f1-score (micro avg)  0.976\n",
            "2025-05-15 11:38:56,411  - 0 epochs without improvement\n",
            "2025-05-15 11:38:56,412 saving best model\n",
            "2025-05-15 11:38:57,635 ----------------------------------------------------------------------------------------------------\n",
            "2025-05-15 11:38:58,225 epoch 7 - iter 7/76 - loss 0.00089052 - time (sec): 0.59 - samples/sec: 95.21 - lr: 0.008339 - momentum: 0.000000\n",
            "2025-05-15 11:38:58,981 epoch 7 - iter 14/76 - loss 0.00235571 - time (sec): 1.34 - samples/sec: 83.32 - lr: 0.008339 - momentum: 0.000000\n",
            "2025-05-15 11:38:59,642 epoch 7 - iter 21/76 - loss 0.00166204 - time (sec): 2.00 - samples/sec: 83.81 - lr: 0.008339 - momentum: 0.000000\n",
            "2025-05-15 11:39:00,319 epoch 7 - iter 28/76 - loss 0.00248263 - time (sec): 2.68 - samples/sec: 83.52 - lr: 0.008339 - momentum: 0.000000\n",
            "2025-05-15 11:39:00,989 epoch 7 - iter 35/76 - loss 0.00227416 - time (sec): 3.35 - samples/sec: 83.54 - lr: 0.008339 - momentum: 0.000000\n",
            "2025-05-15 11:39:01,695 epoch 7 - iter 42/76 - loss 0.00655491 - time (sec): 4.06 - samples/sec: 82.80 - lr: 0.008339 - momentum: 0.000000\n",
            "2025-05-15 11:39:02,368 epoch 7 - iter 49/76 - loss 0.00578489 - time (sec): 4.73 - samples/sec: 82.85 - lr: 0.008339 - momentum: 0.000000\n",
            "2025-05-15 11:39:03,028 epoch 7 - iter 56/76 - loss 0.01582128 - time (sec): 5.39 - samples/sec: 83.11 - lr: 0.008339 - momentum: 0.000000\n",
            "2025-05-15 11:39:03,689 epoch 7 - iter 63/76 - loss 0.01416901 - time (sec): 6.05 - samples/sec: 83.27 - lr: 0.008339 - momentum: 0.000000\n",
            "2025-05-15 11:39:04,414 epoch 7 - iter 70/76 - loss 0.01328646 - time (sec): 6.78 - samples/sec: 82.64 - lr: 0.008339 - momentum: 0.000000\n",
            "2025-05-15 11:39:05,018 ----------------------------------------------------------------------------------------------------\n",
            "2025-05-15 11:39:05,024 EPOCH 7 done: loss 0.0131 - lr: 0.008339\n"
          ]
        },
        {
          "output_type": "stream",
          "name": "stderr",
          "text": [
            "100%|██████████| 3/3 [00:01<00:00,  2.95it/s]"
          ]
        },
        {
          "output_type": "stream",
          "name": "stdout",
          "text": [
            "2025-05-15 11:39:06,064 DEV : loss 0.1378706991672516 - f1-score (micro avg)  0.9581\n",
            "2025-05-15 11:39:06,120  - 1 epochs without improvement\n",
            "2025-05-15 11:39:06,121 ----------------------------------------------------------------------------------------------------\n"
          ]
        },
        {
          "output_type": "stream",
          "name": "stderr",
          "text": [
            "\n"
          ]
        },
        {
          "output_type": "stream",
          "name": "stdout",
          "text": [
            "2025-05-15 11:39:06,819 epoch 8 - iter 7/76 - loss 0.00058551 - time (sec): 0.69 - samples/sec: 80.71 - lr: 0.008339 - momentum: 0.000000\n",
            "2025-05-15 11:39:07,462 epoch 8 - iter 14/76 - loss 0.02612131 - time (sec): 1.34 - samples/sec: 83.78 - lr: 0.008339 - momentum: 0.000000\n",
            "2025-05-15 11:39:08,158 epoch 8 - iter 21/76 - loss 0.01754994 - time (sec): 2.03 - samples/sec: 82.63 - lr: 0.008339 - momentum: 0.000000\n",
            "2025-05-15 11:39:08,932 epoch 8 - iter 28/76 - loss 0.01328041 - time (sec): 2.81 - samples/sec: 79.80 - lr: 0.008339 - momentum: 0.000000\n",
            "2025-05-15 11:39:09,639 epoch 8 - iter 35/76 - loss 0.01137316 - time (sec): 3.51 - samples/sec: 79.68 - lr: 0.008339 - momentum: 0.000000\n",
            "2025-05-15 11:39:10,283 epoch 8 - iter 42/76 - loss 0.00970609 - time (sec): 4.16 - samples/sec: 80.82 - lr: 0.008339 - momentum: 0.000000\n",
            "2025-05-15 11:39:10,954 epoch 8 - iter 49/76 - loss 0.00871301 - time (sec): 4.83 - samples/sec: 81.17 - lr: 0.008339 - momentum: 0.000000\n",
            "2025-05-15 11:39:11,656 epoch 8 - iter 56/76 - loss 0.00782160 - time (sec): 5.53 - samples/sec: 81.00 - lr: 0.008339 - momentum: 0.000000\n",
            "2025-05-15 11:39:12,340 epoch 8 - iter 63/76 - loss 0.00825544 - time (sec): 6.22 - samples/sec: 81.09 - lr: 0.008339 - momentum: 0.000000\n",
            "2025-05-15 11:39:13,018 epoch 8 - iter 70/76 - loss 0.00746854 - time (sec): 6.89 - samples/sec: 81.24 - lr: 0.008339 - momentum: 0.000000\n",
            "2025-05-15 11:39:13,650 ----------------------------------------------------------------------------------------------------\n",
            "2025-05-15 11:39:13,651 EPOCH 8 done: loss 0.0080 - lr: 0.008339\n"
          ]
        },
        {
          "output_type": "stream",
          "name": "stderr",
          "text": [
            "100%|██████████| 3/3 [00:00<00:00,  3.08it/s]\n"
          ]
        },
        {
          "output_type": "stream",
          "name": "stdout",
          "text": [
            "2025-05-15 11:39:14,651 DEV : loss 0.20717447996139526 - f1-score (micro avg)  0.9461\n",
            "2025-05-15 11:39:14,688  - 2 epochs without improvement\n",
            "2025-05-15 11:39:14,689 ----------------------------------------------------------------------------------------------------\n",
            "2025-05-15 11:39:15,288 epoch 9 - iter 7/76 - loss 0.00192390 - time (sec): 0.60 - samples/sec: 93.85 - lr: 0.008339 - momentum: 0.000000\n",
            "2025-05-15 11:39:16,006 epoch 9 - iter 14/76 - loss 0.00163373 - time (sec): 1.31 - samples/sec: 85.21 - lr: 0.008339 - momentum: 0.000000\n",
            "2025-05-15 11:39:16,643 epoch 9 - iter 21/76 - loss 0.00308326 - time (sec): 1.95 - samples/sec: 86.08 - lr: 0.008339 - momentum: 0.000000\n",
            "2025-05-15 11:39:17,340 epoch 9 - iter 28/76 - loss 0.00232906 - time (sec): 2.65 - samples/sec: 84.57 - lr: 0.008339 - momentum: 0.000000\n",
            "2025-05-15 11:39:17,922 epoch 9 - iter 35/76 - loss 0.00202322 - time (sec): 3.23 - samples/sec: 86.65 - lr: 0.008339 - momentum: 0.000000\n",
            "2025-05-15 11:39:18,547 epoch 9 - iter 42/76 - loss 0.00200012 - time (sec): 3.86 - samples/sec: 87.15 - lr: 0.008339 - momentum: 0.000000\n",
            "2025-05-15 11:39:19,258 epoch 9 - iter 49/76 - loss 0.01267279 - time (sec): 4.57 - samples/sec: 85.84 - lr: 0.008339 - momentum: 0.000000\n",
            "2025-05-15 11:39:19,942 epoch 9 - iter 56/76 - loss 0.01180974 - time (sec): 5.25 - samples/sec: 85.31 - lr: 0.008339 - momentum: 0.000000\n",
            "2025-05-15 11:39:20,681 epoch 9 - iter 63/76 - loss 0.01143971 - time (sec): 5.99 - samples/sec: 84.14 - lr: 0.008339 - momentum: 0.000000\n",
            "2025-05-15 11:39:21,472 epoch 9 - iter 70/76 - loss 0.01035274 - time (sec): 6.78 - samples/sec: 82.59 - lr: 0.008339 - momentum: 0.000000\n",
            "2025-05-15 11:39:22,118 ----------------------------------------------------------------------------------------------------\n",
            "2025-05-15 11:39:22,119 EPOCH 9 done: loss 0.0096 - lr: 0.008339\n"
          ]
        },
        {
          "output_type": "stream",
          "name": "stderr",
          "text": [
            "100%|██████████| 3/3 [00:00<00:00,  3.09it/s]\n"
          ]
        },
        {
          "output_type": "stream",
          "name": "stdout",
          "text": [
            "2025-05-15 11:39:23,118 DEV : loss 0.13734278082847595 - f1-score (micro avg)  0.9701\n",
            "2025-05-15 11:39:23,157  - 3 epochs without improvement\n",
            "2025-05-15 11:39:24,326 ----------------------------------------------------------------------------------------------------\n",
            "2025-05-15 11:39:24,329 Loading model from best epoch ...\n"
          ]
        },
        {
          "output_type": "stream",
          "name": "stderr",
          "text": [
            "100%|██████████| 2/2 [00:00<00:00,  5.63it/s]"
          ]
        },
        {
          "output_type": "stream",
          "name": "stdout",
          "text": [
            "2025-05-15 11:39:26,756 \n",
            "Results:\n",
            "- F-score (micro) 1.0\n",
            "- F-score (macro) 1.0\n",
            "- Accuracy 1.0\n",
            "\n",
            "By class:\n",
            "              precision    recall  f1-score   support\n",
            "\n",
            "          공통     1.0000    1.0000    1.0000        21\n",
            "       가설구조물     1.0000    1.0000    1.0000        19\n",
            "          교량     1.0000    1.0000    1.0000        11\n",
            "          건축     1.0000    1.0000    1.0000         6\n",
            "        굴착공사     1.0000    1.0000    1.0000         5\n",
            "        양중작업     1.0000    1.0000    1.0000         5\n",
            "\n",
            "    accuracy                         1.0000        67\n",
            "   macro avg     1.0000    1.0000    1.0000        67\n",
            "weighted avg     1.0000    1.0000    1.0000        67\n",
            "\n",
            "2025-05-15 11:39:26,757 ----------------------------------------------------------------------------------------------------\n"
          ]
        },
        {
          "output_type": "stream",
          "name": "stderr",
          "text": [
            "\n"
          ]
        },
        {
          "output_type": "stream",
          "name": "stdout",
          "text": [
            "  훈련 결과: {'test_score': 1.0}\n",
            "  현재 폴드 정확도: 0.9760\n",
            "  평균 성능: 0.8749 (유효한 폴드: 5/5)\n",
            "시도 2/2: lr=0.0267, batch_size=8, epochs=9\n",
            "  폴드 1/5 학습 중...\n",
            "2025-05-15 11:39:31,469 Reading data from /tmp/tmphi0omzzf\n",
            "2025-05-15 11:39:31,471 Train: /tmp/tmphi0omzzf/train.txt\n",
            "2025-05-15 11:39:31,473 Dev: /tmp/tmphi0omzzf/dev.txt\n",
            "2025-05-15 11:39:31,475 Test: None\n",
            "2025-05-15 11:39:31,542 No test split found. Using 10% (i.e. 67 samples) of the train split as test data\n",
            "2025-05-15 11:39:31,547 Initialized corpus /tmp/tmphi0omzzf (label type name is 'class')\n",
            "2025-05-15 11:39:31,548 Computing label dictionary. Progress:\n"
          ]
        },
        {
          "output_type": "stream",
          "name": "stderr",
          "text": [
            "0it [00:00, ?it/s]\n",
            "603it [00:00, 2561.31it/s]"
          ]
        },
        {
          "output_type": "stream",
          "name": "stdout",
          "text": [
            "2025-05-15 11:39:31,791 Dictionary created for label 'class' with 6 values: 공통 (seen 177 times), 가설구조물 (seen 141 times), 교량 (seen 99 times), 굴착공사 (seen 78 times), 건축 (seen 54 times), 양중작업 (seen 54 times)\n",
            "2025-05-15 11:39:31,800 ----------------------------------------------------------------------------------------------------\n",
            "2025-05-15 11:39:31,807 Model: \"TextClassifier(\n",
            "  (embeddings): TransformerDocumentEmbeddings(\n",
            "    (model): BertModel(\n",
            "      (embeddings): BertEmbeddings(\n",
            "        (word_embeddings): Embedding(32001, 768, padding_idx=0)\n",
            "        (position_embeddings): Embedding(512, 768)\n",
            "        (token_type_embeddings): Embedding(2, 768)\n",
            "        (LayerNorm): LayerNorm((768,), eps=1e-12, elementwise_affine=True)\n",
            "        (dropout): Dropout(p=0.1, inplace=False)\n",
            "      )\n",
            "      (encoder): BertEncoder(\n",
            "        (layer): ModuleList(\n",
            "          (0-11): 12 x BertLayer(\n",
            "            (attention): BertAttention(\n",
            "              (self): BertSdpaSelfAttention(\n",
            "                (query): Linear(in_features=768, out_features=768, bias=True)\n",
            "                (key): Linear(in_features=768, out_features=768, bias=True)\n",
            "                (value): Linear(in_features=768, out_features=768, bias=True)\n",
            "                (dropout): Dropout(p=0.1, inplace=False)\n",
            "              )\n",
            "              (output): BertSelfOutput(\n",
            "                (dense): Linear(in_features=768, out_features=768, bias=True)\n",
            "                (LayerNorm): LayerNorm((768,), eps=1e-12, elementwise_affine=True)\n",
            "                (dropout): Dropout(p=0.1, inplace=False)\n",
            "              )\n",
            "            )\n",
            "            (intermediate): BertIntermediate(\n",
            "              (dense): Linear(in_features=768, out_features=3072, bias=True)\n",
            "              (intermediate_act_fn): GELUActivation()\n",
            "            )\n",
            "            (output): BertOutput(\n",
            "              (dense): Linear(in_features=3072, out_features=768, bias=True)\n",
            "              (LayerNorm): LayerNorm((768,), eps=1e-12, elementwise_affine=True)\n",
            "              (dropout): Dropout(p=0.1, inplace=False)\n",
            "            )\n",
            "          )\n",
            "        )\n",
            "      )\n",
            "      (pooler): BertPooler(\n",
            "        (dense): Linear(in_features=768, out_features=768, bias=True)\n",
            "        (activation): Tanh()\n",
            "      )\n",
            "    )\n",
            "  )\n",
            "  (decoder): Linear(in_features=768, out_features=6, bias=True)\n",
            "  (dropout): Dropout(p=0.0, inplace=False)\n",
            "  (locked_dropout): LockedDropout(p=0.0)\n",
            "  (word_dropout): WordDropout(p=0.0)\n",
            "  (loss_function): CrossEntropyLoss()\n",
            "  (weights): None\n",
            "  (weight_tensor) None\n",
            ")\"\n",
            "2025-05-15 11:39:31,808 ----------------------------------------------------------------------------------------------------\n",
            "2025-05-15 11:39:31,809 Corpus: 603 train + 168 dev + 67 test sentences\n",
            "2025-05-15 11:39:31,810 ----------------------------------------------------------------------------------------------------\n",
            "2025-05-15 11:39:31,813 Train:  603 sentences\n",
            "2025-05-15 11:39:31,813         (train_with_dev=False, train_with_test=False)\n",
            "2025-05-15 11:39:31,814 ----------------------------------------------------------------------------------------------------\n",
            "2025-05-15 11:39:31,815 Training Params:\n",
            "2025-05-15 11:39:31,818  - learning_rate: \"0.026725956471838043\" \n",
            "2025-05-15 11:39:31,819  - mini_batch_size: \"8\"\n",
            "2025-05-15 11:39:31,820  - max_epochs: \"9\"\n",
            "2025-05-15 11:39:31,820  - shuffle: \"True\"\n",
            "2025-05-15 11:39:31,821 ----------------------------------------------------------------------------------------------------\n",
            "2025-05-15 11:39:31,822 Plugins:\n",
            "2025-05-15 11:39:31,827  - AnnealOnPlateau | patience: '3', anneal_factor: '0.5', min_learning_rate: '0.0001'\n",
            "2025-05-15 11:39:31,828 ----------------------------------------------------------------------------------------------------\n",
            "2025-05-15 11:39:31,828 Final evaluation on model from best epoch (best-model.pt)\n",
            "2025-05-15 11:39:31,829  - metric: \"('micro avg', 'f1-score')\"\n",
            "2025-05-15 11:39:31,829 ----------------------------------------------------------------------------------------------------\n",
            "2025-05-15 11:39:31,830 Computation:\n",
            "2025-05-15 11:39:31,830  - compute on device: cuda:0\n",
            "2025-05-15 11:39:31,831  - embedding storage: cpu\n",
            "2025-05-15 11:39:31,832 ----------------------------------------------------------------------------------------------------\n",
            "2025-05-15 11:39:31,832 Model training base path: \"/tmp/tmphi0omzzf/model\"\n",
            "2025-05-15 11:39:31,833 ----------------------------------------------------------------------------------------------------\n",
            "2025-05-15 11:39:31,833 ----------------------------------------------------------------------------------------------------\n"
          ]
        },
        {
          "output_type": "stream",
          "name": "stderr",
          "text": [
            "\n",
            "/usr/local/lib/python3.11/dist-packages/flair/trainers/trainer.py:545: FutureWarning: `torch.cuda.amp.GradScaler(args...)` is deprecated. Please use `torch.amp.GradScaler('cuda', args...)` instead.\n",
            "  scaler = torch.cuda.amp.GradScaler(enabled=use_amp and flair.device.type != \"cpu\")\n"
          ]
        },
        {
          "output_type": "stream",
          "name": "stdout",
          "text": [
            "2025-05-15 11:39:32,576 epoch 1 - iter 7/76 - loss 1.29426939 - time (sec): 0.74 - samples/sec: 75.86 - lr: 0.026726 - momentum: 0.000000\n",
            "2025-05-15 11:39:33,335 epoch 1 - iter 14/76 - loss 0.99168316 - time (sec): 1.50 - samples/sec: 74.78 - lr: 0.026726 - momentum: 0.000000\n",
            "2025-05-15 11:39:34,067 epoch 1 - iter 21/76 - loss 0.90035199 - time (sec): 2.23 - samples/sec: 75.35 - lr: 0.026726 - momentum: 0.000000\n",
            "2025-05-15 11:39:34,782 epoch 1 - iter 28/76 - loss 0.84335470 - time (sec): 2.94 - samples/sec: 76.09 - lr: 0.026726 - momentum: 0.000000\n",
            "2025-05-15 11:39:35,505 epoch 1 - iter 35/76 - loss 0.85299011 - time (sec): 3.67 - samples/sec: 76.35 - lr: 0.026726 - momentum: 0.000000\n",
            "2025-05-15 11:39:36,125 epoch 1 - iter 42/76 - loss 0.83750581 - time (sec): 4.29 - samples/sec: 78.37 - lr: 0.026726 - momentum: 0.000000\n",
            "2025-05-15 11:39:36,706 epoch 1 - iter 49/76 - loss 0.79223212 - time (sec): 4.87 - samples/sec: 80.52 - lr: 0.026726 - momentum: 0.000000\n",
            "2025-05-15 11:39:37,396 epoch 1 - iter 56/76 - loss 0.72196894 - time (sec): 5.56 - samples/sec: 80.60 - lr: 0.026726 - momentum: 0.000000\n",
            "2025-05-15 11:39:38,171 epoch 1 - iter 63/76 - loss 0.69703517 - time (sec): 6.33 - samples/sec: 79.58 - lr: 0.026726 - momentum: 0.000000\n",
            "2025-05-15 11:39:38,830 epoch 1 - iter 70/76 - loss 0.69061005 - time (sec): 6.99 - samples/sec: 80.09 - lr: 0.026726 - momentum: 0.000000\n",
            "2025-05-15 11:39:39,411 ----------------------------------------------------------------------------------------------------\n",
            "2025-05-15 11:39:39,412 EPOCH 1 done: loss 0.6866 - lr: 0.026726\n"
          ]
        },
        {
          "output_type": "stream",
          "name": "stderr",
          "text": [
            "100%|██████████| 3/3 [00:00<00:00,  3.54it/s]"
          ]
        },
        {
          "output_type": "stream",
          "name": "stdout",
          "text": [
            "2025-05-15 11:39:40,283 DEV : loss 0.3553820550441742 - f1-score (micro avg)  0.881\n",
            "2025-05-15 11:39:40,319  - 0 epochs without improvement\n",
            "2025-05-15 11:39:40,320 saving best model\n"
          ]
        },
        {
          "output_type": "stream",
          "name": "stderr",
          "text": [
            "\n"
          ]
        },
        {
          "output_type": "stream",
          "name": "stdout",
          "text": [
            "2025-05-15 11:39:43,234 ----------------------------------------------------------------------------------------------------\n",
            "2025-05-15 11:39:43,997 epoch 2 - iter 7/76 - loss 0.48433579 - time (sec): 0.76 - samples/sec: 74.15 - lr: 0.026726 - momentum: 0.000000\n",
            "2025-05-15 11:39:44,651 epoch 2 - iter 14/76 - loss 0.38533529 - time (sec): 1.41 - samples/sec: 79.47 - lr: 0.026726 - momentum: 0.000000\n",
            "2025-05-15 11:39:45,286 epoch 2 - iter 21/76 - loss 0.41317267 - time (sec): 2.04 - samples/sec: 82.16 - lr: 0.026726 - momentum: 0.000000\n",
            "2025-05-15 11:39:45,879 epoch 2 - iter 28/76 - loss 0.39277925 - time (sec): 2.64 - samples/sec: 84.92 - lr: 0.026726 - momentum: 0.000000\n",
            "2025-05-15 11:39:46,627 epoch 2 - iter 35/76 - loss 0.39295096 - time (sec): 3.39 - samples/sec: 82.71 - lr: 0.026726 - momentum: 0.000000\n",
            "2025-05-15 11:39:47,450 epoch 2 - iter 42/76 - loss 0.46775547 - time (sec): 4.21 - samples/sec: 79.84 - lr: 0.026726 - momentum: 0.000000\n",
            "2025-05-15 11:39:48,124 epoch 2 - iter 49/76 - loss 0.43195743 - time (sec): 4.88 - samples/sec: 80.28 - lr: 0.026726 - momentum: 0.000000\n",
            "2025-05-15 11:39:48,944 epoch 2 - iter 56/76 - loss 0.41782384 - time (sec): 5.70 - samples/sec: 78.56 - lr: 0.026726 - momentum: 0.000000\n",
            "2025-05-15 11:39:49,679 epoch 2 - iter 63/76 - loss 0.43025078 - time (sec): 6.44 - samples/sec: 78.29 - lr: 0.026726 - momentum: 0.000000\n",
            "2025-05-15 11:39:50,353 epoch 2 - iter 70/76 - loss 0.47967077 - time (sec): 7.11 - samples/sec: 78.75 - lr: 0.026726 - momentum: 0.000000\n",
            "2025-05-15 11:39:50,974 ----------------------------------------------------------------------------------------------------\n",
            "2025-05-15 11:39:50,975 EPOCH 2 done: loss 0.4771 - lr: 0.026726\n"
          ]
        },
        {
          "output_type": "stream",
          "name": "stderr",
          "text": [
            "100%|██████████| 3/3 [00:00<00:00,  3.45it/s]"
          ]
        },
        {
          "output_type": "stream",
          "name": "stdout",
          "text": [
            "2025-05-15 11:39:51,869 DEV : loss 0.2598549723625183 - f1-score (micro avg)  0.9286\n",
            "2025-05-15 11:39:51,905  - 0 epochs without improvement\n",
            "2025-05-15 11:39:51,906 saving best model\n"
          ]
        },
        {
          "output_type": "stream",
          "name": "stderr",
          "text": [
            "\n"
          ]
        },
        {
          "output_type": "stream",
          "name": "stdout",
          "text": [
            "2025-05-15 11:39:53,150 ----------------------------------------------------------------------------------------------------\n",
            "2025-05-15 11:39:53,828 epoch 3 - iter 7/76 - loss 0.41020704 - time (sec): 0.67 - samples/sec: 83.10 - lr: 0.026726 - momentum: 0.000000\n",
            "2025-05-15 11:39:54,547 epoch 3 - iter 14/76 - loss 0.30202909 - time (sec): 1.39 - samples/sec: 80.44 - lr: 0.026726 - momentum: 0.000000\n",
            "2025-05-15 11:39:55,240 epoch 3 - iter 21/76 - loss 0.24495967 - time (sec): 2.09 - samples/sec: 80.53 - lr: 0.026726 - momentum: 0.000000\n",
            "2025-05-15 11:39:55,994 epoch 3 - iter 28/76 - loss 0.26080884 - time (sec): 2.84 - samples/sec: 78.87 - lr: 0.026726 - momentum: 0.000000\n",
            "2025-05-15 11:39:56,754 epoch 3 - iter 35/76 - loss 0.29034071 - time (sec): 3.60 - samples/sec: 77.78 - lr: 0.026726 - momentum: 0.000000\n",
            "2025-05-15 11:39:57,478 epoch 3 - iter 42/76 - loss 0.28216798 - time (sec): 4.32 - samples/sec: 77.72 - lr: 0.026726 - momentum: 0.000000\n",
            "2025-05-15 11:39:58,155 epoch 3 - iter 49/76 - loss 0.32912620 - time (sec): 5.00 - samples/sec: 78.39 - lr: 0.026726 - momentum: 0.000000\n",
            "2025-05-15 11:39:58,927 epoch 3 - iter 56/76 - loss 0.34293592 - time (sec): 5.77 - samples/sec: 77.61 - lr: 0.026726 - momentum: 0.000000\n",
            "2025-05-15 11:39:59,609 epoch 3 - iter 63/76 - loss 0.38863288 - time (sec): 6.45 - samples/sec: 78.08 - lr: 0.026726 - momentum: 0.000000\n",
            "2025-05-15 11:40:00,257 epoch 3 - iter 70/76 - loss 0.37860673 - time (sec): 7.10 - samples/sec: 78.85 - lr: 0.026726 - momentum: 0.000000\n",
            "2025-05-15 11:40:00,862 ----------------------------------------------------------------------------------------------------\n",
            "2025-05-15 11:40:00,863 EPOCH 3 done: loss 0.3705 - lr: 0.026726\n"
          ]
        },
        {
          "output_type": "stream",
          "name": "stderr",
          "text": [
            "100%|██████████| 3/3 [00:00<00:00,  3.47it/s]"
          ]
        },
        {
          "output_type": "stream",
          "name": "stdout",
          "text": [
            "2025-05-15 11:40:01,753 DEV : loss 0.3799508512020111 - f1-score (micro avg)  0.881\n",
            "2025-05-15 11:40:01,787  - 1 epochs without improvement\n",
            "2025-05-15 11:40:01,788 ----------------------------------------------------------------------------------------------------\n"
          ]
        },
        {
          "output_type": "stream",
          "name": "stderr",
          "text": [
            "\n"
          ]
        },
        {
          "output_type": "stream",
          "name": "stdout",
          "text": [
            "2025-05-15 11:40:02,482 epoch 4 - iter 7/76 - loss 0.55183691 - time (sec): 0.69 - samples/sec: 81.03 - lr: 0.026726 - momentum: 0.000000\n",
            "2025-05-15 11:40:03,252 epoch 4 - iter 14/76 - loss 0.34389101 - time (sec): 1.46 - samples/sec: 76.63 - lr: 0.026726 - momentum: 0.000000\n",
            "2025-05-15 11:40:04,102 epoch 4 - iter 21/76 - loss 0.31053293 - time (sec): 2.31 - samples/sec: 72.68 - lr: 0.026726 - momentum: 0.000000\n",
            "2025-05-15 11:40:04,785 epoch 4 - iter 28/76 - loss 0.30709929 - time (sec): 2.99 - samples/sec: 74.82 - lr: 0.026726 - momentum: 0.000000\n",
            "2025-05-15 11:40:05,615 epoch 4 - iter 35/76 - loss 0.27709379 - time (sec): 3.82 - samples/sec: 73.22 - lr: 0.026726 - momentum: 0.000000\n",
            "2025-05-15 11:40:06,263 epoch 4 - iter 42/76 - loss 0.33901028 - time (sec): 4.47 - samples/sec: 75.13 - lr: 0.026726 - momentum: 0.000000\n",
            "2025-05-15 11:40:06,950 epoch 4 - iter 49/76 - loss 0.34932608 - time (sec): 5.16 - samples/sec: 75.97 - lr: 0.026726 - momentum: 0.000000\n",
            "2025-05-15 11:40:07,593 epoch 4 - iter 56/76 - loss 0.33990279 - time (sec): 5.80 - samples/sec: 77.21 - lr: 0.026726 - momentum: 0.000000\n",
            "2025-05-15 11:40:08,263 epoch 4 - iter 63/76 - loss 0.33629784 - time (sec): 6.47 - samples/sec: 77.87 - lr: 0.026726 - momentum: 0.000000\n",
            "2025-05-15 11:40:08,873 epoch 4 - iter 70/76 - loss 0.32718128 - time (sec): 7.08 - samples/sec: 79.07 - lr: 0.026726 - momentum: 0.000000\n",
            "2025-05-15 11:40:09,572 ----------------------------------------------------------------------------------------------------\n",
            "2025-05-15 11:40:09,573 EPOCH 4 done: loss 0.3216 - lr: 0.026726\n"
          ]
        },
        {
          "output_type": "stream",
          "name": "stderr",
          "text": [
            "100%|██████████| 3/3 [00:00<00:00,  3.27it/s]"
          ]
        },
        {
          "output_type": "stream",
          "name": "stdout",
          "text": [
            "2025-05-15 11:40:10,520 DEV : loss 0.515961229801178 - f1-score (micro avg)  0.9048\n",
            "2025-05-15 11:40:10,584  - 2 epochs without improvement\n",
            "2025-05-15 11:40:10,590 ----------------------------------------------------------------------------------------------------\n"
          ]
        },
        {
          "output_type": "stream",
          "name": "stderr",
          "text": [
            "\n"
          ]
        },
        {
          "output_type": "stream",
          "name": "stdout",
          "text": [
            "2025-05-15 11:40:11,300 epoch 5 - iter 7/76 - loss 0.30426275 - time (sec): 0.71 - samples/sec: 79.09 - lr: 0.026726 - momentum: 0.000000\n",
            "2025-05-15 11:40:11,970 epoch 5 - iter 14/76 - loss 0.18180548 - time (sec): 1.38 - samples/sec: 81.30 - lr: 0.026726 - momentum: 0.000000\n",
            "2025-05-15 11:40:12,809 epoch 5 - iter 21/76 - loss 0.15272903 - time (sec): 2.22 - samples/sec: 75.77 - lr: 0.026726 - momentum: 0.000000\n",
            "2025-05-15 11:40:13,441 epoch 5 - iter 28/76 - loss 0.16119767 - time (sec): 2.85 - samples/sec: 78.63 - lr: 0.026726 - momentum: 0.000000\n",
            "2025-05-15 11:40:14,127 epoch 5 - iter 35/76 - loss 0.16760758 - time (sec): 3.54 - samples/sec: 79.20 - lr: 0.026726 - momentum: 0.000000\n",
            "2025-05-15 11:40:14,829 epoch 5 - iter 42/76 - loss 0.16502063 - time (sec): 4.24 - samples/sec: 79.29 - lr: 0.026726 - momentum: 0.000000\n",
            "2025-05-15 11:40:15,580 epoch 5 - iter 49/76 - loss 0.17707555 - time (sec): 4.99 - samples/sec: 78.58 - lr: 0.026726 - momentum: 0.000000\n",
            "2025-05-15 11:40:16,313 epoch 5 - iter 56/76 - loss 0.18114436 - time (sec): 5.72 - samples/sec: 78.30 - lr: 0.026726 - momentum: 0.000000\n",
            "2025-05-15 11:40:17,024 epoch 5 - iter 63/76 - loss 0.18007378 - time (sec): 6.43 - samples/sec: 78.35 - lr: 0.026726 - momentum: 0.000000\n",
            "2025-05-15 11:40:17,721 epoch 5 - iter 70/76 - loss 0.16557201 - time (sec): 7.13 - samples/sec: 78.55 - lr: 0.026726 - momentum: 0.000000\n",
            "2025-05-15 11:40:18,321 ----------------------------------------------------------------------------------------------------\n",
            "2025-05-15 11:40:18,321 EPOCH 5 done: loss 0.1860 - lr: 0.026726\n"
          ]
        },
        {
          "output_type": "stream",
          "name": "stderr",
          "text": [
            "100%|██████████| 3/3 [00:00<00:00,  3.48it/s]"
          ]
        },
        {
          "output_type": "stream",
          "name": "stdout",
          "text": [
            "2025-05-15 11:40:19,206 DEV : loss 0.30482038855552673 - f1-score (micro avg)  0.9226\n",
            "2025-05-15 11:40:19,242  - 3 epochs without improvement\n",
            "2025-05-15 11:40:19,243 ----------------------------------------------------------------------------------------------------\n"
          ]
        },
        {
          "output_type": "stream",
          "name": "stderr",
          "text": [
            "\n"
          ]
        },
        {
          "output_type": "stream",
          "name": "stdout",
          "text": [
            "2025-05-15 11:40:19,925 epoch 6 - iter 7/76 - loss 0.03125255 - time (sec): 0.68 - samples/sec: 82.42 - lr: 0.026726 - momentum: 0.000000\n",
            "2025-05-15 11:40:20,670 epoch 6 - iter 14/76 - loss 0.04132147 - time (sec): 1.42 - samples/sec: 78.61 - lr: 0.026726 - momentum: 0.000000\n",
            "2025-05-15 11:40:21,428 epoch 6 - iter 21/76 - loss 0.05681764 - time (sec): 2.18 - samples/sec: 76.97 - lr: 0.026726 - momentum: 0.000000\n",
            "2025-05-15 11:40:22,076 epoch 6 - iter 28/76 - loss 0.08743212 - time (sec): 2.83 - samples/sec: 79.14 - lr: 0.026726 - momentum: 0.000000\n",
            "2025-05-15 11:40:22,768 epoch 6 - iter 35/76 - loss 0.08956148 - time (sec): 3.52 - samples/sec: 79.48 - lr: 0.026726 - momentum: 0.000000\n",
            "2025-05-15 11:40:23,468 epoch 6 - iter 42/76 - loss 0.08853865 - time (sec): 4.22 - samples/sec: 79.57 - lr: 0.026726 - momentum: 0.000000\n",
            "2025-05-15 11:40:24,195 epoch 6 - iter 49/76 - loss 0.08626279 - time (sec): 4.95 - samples/sec: 79.19 - lr: 0.026726 - momentum: 0.000000\n",
            "2025-05-15 11:40:24,927 epoch 6 - iter 56/76 - loss 0.09687229 - time (sec): 5.68 - samples/sec: 78.85 - lr: 0.026726 - momentum: 0.000000\n",
            "2025-05-15 11:40:25,604 epoch 6 - iter 63/76 - loss 0.09016258 - time (sec): 6.36 - samples/sec: 79.26 - lr: 0.026726 - momentum: 0.000000\n",
            "2025-05-15 11:40:26,281 epoch 6 - iter 70/76 - loss 0.08660653 - time (sec): 7.04 - samples/sec: 79.59 - lr: 0.026726 - momentum: 0.000000\n",
            "2025-05-15 11:40:26,955 ----------------------------------------------------------------------------------------------------\n",
            "2025-05-15 11:40:26,959 EPOCH 6 done: loss 0.0828 - lr: 0.026726\n"
          ]
        },
        {
          "output_type": "stream",
          "name": "stderr",
          "text": [
            "100%|██████████| 3/3 [00:00<00:00,  3.53it/s]"
          ]
        },
        {
          "output_type": "stream",
          "name": "stdout",
          "text": [
            "2025-05-15 11:40:27,835 DEV : loss 0.42215049266815186 - f1-score (micro avg)  0.9048\n",
            "2025-05-15 11:40:27,875  - 4 epochs without improvement (above 'patience')-> annealing learning_rate to [0.013362978235919021]\n",
            "2025-05-15 11:40:27,876 ----------------------------------------------------------------------------------------------------\n"
          ]
        },
        {
          "output_type": "stream",
          "name": "stderr",
          "text": [
            "\n"
          ]
        },
        {
          "output_type": "stream",
          "name": "stdout",
          "text": [
            "2025-05-15 11:40:28,479 epoch 7 - iter 7/76 - loss 0.02969924 - time (sec): 0.60 - samples/sec: 93.28 - lr: 0.013363 - momentum: 0.000000\n",
            "2025-05-15 11:40:29,114 epoch 7 - iter 14/76 - loss 0.01566135 - time (sec): 1.24 - samples/sec: 90.68 - lr: 0.013363 - momentum: 0.000000\n",
            "2025-05-15 11:40:29,844 epoch 7 - iter 21/76 - loss 0.01789927 - time (sec): 1.97 - samples/sec: 85.49 - lr: 0.013363 - momentum: 0.000000\n",
            "2025-05-15 11:40:30,544 epoch 7 - iter 28/76 - loss 0.01426497 - time (sec): 2.67 - samples/sec: 84.03 - lr: 0.013363 - momentum: 0.000000\n",
            "2025-05-15 11:40:31,348 epoch 7 - iter 35/76 - loss 0.01150553 - time (sec): 3.47 - samples/sec: 80.70 - lr: 0.013363 - momentum: 0.000000\n",
            "2025-05-15 11:40:32,033 epoch 7 - iter 42/76 - loss 0.01586774 - time (sec): 4.15 - samples/sec: 80.88 - lr: 0.013363 - momentum: 0.000000\n",
            "2025-05-15 11:40:32,748 epoch 7 - iter 49/76 - loss 0.01417937 - time (sec): 4.87 - samples/sec: 80.50 - lr: 0.013363 - momentum: 0.000000\n",
            "2025-05-15 11:40:33,401 epoch 7 - iter 56/76 - loss 0.01244055 - time (sec): 5.52 - samples/sec: 81.12 - lr: 0.013363 - momentum: 0.000000\n",
            "2025-05-15 11:40:34,117 epoch 7 - iter 63/76 - loss 0.01106742 - time (sec): 6.24 - samples/sec: 80.79 - lr: 0.013363 - momentum: 0.000000\n",
            "2025-05-15 11:40:34,811 epoch 7 - iter 70/76 - loss 0.02389017 - time (sec): 6.93 - samples/sec: 80.78 - lr: 0.013363 - momentum: 0.000000\n",
            "2025-05-15 11:40:35,381 ----------------------------------------------------------------------------------------------------\n",
            "2025-05-15 11:40:35,381 EPOCH 7 done: loss 0.0222 - lr: 0.013363\n"
          ]
        },
        {
          "output_type": "stream",
          "name": "stderr",
          "text": [
            "100%|██████████| 3/3 [00:00<00:00,  3.50it/s]"
          ]
        },
        {
          "output_type": "stream",
          "name": "stdout",
          "text": [
            "2025-05-15 11:40:36,264 DEV : loss 0.3715101182460785 - f1-score (micro avg)  0.8869\n",
            "2025-05-15 11:40:36,329  - 1 epochs without improvement\n",
            "2025-05-15 11:40:36,334 ----------------------------------------------------------------------------------------------------\n"
          ]
        },
        {
          "output_type": "stream",
          "name": "stderr",
          "text": [
            "\n"
          ]
        },
        {
          "output_type": "stream",
          "name": "stdout",
          "text": [
            "2025-05-15 11:40:36,965 epoch 8 - iter 7/76 - loss 0.00007993 - time (sec): 0.63 - samples/sec: 89.25 - lr: 0.013363 - momentum: 0.000000\n",
            "2025-05-15 11:40:37,653 epoch 8 - iter 14/76 - loss 0.00046179 - time (sec): 1.32 - samples/sec: 85.12 - lr: 0.013363 - momentum: 0.000000\n",
            "2025-05-15 11:40:38,402 epoch 8 - iter 21/76 - loss 0.00056791 - time (sec): 2.06 - samples/sec: 81.38 - lr: 0.013363 - momentum: 0.000000\n",
            "2025-05-15 11:40:39,213 epoch 8 - iter 28/76 - loss 0.00298564 - time (sec): 2.88 - samples/sec: 77.89 - lr: 0.013363 - momentum: 0.000000\n",
            "2025-05-15 11:40:39,937 epoch 8 - iter 35/76 - loss 0.00248300 - time (sec): 3.60 - samples/sec: 77.79 - lr: 0.013363 - momentum: 0.000000\n",
            "2025-05-15 11:40:40,582 epoch 8 - iter 42/76 - loss 0.00577801 - time (sec): 4.24 - samples/sec: 79.16 - lr: 0.013363 - momentum: 0.000000\n",
            "2025-05-15 11:40:41,273 epoch 8 - iter 49/76 - loss 0.01079319 - time (sec): 4.94 - samples/sec: 79.41 - lr: 0.013363 - momentum: 0.000000\n",
            "2025-05-15 11:40:42,030 epoch 8 - iter 56/76 - loss 0.03346749 - time (sec): 5.69 - samples/sec: 78.69 - lr: 0.013363 - momentum: 0.000000\n",
            "2025-05-15 11:40:42,810 epoch 8 - iter 63/76 - loss 0.03025199 - time (sec): 6.47 - samples/sec: 77.87 - lr: 0.013363 - momentum: 0.000000\n",
            "2025-05-15 11:40:43,453 epoch 8 - iter 70/76 - loss 0.02733394 - time (sec): 7.12 - samples/sec: 78.70 - lr: 0.013363 - momentum: 0.000000\n",
            "2025-05-15 11:40:44,023 ----------------------------------------------------------------------------------------------------\n",
            "2025-05-15 11:40:44,024 EPOCH 8 done: loss 0.0264 - lr: 0.013363\n"
          ]
        },
        {
          "output_type": "stream",
          "name": "stderr",
          "text": [
            "100%|██████████| 3/3 [00:00<00:00,  3.50it/s]"
          ]
        },
        {
          "output_type": "stream",
          "name": "stdout",
          "text": [
            "2025-05-15 11:40:44,908 DEV : loss 0.26480069756507874 - f1-score (micro avg)  0.9286\n",
            "2025-05-15 11:40:44,942  - 2 epochs without improvement\n",
            "2025-05-15 11:40:44,943 ----------------------------------------------------------------------------------------------------\n"
          ]
        },
        {
          "output_type": "stream",
          "name": "stderr",
          "text": [
            "\n"
          ]
        },
        {
          "output_type": "stream",
          "name": "stdout",
          "text": [
            "2025-05-15 11:40:45,564 epoch 9 - iter 7/76 - loss 0.00097377 - time (sec): 0.62 - samples/sec: 90.54 - lr: 0.013363 - momentum: 0.000000\n",
            "2025-05-15 11:40:46,268 epoch 9 - iter 14/76 - loss 0.00051695 - time (sec): 1.32 - samples/sec: 84.72 - lr: 0.013363 - momentum: 0.000000\n",
            "2025-05-15 11:40:47,058 epoch 9 - iter 21/76 - loss 0.00037305 - time (sec): 2.11 - samples/sec: 79.55 - lr: 0.013363 - momentum: 0.000000\n",
            "2025-05-15 11:40:47,777 epoch 9 - iter 28/76 - loss 0.00079868 - time (sec): 2.83 - samples/sec: 79.12 - lr: 0.013363 - momentum: 0.000000\n",
            "2025-05-15 11:40:48,527 epoch 9 - iter 35/76 - loss 0.02029469 - time (sec): 3.58 - samples/sec: 78.19 - lr: 0.013363 - momentum: 0.000000\n",
            "2025-05-15 11:40:49,203 epoch 9 - iter 42/76 - loss 0.02104083 - time (sec): 4.26 - samples/sec: 78.91 - lr: 0.013363 - momentum: 0.000000\n",
            "2025-05-15 11:40:49,908 epoch 9 - iter 49/76 - loss 0.01806603 - time (sec): 4.96 - samples/sec: 79.00 - lr: 0.013363 - momentum: 0.000000\n",
            "2025-05-15 11:40:50,643 epoch 9 - iter 56/76 - loss 0.01587729 - time (sec): 5.70 - samples/sec: 78.63 - lr: 0.013363 - momentum: 0.000000\n",
            "2025-05-15 11:40:51,271 epoch 9 - iter 63/76 - loss 0.01411774 - time (sec): 6.33 - samples/sec: 79.68 - lr: 0.013363 - momentum: 0.000000\n",
            "2025-05-15 11:40:51,920 epoch 9 - iter 70/76 - loss 0.01280728 - time (sec): 6.97 - samples/sec: 80.30 - lr: 0.013363 - momentum: 0.000000\n",
            "2025-05-15 11:40:52,440 ----------------------------------------------------------------------------------------------------\n",
            "2025-05-15 11:40:52,442 EPOCH 9 done: loss 0.0194 - lr: 0.013363\n"
          ]
        },
        {
          "output_type": "stream",
          "name": "stderr",
          "text": [
            "100%|██████████| 3/3 [00:00<00:00,  3.49it/s]"
          ]
        },
        {
          "output_type": "stream",
          "name": "stdout",
          "text": [
            "2025-05-15 11:40:53,331 DEV : loss 0.18065035343170166 - f1-score (micro avg)  0.9524\n",
            "2025-05-15 11:40:53,369  - 0 epochs without improvement\n",
            "2025-05-15 11:40:53,370 saving best model\n"
          ]
        },
        {
          "output_type": "stream",
          "name": "stderr",
          "text": [
            "\n"
          ]
        },
        {
          "output_type": "stream",
          "name": "stdout",
          "text": [
            "2025-05-15 11:40:57,754 ----------------------------------------------------------------------------------------------------\n",
            "2025-05-15 11:40:57,757 Loading model from best epoch ...\n"
          ]
        },
        {
          "output_type": "stream",
          "name": "stderr",
          "text": [
            "100%|██████████| 2/2 [00:00<00:00,  4.51it/s]"
          ]
        },
        {
          "output_type": "stream",
          "name": "stdout",
          "text": [
            "2025-05-15 11:41:00,253 \n",
            "Results:\n",
            "- F-score (micro) 0.9254\n",
            "- F-score (macro) 0.9445\n",
            "- Accuracy 0.9254\n",
            "\n",
            "By class:\n",
            "              precision    recall  f1-score   support\n",
            "\n",
            "          공통     0.8947    0.8947    0.8947        19\n",
            "          교량     1.0000    0.8125    0.8966        16\n",
            "       가설구조물     0.8571    1.0000    0.9231        12\n",
            "        굴착공사     0.9091    1.0000    0.9524        10\n",
            "          건축     1.0000    1.0000    1.0000         6\n",
            "        양중작업     1.0000    1.0000    1.0000         4\n",
            "\n",
            "    accuracy                         0.9254        67\n",
            "   macro avg     0.9435    0.9512    0.9445        67\n",
            "weighted avg     0.9310    0.9254    0.9246        67\n",
            "\n",
            "2025-05-15 11:41:00,254 ----------------------------------------------------------------------------------------------------\n"
          ]
        },
        {
          "output_type": "stream",
          "name": "stderr",
          "text": [
            "\n"
          ]
        },
        {
          "output_type": "stream",
          "name": "stdout",
          "text": [
            "  훈련 결과: {'test_score': 0.9253731343283582}\n",
            "  현재 폴드 정확도: 0.9524\n",
            "  폴드 2/5 학습 중...\n",
            "2025-05-15 11:41:05,473 Reading data from /tmp/tmpljikp9mw\n",
            "2025-05-15 11:41:05,474 Train: /tmp/tmpljikp9mw/train.txt\n",
            "2025-05-15 11:41:05,475 Dev: /tmp/tmpljikp9mw/dev.txt\n",
            "2025-05-15 11:41:05,476 Test: None\n",
            "2025-05-15 11:41:05,535 No test split found. Using 10% (i.e. 67 samples) of the train split as test data\n",
            "2025-05-15 11:41:05,539 Initialized corpus /tmp/tmpljikp9mw (label type name is 'class')\n",
            "2025-05-15 11:41:05,540 Computing label dictionary. Progress:\n"
          ]
        },
        {
          "output_type": "stream",
          "name": "stderr",
          "text": [
            "0it [00:00, ?it/s]\n",
            "603it [00:00, 4144.94it/s]"
          ]
        },
        {
          "output_type": "stream",
          "name": "stdout",
          "text": [
            "2025-05-15 11:41:05,696 Dictionary created for label 'class' with 6 values: 공통 (seen 178 times), 가설구조물 (seen 133 times), 교량 (seen 105 times), 굴착공사 (seen 79 times), 건축 (seen 56 times), 양중작업 (seen 52 times)\n",
            "2025-05-15 11:41:05,705 ----------------------------------------------------------------------------------------------------\n",
            "2025-05-15 11:41:05,708 Model: \"TextClassifier(\n",
            "  (embeddings): TransformerDocumentEmbeddings(\n",
            "    (model): BertModel(\n",
            "      (embeddings): BertEmbeddings(\n",
            "        (word_embeddings): Embedding(32001, 768, padding_idx=0)\n",
            "        (position_embeddings): Embedding(512, 768)\n",
            "        (token_type_embeddings): Embedding(2, 768)\n",
            "        (LayerNorm): LayerNorm((768,), eps=1e-12, elementwise_affine=True)\n",
            "        (dropout): Dropout(p=0.1, inplace=False)\n",
            "      )\n",
            "      (encoder): BertEncoder(\n",
            "        (layer): ModuleList(\n",
            "          (0-11): 12 x BertLayer(\n",
            "            (attention): BertAttention(\n",
            "              (self): BertSdpaSelfAttention(\n",
            "                (query): Linear(in_features=768, out_features=768, bias=True)\n",
            "                (key): Linear(in_features=768, out_features=768, bias=True)\n",
            "                (value): Linear(in_features=768, out_features=768, bias=True)\n",
            "                (dropout): Dropout(p=0.1, inplace=False)\n",
            "              )\n",
            "              (output): BertSelfOutput(\n",
            "                (dense): Linear(in_features=768, out_features=768, bias=True)\n",
            "                (LayerNorm): LayerNorm((768,), eps=1e-12, elementwise_affine=True)\n",
            "                (dropout): Dropout(p=0.1, inplace=False)\n",
            "              )\n",
            "            )\n",
            "            (intermediate): BertIntermediate(\n",
            "              (dense): Linear(in_features=768, out_features=3072, bias=True)\n",
            "              (intermediate_act_fn): GELUActivation()\n",
            "            )\n",
            "            (output): BertOutput(\n",
            "              (dense): Linear(in_features=3072, out_features=768, bias=True)\n",
            "              (LayerNorm): LayerNorm((768,), eps=1e-12, elementwise_affine=True)\n",
            "              (dropout): Dropout(p=0.1, inplace=False)\n",
            "            )\n",
            "          )\n",
            "        )\n",
            "      )\n",
            "      (pooler): BertPooler(\n",
            "        (dense): Linear(in_features=768, out_features=768, bias=True)\n",
            "        (activation): Tanh()\n",
            "      )\n",
            "    )\n",
            "  )\n",
            "  (decoder): Linear(in_features=768, out_features=6, bias=True)\n",
            "  (dropout): Dropout(p=0.0, inplace=False)\n",
            "  (locked_dropout): LockedDropout(p=0.0)\n",
            "  (word_dropout): WordDropout(p=0.0)\n",
            "  (loss_function): CrossEntropyLoss()\n",
            "  (weights): None\n",
            "  (weight_tensor) None\n",
            ")\"\n",
            "2025-05-15 11:41:05,708 ----------------------------------------------------------------------------------------------------\n",
            "2025-05-15 11:41:05,709 Corpus: 603 train + 168 dev + 67 test sentences\n",
            "2025-05-15 11:41:05,710 ----------------------------------------------------------------------------------------------------\n",
            "2025-05-15 11:41:05,711 Train:  603 sentences\n",
            "2025-05-15 11:41:05,711         (train_with_dev=False, train_with_test=False)\n",
            "2025-05-15 11:41:05,712 ----------------------------------------------------------------------------------------------------\n",
            "2025-05-15 11:41:05,713 Training Params:\n",
            "2025-05-15 11:41:05,715  - learning_rate: \"0.026725956471838043\" \n",
            "2025-05-15 11:41:05,716  - mini_batch_size: \"8\"\n",
            "2025-05-15 11:41:05,717  - max_epochs: \"9\"\n",
            "2025-05-15 11:41:05,719  - shuffle: \"True\"\n",
            "2025-05-15 11:41:05,720 ----------------------------------------------------------------------------------------------------\n",
            "2025-05-15 11:41:05,721 Plugins:\n",
            "2025-05-15 11:41:05,722  - AnnealOnPlateau | patience: '3', anneal_factor: '0.5', min_learning_rate: '0.0001'\n",
            "2025-05-15 11:41:05,724 ----------------------------------------------------------------------------------------------------\n",
            "2025-05-15 11:41:05,725 Final evaluation on model from best epoch (best-model.pt)\n",
            "2025-05-15 11:41:05,727  - metric: \"('micro avg', 'f1-score')\"\n",
            "2025-05-15 11:41:05,727 ----------------------------------------------------------------------------------------------------\n",
            "2025-05-15 11:41:05,729 Computation:\n",
            "2025-05-15 11:41:05,729  - compute on device: cuda:0\n",
            "2025-05-15 11:41:05,730  - embedding storage: cpu\n",
            "2025-05-15 11:41:05,731 ----------------------------------------------------------------------------------------------------\n",
            "2025-05-15 11:41:05,731 Model training base path: \"/tmp/tmpljikp9mw/model\"\n",
            "2025-05-15 11:41:05,732 ----------------------------------------------------------------------------------------------------\n",
            "2025-05-15 11:41:05,732 ----------------------------------------------------------------------------------------------------\n"
          ]
        },
        {
          "output_type": "stream",
          "name": "stderr",
          "text": [
            "\n",
            "/usr/local/lib/python3.11/dist-packages/flair/trainers/trainer.py:545: FutureWarning: `torch.cuda.amp.GradScaler(args...)` is deprecated. Please use `torch.amp.GradScaler('cuda', args...)` instead.\n",
            "  scaler = torch.cuda.amp.GradScaler(enabled=use_amp and flair.device.type != \"cpu\")\n"
          ]
        },
        {
          "output_type": "stream",
          "name": "stdout",
          "text": [
            "2025-05-15 11:41:06,410 epoch 1 - iter 7/76 - loss 0.89330561 - time (sec): 0.68 - samples/sec: 82.95 - lr: 0.026726 - momentum: 0.000000\n",
            "2025-05-15 11:41:06,982 epoch 1 - iter 14/76 - loss 0.51803263 - time (sec): 1.25 - samples/sec: 89.79 - lr: 0.026726 - momentum: 0.000000\n",
            "2025-05-15 11:41:07,620 epoch 1 - iter 21/76 - loss 0.44168406 - time (sec): 1.89 - samples/sec: 89.12 - lr: 0.026726 - momentum: 0.000000\n",
            "2025-05-15 11:41:08,351 epoch 1 - iter 28/76 - loss 0.37267662 - time (sec): 2.62 - samples/sec: 85.60 - lr: 0.026726 - momentum: 0.000000\n",
            "2025-05-15 11:41:09,123 epoch 1 - iter 35/76 - loss 0.31085196 - time (sec): 3.39 - samples/sec: 82.64 - lr: 0.026726 - momentum: 0.000000\n",
            "2025-05-15 11:41:09,783 epoch 1 - iter 42/76 - loss 0.32450426 - time (sec): 4.05 - samples/sec: 82.98 - lr: 0.026726 - momentum: 0.000000\n",
            "2025-05-15 11:41:10,511 epoch 1 - iter 49/76 - loss 0.35436797 - time (sec): 4.78 - samples/sec: 82.06 - lr: 0.026726 - momentum: 0.000000\n",
            "2025-05-15 11:41:11,219 epoch 1 - iter 56/76 - loss 0.40009128 - time (sec): 5.48 - samples/sec: 81.68 - lr: 0.026726 - momentum: 0.000000\n",
            "2025-05-15 11:41:11,920 epoch 1 - iter 63/76 - loss 0.40274896 - time (sec): 6.19 - samples/sec: 81.48 - lr: 0.026726 - momentum: 0.000000\n",
            "2025-05-15 11:41:12,721 epoch 1 - iter 70/76 - loss 0.38030502 - time (sec): 6.99 - samples/sec: 80.15 - lr: 0.026726 - momentum: 0.000000\n",
            "2025-05-15 11:41:13,247 ----------------------------------------------------------------------------------------------------\n",
            "2025-05-15 11:41:13,248 EPOCH 1 done: loss 0.3869 - lr: 0.026726\n"
          ]
        },
        {
          "output_type": "stream",
          "name": "stderr",
          "text": [
            "100%|██████████| 3/3 [00:00<00:00,  3.21it/s]"
          ]
        },
        {
          "output_type": "stream",
          "name": "stdout",
          "text": [
            "2025-05-15 11:41:14,212 DEV : loss 0.18269941210746765 - f1-score (micro avg)  0.9524\n",
            "2025-05-15 11:41:14,254  - 0 epochs without improvement\n",
            "2025-05-15 11:41:14,255 saving best model\n"
          ]
        },
        {
          "output_type": "stream",
          "name": "stderr",
          "text": [
            "\n"
          ]
        },
        {
          "output_type": "stream",
          "name": "stdout",
          "text": [
            "2025-05-15 11:41:15,463 ----------------------------------------------------------------------------------------------------\n",
            "2025-05-15 11:41:16,175 epoch 2 - iter 7/76 - loss 0.08854137 - time (sec): 0.71 - samples/sec: 79.07 - lr: 0.026726 - momentum: 0.000000\n",
            "2025-05-15 11:41:16,805 epoch 2 - iter 14/76 - loss 0.14924703 - time (sec): 1.34 - samples/sec: 83.69 - lr: 0.026726 - momentum: 0.000000\n",
            "2025-05-15 11:41:17,498 epoch 2 - iter 21/76 - loss 0.10781932 - time (sec): 2.03 - samples/sec: 82.69 - lr: 0.026726 - momentum: 0.000000\n",
            "2025-05-15 11:41:18,277 epoch 2 - iter 28/76 - loss 0.12049367 - time (sec): 2.81 - samples/sec: 79.72 - lr: 0.026726 - momentum: 0.000000\n",
            "2025-05-15 11:41:18,974 epoch 2 - iter 35/76 - loss 0.12673478 - time (sec): 3.51 - samples/sec: 79.84 - lr: 0.026726 - momentum: 0.000000\n",
            "2025-05-15 11:41:19,679 epoch 2 - iter 42/76 - loss 0.13089763 - time (sec): 4.21 - samples/sec: 79.76 - lr: 0.026726 - momentum: 0.000000\n",
            "2025-05-15 11:41:20,415 epoch 2 - iter 49/76 - loss 0.12865907 - time (sec): 4.95 - samples/sec: 79.22 - lr: 0.026726 - momentum: 0.000000\n",
            "2025-05-15 11:41:21,162 epoch 2 - iter 56/76 - loss 0.15495377 - time (sec): 5.70 - samples/sec: 78.66 - lr: 0.026726 - momentum: 0.000000\n",
            "2025-05-15 11:41:21,900 epoch 2 - iter 63/76 - loss 0.15698046 - time (sec): 6.43 - samples/sec: 78.34 - lr: 0.026726 - momentum: 0.000000\n",
            "2025-05-15 11:41:22,624 epoch 2 - iter 70/76 - loss 0.14833142 - time (sec): 7.16 - samples/sec: 78.24 - lr: 0.026726 - momentum: 0.000000\n",
            "2025-05-15 11:41:23,318 ----------------------------------------------------------------------------------------------------\n",
            "2025-05-15 11:41:23,319 EPOCH 2 done: loss 0.1428 - lr: 0.026726\n"
          ]
        },
        {
          "output_type": "stream",
          "name": "stderr",
          "text": [
            "100%|██████████| 3/3 [00:00<00:00,  3.21it/s]"
          ]
        },
        {
          "output_type": "stream",
          "name": "stdout",
          "text": [
            "2025-05-15 11:41:24,277 DEV : loss 0.1047607958316803 - f1-score (micro avg)  0.9762\n",
            "2025-05-15 11:41:24,312  - 0 epochs without improvement\n",
            "2025-05-15 11:41:24,313 saving best model\n"
          ]
        },
        {
          "output_type": "stream",
          "name": "stderr",
          "text": [
            "\n"
          ]
        },
        {
          "output_type": "stream",
          "name": "stdout",
          "text": [
            "2025-05-15 11:41:27,619 ----------------------------------------------------------------------------------------------------\n",
            "2025-05-15 11:41:28,379 epoch 3 - iter 7/76 - loss 0.00129724 - time (sec): 0.76 - samples/sec: 73.99 - lr: 0.026726 - momentum: 0.000000\n",
            "2025-05-15 11:41:29,105 epoch 3 - iter 14/76 - loss 0.00884001 - time (sec): 1.48 - samples/sec: 75.52 - lr: 0.026726 - momentum: 0.000000\n",
            "2025-05-15 11:41:29,869 epoch 3 - iter 21/76 - loss 0.00628023 - time (sec): 2.25 - samples/sec: 74.78 - lr: 0.026726 - momentum: 0.000000\n",
            "2025-05-15 11:41:30,616 epoch 3 - iter 28/76 - loss 0.01719400 - time (sec): 2.99 - samples/sec: 74.81 - lr: 0.026726 - momentum: 0.000000\n",
            "2025-05-15 11:41:31,443 epoch 3 - iter 35/76 - loss 0.01739490 - time (sec): 3.82 - samples/sec: 73.28 - lr: 0.026726 - momentum: 0.000000\n",
            "2025-05-15 11:41:32,213 epoch 3 - iter 42/76 - loss 0.01480357 - time (sec): 4.59 - samples/sec: 73.19 - lr: 0.026726 - momentum: 0.000000\n",
            "2025-05-15 11:41:32,922 epoch 3 - iter 49/76 - loss 0.05313914 - time (sec): 5.30 - samples/sec: 73.96 - lr: 0.026726 - momentum: 0.000000\n",
            "2025-05-15 11:41:33,567 epoch 3 - iter 56/76 - loss 0.05505369 - time (sec): 5.95 - samples/sec: 75.35 - lr: 0.026726 - momentum: 0.000000\n",
            "2025-05-15 11:41:34,311 epoch 3 - iter 63/76 - loss 0.06008361 - time (sec): 6.69 - samples/sec: 75.35 - lr: 0.026726 - momentum: 0.000000\n",
            "2025-05-15 11:41:35,015 epoch 3 - iter 70/76 - loss 0.05416915 - time (sec): 7.39 - samples/sec: 75.74 - lr: 0.026726 - momentum: 0.000000\n",
            "2025-05-15 11:41:35,547 ----------------------------------------------------------------------------------------------------\n",
            "2025-05-15 11:41:35,548 EPOCH 3 done: loss 0.0663 - lr: 0.026726\n"
          ]
        },
        {
          "output_type": "stream",
          "name": "stderr",
          "text": [
            "100%|██████████| 3/3 [00:00<00:00,  3.21it/s]\n"
          ]
        },
        {
          "output_type": "stream",
          "name": "stdout",
          "text": [
            "2025-05-15 11:41:36,510 DEV : loss 0.07353071868419647 - f1-score (micro avg)  0.994\n",
            "2025-05-15 11:41:36,550  - 0 epochs without improvement\n",
            "2025-05-15 11:41:36,550 saving best model\n",
            "2025-05-15 11:41:37,806 ----------------------------------------------------------------------------------------------------\n",
            "2025-05-15 11:41:38,494 epoch 4 - iter 7/76 - loss 0.09981798 - time (sec): 0.69 - samples/sec: 81.62 - lr: 0.026726 - momentum: 0.000000\n",
            "2025-05-15 11:41:39,242 epoch 4 - iter 14/76 - loss 0.05045845 - time (sec): 1.43 - samples/sec: 78.11 - lr: 0.026726 - momentum: 0.000000\n",
            "2025-05-15 11:41:39,947 epoch 4 - iter 21/76 - loss 0.03395564 - time (sec): 2.14 - samples/sec: 78.55 - lr: 0.026726 - momentum: 0.000000\n",
            "2025-05-15 11:41:40,772 epoch 4 - iter 28/76 - loss 0.05676497 - time (sec): 2.96 - samples/sec: 75.57 - lr: 0.026726 - momentum: 0.000000\n",
            "2025-05-15 11:41:41,443 epoch 4 - iter 35/76 - loss 0.04646867 - time (sec): 3.64 - samples/sec: 77.02 - lr: 0.026726 - momentum: 0.000000\n",
            "2025-05-15 11:41:42,159 epoch 4 - iter 42/76 - loss 0.04089437 - time (sec): 4.35 - samples/sec: 77.21 - lr: 0.026726 - momentum: 0.000000\n",
            "2025-05-15 11:41:42,873 epoch 4 - iter 49/76 - loss 0.06720774 - time (sec): 5.07 - samples/sec: 77.39 - lr: 0.026726 - momentum: 0.000000\n",
            "2025-05-15 11:41:43,523 epoch 4 - iter 56/76 - loss 0.05883121 - time (sec): 5.72 - samples/sec: 78.38 - lr: 0.026726 - momentum: 0.000000\n",
            "2025-05-15 11:41:44,299 epoch 4 - iter 63/76 - loss 0.06162719 - time (sec): 6.49 - samples/sec: 77.64 - lr: 0.026726 - momentum: 0.000000\n",
            "2025-05-15 11:41:44,993 epoch 4 - iter 70/76 - loss 0.07609718 - time (sec): 7.19 - samples/sec: 77.94 - lr: 0.026726 - momentum: 0.000000\n",
            "2025-05-15 11:41:45,581 ----------------------------------------------------------------------------------------------------\n",
            "2025-05-15 11:41:45,582 EPOCH 4 done: loss 0.0755 - lr: 0.026726\n"
          ]
        },
        {
          "output_type": "stream",
          "name": "stderr",
          "text": [
            "100%|██████████| 3/3 [00:00<00:00,  3.26it/s]\n"
          ]
        },
        {
          "output_type": "stream",
          "name": "stdout",
          "text": [
            "2025-05-15 11:41:46,529 DEV : loss 0.28012725710868835 - f1-score (micro avg)  0.9643\n",
            "2025-05-15 11:41:46,563  - 1 epochs without improvement\n",
            "2025-05-15 11:41:46,564 ----------------------------------------------------------------------------------------------------\n",
            "2025-05-15 11:41:47,220 epoch 5 - iter 7/76 - loss 0.02883186 - time (sec): 0.65 - samples/sec: 85.78 - lr: 0.026726 - momentum: 0.000000\n",
            "2025-05-15 11:41:47,953 epoch 5 - iter 14/76 - loss 0.01448688 - time (sec): 1.39 - samples/sec: 80.77 - lr: 0.026726 - momentum: 0.000000\n",
            "2025-05-15 11:41:48,708 epoch 5 - iter 21/76 - loss 0.01059103 - time (sec): 2.14 - samples/sec: 78.46 - lr: 0.026726 - momentum: 0.000000\n",
            "2025-05-15 11:41:49,380 epoch 5 - iter 28/76 - loss 0.00819196 - time (sec): 2.81 - samples/sec: 79.63 - lr: 0.026726 - momentum: 0.000000\n",
            "2025-05-15 11:41:50,085 epoch 5 - iter 35/76 - loss 0.00687229 - time (sec): 3.52 - samples/sec: 79.58 - lr: 0.026726 - momentum: 0.000000\n",
            "2025-05-15 11:41:50,810 epoch 5 - iter 42/76 - loss 0.00894060 - time (sec): 4.24 - samples/sec: 79.18 - lr: 0.026726 - momentum: 0.000000\n",
            "2025-05-15 11:41:51,580 epoch 5 - iter 49/76 - loss 0.00989725 - time (sec): 5.01 - samples/sec: 78.20 - lr: 0.026726 - momentum: 0.000000\n",
            "2025-05-15 11:41:52,330 epoch 5 - iter 56/76 - loss 0.01309256 - time (sec): 5.76 - samples/sec: 77.74 - lr: 0.026726 - momentum: 0.000000\n",
            "2025-05-15 11:41:52,943 epoch 5 - iter 63/76 - loss 0.01168659 - time (sec): 6.38 - samples/sec: 79.04 - lr: 0.026726 - momentum: 0.000000\n",
            "2025-05-15 11:41:53,669 epoch 5 - iter 70/76 - loss 0.01933132 - time (sec): 7.10 - samples/sec: 78.84 - lr: 0.026726 - momentum: 0.000000\n",
            "2025-05-15 11:41:54,309 ----------------------------------------------------------------------------------------------------\n",
            "2025-05-15 11:41:54,310 EPOCH 5 done: loss 0.0180 - lr: 0.026726\n"
          ]
        },
        {
          "output_type": "stream",
          "name": "stderr",
          "text": [
            "100%|██████████| 3/3 [00:00<00:00,  3.15it/s]"
          ]
        },
        {
          "output_type": "stream",
          "name": "stdout",
          "text": [
            "2025-05-15 11:41:55,290 DEV : loss 0.23760008811950684 - f1-score (micro avg)  0.9583\n",
            "2025-05-15 11:41:55,358  - 2 epochs without improvement\n",
            "2025-05-15 11:41:55,365 ----------------------------------------------------------------------------------------------------\n"
          ]
        },
        {
          "output_type": "stream",
          "name": "stderr",
          "text": [
            "\n"
          ]
        },
        {
          "output_type": "stream",
          "name": "stdout",
          "text": [
            "2025-05-15 11:41:56,101 epoch 6 - iter 7/76 - loss 0.00005437 - time (sec): 0.73 - samples/sec: 76.78 - lr: 0.026726 - momentum: 0.000000\n",
            "2025-05-15 11:41:56,821 epoch 6 - iter 14/76 - loss 0.00008451 - time (sec): 1.45 - samples/sec: 77.25 - lr: 0.026726 - momentum: 0.000000\n",
            "2025-05-15 11:41:57,493 epoch 6 - iter 21/76 - loss 0.00006960 - time (sec): 2.12 - samples/sec: 79.18 - lr: 0.026726 - momentum: 0.000000\n",
            "2025-05-15 11:41:58,168 epoch 6 - iter 28/76 - loss 0.00064207 - time (sec): 2.80 - samples/sec: 80.08 - lr: 0.026726 - momentum: 0.000000\n",
            "2025-05-15 11:41:58,810 epoch 6 - iter 35/76 - loss 0.00053429 - time (sec): 3.44 - samples/sec: 81.44 - lr: 0.026726 - momentum: 0.000000\n",
            "2025-05-15 11:41:59,569 epoch 6 - iter 42/76 - loss 0.00049547 - time (sec): 4.20 - samples/sec: 80.05 - lr: 0.026726 - momentum: 0.000000\n",
            "2025-05-15 11:42:00,310 epoch 6 - iter 49/76 - loss 0.00050074 - time (sec): 4.94 - samples/sec: 79.37 - lr: 0.026726 - momentum: 0.000000\n",
            "2025-05-15 11:42:00,994 epoch 6 - iter 56/76 - loss 0.00102904 - time (sec): 5.62 - samples/sec: 79.68 - lr: 0.026726 - momentum: 0.000000\n",
            "2025-05-15 11:42:01,800 epoch 6 - iter 63/76 - loss 0.02239494 - time (sec): 6.43 - samples/sec: 78.40 - lr: 0.026726 - momentum: 0.000000\n",
            "2025-05-15 11:42:02,489 epoch 6 - iter 70/76 - loss 0.02016052 - time (sec): 7.12 - samples/sec: 78.67 - lr: 0.026726 - momentum: 0.000000\n",
            "2025-05-15 11:42:03,116 ----------------------------------------------------------------------------------------------------\n",
            "2025-05-15 11:42:03,117 EPOCH 6 done: loss 0.0187 - lr: 0.026726\n"
          ]
        },
        {
          "output_type": "stream",
          "name": "stderr",
          "text": [
            "100%|██████████| 3/3 [00:00<00:00,  3.27it/s]\n"
          ]
        },
        {
          "output_type": "stream",
          "name": "stdout",
          "text": [
            "2025-05-15 11:42:04,060 DEV : loss 0.19174060225486755 - f1-score (micro avg)  0.9702\n",
            "2025-05-15 11:42:04,100  - 3 epochs without improvement\n",
            "2025-05-15 11:42:04,101 ----------------------------------------------------------------------------------------------------\n",
            "2025-05-15 11:42:04,753 epoch 7 - iter 7/76 - loss 0.00013374 - time (sec): 0.65 - samples/sec: 86.35 - lr: 0.026726 - momentum: 0.000000\n",
            "2025-05-15 11:42:05,446 epoch 7 - iter 14/76 - loss 0.00011885 - time (sec): 1.34 - samples/sec: 83.50 - lr: 0.026726 - momentum: 0.000000\n",
            "2025-05-15 11:42:06,165 epoch 7 - iter 21/76 - loss 0.02061333 - time (sec): 2.06 - samples/sec: 81.54 - lr: 0.026726 - momentum: 0.000000\n",
            "2025-05-15 11:42:06,925 epoch 7 - iter 28/76 - loss 0.02391952 - time (sec): 2.82 - samples/sec: 79.41 - lr: 0.026726 - momentum: 0.000000\n",
            "2025-05-15 11:42:07,755 epoch 7 - iter 35/76 - loss 0.01921054 - time (sec): 3.65 - samples/sec: 76.71 - lr: 0.026726 - momentum: 0.000000\n",
            "2025-05-15 11:42:08,520 epoch 7 - iter 42/76 - loss 0.01610764 - time (sec): 4.42 - samples/sec: 76.09 - lr: 0.026726 - momentum: 0.000000\n",
            "2025-05-15 11:42:09,179 epoch 7 - iter 49/76 - loss 0.01382186 - time (sec): 5.07 - samples/sec: 77.25 - lr: 0.026726 - momentum: 0.000000\n",
            "2025-05-15 11:42:09,863 epoch 7 - iter 56/76 - loss 0.01236361 - time (sec): 5.76 - samples/sec: 77.79 - lr: 0.026726 - momentum: 0.000000\n",
            "2025-05-15 11:42:10,668 epoch 7 - iter 63/76 - loss 0.01099458 - time (sec): 6.56 - samples/sec: 76.78 - lr: 0.026726 - momentum: 0.000000\n",
            "2025-05-15 11:42:11,360 epoch 7 - iter 70/76 - loss 0.00991425 - time (sec): 7.26 - samples/sec: 77.19 - lr: 0.026726 - momentum: 0.000000\n",
            "2025-05-15 11:42:11,976 ----------------------------------------------------------------------------------------------------\n",
            "2025-05-15 11:42:11,977 EPOCH 7 done: loss 0.0092 - lr: 0.026726\n"
          ]
        },
        {
          "output_type": "stream",
          "name": "stderr",
          "text": [
            "100%|██████████| 3/3 [00:00<00:00,  3.31it/s]\n"
          ]
        },
        {
          "output_type": "stream",
          "name": "stdout",
          "text": [
            "2025-05-15 11:42:12,910 DEV : loss 0.19134311378002167 - f1-score (micro avg)  0.9821\n",
            "2025-05-15 11:42:12,947  - 4 epochs without improvement (above 'patience')-> annealing learning_rate to [0.013362978235919021]\n",
            "2025-05-15 11:42:12,948 ----------------------------------------------------------------------------------------------------\n",
            "2025-05-15 11:42:13,687 epoch 8 - iter 7/76 - loss 0.00001736 - time (sec): 0.74 - samples/sec: 75.98 - lr: 0.013363 - momentum: 0.000000\n",
            "2025-05-15 11:42:14,301 epoch 8 - iter 14/76 - loss 0.00012268 - time (sec): 1.35 - samples/sec: 82.94 - lr: 0.013363 - momentum: 0.000000\n",
            "2025-05-15 11:42:14,955 epoch 8 - iter 21/76 - loss 0.00010625 - time (sec): 2.00 - samples/sec: 83.80 - lr: 0.013363 - momentum: 0.000000\n",
            "2025-05-15 11:42:15,723 epoch 8 - iter 28/76 - loss 0.00009133 - time (sec): 2.77 - samples/sec: 80.79 - lr: 0.013363 - momentum: 0.000000\n",
            "2025-05-15 11:42:16,485 epoch 8 - iter 35/76 - loss 0.00008134 - time (sec): 3.54 - samples/sec: 79.21 - lr: 0.013363 - momentum: 0.000000\n",
            "2025-05-15 11:42:17,210 epoch 8 - iter 42/76 - loss 0.00013164 - time (sec): 4.26 - samples/sec: 78.89 - lr: 0.013363 - momentum: 0.000000\n",
            "2025-05-15 11:42:17,935 epoch 8 - iter 49/76 - loss 0.00011389 - time (sec): 4.98 - samples/sec: 78.64 - lr: 0.013363 - momentum: 0.000000\n",
            "2025-05-15 11:42:18,709 epoch 8 - iter 56/76 - loss 0.00010127 - time (sec): 5.76 - samples/sec: 77.80 - lr: 0.013363 - momentum: 0.000000\n",
            "2025-05-15 11:42:19,416 epoch 8 - iter 63/76 - loss 0.00043420 - time (sec): 6.47 - samples/sec: 77.95 - lr: 0.013363 - momentum: 0.000000\n",
            "2025-05-15 11:42:20,053 epoch 8 - iter 70/76 - loss 0.00039909 - time (sec): 7.10 - samples/sec: 78.84 - lr: 0.013363 - momentum: 0.000000\n",
            "2025-05-15 11:42:20,664 ----------------------------------------------------------------------------------------------------\n",
            "2025-05-15 11:42:20,665 EPOCH 8 done: loss 0.0004 - lr: 0.013363\n"
          ]
        },
        {
          "output_type": "stream",
          "name": "stderr",
          "text": [
            "100%|██████████| 3/3 [00:00<00:00,  3.20it/s]"
          ]
        },
        {
          "output_type": "stream",
          "name": "stdout",
          "text": [
            "2025-05-15 11:42:21,630 DEV : loss 0.16383565962314606 - f1-score (micro avg)  0.9821\n",
            "2025-05-15 11:42:21,690  - 1 epochs without improvement\n",
            "2025-05-15 11:42:21,691 ----------------------------------------------------------------------------------------------------\n"
          ]
        },
        {
          "output_type": "stream",
          "name": "stderr",
          "text": [
            "\n"
          ]
        },
        {
          "output_type": "stream",
          "name": "stdout",
          "text": [
            "2025-05-15 11:42:22,423 epoch 9 - iter 7/76 - loss 0.01071114 - time (sec): 0.73 - samples/sec: 76.97 - lr: 0.013363 - momentum: 0.000000\n",
            "2025-05-15 11:42:23,100 epoch 9 - iter 14/76 - loss 0.00537155 - time (sec): 1.40 - samples/sec: 79.76 - lr: 0.013363 - momentum: 0.000000\n",
            "2025-05-15 11:42:23,753 epoch 9 - iter 21/76 - loss 0.00361371 - time (sec): 2.06 - samples/sec: 81.64 - lr: 0.013363 - momentum: 0.000000\n",
            "2025-05-15 11:42:24,483 epoch 9 - iter 28/76 - loss 0.00271181 - time (sec): 2.79 - samples/sec: 80.34 - lr: 0.013363 - momentum: 0.000000\n",
            "2025-05-15 11:42:25,171 epoch 9 - iter 35/76 - loss 0.00217478 - time (sec): 3.48 - samples/sec: 80.56 - lr: 0.013363 - momentum: 0.000000\n",
            "2025-05-15 11:42:25,862 epoch 9 - iter 42/76 - loss 0.00181431 - time (sec): 4.17 - samples/sec: 80.64 - lr: 0.013363 - momentum: 0.000000\n",
            "2025-05-15 11:42:26,611 epoch 9 - iter 49/76 - loss 0.00155589 - time (sec): 4.92 - samples/sec: 79.75 - lr: 0.013363 - momentum: 0.000000\n",
            "2025-05-15 11:42:27,403 epoch 9 - iter 56/76 - loss 0.00139263 - time (sec): 5.71 - samples/sec: 78.50 - lr: 0.013363 - momentum: 0.000000\n",
            "2025-05-15 11:42:28,222 epoch 9 - iter 63/76 - loss 0.00148793 - time (sec): 6.53 - samples/sec: 77.22 - lr: 0.013363 - momentum: 0.000000\n",
            "2025-05-15 11:42:28,899 epoch 9 - iter 70/76 - loss 0.00144155 - time (sec): 7.20 - samples/sec: 77.74 - lr: 0.013363 - momentum: 0.000000\n",
            "2025-05-15 11:42:29,505 ----------------------------------------------------------------------------------------------------\n",
            "2025-05-15 11:42:29,506 EPOCH 9 done: loss 0.0013 - lr: 0.013363\n"
          ]
        },
        {
          "output_type": "stream",
          "name": "stderr",
          "text": [
            "100%|██████████| 3/3 [00:00<00:00,  3.32it/s]\n"
          ]
        },
        {
          "output_type": "stream",
          "name": "stdout",
          "text": [
            "2025-05-15 11:42:30,442 DEV : loss 0.16413864493370056 - f1-score (micro avg)  0.9881\n",
            "2025-05-15 11:42:30,477  - 2 epochs without improvement\n",
            "2025-05-15 11:42:33,350 ----------------------------------------------------------------------------------------------------\n",
            "2025-05-15 11:42:33,353 Loading model from best epoch ...\n"
          ]
        },
        {
          "output_type": "stream",
          "name": "stderr",
          "text": [
            "100%|██████████| 2/2 [00:00<00:00,  4.70it/s]"
          ]
        },
        {
          "output_type": "stream",
          "name": "stdout",
          "text": [
            "2025-05-15 11:42:36,615 \n",
            "Results:\n",
            "- F-score (micro) 0.9851\n",
            "- F-score (macro) 0.9914\n",
            "- Accuracy 0.9851\n",
            "\n",
            "By class:\n",
            "              precision    recall  f1-score   support\n",
            "\n",
            "       가설구조물     0.9524    1.0000    0.9756        20\n",
            "          공통     1.0000    0.9474    0.9730        19\n",
            "          교량     1.0000    1.0000    1.0000         9\n",
            "        굴착공사     1.0000    1.0000    1.0000         8\n",
            "        양중작업     1.0000    1.0000    1.0000         6\n",
            "          건축     1.0000    1.0000    1.0000         5\n",
            "\n",
            "    accuracy                         0.9851        67\n",
            "   macro avg     0.9921    0.9912    0.9914        67\n",
            "weighted avg     0.9858    0.9851    0.9851        67\n",
            "\n",
            "2025-05-15 11:42:36,616 ----------------------------------------------------------------------------------------------------\n"
          ]
        },
        {
          "output_type": "stream",
          "name": "stderr",
          "text": [
            "\n"
          ]
        },
        {
          "output_type": "stream",
          "name": "stdout",
          "text": [
            "  훈련 결과: {'test_score': 0.9850746268656716}\n",
            "  현재 폴드 정확도: 0.9940\n",
            "  폴드 3/5 학습 중...\n",
            "2025-05-15 11:42:41,231 Reading data from /tmp/tmpzp4ja3l2\n",
            "2025-05-15 11:42:41,232 Train: /tmp/tmpzp4ja3l2/train.txt\n",
            "2025-05-15 11:42:41,233 Dev: /tmp/tmpzp4ja3l2/dev.txt\n",
            "2025-05-15 11:42:41,234 Test: None\n",
            "2025-05-15 11:42:41,286 No test split found. Using 10% (i.e. 67 samples) of the train split as test data\n",
            "2025-05-15 11:42:41,287 Initialized corpus /tmp/tmpzp4ja3l2 (label type name is 'class')\n",
            "2025-05-15 11:42:41,288 Computing label dictionary. Progress:\n"
          ]
        },
        {
          "output_type": "stream",
          "name": "stderr",
          "text": [
            "0it [00:00, ?it/s]\n",
            "603it [00:00, 4737.15it/s]"
          ]
        },
        {
          "output_type": "stream",
          "name": "stdout",
          "text": [
            "2025-05-15 11:42:41,422 Dictionary created for label 'class' with 6 values: 공통 (seen 181 times), 가설구조물 (seen 134 times), 교량 (seen 102 times), 굴착공사 (seen 78 times), 건축 (seen 55 times), 양중작업 (seen 53 times)\n",
            "2025-05-15 11:42:41,430 ----------------------------------------------------------------------------------------------------\n",
            "2025-05-15 11:42:41,434 Model: \"TextClassifier(\n",
            "  (embeddings): TransformerDocumentEmbeddings(\n",
            "    (model): BertModel(\n",
            "      (embeddings): BertEmbeddings(\n",
            "        (word_embeddings): Embedding(32001, 768, padding_idx=0)\n",
            "        (position_embeddings): Embedding(512, 768)\n",
            "        (token_type_embeddings): Embedding(2, 768)\n",
            "        (LayerNorm): LayerNorm((768,), eps=1e-12, elementwise_affine=True)\n",
            "        (dropout): Dropout(p=0.1, inplace=False)\n",
            "      )\n",
            "      (encoder): BertEncoder(\n",
            "        (layer): ModuleList(\n",
            "          (0-11): 12 x BertLayer(\n",
            "            (attention): BertAttention(\n",
            "              (self): BertSdpaSelfAttention(\n",
            "                (query): Linear(in_features=768, out_features=768, bias=True)\n",
            "                (key): Linear(in_features=768, out_features=768, bias=True)\n",
            "                (value): Linear(in_features=768, out_features=768, bias=True)\n",
            "                (dropout): Dropout(p=0.1, inplace=False)\n",
            "              )\n",
            "              (output): BertSelfOutput(\n",
            "                (dense): Linear(in_features=768, out_features=768, bias=True)\n",
            "                (LayerNorm): LayerNorm((768,), eps=1e-12, elementwise_affine=True)\n",
            "                (dropout): Dropout(p=0.1, inplace=False)\n",
            "              )\n",
            "            )\n",
            "            (intermediate): BertIntermediate(\n",
            "              (dense): Linear(in_features=768, out_features=3072, bias=True)\n",
            "              (intermediate_act_fn): GELUActivation()\n",
            "            )\n",
            "            (output): BertOutput(\n",
            "              (dense): Linear(in_features=3072, out_features=768, bias=True)\n",
            "              (LayerNorm): LayerNorm((768,), eps=1e-12, elementwise_affine=True)\n",
            "              (dropout): Dropout(p=0.1, inplace=False)\n",
            "            )\n",
            "          )\n",
            "        )\n",
            "      )\n",
            "      (pooler): BertPooler(\n",
            "        (dense): Linear(in_features=768, out_features=768, bias=True)\n",
            "        (activation): Tanh()\n",
            "      )\n",
            "    )\n",
            "  )\n",
            "  (decoder): Linear(in_features=768, out_features=6, bias=True)\n",
            "  (dropout): Dropout(p=0.0, inplace=False)\n",
            "  (locked_dropout): LockedDropout(p=0.0)\n",
            "  (word_dropout): WordDropout(p=0.0)\n",
            "  (loss_function): CrossEntropyLoss()\n",
            "  (weights): None\n",
            "  (weight_tensor) None\n",
            ")\"\n",
            "2025-05-15 11:42:41,435 ----------------------------------------------------------------------------------------------------\n",
            "2025-05-15 11:42:41,436 Corpus: 603 train + 168 dev + 67 test sentences\n",
            "2025-05-15 11:42:41,438 ----------------------------------------------------------------------------------------------------\n",
            "2025-05-15 11:42:41,439 Train:  603 sentences\n",
            "2025-05-15 11:42:41,442         (train_with_dev=False, train_with_test=False)\n",
            "2025-05-15 11:42:41,442 ----------------------------------------------------------------------------------------------------\n",
            "2025-05-15 11:42:41,443 Training Params:\n",
            "2025-05-15 11:42:41,446  - learning_rate: \"0.026725956471838043\" \n",
            "2025-05-15 11:42:41,447  - mini_batch_size: \"8\"\n",
            "2025-05-15 11:42:41,447  - max_epochs: \"9\"\n",
            "2025-05-15 11:42:41,448  - shuffle: \"True\"\n",
            "2025-05-15 11:42:41,448 ----------------------------------------------------------------------------------------------------\n",
            "2025-05-15 11:42:41,449 Plugins:\n",
            "2025-05-15 11:42:41,452  - AnnealOnPlateau | patience: '3', anneal_factor: '0.5', min_learning_rate: '0.0001'\n",
            "2025-05-15 11:42:41,453 ----------------------------------------------------------------------------------------------------\n",
            "2025-05-15 11:42:41,453 Final evaluation on model from best epoch (best-model.pt)\n",
            "2025-05-15 11:42:41,454  - metric: \"('micro avg', 'f1-score')\"\n",
            "2025-05-15 11:42:41,454 ----------------------------------------------------------------------------------------------------\n",
            "2025-05-15 11:42:41,455 Computation:\n",
            "2025-05-15 11:42:41,456  - compute on device: cuda:0\n",
            "2025-05-15 11:42:41,456  - embedding storage: cpu\n",
            "2025-05-15 11:42:41,458 ----------------------------------------------------------------------------------------------------\n",
            "2025-05-15 11:42:41,458 Model training base path: \"/tmp/tmpzp4ja3l2/model\"\n",
            "2025-05-15 11:42:41,459 ----------------------------------------------------------------------------------------------------\n",
            "2025-05-15 11:42:41,461 ----------------------------------------------------------------------------------------------------\n"
          ]
        },
        {
          "output_type": "stream",
          "name": "stderr",
          "text": [
            "\n",
            "/usr/local/lib/python3.11/dist-packages/flair/trainers/trainer.py:545: FutureWarning: `torch.cuda.amp.GradScaler(args...)` is deprecated. Please use `torch.amp.GradScaler('cuda', args...)` instead.\n",
            "  scaler = torch.cuda.amp.GradScaler(enabled=use_amp and flair.device.type != \"cpu\")\n"
          ]
        },
        {
          "output_type": "stream",
          "name": "stdout",
          "text": [
            "2025-05-15 11:42:42,141 epoch 1 - iter 7/76 - loss 0.80078044 - time (sec): 0.68 - samples/sec: 82.53 - lr: 0.026726 - momentum: 0.000000\n",
            "2025-05-15 11:42:42,802 epoch 1 - iter 14/76 - loss 0.46223246 - time (sec): 1.34 - samples/sec: 83.59 - lr: 0.026726 - momentum: 0.000000\n",
            "2025-05-15 11:42:43,565 epoch 1 - iter 21/76 - loss 0.35174211 - time (sec): 2.10 - samples/sec: 79.91 - lr: 0.026726 - momentum: 0.000000\n",
            "2025-05-15 11:42:44,251 epoch 1 - iter 28/76 - loss 0.31833511 - time (sec): 2.79 - samples/sec: 80.34 - lr: 0.026726 - momentum: 0.000000\n",
            "2025-05-15 11:42:44,985 epoch 1 - iter 35/76 - loss 0.31006471 - time (sec): 3.52 - samples/sec: 79.48 - lr: 0.026726 - momentum: 0.000000\n",
            "2025-05-15 11:42:45,733 epoch 1 - iter 42/76 - loss 0.27295265 - time (sec): 4.27 - samples/sec: 78.67 - lr: 0.026726 - momentum: 0.000000\n",
            "2025-05-15 11:42:46,466 epoch 1 - iter 49/76 - loss 0.25520658 - time (sec): 5.00 - samples/sec: 78.35 - lr: 0.026726 - momentum: 0.000000\n",
            "2025-05-15 11:42:47,145 epoch 1 - iter 56/76 - loss 0.22606958 - time (sec): 5.68 - samples/sec: 78.83 - lr: 0.026726 - momentum: 0.000000\n",
            "2025-05-15 11:42:47,780 epoch 1 - iter 63/76 - loss 0.25632954 - time (sec): 6.32 - samples/sec: 79.78 - lr: 0.026726 - momentum: 0.000000\n",
            "2025-05-15 11:42:48,473 epoch 1 - iter 70/76 - loss 0.27533331 - time (sec): 7.01 - samples/sec: 79.87 - lr: 0.026726 - momentum: 0.000000\n",
            "2025-05-15 11:42:49,075 ----------------------------------------------------------------------------------------------------\n",
            "2025-05-15 11:42:49,076 EPOCH 1 done: loss 0.2761 - lr: 0.026726\n"
          ]
        },
        {
          "output_type": "stream",
          "name": "stderr",
          "text": [
            "100%|██████████| 3/3 [00:00<00:00,  3.56it/s]"
          ]
        },
        {
          "output_type": "stream",
          "name": "stdout",
          "text": [
            "2025-05-15 11:42:49,953 DEV : loss 0.022623920813202858 - f1-score (micro avg)  0.9881\n",
            "2025-05-15 11:42:50,010  - 0 epochs without improvement\n",
            "2025-05-15 11:42:50,012 saving best model\n"
          ]
        },
        {
          "output_type": "stream",
          "name": "stderr",
          "text": [
            "\n"
          ]
        },
        {
          "output_type": "stream",
          "name": "stdout",
          "text": [
            "2025-05-15 11:42:51,262 ----------------------------------------------------------------------------------------------------\n",
            "2025-05-15 11:42:51,955 epoch 2 - iter 7/76 - loss 0.13075612 - time (sec): 0.69 - samples/sec: 81.02 - lr: 0.026726 - momentum: 0.000000\n",
            "2025-05-15 11:42:52,719 epoch 2 - iter 14/76 - loss 0.14919398 - time (sec): 1.45 - samples/sec: 76.98 - lr: 0.026726 - momentum: 0.000000\n",
            "2025-05-15 11:42:53,402 epoch 2 - iter 21/76 - loss 0.17317134 - time (sec): 2.14 - samples/sec: 78.60 - lr: 0.026726 - momentum: 0.000000\n",
            "2025-05-15 11:42:54,065 epoch 2 - iter 28/76 - loss 0.14345230 - time (sec): 2.80 - samples/sec: 79.99 - lr: 0.026726 - momentum: 0.000000\n",
            "2025-05-15 11:42:54,777 epoch 2 - iter 35/76 - loss 0.12589271 - time (sec): 3.51 - samples/sec: 79.72 - lr: 0.026726 - momentum: 0.000000\n",
            "2025-05-15 11:42:55,524 epoch 2 - iter 42/76 - loss 0.11715249 - time (sec): 4.26 - samples/sec: 78.88 - lr: 0.026726 - momentum: 0.000000\n",
            "2025-05-15 11:42:56,145 epoch 2 - iter 49/76 - loss 0.10046953 - time (sec): 4.88 - samples/sec: 80.32 - lr: 0.026726 - momentum: 0.000000\n",
            "2025-05-15 11:42:56,792 epoch 2 - iter 56/76 - loss 0.08797163 - time (sec): 5.53 - samples/sec: 81.04 - lr: 0.026726 - momentum: 0.000000\n",
            "2025-05-15 11:42:57,503 epoch 2 - iter 63/76 - loss 0.09473878 - time (sec): 6.24 - samples/sec: 80.78 - lr: 0.026726 - momentum: 0.000000\n",
            "2025-05-15 11:42:58,149 epoch 2 - iter 70/76 - loss 0.09176368 - time (sec): 6.89 - samples/sec: 81.34 - lr: 0.026726 - momentum: 0.000000\n",
            "2025-05-15 11:42:58,767 ----------------------------------------------------------------------------------------------------\n",
            "2025-05-15 11:42:58,768 EPOCH 2 done: loss 0.0880 - lr: 0.026726\n"
          ]
        },
        {
          "output_type": "stream",
          "name": "stderr",
          "text": [
            "100%|██████████| 3/3 [00:00<00:00,  3.67it/s]\n"
          ]
        },
        {
          "output_type": "stream",
          "name": "stdout",
          "text": [
            "2025-05-15 11:42:59,613 DEV : loss 0.23962435126304626 - f1-score (micro avg)  0.9405\n",
            "2025-05-15 11:42:59,650  - 1 epochs without improvement\n",
            "2025-05-15 11:42:59,650 ----------------------------------------------------------------------------------------------------\n",
            "2025-05-15 11:43:00,327 epoch 3 - iter 7/76 - loss 0.03331601 - time (sec): 0.67 - samples/sec: 83.32 - lr: 0.026726 - momentum: 0.000000\n",
            "2025-05-15 11:43:01,035 epoch 3 - iter 14/76 - loss 0.14161623 - time (sec): 1.38 - samples/sec: 81.16 - lr: 0.026726 - momentum: 0.000000\n",
            "2025-05-15 11:43:01,793 epoch 3 - iter 21/76 - loss 0.10424133 - time (sec): 2.14 - samples/sec: 78.58 - lr: 0.026726 - momentum: 0.000000\n",
            "2025-05-15 11:43:02,630 epoch 3 - iter 28/76 - loss 0.09626063 - time (sec): 2.97 - samples/sec: 75.30 - lr: 0.026726 - momentum: 0.000000\n",
            "2025-05-15 11:43:03,308 epoch 3 - iter 35/76 - loss 0.14762275 - time (sec): 3.65 - samples/sec: 76.66 - lr: 0.026726 - momentum: 0.000000\n",
            "2025-05-15 11:43:03,963 epoch 3 - iter 42/76 - loss 0.14276784 - time (sec): 4.31 - samples/sec: 78.00 - lr: 0.026726 - momentum: 0.000000\n",
            "2025-05-15 11:43:04,758 epoch 3 - iter 49/76 - loss 0.12276805 - time (sec): 5.10 - samples/sec: 76.82 - lr: 0.026726 - momentum: 0.000000\n",
            "2025-05-15 11:43:05,525 epoch 3 - iter 56/76 - loss 0.10744254 - time (sec): 5.87 - samples/sec: 76.33 - lr: 0.026726 - momentum: 0.000000\n",
            "2025-05-15 11:43:06,182 epoch 3 - iter 63/76 - loss 0.09871544 - time (sec): 6.53 - samples/sec: 77.22 - lr: 0.026726 - momentum: 0.000000\n",
            "2025-05-15 11:43:06,838 epoch 3 - iter 70/76 - loss 0.08887356 - time (sec): 7.18 - samples/sec: 77.96 - lr: 0.026726 - momentum: 0.000000\n",
            "2025-05-15 11:43:07,422 ----------------------------------------------------------------------------------------------------\n",
            "2025-05-15 11:43:07,423 EPOCH 3 done: loss 0.0980 - lr: 0.026726\n"
          ]
        },
        {
          "output_type": "stream",
          "name": "stderr",
          "text": [
            "100%|██████████| 3/3 [00:00<00:00,  3.66it/s]\n"
          ]
        },
        {
          "output_type": "stream",
          "name": "stdout",
          "text": [
            "2025-05-15 11:43:08,271 DEV : loss 0.203032448887825 - f1-score (micro avg)  0.9643\n",
            "2025-05-15 11:43:08,321  - 2 epochs without improvement\n",
            "2025-05-15 11:43:08,322 ----------------------------------------------------------------------------------------------------\n",
            "2025-05-15 11:43:08,894 epoch 4 - iter 7/76 - loss 0.00518986 - time (sec): 0.57 - samples/sec: 98.47 - lr: 0.026726 - momentum: 0.000000\n",
            "2025-05-15 11:43:09,615 epoch 4 - iter 14/76 - loss 0.00337000 - time (sec): 1.29 - samples/sec: 86.85 - lr: 0.026726 - momentum: 0.000000\n",
            "2025-05-15 11:43:10,296 epoch 4 - iter 21/76 - loss 0.08921060 - time (sec): 1.97 - samples/sec: 85.26 - lr: 0.026726 - momentum: 0.000000\n",
            "2025-05-15 11:43:10,916 epoch 4 - iter 28/76 - loss 0.06724693 - time (sec): 2.59 - samples/sec: 86.46 - lr: 0.026726 - momentum: 0.000000\n",
            "2025-05-15 11:43:11,648 epoch 4 - iter 35/76 - loss 0.06409471 - time (sec): 3.32 - samples/sec: 84.27 - lr: 0.026726 - momentum: 0.000000\n",
            "2025-05-15 11:43:12,442 epoch 4 - iter 42/76 - loss 0.05361281 - time (sec): 4.12 - samples/sec: 81.62 - lr: 0.026726 - momentum: 0.000000\n",
            "2025-05-15 11:43:13,210 epoch 4 - iter 49/76 - loss 0.04596571 - time (sec): 4.88 - samples/sec: 80.26 - lr: 0.026726 - momentum: 0.000000\n",
            "2025-05-15 11:43:13,902 epoch 4 - iter 56/76 - loss 0.04431890 - time (sec): 5.58 - samples/sec: 80.34 - lr: 0.026726 - momentum: 0.000000\n",
            "2025-05-15 11:43:14,624 epoch 4 - iter 63/76 - loss 0.03974211 - time (sec): 6.30 - samples/sec: 80.01 - lr: 0.026726 - momentum: 0.000000\n",
            "2025-05-15 11:43:15,312 epoch 4 - iter 70/76 - loss 0.08527039 - time (sec): 6.99 - samples/sec: 80.15 - lr: 0.026726 - momentum: 0.000000\n",
            "2025-05-15 11:43:15,981 ----------------------------------------------------------------------------------------------------\n",
            "2025-05-15 11:43:15,982 EPOCH 4 done: loss 0.0879 - lr: 0.026726\n"
          ]
        },
        {
          "output_type": "stream",
          "name": "stderr",
          "text": [
            "100%|██████████| 3/3 [00:00<00:00,  3.51it/s]"
          ]
        },
        {
          "output_type": "stream",
          "name": "stdout",
          "text": [
            "2025-05-15 11:43:16,867 DEV : loss 0.1495218127965927 - f1-score (micro avg)  0.9702\n",
            "2025-05-15 11:43:16,934  - 3 epochs without improvement\n",
            "2025-05-15 11:43:16,935 ----------------------------------------------------------------------------------------------------\n"
          ]
        },
        {
          "output_type": "stream",
          "name": "stderr",
          "text": [
            "\n"
          ]
        },
        {
          "output_type": "stream",
          "name": "stdout",
          "text": [
            "2025-05-15 11:43:17,554 epoch 5 - iter 7/76 - loss 0.00196070 - time (sec): 0.61 - samples/sec: 91.12 - lr: 0.026726 - momentum: 0.000000\n",
            "2025-05-15 11:43:18,263 epoch 5 - iter 14/76 - loss 0.04171930 - time (sec): 1.32 - samples/sec: 84.64 - lr: 0.026726 - momentum: 0.000000\n",
            "2025-05-15 11:43:18,939 epoch 5 - iter 21/76 - loss 0.07323298 - time (sec): 2.00 - samples/sec: 84.00 - lr: 0.026726 - momentum: 0.000000\n",
            "2025-05-15 11:43:19,719 epoch 5 - iter 28/76 - loss 0.06759355 - time (sec): 2.78 - samples/sec: 80.60 - lr: 0.026726 - momentum: 0.000000\n",
            "2025-05-15 11:43:20,452 epoch 5 - iter 35/76 - loss 0.05415066 - time (sec): 3.51 - samples/sec: 79.71 - lr: 0.026726 - momentum: 0.000000\n",
            "2025-05-15 11:43:21,197 epoch 5 - iter 42/76 - loss 0.04513278 - time (sec): 4.26 - samples/sec: 78.92 - lr: 0.026726 - momentum: 0.000000\n",
            "2025-05-15 11:43:21,875 epoch 5 - iter 49/76 - loss 0.04001994 - time (sec): 4.94 - samples/sec: 79.43 - lr: 0.026726 - momentum: 0.000000\n",
            "2025-05-15 11:43:22,647 epoch 5 - iter 56/76 - loss 0.04100029 - time (sec): 5.71 - samples/sec: 78.49 - lr: 0.026726 - momentum: 0.000000\n",
            "2025-05-15 11:43:23,353 epoch 5 - iter 63/76 - loss 0.03646417 - time (sec): 6.41 - samples/sec: 78.58 - lr: 0.026726 - momentum: 0.000000\n",
            "2025-05-15 11:43:24,042 epoch 5 - iter 70/76 - loss 0.03282126 - time (sec): 7.10 - samples/sec: 78.84 - lr: 0.026726 - momentum: 0.000000\n",
            "2025-05-15 11:43:24,588 ----------------------------------------------------------------------------------------------------\n",
            "2025-05-15 11:43:24,589 EPOCH 5 done: loss 0.0305 - lr: 0.026726\n"
          ]
        },
        {
          "output_type": "stream",
          "name": "stderr",
          "text": [
            "100%|██████████| 3/3 [00:00<00:00,  3.75it/s]\n"
          ]
        },
        {
          "output_type": "stream",
          "name": "stdout",
          "text": [
            "2025-05-15 11:43:25,415 DEV : loss 0.056663498282432556 - f1-score (micro avg)  0.9762\n",
            "2025-05-15 11:43:25,453  - 4 epochs without improvement (above 'patience')-> annealing learning_rate to [0.013362978235919021]\n",
            "2025-05-15 11:43:25,454 ----------------------------------------------------------------------------------------------------\n",
            "2025-05-15 11:43:26,122 epoch 6 - iter 7/76 - loss 0.00005055 - time (sec): 0.67 - samples/sec: 84.14 - lr: 0.013363 - momentum: 0.000000\n",
            "2025-05-15 11:43:26,760 epoch 6 - iter 14/76 - loss 0.04582387 - time (sec): 1.30 - samples/sec: 85.95 - lr: 0.013363 - momentum: 0.000000\n",
            "2025-05-15 11:43:27,438 epoch 6 - iter 21/76 - loss 0.03057177 - time (sec): 1.98 - samples/sec: 84.78 - lr: 0.013363 - momentum: 0.000000\n",
            "2025-05-15 11:43:28,217 epoch 6 - iter 28/76 - loss 0.02293394 - time (sec): 2.76 - samples/sec: 81.13 - lr: 0.013363 - momentum: 0.000000\n",
            "2025-05-15 11:43:28,918 epoch 6 - iter 35/76 - loss 0.01844878 - time (sec): 3.46 - samples/sec: 80.90 - lr: 0.013363 - momentum: 0.000000\n",
            "2025-05-15 11:43:29,729 epoch 6 - iter 42/76 - loss 0.01539894 - time (sec): 4.27 - samples/sec: 78.65 - lr: 0.013363 - momentum: 0.000000\n",
            "2025-05-15 11:43:30,355 epoch 6 - iter 49/76 - loss 0.01338258 - time (sec): 4.90 - samples/sec: 80.03 - lr: 0.013363 - momentum: 0.000000\n",
            "2025-05-15 11:43:31,061 epoch 6 - iter 56/76 - loss 0.01171080 - time (sec): 5.60 - samples/sec: 79.94 - lr: 0.013363 - momentum: 0.000000\n",
            "2025-05-15 11:43:31,692 epoch 6 - iter 63/76 - loss 0.01045534 - time (sec): 6.24 - samples/sec: 80.83 - lr: 0.013363 - momentum: 0.000000\n",
            "2025-05-15 11:43:32,523 epoch 6 - iter 70/76 - loss 0.00953459 - time (sec): 7.07 - samples/sec: 79.24 - lr: 0.013363 - momentum: 0.000000\n",
            "2025-05-15 11:43:33,139 ----------------------------------------------------------------------------------------------------\n",
            "2025-05-15 11:43:33,140 EPOCH 6 done: loss 0.0089 - lr: 0.013363\n"
          ]
        },
        {
          "output_type": "stream",
          "name": "stderr",
          "text": [
            "100%|██████████| 3/3 [00:00<00:00,  3.76it/s]\n"
          ]
        },
        {
          "output_type": "stream",
          "name": "stdout",
          "text": [
            "2025-05-15 11:43:33,962 DEV : loss 0.062216755002737045 - f1-score (micro avg)  0.9881\n",
            "2025-05-15 11:43:33,997  - 1 epochs without improvement\n",
            "2025-05-15 11:43:33,998 ----------------------------------------------------------------------------------------------------\n",
            "2025-05-15 11:43:34,540 epoch 7 - iter 7/76 - loss 0.00001573 - time (sec): 0.54 - samples/sec: 103.89 - lr: 0.013363 - momentum: 0.000000\n",
            "2025-05-15 11:43:35,168 epoch 7 - iter 14/76 - loss 0.00050227 - time (sec): 1.17 - samples/sec: 95.94 - lr: 0.013363 - momentum: 0.000000\n",
            "2025-05-15 11:43:35,937 epoch 7 - iter 21/76 - loss 0.00034081 - time (sec): 1.94 - samples/sec: 86.79 - lr: 0.013363 - momentum: 0.000000\n",
            "2025-05-15 11:43:36,673 epoch 7 - iter 28/76 - loss 0.00037014 - time (sec): 2.67 - samples/sec: 83.82 - lr: 0.013363 - momentum: 0.000000\n",
            "2025-05-15 11:43:37,297 epoch 7 - iter 35/76 - loss 0.00030165 - time (sec): 3.30 - samples/sec: 84.94 - lr: 0.013363 - momentum: 0.000000\n",
            "2025-05-15 11:43:38,016 epoch 7 - iter 42/76 - loss 0.00025394 - time (sec): 4.02 - samples/sec: 83.68 - lr: 0.013363 - momentum: 0.000000\n",
            "2025-05-15 11:43:38,703 epoch 7 - iter 49/76 - loss 0.00022171 - time (sec): 4.70 - samples/sec: 83.36 - lr: 0.013363 - momentum: 0.000000\n",
            "2025-05-15 11:43:39,374 epoch 7 - iter 56/76 - loss 0.00424591 - time (sec): 5.37 - samples/sec: 83.38 - lr: 0.013363 - momentum: 0.000000\n",
            "2025-05-15 11:43:40,114 epoch 7 - iter 63/76 - loss 0.00395016 - time (sec): 6.11 - samples/sec: 82.44 - lr: 0.013363 - momentum: 0.000000\n",
            "2025-05-15 11:43:40,874 epoch 7 - iter 70/76 - loss 0.00355924 - time (sec): 6.87 - samples/sec: 81.48 - lr: 0.013363 - momentum: 0.000000\n",
            "2025-05-15 11:43:41,484 ----------------------------------------------------------------------------------------------------\n",
            "2025-05-15 11:43:41,487 EPOCH 7 done: loss 0.0149 - lr: 0.013363\n"
          ]
        },
        {
          "output_type": "stream",
          "name": "stderr",
          "text": [
            "100%|██████████| 3/3 [00:00<00:00,  3.56it/s]"
          ]
        },
        {
          "output_type": "stream",
          "name": "stdout",
          "text": [
            "2025-05-15 11:43:42,362 DEV : loss 0.07399063557386398 - f1-score (micro avg)  0.9702\n",
            "2025-05-15 11:43:42,425  - 2 epochs without improvement\n",
            "2025-05-15 11:43:42,429 ----------------------------------------------------------------------------------------------------\n"
          ]
        },
        {
          "output_type": "stream",
          "name": "stderr",
          "text": [
            "\n"
          ]
        },
        {
          "output_type": "stream",
          "name": "stdout",
          "text": [
            "2025-05-15 11:43:43,173 epoch 8 - iter 7/76 - loss 0.00005394 - time (sec): 0.74 - samples/sec: 75.54 - lr: 0.013363 - momentum: 0.000000\n",
            "2025-05-15 11:43:43,799 epoch 8 - iter 14/76 - loss 0.00023403 - time (sec): 1.37 - samples/sec: 81.90 - lr: 0.013363 - momentum: 0.000000\n",
            "2025-05-15 11:43:44,481 epoch 8 - iter 21/76 - loss 0.00457236 - time (sec): 2.05 - samples/sec: 81.99 - lr: 0.013363 - momentum: 0.000000\n",
            "2025-05-15 11:43:45,218 epoch 8 - iter 28/76 - loss 0.00345370 - time (sec): 2.79 - samples/sec: 80.41 - lr: 0.013363 - momentum: 0.000000\n",
            "2025-05-15 11:43:45,893 epoch 8 - iter 35/76 - loss 0.00277466 - time (sec): 3.46 - samples/sec: 80.89 - lr: 0.013363 - momentum: 0.000000\n",
            "2025-05-15 11:43:46,570 epoch 8 - iter 42/76 - loss 0.00231736 - time (sec): 4.14 - samples/sec: 81.20 - lr: 0.013363 - momentum: 0.000000\n",
            "2025-05-15 11:43:47,130 epoch 8 - iter 49/76 - loss 0.00199580 - time (sec): 4.70 - samples/sec: 83.43 - lr: 0.013363 - momentum: 0.000000\n",
            "2025-05-15 11:43:47,801 epoch 8 - iter 56/76 - loss 0.01589022 - time (sec): 5.37 - samples/sec: 83.44 - lr: 0.013363 - momentum: 0.000000\n",
            "2025-05-15 11:43:48,584 epoch 8 - iter 63/76 - loss 0.01412584 - time (sec): 6.15 - samples/sec: 81.92 - lr: 0.013363 - momentum: 0.000000\n",
            "2025-05-15 11:43:49,320 epoch 8 - iter 70/76 - loss 0.01271722 - time (sec): 6.89 - samples/sec: 81.30 - lr: 0.013363 - momentum: 0.000000\n",
            "2025-05-15 11:43:49,939 ----------------------------------------------------------------------------------------------------\n",
            "2025-05-15 11:43:49,939 EPOCH 8 done: loss 0.0118 - lr: 0.013363\n"
          ]
        },
        {
          "output_type": "stream",
          "name": "stderr",
          "text": [
            "100%|██████████| 3/3 [00:00<00:00,  3.80it/s]\n"
          ]
        },
        {
          "output_type": "stream",
          "name": "stdout",
          "text": [
            "2025-05-15 11:43:50,759 DEV : loss 0.00921713374555111 - f1-score (micro avg)  0.994\n",
            "2025-05-15 11:43:50,797  - 0 epochs without improvement\n",
            "2025-05-15 11:43:50,798 saving best model\n",
            "2025-05-15 11:43:52,068 ----------------------------------------------------------------------------------------------------\n",
            "2025-05-15 11:43:52,698 epoch 9 - iter 7/76 - loss 0.00001586 - time (sec): 0.63 - samples/sec: 89.24 - lr: 0.013363 - momentum: 0.000000\n",
            "2025-05-15 11:43:53,470 epoch 9 - iter 14/76 - loss 0.00124331 - time (sec): 1.40 - samples/sec: 80.07 - lr: 0.013363 - momentum: 0.000000\n",
            "2025-05-15 11:43:54,308 epoch 9 - iter 21/76 - loss 0.03451408 - time (sec): 2.24 - samples/sec: 75.11 - lr: 0.013363 - momentum: 0.000000\n",
            "2025-05-15 11:43:55,029 epoch 9 - iter 28/76 - loss 0.02593409 - time (sec): 2.96 - samples/sec: 75.71 - lr: 0.013363 - momentum: 0.000000\n",
            "2025-05-15 11:43:55,736 epoch 9 - iter 35/76 - loss 0.02075024 - time (sec): 3.66 - samples/sec: 76.41 - lr: 0.013363 - momentum: 0.000000\n",
            "2025-05-15 11:43:56,334 epoch 9 - iter 42/76 - loss 0.01729440 - time (sec): 4.26 - samples/sec: 78.82 - lr: 0.013363 - momentum: 0.000000\n",
            "2025-05-15 11:43:56,989 epoch 9 - iter 49/76 - loss 0.01483739 - time (sec): 4.92 - samples/sec: 79.70 - lr: 0.013363 - momentum: 0.000000\n",
            "2025-05-15 11:43:57,690 epoch 9 - iter 56/76 - loss 0.01298554 - time (sec): 5.62 - samples/sec: 79.73 - lr: 0.013363 - momentum: 0.000000\n",
            "2025-05-15 11:43:58,368 epoch 9 - iter 63/76 - loss 0.01154371 - time (sec): 6.30 - samples/sec: 80.04 - lr: 0.013363 - momentum: 0.000000\n",
            "2025-05-15 11:43:59,022 epoch 9 - iter 70/76 - loss 0.01041331 - time (sec): 6.95 - samples/sec: 80.56 - lr: 0.013363 - momentum: 0.000000\n",
            "2025-05-15 11:43:59,599 ----------------------------------------------------------------------------------------------------\n",
            "2025-05-15 11:43:59,600 EPOCH 9 done: loss 0.0143 - lr: 0.013363\n"
          ]
        },
        {
          "output_type": "stream",
          "name": "stderr",
          "text": [
            "100%|██████████| 3/3 [00:00<00:00,  3.77it/s]\n"
          ]
        },
        {
          "output_type": "stream",
          "name": "stdout",
          "text": [
            "2025-05-15 11:44:00,423 DEV : loss 0.0010734210954979062 - f1-score (micro avg)  1.0\n",
            "2025-05-15 11:44:00,459  - 0 epochs without improvement\n",
            "2025-05-15 11:44:00,460 saving best model\n",
            "2025-05-15 11:44:03,506 ----------------------------------------------------------------------------------------------------\n",
            "2025-05-15 11:44:03,508 Loading model from best epoch ...\n"
          ]
        },
        {
          "output_type": "stream",
          "name": "stderr",
          "text": [
            "100%|██████████| 2/2 [00:00<00:00,  5.43it/s]"
          ]
        },
        {
          "output_type": "stream",
          "name": "stdout",
          "text": [
            "2025-05-15 11:44:05,960 \n",
            "Results:\n",
            "- F-score (micro) 1.0\n",
            "- F-score (macro) 1.0\n",
            "- Accuracy 1.0\n",
            "\n",
            "By class:\n",
            "              precision    recall  f1-score   support\n",
            "\n",
            "       가설구조물     1.0000    1.0000    1.0000        19\n",
            "          공통     1.0000    1.0000    1.0000        16\n",
            "          교량     1.0000    1.0000    1.0000        12\n",
            "        굴착공사     1.0000    1.0000    1.0000         9\n",
            "          건축     1.0000    1.0000    1.0000         6\n",
            "        양중작업     1.0000    1.0000    1.0000         5\n",
            "\n",
            "    accuracy                         1.0000        67\n",
            "   macro avg     1.0000    1.0000    1.0000        67\n",
            "weighted avg     1.0000    1.0000    1.0000        67\n",
            "\n",
            "2025-05-15 11:44:05,961 ----------------------------------------------------------------------------------------------------\n"
          ]
        },
        {
          "output_type": "stream",
          "name": "stderr",
          "text": [
            "\n"
          ]
        },
        {
          "output_type": "stream",
          "name": "stdout",
          "text": [
            "  훈련 결과: {'test_score': 1.0}\n",
            "  현재 폴드 정확도: 1.0000\n",
            "  폴드 4/5 학습 중...\n",
            "2025-05-15 11:44:11,675 Reading data from /tmp/tmpoocbgi3k\n",
            "2025-05-15 11:44:11,679 Train: /tmp/tmpoocbgi3k/train.txt\n",
            "2025-05-15 11:44:11,681 Dev: /tmp/tmpoocbgi3k/dev.txt\n",
            "2025-05-15 11:44:11,682 Test: None\n",
            "2025-05-15 11:44:11,740 No test split found. Using 10% (i.e. 67 samples) of the train split as test data\n",
            "2025-05-15 11:44:11,742 Initialized corpus /tmp/tmpoocbgi3k (label type name is 'class')\n",
            "2025-05-15 11:44:11,742 Computing label dictionary. Progress:\n"
          ]
        },
        {
          "output_type": "stream",
          "name": "stderr",
          "text": [
            "0it [00:00, ?it/s]\n",
            "604it [00:00, 3922.82it/s]"
          ]
        },
        {
          "output_type": "stream",
          "name": "stdout",
          "text": [
            "2025-05-15 11:44:11,902 Dictionary created for label 'class' with 6 values: 공통 (seen 178 times), 가설구조물 (seen 138 times), 교량 (seen 101 times), 굴착공사 (seen 80 times), 건축 (seen 55 times), 양중작업 (seen 52 times)\n",
            "2025-05-15 11:44:11,910 ----------------------------------------------------------------------------------------------------\n",
            "2025-05-15 11:44:11,912 Model: \"TextClassifier(\n",
            "  (embeddings): TransformerDocumentEmbeddings(\n",
            "    (model): BertModel(\n",
            "      (embeddings): BertEmbeddings(\n",
            "        (word_embeddings): Embedding(32001, 768, padding_idx=0)\n",
            "        (position_embeddings): Embedding(512, 768)\n",
            "        (token_type_embeddings): Embedding(2, 768)\n",
            "        (LayerNorm): LayerNorm((768,), eps=1e-12, elementwise_affine=True)\n",
            "        (dropout): Dropout(p=0.1, inplace=False)\n",
            "      )\n",
            "      (encoder): BertEncoder(\n",
            "        (layer): ModuleList(\n",
            "          (0-11): 12 x BertLayer(\n",
            "            (attention): BertAttention(\n",
            "              (self): BertSdpaSelfAttention(\n",
            "                (query): Linear(in_features=768, out_features=768, bias=True)\n",
            "                (key): Linear(in_features=768, out_features=768, bias=True)\n",
            "                (value): Linear(in_features=768, out_features=768, bias=True)\n",
            "                (dropout): Dropout(p=0.1, inplace=False)\n",
            "              )\n",
            "              (output): BertSelfOutput(\n",
            "                (dense): Linear(in_features=768, out_features=768, bias=True)\n",
            "                (LayerNorm): LayerNorm((768,), eps=1e-12, elementwise_affine=True)\n",
            "                (dropout): Dropout(p=0.1, inplace=False)\n",
            "              )\n",
            "            )\n",
            "            (intermediate): BertIntermediate(\n",
            "              (dense): Linear(in_features=768, out_features=3072, bias=True)\n",
            "              (intermediate_act_fn): GELUActivation()\n",
            "            )\n",
            "            (output): BertOutput(\n",
            "              (dense): Linear(in_features=3072, out_features=768, bias=True)\n",
            "              (LayerNorm): LayerNorm((768,), eps=1e-12, elementwise_affine=True)\n",
            "              (dropout): Dropout(p=0.1, inplace=False)\n",
            "            )\n",
            "          )\n",
            "        )\n",
            "      )\n",
            "      (pooler): BertPooler(\n",
            "        (dense): Linear(in_features=768, out_features=768, bias=True)\n",
            "        (activation): Tanh()\n",
            "      )\n",
            "    )\n",
            "  )\n",
            "  (decoder): Linear(in_features=768, out_features=6, bias=True)\n",
            "  (dropout): Dropout(p=0.0, inplace=False)\n",
            "  (locked_dropout): LockedDropout(p=0.0)\n",
            "  (word_dropout): WordDropout(p=0.0)\n",
            "  (loss_function): CrossEntropyLoss()\n",
            "  (weights): None\n",
            "  (weight_tensor) None\n",
            ")\"\n",
            "2025-05-15 11:44:11,913 ----------------------------------------------------------------------------------------------------\n",
            "2025-05-15 11:44:11,913 Corpus: 604 train + 167 dev + 67 test sentences\n",
            "2025-05-15 11:44:11,914 ----------------------------------------------------------------------------------------------------\n",
            "2025-05-15 11:44:11,915 Train:  604 sentences\n",
            "2025-05-15 11:44:11,916         (train_with_dev=False, train_with_test=False)\n",
            "2025-05-15 11:44:11,916 ----------------------------------------------------------------------------------------------------\n",
            "2025-05-15 11:44:11,917 Training Params:\n",
            "2025-05-15 11:44:11,918  - learning_rate: \"0.026725956471838043\" \n",
            "2025-05-15 11:44:11,918  - mini_batch_size: \"8\"\n",
            "2025-05-15 11:44:11,919  - max_epochs: \"9\"\n",
            "2025-05-15 11:44:11,920  - shuffle: \"True\"\n",
            "2025-05-15 11:44:11,920 ----------------------------------------------------------------------------------------------------\n",
            "2025-05-15 11:44:11,921 Plugins:\n",
            "2025-05-15 11:44:11,922  - AnnealOnPlateau | patience: '3', anneal_factor: '0.5', min_learning_rate: '0.0001'\n",
            "2025-05-15 11:44:11,922 ----------------------------------------------------------------------------------------------------\n",
            "2025-05-15 11:44:11,923 Final evaluation on model from best epoch (best-model.pt)\n",
            "2025-05-15 11:44:11,924  - metric: \"('micro avg', 'f1-score')\"\n",
            "2025-05-15 11:44:11,924 ----------------------------------------------------------------------------------------------------\n",
            "2025-05-15 11:44:11,925 Computation:\n",
            "2025-05-15 11:44:11,926  - compute on device: cuda:0\n",
            "2025-05-15 11:44:11,926  - embedding storage: cpu\n",
            "2025-05-15 11:44:11,927 ----------------------------------------------------------------------------------------------------\n",
            "2025-05-15 11:44:11,928 Model training base path: \"/tmp/tmpoocbgi3k/model\"\n",
            "2025-05-15 11:44:11,928 ----------------------------------------------------------------------------------------------------\n",
            "2025-05-15 11:44:11,929 ----------------------------------------------------------------------------------------------------\n"
          ]
        },
        {
          "output_type": "stream",
          "name": "stderr",
          "text": [
            "\n",
            "/usr/local/lib/python3.11/dist-packages/flair/trainers/trainer.py:545: FutureWarning: `torch.cuda.amp.GradScaler(args...)` is deprecated. Please use `torch.amp.GradScaler('cuda', args...)` instead.\n",
            "  scaler = torch.cuda.amp.GradScaler(enabled=use_amp and flair.device.type != \"cpu\")\n"
          ]
        },
        {
          "output_type": "stream",
          "name": "stdout",
          "text": [
            "2025-05-15 11:44:12,549 epoch 1 - iter 7/76 - loss 0.61245201 - time (sec): 0.62 - samples/sec: 90.62 - lr: 0.026726 - momentum: 0.000000\n",
            "2025-05-15 11:44:13,189 epoch 1 - iter 14/76 - loss 0.37399541 - time (sec): 1.26 - samples/sec: 89.04 - lr: 0.026726 - momentum: 0.000000\n",
            "2025-05-15 11:44:13,926 epoch 1 - iter 21/76 - loss 0.27121487 - time (sec): 1.99 - samples/sec: 84.22 - lr: 0.026726 - momentum: 0.000000\n",
            "2025-05-15 11:44:14,648 epoch 1 - iter 28/76 - loss 0.23140736 - time (sec): 2.72 - samples/sec: 82.45 - lr: 0.026726 - momentum: 0.000000\n",
            "2025-05-15 11:44:15,445 epoch 1 - iter 35/76 - loss 0.18830220 - time (sec): 3.51 - samples/sec: 79.68 - lr: 0.026726 - momentum: 0.000000\n",
            "2025-05-15 11:44:16,126 epoch 1 - iter 42/76 - loss 0.16275222 - time (sec): 4.19 - samples/sec: 80.10 - lr: 0.026726 - momentum: 0.000000\n",
            "2025-05-15 11:44:16,890 epoch 1 - iter 49/76 - loss 0.14760036 - time (sec): 4.96 - samples/sec: 79.05 - lr: 0.026726 - momentum: 0.000000\n",
            "2025-05-15 11:44:17,580 epoch 1 - iter 56/76 - loss 0.12929146 - time (sec): 5.65 - samples/sec: 79.31 - lr: 0.026726 - momentum: 0.000000\n",
            "2025-05-15 11:44:18,190 epoch 1 - iter 63/76 - loss 0.11792595 - time (sec): 6.26 - samples/sec: 80.52 - lr: 0.026726 - momentum: 0.000000\n",
            "2025-05-15 11:44:18,918 epoch 1 - iter 70/76 - loss 0.10696017 - time (sec): 6.99 - samples/sec: 80.15 - lr: 0.026726 - momentum: 0.000000\n",
            "2025-05-15 11:44:19,498 ----------------------------------------------------------------------------------------------------\n",
            "2025-05-15 11:44:19,499 EPOCH 1 done: loss 0.1213 - lr: 0.026726\n"
          ]
        },
        {
          "output_type": "stream",
          "name": "stderr",
          "text": [
            "100%|██████████| 3/3 [00:01<00:00,  2.84it/s]"
          ]
        },
        {
          "output_type": "stream",
          "name": "stdout",
          "text": [
            "2025-05-15 11:44:20,585 DEV : loss 0.00026560734841041267 - f1-score (micro avg)  1.0\n",
            "2025-05-15 11:44:20,640  - 0 epochs without improvement\n",
            "2025-05-15 11:44:20,646 saving best model\n"
          ]
        },
        {
          "output_type": "stream",
          "name": "stderr",
          "text": [
            "\n"
          ]
        },
        {
          "output_type": "stream",
          "name": "stdout",
          "text": [
            "2025-05-15 11:44:23,792 ----------------------------------------------------------------------------------------------------\n",
            "2025-05-15 11:44:24,454 epoch 2 - iter 7/76 - loss 0.00124711 - time (sec): 0.66 - samples/sec: 84.99 - lr: 0.026726 - momentum: 0.000000\n",
            "2025-05-15 11:44:25,209 epoch 2 - iter 14/76 - loss 0.00310401 - time (sec): 1.41 - samples/sec: 79.24 - lr: 0.026726 - momentum: 0.000000\n",
            "2025-05-15 11:44:25,846 epoch 2 - iter 21/76 - loss 0.00494520 - time (sec): 2.05 - samples/sec: 81.93 - lr: 0.026726 - momentum: 0.000000\n",
            "2025-05-15 11:44:26,550 epoch 2 - iter 28/76 - loss 0.00376378 - time (sec): 2.75 - samples/sec: 81.33 - lr: 0.026726 - momentum: 0.000000\n",
            "2025-05-15 11:44:27,304 epoch 2 - iter 35/76 - loss 0.01385752 - time (sec): 3.51 - samples/sec: 79.81 - lr: 0.026726 - momentum: 0.000000\n",
            "2025-05-15 11:44:27,948 epoch 2 - iter 42/76 - loss 0.01162231 - time (sec): 4.15 - samples/sec: 80.92 - lr: 0.026726 - momentum: 0.000000\n",
            "2025-05-15 11:44:28,642 epoch 2 - iter 49/76 - loss 0.01769381 - time (sec): 4.85 - samples/sec: 80.89 - lr: 0.026726 - momentum: 0.000000\n",
            "2025-05-15 11:44:29,371 epoch 2 - iter 56/76 - loss 0.01551769 - time (sec): 5.58 - samples/sec: 80.35 - lr: 0.026726 - momentum: 0.000000\n",
            "2025-05-15 11:44:30,144 epoch 2 - iter 63/76 - loss 0.01381223 - time (sec): 6.35 - samples/sec: 79.40 - lr: 0.026726 - momentum: 0.000000\n",
            "2025-05-15 11:44:30,895 epoch 2 - iter 70/76 - loss 0.01298826 - time (sec): 7.10 - samples/sec: 78.88 - lr: 0.026726 - momentum: 0.000000\n",
            "2025-05-15 11:44:31,491 ----------------------------------------------------------------------------------------------------\n",
            "2025-05-15 11:44:31,492 EPOCH 2 done: loss 0.0121 - lr: 0.026726\n"
          ]
        },
        {
          "output_type": "stream",
          "name": "stderr",
          "text": [
            "100%|██████████| 3/3 [00:01<00:00,  2.80it/s]"
          ]
        },
        {
          "output_type": "stream",
          "name": "stdout",
          "text": [
            "2025-05-15 11:44:32,594 DEV : loss 9.632806904846802e-05 - f1-score (micro avg)  1.0\n",
            "2025-05-15 11:44:32,633  - 0 epochs without improvement\n",
            "2025-05-15 11:44:32,634 ----------------------------------------------------------------------------------------------------\n"
          ]
        },
        {
          "output_type": "stream",
          "name": "stderr",
          "text": [
            "\n"
          ]
        },
        {
          "output_type": "stream",
          "name": "stdout",
          "text": [
            "2025-05-15 11:44:33,341 epoch 3 - iter 7/76 - loss 0.01683332 - time (sec): 0.70 - samples/sec: 79.45 - lr: 0.026726 - momentum: 0.000000\n",
            "2025-05-15 11:44:34,084 epoch 3 - iter 14/76 - loss 0.04068500 - time (sec): 1.45 - samples/sec: 77.38 - lr: 0.026726 - momentum: 0.000000\n",
            "2025-05-15 11:44:34,856 epoch 3 - iter 21/76 - loss 0.03729636 - time (sec): 2.22 - samples/sec: 75.67 - lr: 0.026726 - momentum: 0.000000\n",
            "2025-05-15 11:44:35,590 epoch 3 - iter 28/76 - loss 0.02800569 - time (sec): 2.95 - samples/sec: 75.84 - lr: 0.026726 - momentum: 0.000000\n",
            "2025-05-15 11:44:36,235 epoch 3 - iter 35/76 - loss 0.02241552 - time (sec): 3.60 - samples/sec: 77.79 - lr: 0.026726 - momentum: 0.000000\n",
            "2025-05-15 11:44:36,967 epoch 3 - iter 42/76 - loss 0.01869080 - time (sec): 4.33 - samples/sec: 77.58 - lr: 0.026726 - momentum: 0.000000\n",
            "2025-05-15 11:44:37,778 epoch 3 - iter 49/76 - loss 0.02716200 - time (sec): 5.14 - samples/sec: 76.24 - lr: 0.026726 - momentum: 0.000000\n",
            "2025-05-15 11:44:38,447 epoch 3 - iter 56/76 - loss 0.02478525 - time (sec): 5.81 - samples/sec: 77.10 - lr: 0.026726 - momentum: 0.000000\n",
            "2025-05-15 11:44:39,170 epoch 3 - iter 63/76 - loss 0.02204299 - time (sec): 6.53 - samples/sec: 77.13 - lr: 0.026726 - momentum: 0.000000\n",
            "2025-05-15 11:44:39,834 epoch 3 - iter 70/76 - loss 0.01984331 - time (sec): 7.20 - samples/sec: 77.80 - lr: 0.026726 - momentum: 0.000000\n",
            "2025-05-15 11:44:40,534 ----------------------------------------------------------------------------------------------------\n",
            "2025-05-15 11:44:40,535 EPOCH 3 done: loss 0.0184 - lr: 0.026726\n"
          ]
        },
        {
          "output_type": "stream",
          "name": "stderr",
          "text": [
            "100%|██████████| 3/3 [00:01<00:00,  2.77it/s]"
          ]
        },
        {
          "output_type": "stream",
          "name": "stdout",
          "text": [
            "2025-05-15 11:44:41,643 DEV : loss 1.9427816368988715e-05 - f1-score (micro avg)  1.0\n",
            "2025-05-15 11:44:41,679  - 0 epochs without improvement\n",
            "2025-05-15 11:44:41,680 ----------------------------------------------------------------------------------------------------\n"
          ]
        },
        {
          "output_type": "stream",
          "name": "stderr",
          "text": [
            "\n"
          ]
        },
        {
          "output_type": "stream",
          "name": "stdout",
          "text": [
            "2025-05-15 11:44:42,304 epoch 4 - iter 7/76 - loss 0.00009226 - time (sec): 0.62 - samples/sec: 89.97 - lr: 0.026726 - momentum: 0.000000\n",
            "2025-05-15 11:44:43,026 epoch 4 - iter 14/76 - loss 0.00006403 - time (sec): 1.34 - samples/sec: 83.31 - lr: 0.026726 - momentum: 0.000000\n",
            "2025-05-15 11:44:43,785 epoch 4 - iter 21/76 - loss 0.00005150 - time (sec): 2.10 - samples/sec: 79.87 - lr: 0.026726 - momentum: 0.000000\n",
            "2025-05-15 11:44:44,497 epoch 4 - iter 28/76 - loss 0.00004490 - time (sec): 2.82 - samples/sec: 79.56 - lr: 0.026726 - momentum: 0.000000\n",
            "2025-05-15 11:44:45,238 epoch 4 - iter 35/76 - loss 0.02512807 - time (sec): 3.56 - samples/sec: 78.73 - lr: 0.026726 - momentum: 0.000000\n",
            "2025-05-15 11:44:45,949 epoch 4 - iter 42/76 - loss 0.02094572 - time (sec): 4.27 - samples/sec: 78.73 - lr: 0.026726 - momentum: 0.000000\n",
            "2025-05-15 11:44:46,566 epoch 4 - iter 49/76 - loss 0.01796081 - time (sec): 4.88 - samples/sec: 80.25 - lr: 0.026726 - momentum: 0.000000\n",
            "2025-05-15 11:44:47,366 epoch 4 - iter 56/76 - loss 0.01572424 - time (sec): 5.68 - samples/sec: 78.82 - lr: 0.026726 - momentum: 0.000000\n",
            "2025-05-15 11:44:48,251 epoch 4 - iter 63/76 - loss 0.01398475 - time (sec): 6.57 - samples/sec: 76.73 - lr: 0.026726 - momentum: 0.000000\n",
            "2025-05-15 11:44:48,904 epoch 4 - iter 70/76 - loss 0.01259953 - time (sec): 7.22 - samples/sec: 77.54 - lr: 0.026726 - momentum: 0.000000\n",
            "2025-05-15 11:44:49,431 ----------------------------------------------------------------------------------------------------\n",
            "2025-05-15 11:44:49,431 EPOCH 4 done: loss 0.0140 - lr: 0.026726\n"
          ]
        },
        {
          "output_type": "stream",
          "name": "stderr",
          "text": [
            "100%|██████████| 3/3 [00:01<00:00,  2.82it/s]"
          ]
        },
        {
          "output_type": "stream",
          "name": "stdout",
          "text": [
            "2025-05-15 11:44:50,519 DEV : loss 0.002154359593987465 - f1-score (micro avg)  1.0\n",
            "2025-05-15 11:44:50,557  - 1 epochs without improvement\n",
            "2025-05-15 11:44:50,558 ----------------------------------------------------------------------------------------------------\n"
          ]
        },
        {
          "output_type": "stream",
          "name": "stderr",
          "text": [
            "\n"
          ]
        },
        {
          "output_type": "stream",
          "name": "stdout",
          "text": [
            "2025-05-15 11:44:51,298 epoch 5 - iter 7/76 - loss 0.00003828 - time (sec): 0.74 - samples/sec: 75.90 - lr: 0.026726 - momentum: 0.000000\n",
            "2025-05-15 11:44:51,955 epoch 5 - iter 14/76 - loss 0.00003833 - time (sec): 1.39 - samples/sec: 80.29 - lr: 0.026726 - momentum: 0.000000\n",
            "2025-05-15 11:44:52,625 epoch 5 - iter 21/76 - loss 0.04860286 - time (sec): 2.06 - samples/sec: 81.38 - lr: 0.026726 - momentum: 0.000000\n",
            "2025-05-15 11:44:53,300 epoch 5 - iter 28/76 - loss 0.03646093 - time (sec): 2.74 - samples/sec: 81.77 - lr: 0.026726 - momentum: 0.000000\n",
            "2025-05-15 11:44:53,979 epoch 5 - iter 35/76 - loss 0.02918506 - time (sec): 3.42 - samples/sec: 81.91 - lr: 0.026726 - momentum: 0.000000\n",
            "2025-05-15 11:44:54,678 epoch 5 - iter 42/76 - loss 0.02433777 - time (sec): 4.12 - samples/sec: 81.60 - lr: 0.026726 - momentum: 0.000000\n",
            "2025-05-15 11:44:55,457 epoch 5 - iter 49/76 - loss 0.03162339 - time (sec): 4.90 - samples/sec: 80.06 - lr: 0.026726 - momentum: 0.000000\n",
            "2025-05-15 11:44:56,277 epoch 5 - iter 56/76 - loss 0.03927497 - time (sec): 5.72 - samples/sec: 78.37 - lr: 0.026726 - momentum: 0.000000\n",
            "2025-05-15 11:44:56,970 epoch 5 - iter 63/76 - loss 0.04452728 - time (sec): 6.41 - samples/sec: 78.63 - lr: 0.026726 - momentum: 0.000000\n",
            "2025-05-15 11:44:57,646 epoch 5 - iter 70/76 - loss 0.04217981 - time (sec): 7.09 - samples/sec: 79.03 - lr: 0.026726 - momentum: 0.000000\n",
            "2025-05-15 11:44:58,249 ----------------------------------------------------------------------------------------------------\n",
            "2025-05-15 11:44:58,250 EPOCH 5 done: loss 0.0391 - lr: 0.026726\n"
          ]
        },
        {
          "output_type": "stream",
          "name": "stderr",
          "text": [
            "100%|██████████| 3/3 [00:01<00:00,  2.82it/s]"
          ]
        },
        {
          "output_type": "stream",
          "name": "stdout",
          "text": [
            "2025-05-15 11:44:59,344 DEV : loss 0.006761804688721895 - f1-score (micro avg)  0.994\n",
            "2025-05-15 11:44:59,406  - 2 epochs without improvement\n",
            "2025-05-15 11:44:59,407 ----------------------------------------------------------------------------------------------------\n"
          ]
        },
        {
          "output_type": "stream",
          "name": "stderr",
          "text": [
            "\n"
          ]
        },
        {
          "output_type": "stream",
          "name": "stdout",
          "text": [
            "2025-05-15 11:45:00,033 epoch 6 - iter 7/76 - loss 0.00797259 - time (sec): 0.62 - samples/sec: 89.76 - lr: 0.026726 - momentum: 0.000000\n",
            "2025-05-15 11:45:00,771 epoch 6 - iter 14/76 - loss 0.09899416 - time (sec): 1.36 - samples/sec: 82.24 - lr: 0.026726 - momentum: 0.000000\n",
            "2025-05-15 11:45:01,436 epoch 6 - iter 21/76 - loss 0.06807200 - time (sec): 2.03 - samples/sec: 82.92 - lr: 0.026726 - momentum: 0.000000\n",
            "2025-05-15 11:45:02,217 epoch 6 - iter 28/76 - loss 0.05117467 - time (sec): 2.81 - samples/sec: 79.78 - lr: 0.026726 - momentum: 0.000000\n",
            "2025-05-15 11:45:02,895 epoch 6 - iter 35/76 - loss 0.04098782 - time (sec): 3.49 - samples/sec: 80.34 - lr: 0.026726 - momentum: 0.000000\n",
            "2025-05-15 11:45:03,550 epoch 6 - iter 42/76 - loss 0.03416145 - time (sec): 4.14 - samples/sec: 81.14 - lr: 0.026726 - momentum: 0.000000\n",
            "2025-05-15 11:45:04,288 epoch 6 - iter 49/76 - loss 0.02928521 - time (sec): 4.88 - samples/sec: 80.35 - lr: 0.026726 - momentum: 0.000000\n",
            "2025-05-15 11:45:04,967 epoch 6 - iter 56/76 - loss 0.02562818 - time (sec): 5.56 - samples/sec: 80.61 - lr: 0.026726 - momentum: 0.000000\n",
            "2025-05-15 11:45:05,654 epoch 6 - iter 63/76 - loss 0.02278592 - time (sec): 6.24 - samples/sec: 80.71 - lr: 0.026726 - momentum: 0.000000\n",
            "2025-05-15 11:45:06,387 epoch 6 - iter 70/76 - loss 0.02050985 - time (sec): 6.98 - samples/sec: 80.26 - lr: 0.026726 - momentum: 0.000000\n",
            "2025-05-15 11:45:06,964 ----------------------------------------------------------------------------------------------------\n",
            "2025-05-15 11:45:06,965 EPOCH 6 done: loss 0.0190 - lr: 0.026726\n"
          ]
        },
        {
          "output_type": "stream",
          "name": "stderr",
          "text": [
            "100%|██████████| 3/3 [00:01<00:00,  2.88it/s]"
          ]
        },
        {
          "output_type": "stream",
          "name": "stdout",
          "text": [
            "2025-05-15 11:45:08,042 DEV : loss 1.0566286618995946e-05 - f1-score (micro avg)  1.0\n",
            "2025-05-15 11:45:08,094  - 0 epochs without improvement\n",
            "2025-05-15 11:45:08,095 ----------------------------------------------------------------------------------------------------\n"
          ]
        },
        {
          "output_type": "stream",
          "name": "stderr",
          "text": [
            "\n"
          ]
        },
        {
          "output_type": "stream",
          "name": "stdout",
          "text": [
            "2025-05-15 11:45:08,744 epoch 7 - iter 7/76 - loss 0.00001796 - time (sec): 0.65 - samples/sec: 86.57 - lr: 0.026726 - momentum: 0.000000\n",
            "2025-05-15 11:45:09,454 epoch 7 - iter 14/76 - loss 0.00001993 - time (sec): 1.36 - samples/sec: 82.56 - lr: 0.026726 - momentum: 0.000000\n",
            "2025-05-15 11:45:10,168 epoch 7 - iter 21/76 - loss 0.00002410 - time (sec): 2.07 - samples/sec: 81.15 - lr: 0.026726 - momentum: 0.000000\n",
            "2025-05-15 11:45:10,940 epoch 7 - iter 28/76 - loss 0.00002374 - time (sec): 2.84 - samples/sec: 78.79 - lr: 0.026726 - momentum: 0.000000\n",
            "2025-05-15 11:45:11,603 epoch 7 - iter 35/76 - loss 0.00002356 - time (sec): 3.51 - samples/sec: 79.88 - lr: 0.026726 - momentum: 0.000000\n",
            "2025-05-15 11:45:12,353 epoch 7 - iter 42/76 - loss 0.01786714 - time (sec): 4.26 - samples/sec: 78.96 - lr: 0.026726 - momentum: 0.000000\n",
            "2025-05-15 11:45:13,057 epoch 7 - iter 49/76 - loss 0.01532332 - time (sec): 4.96 - samples/sec: 79.04 - lr: 0.026726 - momentum: 0.000000\n",
            "2025-05-15 11:45:13,673 epoch 7 - iter 56/76 - loss 0.01340922 - time (sec): 5.58 - samples/sec: 80.36 - lr: 0.026726 - momentum: 0.000000\n",
            "2025-05-15 11:45:14,294 epoch 7 - iter 63/76 - loss 0.01192368 - time (sec): 6.20 - samples/sec: 81.33 - lr: 0.026726 - momentum: 0.000000\n",
            "2025-05-15 11:45:14,926 epoch 7 - iter 70/76 - loss 0.01073301 - time (sec): 6.83 - samples/sec: 82.01 - lr: 0.026726 - momentum: 0.000000\n",
            "2025-05-15 11:45:15,582 ----------------------------------------------------------------------------------------------------\n",
            "2025-05-15 11:45:15,582 EPOCH 7 done: loss 0.0100 - lr: 0.026726\n"
          ]
        },
        {
          "output_type": "stream",
          "name": "stderr",
          "text": [
            "100%|██████████| 3/3 [00:01<00:00,  2.91it/s]"
          ]
        },
        {
          "output_type": "stream",
          "name": "stdout",
          "text": [
            "2025-05-15 11:45:16,640 DEV : loss 8.073670869634952e-06 - f1-score (micro avg)  1.0\n",
            "2025-05-15 11:45:16,679  - 0 epochs without improvement\n",
            "2025-05-15 11:45:16,680 ----------------------------------------------------------------------------------------------------\n"
          ]
        },
        {
          "output_type": "stream",
          "name": "stderr",
          "text": [
            "\n"
          ]
        },
        {
          "output_type": "stream",
          "name": "stdout",
          "text": [
            "2025-05-15 11:45:17,271 epoch 8 - iter 7/76 - loss 0.00002611 - time (sec): 0.59 - samples/sec: 95.09 - lr: 0.026726 - momentum: 0.000000\n",
            "2025-05-15 11:45:18,045 epoch 8 - iter 14/76 - loss 0.00002004 - time (sec): 1.36 - samples/sec: 82.20 - lr: 0.026726 - momentum: 0.000000\n",
            "2025-05-15 11:45:18,805 epoch 8 - iter 21/76 - loss 0.00002474 - time (sec): 2.12 - samples/sec: 79.14 - lr: 0.026726 - momentum: 0.000000\n",
            "2025-05-15 11:45:19,437 epoch 8 - iter 28/76 - loss 0.00002115 - time (sec): 2.75 - samples/sec: 81.33 - lr: 0.026726 - momentum: 0.000000\n",
            "2025-05-15 11:45:20,153 epoch 8 - iter 35/76 - loss 0.00176957 - time (sec): 3.47 - samples/sec: 80.68 - lr: 0.026726 - momentum: 0.000000\n",
            "2025-05-15 11:45:20,788 epoch 8 - iter 42/76 - loss 0.00147803 - time (sec): 4.11 - samples/sec: 81.84 - lr: 0.026726 - momentum: 0.000000\n",
            "2025-05-15 11:45:21,562 epoch 8 - iter 49/76 - loss 0.00126847 - time (sec): 4.88 - samples/sec: 80.34 - lr: 0.026726 - momentum: 0.000000\n",
            "2025-05-15 11:45:22,247 epoch 8 - iter 56/76 - loss 0.00112590 - time (sec): 5.56 - samples/sec: 80.52 - lr: 0.026726 - momentum: 0.000000\n",
            "2025-05-15 11:45:22,933 epoch 8 - iter 63/76 - loss 0.00100411 - time (sec): 6.25 - samples/sec: 80.63 - lr: 0.026726 - momentum: 0.000000\n",
            "2025-05-15 11:45:23,552 epoch 8 - iter 70/76 - loss 0.01230292 - time (sec): 6.87 - samples/sec: 81.52 - lr: 0.026726 - momentum: 0.000000\n",
            "2025-05-15 11:45:24,169 ----------------------------------------------------------------------------------------------------\n",
            "2025-05-15 11:45:24,171 EPOCH 8 done: loss 0.0114 - lr: 0.026726\n"
          ]
        },
        {
          "output_type": "stream",
          "name": "stderr",
          "text": [
            "100%|██████████| 3/3 [00:01<00:00,  2.94it/s]"
          ]
        },
        {
          "output_type": "stream",
          "name": "stdout",
          "text": [
            "2025-05-15 11:45:25,225 DEV : loss 0.008053962141275406 - f1-score (micro avg)  0.994\n",
            "2025-05-15 11:45:25,263  - 1 epochs without improvement\n",
            "2025-05-15 11:45:25,263 ----------------------------------------------------------------------------------------------------\n"
          ]
        },
        {
          "output_type": "stream",
          "name": "stderr",
          "text": [
            "\n"
          ]
        },
        {
          "output_type": "stream",
          "name": "stdout",
          "text": [
            "2025-05-15 11:45:25,953 epoch 9 - iter 7/76 - loss 0.00003328 - time (sec): 0.69 - samples/sec: 81.53 - lr: 0.026726 - momentum: 0.000000\n",
            "2025-05-15 11:45:26,660 epoch 9 - iter 14/76 - loss 0.00002216 - time (sec): 1.39 - samples/sec: 80.36 - lr: 0.026726 - momentum: 0.000000\n",
            "2025-05-15 11:45:27,417 epoch 9 - iter 21/76 - loss 0.00001913 - time (sec): 2.15 - samples/sec: 78.09 - lr: 0.026726 - momentum: 0.000000\n",
            "2025-05-15 11:45:28,132 epoch 9 - iter 28/76 - loss 0.00001775 - time (sec): 2.87 - samples/sec: 78.16 - lr: 0.026726 - momentum: 0.000000\n",
            "2025-05-15 11:45:28,797 epoch 9 - iter 35/76 - loss 0.00001708 - time (sec): 3.53 - samples/sec: 79.28 - lr: 0.026726 - momentum: 0.000000\n",
            "2025-05-15 11:45:29,434 epoch 9 - iter 42/76 - loss 0.00001697 - time (sec): 4.17 - samples/sec: 80.61 - lr: 0.026726 - momentum: 0.000000\n",
            "2025-05-15 11:45:30,199 epoch 9 - iter 49/76 - loss 0.00001668 - time (sec): 4.93 - samples/sec: 79.45 - lr: 0.026726 - momentum: 0.000000\n",
            "2025-05-15 11:45:30,986 epoch 9 - iter 56/76 - loss 0.02254617 - time (sec): 5.72 - samples/sec: 78.32 - lr: 0.026726 - momentum: 0.000000\n",
            "2025-05-15 11:45:31,598 epoch 9 - iter 63/76 - loss 0.02004308 - time (sec): 6.33 - samples/sec: 79.59 - lr: 0.026726 - momentum: 0.000000\n",
            "2025-05-15 11:45:32,221 epoch 9 - iter 70/76 - loss 0.01804113 - time (sec): 6.96 - samples/sec: 80.51 - lr: 0.026726 - momentum: 0.000000\n",
            "2025-05-15 11:45:32,734 ----------------------------------------------------------------------------------------------------\n",
            "2025-05-15 11:45:32,734 EPOCH 9 done: loss 0.0167 - lr: 0.026726\n"
          ]
        },
        {
          "output_type": "stream",
          "name": "stderr",
          "text": [
            "100%|██████████| 3/3 [00:01<00:00,  2.92it/s]"
          ]
        },
        {
          "output_type": "stream",
          "name": "stdout",
          "text": [
            "2025-05-15 11:45:33,790 DEV : loss 9.664463141234592e-05 - f1-score (micro avg)  1.0\n",
            "2025-05-15 11:45:33,829  - 2 epochs without improvement\n"
          ]
        },
        {
          "output_type": "stream",
          "name": "stderr",
          "text": [
            "\n"
          ]
        },
        {
          "output_type": "stream",
          "name": "stdout",
          "text": [
            "2025-05-15 11:45:34,995 ----------------------------------------------------------------------------------------------------\n",
            "2025-05-15 11:45:34,997 Loading model from best epoch ...\n"
          ]
        },
        {
          "output_type": "stream",
          "name": "stderr",
          "text": [
            "100%|██████████| 2/2 [00:00<00:00,  6.14it/s]"
          ]
        },
        {
          "output_type": "stream",
          "name": "stdout",
          "text": [
            "2025-05-15 11:45:37,460 \n",
            "Results:\n",
            "- F-score (micro) 1.0\n",
            "- F-score (macro) 1.0\n",
            "- Accuracy 1.0\n",
            "\n",
            "By class:\n",
            "              precision    recall  f1-score   support\n",
            "\n",
            "          공통     1.0000    1.0000    1.0000        19\n",
            "       가설구조물     1.0000    1.0000    1.0000        15\n",
            "          교량     1.0000    1.0000    1.0000        13\n",
            "        양중작업     1.0000    1.0000    1.0000         7\n",
            "        굴착공사     1.0000    1.0000    1.0000         7\n",
            "          건축     1.0000    1.0000    1.0000         6\n",
            "\n",
            "    accuracy                         1.0000        67\n",
            "   macro avg     1.0000    1.0000    1.0000        67\n",
            "weighted avg     1.0000    1.0000    1.0000        67\n",
            "\n",
            "2025-05-15 11:45:37,460 ----------------------------------------------------------------------------------------------------\n"
          ]
        },
        {
          "output_type": "stream",
          "name": "stderr",
          "text": [
            "\n"
          ]
        },
        {
          "output_type": "stream",
          "name": "stdout",
          "text": [
            "  훈련 결과: {'test_score': 1.0}\n",
            "  현재 폴드 정확도: 1.0000\n",
            "  폴드 5/5 학습 중...\n",
            "2025-05-15 11:45:42,969 Reading data from /tmp/tmpcqk1xbor\n",
            "2025-05-15 11:45:42,971 Train: /tmp/tmpcqk1xbor/train.txt\n",
            "2025-05-15 11:45:42,972 Dev: /tmp/tmpcqk1xbor/dev.txt\n",
            "2025-05-15 11:45:42,972 Test: None\n",
            "2025-05-15 11:45:43,022 No test split found. Using 10% (i.e. 67 samples) of the train split as test data\n",
            "2025-05-15 11:45:43,022 Initialized corpus /tmp/tmpcqk1xbor (label type name is 'class')\n",
            "2025-05-15 11:45:43,024 Computing label dictionary. Progress:\n"
          ]
        },
        {
          "output_type": "stream",
          "name": "stderr",
          "text": [
            "0it [00:00, ?it/s]\n",
            "604it [00:00, 4592.21it/s]"
          ]
        },
        {
          "output_type": "stream",
          "name": "stdout",
          "text": [
            "2025-05-15 11:45:43,163 Dictionary created for label 'class' with 6 values: 공통 (seen 177 times), 가설구조물 (seen 138 times), 교량 (seen 101 times), 굴착공사 (seen 75 times), 양중작업 (seen 57 times), 건축 (seen 56 times)\n",
            "2025-05-15 11:45:43,172 ----------------------------------------------------------------------------------------------------\n",
            "2025-05-15 11:45:43,174 Model: \"TextClassifier(\n",
            "  (embeddings): TransformerDocumentEmbeddings(\n",
            "    (model): BertModel(\n",
            "      (embeddings): BertEmbeddings(\n",
            "        (word_embeddings): Embedding(32001, 768, padding_idx=0)\n",
            "        (position_embeddings): Embedding(512, 768)\n",
            "        (token_type_embeddings): Embedding(2, 768)\n",
            "        (LayerNorm): LayerNorm((768,), eps=1e-12, elementwise_affine=True)\n",
            "        (dropout): Dropout(p=0.1, inplace=False)\n",
            "      )\n",
            "      (encoder): BertEncoder(\n",
            "        (layer): ModuleList(\n",
            "          (0-11): 12 x BertLayer(\n",
            "            (attention): BertAttention(\n",
            "              (self): BertSdpaSelfAttention(\n",
            "                (query): Linear(in_features=768, out_features=768, bias=True)\n",
            "                (key): Linear(in_features=768, out_features=768, bias=True)\n",
            "                (value): Linear(in_features=768, out_features=768, bias=True)\n",
            "                (dropout): Dropout(p=0.1, inplace=False)\n",
            "              )\n",
            "              (output): BertSelfOutput(\n",
            "                (dense): Linear(in_features=768, out_features=768, bias=True)\n",
            "                (LayerNorm): LayerNorm((768,), eps=1e-12, elementwise_affine=True)\n",
            "                (dropout): Dropout(p=0.1, inplace=False)\n",
            "              )\n",
            "            )\n",
            "            (intermediate): BertIntermediate(\n",
            "              (dense): Linear(in_features=768, out_features=3072, bias=True)\n",
            "              (intermediate_act_fn): GELUActivation()\n",
            "            )\n",
            "            (output): BertOutput(\n",
            "              (dense): Linear(in_features=3072, out_features=768, bias=True)\n",
            "              (LayerNorm): LayerNorm((768,), eps=1e-12, elementwise_affine=True)\n",
            "              (dropout): Dropout(p=0.1, inplace=False)\n",
            "            )\n",
            "          )\n",
            "        )\n",
            "      )\n",
            "      (pooler): BertPooler(\n",
            "        (dense): Linear(in_features=768, out_features=768, bias=True)\n",
            "        (activation): Tanh()\n",
            "      )\n",
            "    )\n",
            "  )\n",
            "  (decoder): Linear(in_features=768, out_features=6, bias=True)\n",
            "  (dropout): Dropout(p=0.0, inplace=False)\n",
            "  (locked_dropout): LockedDropout(p=0.0)\n",
            "  (word_dropout): WordDropout(p=0.0)\n",
            "  (loss_function): CrossEntropyLoss()\n",
            "  (weights): None\n",
            "  (weight_tensor) None\n",
            ")\"\n",
            "2025-05-15 11:45:43,175 ----------------------------------------------------------------------------------------------------\n",
            "2025-05-15 11:45:43,176 Corpus: 604 train + 167 dev + 67 test sentences\n",
            "2025-05-15 11:45:43,176 ----------------------------------------------------------------------------------------------------\n",
            "2025-05-15 11:45:43,177 Train:  604 sentences\n",
            "2025-05-15 11:45:43,178         (train_with_dev=False, train_with_test=False)\n",
            "2025-05-15 11:45:43,178 ----------------------------------------------------------------------------------------------------\n",
            "2025-05-15 11:45:43,179 Training Params:\n",
            "2025-05-15 11:45:43,180  - learning_rate: \"0.026725956471838043\" \n",
            "2025-05-15 11:45:43,181  - mini_batch_size: \"8\"\n",
            "2025-05-15 11:45:43,182  - max_epochs: \"9\"\n",
            "2025-05-15 11:45:43,182  - shuffle: \"True\"\n",
            "2025-05-15 11:45:43,183 ----------------------------------------------------------------------------------------------------\n",
            "2025-05-15 11:45:43,184 Plugins:\n",
            "2025-05-15 11:45:43,185  - AnnealOnPlateau | patience: '3', anneal_factor: '0.5', min_learning_rate: '0.0001'\n",
            "2025-05-15 11:45:43,186 ----------------------------------------------------------------------------------------------------\n",
            "2025-05-15 11:45:43,187 Final evaluation on model from best epoch (best-model.pt)\n",
            "2025-05-15 11:45:43,188  - metric: \"('micro avg', 'f1-score')\"\n",
            "2025-05-15 11:45:43,188 ----------------------------------------------------------------------------------------------------\n",
            "2025-05-15 11:45:43,189 Computation:\n",
            "2025-05-15 11:45:43,190  - compute on device: cuda:0\n",
            "2025-05-15 11:45:43,190  - embedding storage: cpu\n",
            "2025-05-15 11:45:43,191 ----------------------------------------------------------------------------------------------------\n",
            "2025-05-15 11:45:43,192 Model training base path: \"/tmp/tmpcqk1xbor/model\"\n",
            "2025-05-15 11:45:43,192 ----------------------------------------------------------------------------------------------------\n",
            "2025-05-15 11:45:43,193 ----------------------------------------------------------------------------------------------------\n"
          ]
        },
        {
          "output_type": "stream",
          "name": "stderr",
          "text": [
            "\n",
            "/usr/local/lib/python3.11/dist-packages/flair/trainers/trainer.py:545: FutureWarning: `torch.cuda.amp.GradScaler(args...)` is deprecated. Please use `torch.amp.GradScaler('cuda', args...)` instead.\n",
            "  scaler = torch.cuda.amp.GradScaler(enabled=use_amp and flair.device.type != \"cpu\")\n"
          ]
        },
        {
          "output_type": "stream",
          "name": "stdout",
          "text": [
            "2025-05-15 11:45:43,776 epoch 1 - iter 7/76 - loss 0.64226877 - time (sec): 0.58 - samples/sec: 96.32 - lr: 0.026726 - momentum: 0.000000\n",
            "2025-05-15 11:45:44,482 epoch 1 - iter 14/76 - loss 0.32810450 - time (sec): 1.29 - samples/sec: 86.98 - lr: 0.026726 - momentum: 0.000000\n",
            "2025-05-15 11:45:45,222 epoch 1 - iter 21/76 - loss 0.30397999 - time (sec): 2.03 - samples/sec: 82.86 - lr: 0.026726 - momentum: 0.000000\n",
            "2025-05-15 11:45:45,884 epoch 1 - iter 28/76 - loss 0.23953241 - time (sec): 2.69 - samples/sec: 83.31 - lr: 0.026726 - momentum: 0.000000\n",
            "2025-05-15 11:45:46,545 epoch 1 - iter 35/76 - loss 0.19303463 - time (sec): 3.35 - samples/sec: 83.58 - lr: 0.026726 - momentum: 0.000000\n",
            "2025-05-15 11:45:47,170 epoch 1 - iter 42/76 - loss 0.16114608 - time (sec): 3.98 - samples/sec: 84.52 - lr: 0.026726 - momentum: 0.000000\n",
            "2025-05-15 11:45:47,950 epoch 1 - iter 49/76 - loss 0.15431136 - time (sec): 4.76 - samples/sec: 82.43 - lr: 0.026726 - momentum: 0.000000\n",
            "2025-05-15 11:45:48,625 epoch 1 - iter 56/76 - loss 0.14638254 - time (sec): 5.43 - samples/sec: 82.50 - lr: 0.026726 - momentum: 0.000000\n",
            "2025-05-15 11:45:49,286 epoch 1 - iter 63/76 - loss 0.13023858 - time (sec): 6.09 - samples/sec: 82.74 - lr: 0.026726 - momentum: 0.000000\n",
            "2025-05-15 11:45:50,011 epoch 1 - iter 70/76 - loss 0.12512485 - time (sec): 6.82 - samples/sec: 82.16 - lr: 0.026726 - momentum: 0.000000\n",
            "2025-05-15 11:45:50,531 ----------------------------------------------------------------------------------------------------\n",
            "2025-05-15 11:45:50,532 EPOCH 1 done: loss 0.1160 - lr: 0.026726\n"
          ]
        },
        {
          "output_type": "stream",
          "name": "stderr",
          "text": [
            "100%|██████████| 3/3 [00:00<00:00,  3.05it/s]\n"
          ]
        },
        {
          "output_type": "stream",
          "name": "stdout",
          "text": [
            "2025-05-15 11:45:51,544 DEV : loss 0.02726626582443714 - f1-score (micro avg)  0.988\n",
            "2025-05-15 11:45:51,611  - 0 epochs without improvement\n",
            "2025-05-15 11:45:51,614 saving best model\n",
            "2025-05-15 11:45:52,881 ----------------------------------------------------------------------------------------------------\n",
            "2025-05-15 11:45:53,584 epoch 2 - iter 7/76 - loss 0.00952745 - time (sec): 0.70 - samples/sec: 79.88 - lr: 0.026726 - momentum: 0.000000\n",
            "2025-05-15 11:45:54,267 epoch 2 - iter 14/76 - loss 0.00904320 - time (sec): 1.38 - samples/sec: 80.95 - lr: 0.026726 - momentum: 0.000000\n",
            "2025-05-15 11:45:54,888 epoch 2 - iter 21/76 - loss 0.00610851 - time (sec): 2.01 - samples/sec: 83.79 - lr: 0.026726 - momentum: 0.000000\n",
            "2025-05-15 11:45:55,508 epoch 2 - iter 28/76 - loss 0.00460335 - time (sec): 2.62 - samples/sec: 85.34 - lr: 0.026726 - momentum: 0.000000\n",
            "2025-05-15 11:45:56,192 epoch 2 - iter 35/76 - loss 0.00370503 - time (sec): 3.31 - samples/sec: 84.63 - lr: 0.026726 - momentum: 0.000000\n",
            "2025-05-15 11:45:56,883 epoch 2 - iter 42/76 - loss 0.00344193 - time (sec): 4.00 - samples/sec: 84.02 - lr: 0.026726 - momentum: 0.000000\n",
            "2025-05-15 11:45:57,592 epoch 2 - iter 49/76 - loss 0.00735927 - time (sec): 4.71 - samples/sec: 83.25 - lr: 0.026726 - momentum: 0.000000\n",
            "2025-05-15 11:45:58,311 epoch 2 - iter 56/76 - loss 0.00663637 - time (sec): 5.43 - samples/sec: 82.54 - lr: 0.026726 - momentum: 0.000000\n",
            "2025-05-15 11:45:59,030 epoch 2 - iter 63/76 - loss 0.00593899 - time (sec): 6.15 - samples/sec: 81.99 - lr: 0.026726 - momentum: 0.000000\n",
            "2025-05-15 11:45:59,724 epoch 2 - iter 70/76 - loss 0.00535356 - time (sec): 6.84 - samples/sec: 81.86 - lr: 0.026726 - momentum: 0.000000\n",
            "2025-05-15 11:46:00,287 ----------------------------------------------------------------------------------------------------\n",
            "2025-05-15 11:46:00,288 EPOCH 2 done: loss 0.0050 - lr: 0.026726\n"
          ]
        },
        {
          "output_type": "stream",
          "name": "stderr",
          "text": [
            "100%|██████████| 3/3 [00:01<00:00,  3.00it/s]\n"
          ]
        },
        {
          "output_type": "stream",
          "name": "stdout",
          "text": [
            "2025-05-15 11:46:01,319 DEV : loss 0.03401777148246765 - f1-score (micro avg)  0.988\n",
            "2025-05-15 11:46:01,358  - 1 epochs without improvement\n",
            "2025-05-15 11:46:01,359 ----------------------------------------------------------------------------------------------------\n",
            "2025-05-15 11:46:02,020 epoch 3 - iter 7/76 - loss 0.00068044 - time (sec): 0.66 - samples/sec: 85.03 - lr: 0.026726 - momentum: 0.000000\n",
            "2025-05-15 11:46:02,683 epoch 3 - iter 14/76 - loss 0.00440181 - time (sec): 1.32 - samples/sec: 84.68 - lr: 0.026726 - momentum: 0.000000\n",
            "2025-05-15 11:46:03,352 epoch 3 - iter 21/76 - loss 0.00297122 - time (sec): 1.99 - samples/sec: 84.37 - lr: 0.026726 - momentum: 0.000000\n",
            "2025-05-15 11:46:04,130 epoch 3 - iter 28/76 - loss 0.00235398 - time (sec): 2.77 - samples/sec: 80.90 - lr: 0.026726 - momentum: 0.000000\n",
            "2025-05-15 11:46:04,915 epoch 3 - iter 35/76 - loss 0.01380736 - time (sec): 3.55 - samples/sec: 78.78 - lr: 0.026726 - momentum: 0.000000\n",
            "2025-05-15 11:46:05,652 epoch 3 - iter 42/76 - loss 0.01158326 - time (sec): 4.29 - samples/sec: 78.31 - lr: 0.026726 - momentum: 0.000000\n",
            "2025-05-15 11:46:06,331 epoch 3 - iter 49/76 - loss 0.01002223 - time (sec): 4.97 - samples/sec: 78.87 - lr: 0.026726 - momentum: 0.000000\n",
            "2025-05-15 11:46:07,064 epoch 3 - iter 56/76 - loss 0.00880508 - time (sec): 5.70 - samples/sec: 78.56 - lr: 0.026726 - momentum: 0.000000\n",
            "2025-05-15 11:46:07,764 epoch 3 - iter 63/76 - loss 0.01155452 - time (sec): 6.40 - samples/sec: 78.71 - lr: 0.026726 - momentum: 0.000000\n",
            "2025-05-15 11:46:08,405 epoch 3 - iter 70/76 - loss 0.02719693 - time (sec): 7.04 - samples/sec: 79.50 - lr: 0.026726 - momentum: 0.000000\n",
            "2025-05-15 11:46:08,971 ----------------------------------------------------------------------------------------------------\n",
            "2025-05-15 11:46:08,972 EPOCH 3 done: loss 0.0265 - lr: 0.026726\n"
          ]
        },
        {
          "output_type": "stream",
          "name": "stderr",
          "text": [
            "100%|██████████| 3/3 [00:01<00:00,  2.94it/s]"
          ]
        },
        {
          "output_type": "stream",
          "name": "stdout",
          "text": [
            "2025-05-15 11:46:10,017 DEV : loss 0.037387482821941376 - f1-score (micro avg)  0.988\n",
            "2025-05-15 11:46:10,054  - 2 epochs without improvement\n",
            "2025-05-15 11:46:10,055 ----------------------------------------------------------------------------------------------------\n"
          ]
        },
        {
          "output_type": "stream",
          "name": "stderr",
          "text": [
            "\n"
          ]
        },
        {
          "output_type": "stream",
          "name": "stdout",
          "text": [
            "2025-05-15 11:46:10,700 epoch 4 - iter 7/76 - loss 0.00004131 - time (sec): 0.64 - samples/sec: 87.12 - lr: 0.026726 - momentum: 0.000000\n",
            "2025-05-15 11:46:11,406 epoch 4 - iter 14/76 - loss 0.00008801 - time (sec): 1.35 - samples/sec: 83.02 - lr: 0.026726 - momentum: 0.000000\n",
            "2025-05-15 11:46:12,066 epoch 4 - iter 21/76 - loss 0.08049289 - time (sec): 2.01 - samples/sec: 83.63 - lr: 0.026726 - momentum: 0.000000\n",
            "2025-05-15 11:46:12,702 epoch 4 - iter 28/76 - loss 0.06042220 - time (sec): 2.64 - samples/sec: 84.69 - lr: 0.026726 - momentum: 0.000000\n",
            "2025-05-15 11:46:13,464 epoch 4 - iter 35/76 - loss 0.04835548 - time (sec): 3.41 - samples/sec: 82.20 - lr: 0.026726 - momentum: 0.000000\n",
            "2025-05-15 11:46:14,254 epoch 4 - iter 42/76 - loss 0.04031776 - time (sec): 4.20 - samples/sec: 80.07 - lr: 0.026726 - momentum: 0.000000\n",
            "2025-05-15 11:46:14,963 epoch 4 - iter 49/76 - loss 0.03497891 - time (sec): 4.91 - samples/sec: 79.90 - lr: 0.026726 - momentum: 0.000000\n",
            "2025-05-15 11:46:15,672 epoch 4 - iter 56/76 - loss 0.03080590 - time (sec): 5.61 - samples/sec: 79.79 - lr: 0.026726 - momentum: 0.000000\n",
            "2025-05-15 11:46:16,416 epoch 4 - iter 63/76 - loss 0.02739731 - time (sec): 6.36 - samples/sec: 79.26 - lr: 0.026726 - momentum: 0.000000\n",
            "2025-05-15 11:46:17,024 epoch 4 - iter 70/76 - loss 0.02466061 - time (sec): 6.97 - samples/sec: 80.38 - lr: 0.026726 - momentum: 0.000000\n",
            "2025-05-15 11:46:17,666 ----------------------------------------------------------------------------------------------------\n",
            "2025-05-15 11:46:17,667 EPOCH 4 done: loss 0.0229 - lr: 0.026726\n"
          ]
        },
        {
          "output_type": "stream",
          "name": "stderr",
          "text": [
            "100%|██████████| 3/3 [00:01<00:00,  2.88it/s]"
          ]
        },
        {
          "output_type": "stream",
          "name": "stdout",
          "text": [
            "2025-05-15 11:46:18,741 DEV : loss 0.0330754816532135 - f1-score (micro avg)  0.988\n",
            "2025-05-15 11:46:18,797  - 3 epochs without improvement\n",
            "2025-05-15 11:46:18,798 ----------------------------------------------------------------------------------------------------\n"
          ]
        },
        {
          "output_type": "stream",
          "name": "stderr",
          "text": [
            "\n"
          ]
        },
        {
          "output_type": "stream",
          "name": "stdout",
          "text": [
            "2025-05-15 11:46:19,369 epoch 5 - iter 7/76 - loss 0.00004133 - time (sec): 0.57 - samples/sec: 98.61 - lr: 0.026726 - momentum: 0.000000\n",
            "2025-05-15 11:46:20,074 epoch 5 - iter 14/76 - loss 0.00004085 - time (sec): 1.27 - samples/sec: 88.02 - lr: 0.026726 - momentum: 0.000000\n",
            "2025-05-15 11:46:20,799 epoch 5 - iter 21/76 - loss 0.00003417 - time (sec): 2.00 - samples/sec: 84.10 - lr: 0.026726 - momentum: 0.000000\n",
            "2025-05-15 11:46:21,464 epoch 5 - iter 28/76 - loss 0.00008056 - time (sec): 2.66 - samples/sec: 84.13 - lr: 0.026726 - momentum: 0.000000\n",
            "2025-05-15 11:46:22,126 epoch 5 - iter 35/76 - loss 0.00827433 - time (sec): 3.33 - samples/sec: 84.20 - lr: 0.026726 - momentum: 0.000000\n",
            "2025-05-15 11:46:22,868 epoch 5 - iter 42/76 - loss 0.01421059 - time (sec): 4.07 - samples/sec: 82.61 - lr: 0.026726 - momentum: 0.000000\n",
            "2025-05-15 11:46:23,566 epoch 5 - iter 49/76 - loss 0.01218498 - time (sec): 4.77 - samples/sec: 82.26 - lr: 0.026726 - momentum: 0.000000\n",
            "2025-05-15 11:46:24,232 epoch 5 - iter 56/76 - loss 0.01066819 - time (sec): 5.43 - samples/sec: 82.49 - lr: 0.026726 - momentum: 0.000000\n",
            "2025-05-15 11:46:24,921 epoch 5 - iter 63/76 - loss 0.00948536 - time (sec): 6.12 - samples/sec: 82.36 - lr: 0.026726 - momentum: 0.000000\n",
            "2025-05-15 11:46:25,659 epoch 5 - iter 70/76 - loss 0.00853908 - time (sec): 6.86 - samples/sec: 81.65 - lr: 0.026726 - momentum: 0.000000\n",
            "2025-05-15 11:46:26,224 ----------------------------------------------------------------------------------------------------\n",
            "2025-05-15 11:46:26,225 EPOCH 5 done: loss 0.0089 - lr: 0.026726\n"
          ]
        },
        {
          "output_type": "stream",
          "name": "stderr",
          "text": [
            "100%|██████████| 3/3 [00:00<00:00,  3.03it/s]\n"
          ]
        },
        {
          "output_type": "stream",
          "name": "stdout",
          "text": [
            "2025-05-15 11:46:27,243 DEV : loss 0.02477729320526123 - f1-score (micro avg)  0.988\n",
            "2025-05-15 11:46:27,280  - 0 epochs without improvement\n",
            "2025-05-15 11:46:27,281 ----------------------------------------------------------------------------------------------------\n",
            "2025-05-15 11:46:27,964 epoch 6 - iter 7/76 - loss 0.00002166 - time (sec): 0.68 - samples/sec: 82.36 - lr: 0.026726 - momentum: 0.000000\n",
            "2025-05-15 11:46:28,755 epoch 6 - iter 14/76 - loss 0.00002706 - time (sec): 1.47 - samples/sec: 76.11 - lr: 0.026726 - momentum: 0.000000\n",
            "2025-05-15 11:46:29,458 epoch 6 - iter 21/76 - loss 0.00111989 - time (sec): 2.17 - samples/sec: 77.26 - lr: 0.026726 - momentum: 0.000000\n",
            "2025-05-15 11:46:30,184 epoch 6 - iter 28/76 - loss 0.00084687 - time (sec): 2.90 - samples/sec: 77.22 - lr: 0.026726 - momentum: 0.000000\n",
            "2025-05-15 11:46:30,927 epoch 6 - iter 35/76 - loss 0.00069991 - time (sec): 3.64 - samples/sec: 76.86 - lr: 0.026726 - momentum: 0.000000\n",
            "2025-05-15 11:46:31,608 epoch 6 - iter 42/76 - loss 0.00058596 - time (sec): 4.32 - samples/sec: 77.69 - lr: 0.026726 - momentum: 0.000000\n",
            "2025-05-15 11:46:32,289 epoch 6 - iter 49/76 - loss 0.00050703 - time (sec): 5.01 - samples/sec: 78.32 - lr: 0.026726 - momentum: 0.000000\n",
            "2025-05-15 11:46:32,969 epoch 6 - iter 56/76 - loss 0.00301449 - time (sec): 5.69 - samples/sec: 78.80 - lr: 0.026726 - momentum: 0.000000\n",
            "2025-05-15 11:46:33,560 epoch 6 - iter 63/76 - loss 0.00268199 - time (sec): 6.28 - samples/sec: 80.30 - lr: 0.026726 - momentum: 0.000000\n",
            "2025-05-15 11:46:34,238 epoch 6 - iter 70/76 - loss 0.00241558 - time (sec): 6.95 - samples/sec: 80.53 - lr: 0.026726 - momentum: 0.000000\n",
            "2025-05-15 11:46:34,764 ----------------------------------------------------------------------------------------------------\n",
            "2025-05-15 11:46:34,765 EPOCH 6 done: loss 0.0049 - lr: 0.026726\n"
          ]
        },
        {
          "output_type": "stream",
          "name": "stderr",
          "text": [
            "100%|██████████| 3/3 [00:00<00:00,  3.08it/s]\n"
          ]
        },
        {
          "output_type": "stream",
          "name": "stdout",
          "text": [
            "2025-05-15 11:46:35,768 DEV : loss 0.031170617789030075 - f1-score (micro avg)  0.988\n",
            "2025-05-15 11:46:35,807  - 1 epochs without improvement\n",
            "2025-05-15 11:46:35,808 ----------------------------------------------------------------------------------------------------\n",
            "2025-05-15 11:46:36,518 epoch 7 - iter 7/76 - loss 0.00021679 - time (sec): 0.71 - samples/sec: 79.14 - lr: 0.026726 - momentum: 0.000000\n",
            "2025-05-15 11:46:37,182 epoch 7 - iter 14/76 - loss 0.00012891 - time (sec): 1.37 - samples/sec: 81.66 - lr: 0.026726 - momentum: 0.000000\n",
            "2025-05-15 11:46:37,843 epoch 7 - iter 21/76 - loss 0.00009134 - time (sec): 2.03 - samples/sec: 82.66 - lr: 0.026726 - momentum: 0.000000\n",
            "2025-05-15 11:46:38,467 epoch 7 - iter 28/76 - loss 0.00007208 - time (sec): 2.66 - samples/sec: 84.31 - lr: 0.026726 - momentum: 0.000000\n",
            "2025-05-15 11:46:39,128 epoch 7 - iter 35/76 - loss 0.00006146 - time (sec): 3.32 - samples/sec: 84.39 - lr: 0.026726 - momentum: 0.000000\n",
            "2025-05-15 11:46:39,808 epoch 7 - iter 42/76 - loss 0.00005728 - time (sec): 4.00 - samples/sec: 84.05 - lr: 0.026726 - momentum: 0.000000\n",
            "2025-05-15 11:46:40,497 epoch 7 - iter 49/76 - loss 0.00005114 - time (sec): 4.69 - samples/sec: 83.64 - lr: 0.026726 - momentum: 0.000000\n",
            "2025-05-15 11:46:41,137 epoch 7 - iter 56/76 - loss 0.00005521 - time (sec): 5.33 - samples/sec: 84.11 - lr: 0.026726 - momentum: 0.000000\n",
            "2025-05-15 11:46:41,808 epoch 7 - iter 63/76 - loss 0.00005336 - time (sec): 6.00 - samples/sec: 84.04 - lr: 0.026726 - momentum: 0.000000\n",
            "2025-05-15 11:46:42,537 epoch 7 - iter 70/76 - loss 0.00004899 - time (sec): 6.73 - samples/sec: 83.26 - lr: 0.026726 - momentum: 0.000000\n",
            "2025-05-15 11:46:43,191 ----------------------------------------------------------------------------------------------------\n",
            "2025-05-15 11:46:43,192 EPOCH 7 done: loss 0.0000 - lr: 0.026726\n"
          ]
        },
        {
          "output_type": "stream",
          "name": "stderr",
          "text": [
            "100%|██████████| 3/3 [00:00<00:00,  3.06it/s]\n"
          ]
        },
        {
          "output_type": "stream",
          "name": "stdout",
          "text": [
            "2025-05-15 11:46:44,201 DEV : loss 0.028429780155420303 - f1-score (micro avg)  0.988\n",
            "2025-05-15 11:46:44,242  - 2 epochs without improvement\n",
            "2025-05-15 11:46:44,243 ----------------------------------------------------------------------------------------------------\n",
            "2025-05-15 11:46:44,920 epoch 8 - iter 7/76 - loss 0.00001266 - time (sec): 0.67 - samples/sec: 83.01 - lr: 0.026726 - momentum: 0.000000\n",
            "2025-05-15 11:46:45,531 epoch 8 - iter 14/76 - loss 0.00001345 - time (sec): 1.29 - samples/sec: 87.07 - lr: 0.026726 - momentum: 0.000000\n",
            "2025-05-15 11:46:46,185 epoch 8 - iter 21/76 - loss 0.00001155 - time (sec): 1.94 - samples/sec: 86.58 - lr: 0.026726 - momentum: 0.000000\n",
            "2025-05-15 11:46:46,863 epoch 8 - iter 28/76 - loss 0.00001225 - time (sec): 2.62 - samples/sec: 85.57 - lr: 0.026726 - momentum: 0.000000\n",
            "2025-05-15 11:46:47,571 epoch 8 - iter 35/76 - loss 0.00001268 - time (sec): 3.33 - samples/sec: 84.18 - lr: 0.026726 - momentum: 0.000000\n",
            "2025-05-15 11:46:48,248 epoch 8 - iter 42/76 - loss 0.00001173 - time (sec): 4.00 - samples/sec: 83.94 - lr: 0.026726 - momentum: 0.000000\n",
            "2025-05-15 11:46:48,879 epoch 8 - iter 49/76 - loss 0.00001233 - time (sec): 4.63 - samples/sec: 84.60 - lr: 0.026726 - momentum: 0.000000\n",
            "2025-05-15 11:46:49,597 epoch 8 - iter 56/76 - loss 0.02041235 - time (sec): 5.35 - samples/sec: 83.71 - lr: 0.026726 - momentum: 0.000000\n",
            "2025-05-15 11:46:50,250 epoch 8 - iter 63/76 - loss 0.01815855 - time (sec): 6.01 - samples/sec: 83.93 - lr: 0.026726 - momentum: 0.000000\n",
            "2025-05-15 11:46:50,966 epoch 8 - iter 70/76 - loss 0.01634553 - time (sec): 6.72 - samples/sec: 83.32 - lr: 0.026726 - momentum: 0.000000\n",
            "2025-05-15 11:46:51,518 ----------------------------------------------------------------------------------------------------\n",
            "2025-05-15 11:46:51,518 EPOCH 8 done: loss 0.0153 - lr: 0.026726\n"
          ]
        },
        {
          "output_type": "stream",
          "name": "stderr",
          "text": [
            "100%|██████████| 3/3 [00:00<00:00,  3.12it/s]\n"
          ]
        },
        {
          "output_type": "stream",
          "name": "stdout",
          "text": [
            "2025-05-15 11:46:52,513 DEV : loss 0.12787313759326935 - f1-score (micro avg)  0.976\n",
            "2025-05-15 11:46:52,553  - 3 epochs without improvement\n",
            "2025-05-15 11:46:52,554 ----------------------------------------------------------------------------------------------------\n",
            "2025-05-15 11:46:53,126 epoch 9 - iter 7/76 - loss 0.00034947 - time (sec): 0.57 - samples/sec: 98.37 - lr: 0.026726 - momentum: 0.000000\n",
            "2025-05-15 11:46:53,761 epoch 9 - iter 14/76 - loss 0.00024483 - time (sec): 1.20 - samples/sec: 93.02 - lr: 0.026726 - momentum: 0.000000\n",
            "2025-05-15 11:46:54,536 epoch 9 - iter 21/76 - loss 0.00017018 - time (sec): 1.98 - samples/sec: 84.89 - lr: 0.026726 - momentum: 0.000000\n",
            "2025-05-15 11:46:55,161 epoch 9 - iter 28/76 - loss 0.00013115 - time (sec): 2.60 - samples/sec: 86.01 - lr: 0.026726 - momentum: 0.000000\n",
            "2025-05-15 11:46:55,858 epoch 9 - iter 35/76 - loss 0.00010848 - time (sec): 3.30 - samples/sec: 84.82 - lr: 0.026726 - momentum: 0.000000\n",
            "2025-05-15 11:46:56,514 epoch 9 - iter 42/76 - loss 0.00009193 - time (sec): 3.96 - samples/sec: 84.90 - lr: 0.026726 - momentum: 0.000000\n",
            "2025-05-15 11:46:57,171 epoch 9 - iter 49/76 - loss 0.00418134 - time (sec): 4.61 - samples/sec: 84.95 - lr: 0.026726 - momentum: 0.000000\n",
            "2025-05-15 11:46:57,895 epoch 9 - iter 56/76 - loss 0.00368353 - time (sec): 5.34 - samples/sec: 83.92 - lr: 0.026726 - momentum: 0.000000\n",
            "2025-05-15 11:46:58,574 epoch 9 - iter 63/76 - loss 0.00327641 - time (sec): 6.02 - samples/sec: 83.76 - lr: 0.026726 - momentum: 0.000000\n",
            "2025-05-15 11:46:59,256 epoch 9 - iter 70/76 - loss 0.00298459 - time (sec): 6.70 - samples/sec: 83.59 - lr: 0.026726 - momentum: 0.000000\n",
            "2025-05-15 11:46:59,820 ----------------------------------------------------------------------------------------------------\n",
            "2025-05-15 11:46:59,827 EPOCH 9 done: loss 0.0028 - lr: 0.026726\n"
          ]
        },
        {
          "output_type": "stream",
          "name": "stderr",
          "text": [
            "100%|██████████| 3/3 [00:01<00:00,  3.00it/s]"
          ]
        },
        {
          "output_type": "stream",
          "name": "stdout",
          "text": [
            "2025-05-15 11:47:00,854 DEV : loss 0.030980654060840607 - f1-score (micro avg)  0.988\n",
            "2025-05-15 11:47:00,894  - 4 epochs without improvement (above 'patience')-> annealing learning_rate to [0.013362978235919021]\n"
          ]
        },
        {
          "output_type": "stream",
          "name": "stderr",
          "text": [
            "\n"
          ]
        },
        {
          "output_type": "stream",
          "name": "stdout",
          "text": [
            "2025-05-15 11:47:03,749 ----------------------------------------------------------------------------------------------------\n",
            "2025-05-15 11:47:03,753 Loading model from best epoch ...\n"
          ]
        },
        {
          "output_type": "stream",
          "name": "stderr",
          "text": [
            "100%|██████████| 2/2 [00:00<00:00,  5.32it/s]"
          ]
        },
        {
          "output_type": "stream",
          "name": "stdout",
          "text": [
            "2025-05-15 11:47:06,152 \n",
            "Results:\n",
            "- F-score (micro) 1.0\n",
            "- F-score (macro) 1.0\n",
            "- Accuracy 1.0\n",
            "\n",
            "By class:\n",
            "              precision    recall  f1-score   support\n",
            "\n",
            "          공통     1.0000    1.0000    1.0000        20\n",
            "          교량     1.0000    1.0000    1.0000        14\n",
            "       가설구조물     1.0000    1.0000    1.0000        14\n",
            "        굴착공사     1.0000    1.0000    1.0000        12\n",
            "          건축     1.0000    1.0000    1.0000         5\n",
            "        양중작업     1.0000    1.0000    1.0000         2\n",
            "\n",
            "    accuracy                         1.0000        67\n",
            "   macro avg     1.0000    1.0000    1.0000        67\n",
            "weighted avg     1.0000    1.0000    1.0000        67\n",
            "\n",
            "2025-05-15 11:47:06,153 ----------------------------------------------------------------------------------------------------\n"
          ]
        },
        {
          "output_type": "stream",
          "name": "stderr",
          "text": [
            "\n"
          ]
        },
        {
          "output_type": "stream",
          "name": "stdout",
          "text": [
            "  훈련 결과: {'test_score': 1.0}\n",
            "  현재 폴드 정확도: 0.9880\n",
            "  평균 성능: 0.9869 (유효한 폴드: 5/5)\n",
            "\n",
            "=== 랜덤 서치 결과 요약 ===\n",
            "1위: lr=0.0267, batch_size=8, epochs=9 - 점수: 0.9869 (유효 폴드: 5/5)\n",
            "2위: lr=0.0083, batch_size=8, epochs=9 - 점수: 0.8749 (유효 폴드: 5/5)\n",
            "\n",
            "최적 하이퍼파라미터: {'learning_rate': np.float64(0.026725956471838043), 'batch_size': 8, 'epochs': 9}, 점수: 0.9869\n"
          ]
        }
      ]
    },
    {
      "cell_type": "markdown",
      "source": [
        "random_state=42의 기능:\n",
        "\n",
        "- 재현성 보장: 같은 코드를 여러 번 실행해도 항상 동일한 데이터 분할 결과가 나오도록 함\n",
        "무작위성 제어: 데이터를 섞는(shuffle) 과정에서 난수 생성기의 시드 값을 고정 -> shuffle = true의 기능은 random 알고리즘의 난수값 고정여부를 참으로 설정 , 그 고정 난수값 random state = 42\n",
        "\n",
        "- 실험 비교 용이: 하이퍼파라미터만 바꿔서 실험해도 같은 데이터 분할을 사용하므로 공정한 비교 가능\n",
        "값의 의미: 42라는 숫자 자체는 특별한 의미가 없으며, 관례적으로 많이 사용되는 값임\n",
        "\n",
        "create_stratified_folds 함수의 기능:\n",
        "\n",
        "- 계층적 데이터 분할: 각 클래스의 비율을 모든 폴드에 동일하게 유지하며 분할(우리의 훈련용 데이터를 그냥 나누기에는 비슷한 category들끼리 모여있어 어려움이 있음\n",
        "\n",
        " -> 훈련용 데이터 fold 5개를 각 label 별로 일정한\n",
        "비율로 생성\n",
        "-> 그리고 그 fold 안에서 또 훈련용/시험용 데이터 분할)\n",
        "\n",
        "데이터 균형 유지:\n",
        "\n",
        "- 예: 원본 데이터에 '교량공사' 30%, '터널공사' 20%, '도로공사' 50%의 비율이라면\n",
        "각 폴드에도 이 비율이 유지됨\n",
        "\n",
        "\n",
        "샘플링 편향 방지:\n",
        "- 특정 카테고리가 특정 폴드에만 집중되는 것을 방지\n",
        "\n",
        "교차 검증 준비:\n",
        "-  각 폴드별 훈련/검증 데이터 인덱스를 생성하여 교차 검증에 사용할 수 있게 함\n",
        "\n",
        "이 함수는 교차 검증의 품질을 높이기 위한 핵심 단계로, 특히 클래스 불균형이 있는 텍스트 분류 데이터셋에서 매우 중요합니다.\n",
        "\n",
        "그러면 이렇게 fold하는 scikit-learn 패키지를 사용했을때 그 결과는 어떻게 나오는가?\n",
        "\n",
        "fold_indices 안에 들어있는 데이터는 다음과 같은 형식입니다:\n",
        "\n",
        "python[\n",
        "\n",
        "      (train_indices_fold1, val_indices_fold1),  # 1번 폴드\n",
        "      (train_indices_fold2, val_indices_fold2),  # 2번 폴드\n",
        "      (train_indices_fold3, val_indices_fold3),  # 3번 폴드\n",
        "      (train_indices_fold4, val_indices_fold4),  # 4번 폴드\n",
        "      (train_indices_fold5, val_indices_fold5)   # 5번 폴드\n",
        "]\n",
        "\n",
        "여기서:\n",
        "\n",
        "- 각 폴드는 튜플로 표현됩니다: (훈련 인덱스 배열, 검증 인덱스 배열)\n",
        "\n",
        "- 각 인덱스 배열은 numpy.ndarray 타입:\n",
        "\n",
        "    train_indices_fold1 = numpy.array([0, 1, 3, 4, 6, 7, ...])\n",
        "    val_indices_fold1 = numpy.array([2, 5, 8, ...])\n",
        "\n",
        "인덱스 비율:\n",
        "\n",
        "- 훈련 인덱스: 전체 데이터의 약 80% (5-fold의 경우)\n",
        "- 검증 인덱스: 전체 데이터의 약 20% (5-fold의 경우)\n",
        "\n",
        "\n",
        "각 인덱스의 의미:\n",
        "\n",
        "- 인덱스 값은 원본 데이터(texts와 labels 리스트)에서의 위치를 가리키는 정수\n",
        "- 예: train_indices_fold1[0] = 3이면 원본 데이터의 3번째 항목\n",
        "\n",
        "\n",
        "\n",
        "이 인덱스를 사용하여 원본 데이터에서 각 폴드별로 훈련/검증 데이터를 추출하고 모델을 학습/평가할 수 있습니다.\n",
        "\n",
        "\n",
        "위와 같은 과정을 통해서 교차검증을 위한 fold를 생성하고 , 각 교차검증에 사용할 하이퍼파라미터를 랜덤서치 하는 과정을 수행, 각 fold별로 train-file , dev-file , corpus 생성 , 분류생성 , tainer 인스턴스 생성 , 각 train 의 결과 즉 accuracy 구하는 과정을 수행,\n",
        "\n",
        "각 fold별로 , 각 하이퍼 파라미터 별로 수행했을때 가장 높은 acuuracy를 찾음으로써 하이퍼 파라미터 최적화 완료.\n"
      ],
      "metadata": {
        "id": "LN8NuynlOiod"
      }
    },
    {
      "cell_type": "markdown",
      "source": [],
      "metadata": {
        "id": "y1uaIPU8P1dI"
      }
    },
    {
      "cell_type": "code",
      "source": [
        "# 새로운 분류기 생성\n",
        "final_classifier = TextClassifier(document_embeddings,\n",
        "                                 label_dictionary=construction_corpus.make_label_dictionary(label_type='class'),\n",
        "                                 label_type='class')\n",
        "\n",
        "# 트레이너 생성\n",
        "trainer = ModelTrainer(final_classifier, construction_corpus)\n",
        "\n",
        "# 최종 모델 학습 (train+dev 데이터 모두 사용)\n",
        "trainer.train('models/final_construction_model',\n",
        "             learning_rate=best_params['learning_rate'],\n",
        "             mini_batch_size=best_params['batch_size'],\n",
        "             max_epochs=best_params['epochs'])"
      ],
      "metadata": {
        "id": "wjzyKoqz7vTV",
        "colab": {
          "base_uri": "https://localhost:8080/"
        },
        "outputId": "a6813de2-4e14-4886-adcb-4406533df8a0"
      },
      "execution_count": 11,
      "outputs": [
        {
          "output_type": "stream",
          "name": "stdout",
          "text": [
            "2025-05-15 11:48:03,166 Computing label dictionary. Progress:\n"
          ]
        },
        {
          "output_type": "stream",
          "name": "stderr",
          "text": [
            "0it [00:00, ?it/s]\n",
            "838it [00:00, 4683.00it/s]"
          ]
        },
        {
          "output_type": "stream",
          "name": "stdout",
          "text": [
            "2025-05-15 11:48:03,352 Dictionary created for label 'class' with 6 values: 공통 (seen 246 times), 가설구조물 (seen 191 times), 교량 (seen 143 times), 굴착공사 (seen 109 times), 건축 (seen 76 times), 양중작업 (seen 73 times)\n",
            "2025-05-15 11:48:03,359 ----------------------------------------------------------------------------------------------------\n",
            "2025-05-15 11:48:03,361 Model: \"TextClassifier(\n",
            "  (embeddings): TransformerDocumentEmbeddings(\n",
            "    (model): BertModel(\n",
            "      (embeddings): BertEmbeddings(\n",
            "        (word_embeddings): Embedding(32001, 768, padding_idx=0)\n",
            "        (position_embeddings): Embedding(512, 768)\n",
            "        (token_type_embeddings): Embedding(2, 768)\n",
            "        (LayerNorm): LayerNorm((768,), eps=1e-12, elementwise_affine=True)\n",
            "        (dropout): Dropout(p=0.1, inplace=False)\n",
            "      )\n",
            "      (encoder): BertEncoder(\n",
            "        (layer): ModuleList(\n",
            "          (0-11): 12 x BertLayer(\n",
            "            (attention): BertAttention(\n",
            "              (self): BertSdpaSelfAttention(\n",
            "                (query): Linear(in_features=768, out_features=768, bias=True)\n",
            "                (key): Linear(in_features=768, out_features=768, bias=True)\n",
            "                (value): Linear(in_features=768, out_features=768, bias=True)\n",
            "                (dropout): Dropout(p=0.1, inplace=False)\n",
            "              )\n",
            "              (output): BertSelfOutput(\n",
            "                (dense): Linear(in_features=768, out_features=768, bias=True)\n",
            "                (LayerNorm): LayerNorm((768,), eps=1e-12, elementwise_affine=True)\n",
            "                (dropout): Dropout(p=0.1, inplace=False)\n",
            "              )\n",
            "            )\n",
            "            (intermediate): BertIntermediate(\n",
            "              (dense): Linear(in_features=768, out_features=3072, bias=True)\n",
            "              (intermediate_act_fn): GELUActivation()\n",
            "            )\n",
            "            (output): BertOutput(\n",
            "              (dense): Linear(in_features=3072, out_features=768, bias=True)\n",
            "              (LayerNorm): LayerNorm((768,), eps=1e-12, elementwise_affine=True)\n",
            "              (dropout): Dropout(p=0.1, inplace=False)\n",
            "            )\n",
            "          )\n",
            "        )\n",
            "      )\n",
            "      (pooler): BertPooler(\n",
            "        (dense): Linear(in_features=768, out_features=768, bias=True)\n",
            "        (activation): Tanh()\n",
            "      )\n",
            "    )\n",
            "  )\n",
            "  (decoder): Linear(in_features=768, out_features=6, bias=True)\n",
            "  (dropout): Dropout(p=0.0, inplace=False)\n",
            "  (locked_dropout): LockedDropout(p=0.0)\n",
            "  (word_dropout): WordDropout(p=0.0)\n",
            "  (loss_function): CrossEntropyLoss()\n",
            "  (weights): None\n",
            "  (weight_tensor) None\n",
            ")\"\n",
            "2025-05-15 11:48:03,362 ----------------------------------------------------------------------------------------------------\n",
            "2025-05-15 11:48:03,363 Corpus: 838 train + 105 dev + 105 test sentences\n",
            "2025-05-15 11:48:03,363 ----------------------------------------------------------------------------------------------------\n",
            "2025-05-15 11:48:03,364 Train:  838 sentences\n",
            "2025-05-15 11:48:03,365         (train_with_dev=False, train_with_test=False)\n",
            "2025-05-15 11:48:03,366 ----------------------------------------------------------------------------------------------------\n",
            "2025-05-15 11:48:03,367 Training Params:\n",
            "2025-05-15 11:48:03,368  - learning_rate: \"0.026725956471838043\" \n"
          ]
        },
        {
          "output_type": "stream",
          "name": "stderr",
          "text": [
            "\n",
            "/usr/local/lib/python3.11/dist-packages/flair/trainers/trainer.py:545: FutureWarning: `torch.cuda.amp.GradScaler(args...)` is deprecated. Please use `torch.amp.GradScaler('cuda', args...)` instead.\n",
            "  scaler = torch.cuda.amp.GradScaler(enabled=use_amp and flair.device.type != \"cpu\")\n"
          ]
        },
        {
          "output_type": "stream",
          "name": "stdout",
          "text": [
            "2025-05-15 11:48:03,370  - mini_batch_size: \"8\"\n",
            "2025-05-15 11:48:03,370  - max_epochs: \"9\"\n",
            "2025-05-15 11:48:03,371  - shuffle: \"True\"\n",
            "2025-05-15 11:48:03,372 ----------------------------------------------------------------------------------------------------\n",
            "2025-05-15 11:48:03,373 Plugins:\n",
            "2025-05-15 11:48:03,373  - AnnealOnPlateau | patience: '3', anneal_factor: '0.5', min_learning_rate: '0.0001'\n",
            "2025-05-15 11:48:03,374 ----------------------------------------------------------------------------------------------------\n",
            "2025-05-15 11:48:03,375 Final evaluation on model from best epoch (best-model.pt)\n",
            "2025-05-15 11:48:03,376  - metric: \"('micro avg', 'f1-score')\"\n",
            "2025-05-15 11:48:03,377 ----------------------------------------------------------------------------------------------------\n",
            "2025-05-15 11:48:03,378 Computation:\n",
            "2025-05-15 11:48:03,378  - compute on device: cuda:0\n",
            "2025-05-15 11:48:03,379  - embedding storage: cpu\n",
            "2025-05-15 11:48:03,381 ----------------------------------------------------------------------------------------------------\n",
            "2025-05-15 11:48:03,382 Model training base path: \"models/final_construction_model\"\n",
            "2025-05-15 11:48:03,382 ----------------------------------------------------------------------------------------------------\n",
            "2025-05-15 11:48:03,383 ----------------------------------------------------------------------------------------------------\n",
            "2025-05-15 11:48:04,451 epoch 1 - iter 10/105 - loss 0.90310081 - time (sec): 1.07 - samples/sec: 75.07 - lr: 0.026726 - momentum: 0.000000\n",
            "2025-05-15 11:48:05,384 epoch 1 - iter 20/105 - loss 0.55415970 - time (sec): 2.00 - samples/sec: 80.03 - lr: 0.026726 - momentum: 0.000000\n",
            "2025-05-15 11:48:06,457 epoch 1 - iter 30/105 - loss 0.37304165 - time (sec): 3.07 - samples/sec: 78.11 - lr: 0.026726 - momentum: 0.000000\n",
            "2025-05-15 11:48:07,422 epoch 1 - iter 40/105 - loss 0.28007276 - time (sec): 4.04 - samples/sec: 79.27 - lr: 0.026726 - momentum: 0.000000\n",
            "2025-05-15 11:48:08,534 epoch 1 - iter 50/105 - loss 0.22545223 - time (sec): 5.15 - samples/sec: 77.68 - lr: 0.026726 - momentum: 0.000000\n",
            "2025-05-15 11:48:09,488 epoch 1 - iter 60/105 - loss 0.20453283 - time (sec): 6.10 - samples/sec: 78.64 - lr: 0.026726 - momentum: 0.000000\n",
            "2025-05-15 11:48:10,418 epoch 1 - iter 70/105 - loss 0.17563687 - time (sec): 7.03 - samples/sec: 79.62 - lr: 0.026726 - momentum: 0.000000\n",
            "2025-05-15 11:48:11,363 epoch 1 - iter 80/105 - loss 0.16669559 - time (sec): 7.98 - samples/sec: 80.22 - lr: 0.026726 - momentum: 0.000000\n",
            "2025-05-15 11:48:12,528 epoch 1 - iter 90/105 - loss 0.14852487 - time (sec): 9.14 - samples/sec: 78.75 - lr: 0.026726 - momentum: 0.000000\n",
            "2025-05-15 11:48:13,606 epoch 1 - iter 100/105 - loss 0.13802689 - time (sec): 10.22 - samples/sec: 78.27 - lr: 0.026726 - momentum: 0.000000\n",
            "2025-05-15 11:48:14,142 ----------------------------------------------------------------------------------------------------\n",
            "2025-05-15 11:48:14,143 EPOCH 1 done: loss 0.1399 - lr: 0.026726\n"
          ]
        },
        {
          "output_type": "stream",
          "name": "stderr",
          "text": [
            "100%|██████████| 2/2 [00:00<00:00,  3.64it/s]\n"
          ]
        },
        {
          "output_type": "stream",
          "name": "stdout",
          "text": [
            "2025-05-15 11:48:14,725 DEV : loss 2.185875654220581 - f1-score (micro avg)  0.7238\n",
            "2025-05-15 11:48:14,758  - 0 epochs without improvement\n",
            "2025-05-15 11:48:14,759 saving best model\n",
            "2025-05-15 11:48:17,625 ----------------------------------------------------------------------------------------------------\n",
            "2025-05-15 11:48:18,673 epoch 2 - iter 10/105 - loss 0.00025269 - time (sec): 1.04 - samples/sec: 76.69 - lr: 0.026726 - momentum: 0.000000\n",
            "2025-05-15 11:48:19,692 epoch 2 - iter 20/105 - loss 0.00039214 - time (sec): 2.06 - samples/sec: 77.61 - lr: 0.026726 - momentum: 0.000000\n",
            "2025-05-15 11:48:20,677 epoch 2 - iter 30/105 - loss 0.00562001 - time (sec): 3.05 - samples/sec: 78.77 - lr: 0.026726 - momentum: 0.000000\n",
            "2025-05-15 11:48:21,672 epoch 2 - iter 40/105 - loss 0.00665747 - time (sec): 4.04 - samples/sec: 79.17 - lr: 0.026726 - momentum: 0.000000\n",
            "2025-05-15 11:48:22,700 epoch 2 - iter 50/105 - loss 0.00733569 - time (sec): 5.07 - samples/sec: 78.90 - lr: 0.026726 - momentum: 0.000000\n",
            "2025-05-15 11:48:23,752 epoch 2 - iter 60/105 - loss 0.00614669 - time (sec): 6.12 - samples/sec: 78.41 - lr: 0.026726 - momentum: 0.000000\n",
            "2025-05-15 11:48:24,766 epoch 2 - iter 70/105 - loss 0.00996629 - time (sec): 7.14 - samples/sec: 78.48 - lr: 0.026726 - momentum: 0.000000\n",
            "2025-05-15 11:48:25,732 epoch 2 - iter 80/105 - loss 0.02131675 - time (sec): 8.10 - samples/sec: 79.00 - lr: 0.026726 - momentum: 0.000000\n",
            "2025-05-15 11:48:26,741 epoch 2 - iter 90/105 - loss 0.02016612 - time (sec): 9.11 - samples/sec: 79.03 - lr: 0.026726 - momentum: 0.000000\n",
            "2025-05-15 11:48:27,760 epoch 2 - iter 100/105 - loss 0.01815994 - time (sec): 10.13 - samples/sec: 78.98 - lr: 0.026726 - momentum: 0.000000\n",
            "2025-05-15 11:48:28,315 ----------------------------------------------------------------------------------------------------\n",
            "2025-05-15 11:48:28,316 EPOCH 2 done: loss 0.0173 - lr: 0.026726\n"
          ]
        },
        {
          "output_type": "stream",
          "name": "stderr",
          "text": [
            "100%|██████████| 2/2 [00:00<00:00,  3.57it/s]\n"
          ]
        },
        {
          "output_type": "stream",
          "name": "stdout",
          "text": [
            "2025-05-15 11:48:28,901 DEV : loss 2.3905606269836426 - f1-score (micro avg)  0.7333\n",
            "2025-05-15 11:48:28,925  - 0 epochs without improvement\n",
            "2025-05-15 11:48:28,926 saving best model\n",
            "2025-05-15 11:48:30,247 ----------------------------------------------------------------------------------------------------\n",
            "2025-05-15 11:48:31,448 epoch 3 - iter 10/105 - loss 0.00007696 - time (sec): 1.20 - samples/sec: 66.77 - lr: 0.026726 - momentum: 0.000000\n",
            "2025-05-15 11:48:32,539 epoch 3 - iter 20/105 - loss 0.00005981 - time (sec): 2.29 - samples/sec: 69.89 - lr: 0.026726 - momentum: 0.000000\n",
            "2025-05-15 11:48:33,574 epoch 3 - iter 30/105 - loss 0.00005542 - time (sec): 3.32 - samples/sec: 72.21 - lr: 0.026726 - momentum: 0.000000\n",
            "2025-05-15 11:48:34,529 epoch 3 - iter 40/105 - loss 0.00005190 - time (sec): 4.28 - samples/sec: 74.77 - lr: 0.026726 - momentum: 0.000000\n",
            "2025-05-15 11:48:35,580 epoch 3 - iter 50/105 - loss 0.00004697 - time (sec): 5.33 - samples/sec: 75.04 - lr: 0.026726 - momentum: 0.000000\n",
            "2025-05-15 11:48:36,690 epoch 3 - iter 60/105 - loss 0.00005608 - time (sec): 6.44 - samples/sec: 74.53 - lr: 0.026726 - momentum: 0.000000\n",
            "2025-05-15 11:48:37,667 epoch 3 - iter 70/105 - loss 0.00005362 - time (sec): 7.42 - samples/sec: 75.50 - lr: 0.026726 - momentum: 0.000000\n",
            "2025-05-15 11:48:38,618 epoch 3 - iter 80/105 - loss 0.00005139 - time (sec): 8.37 - samples/sec: 76.48 - lr: 0.026726 - momentum: 0.000000\n",
            "2025-05-15 11:48:39,647 epoch 3 - iter 90/105 - loss 0.00005775 - time (sec): 9.40 - samples/sec: 76.62 - lr: 0.026726 - momentum: 0.000000\n",
            "2025-05-15 11:48:40,646 epoch 3 - iter 100/105 - loss 0.00397929 - time (sec): 10.40 - samples/sec: 76.96 - lr: 0.026726 - momentum: 0.000000\n",
            "2025-05-15 11:48:41,096 ----------------------------------------------------------------------------------------------------\n",
            "2025-05-15 11:48:41,097 EPOCH 3 done: loss 0.0038 - lr: 0.026726\n"
          ]
        },
        {
          "output_type": "stream",
          "name": "stderr",
          "text": [
            "100%|██████████| 2/2 [00:00<00:00,  3.64it/s]\n"
          ]
        },
        {
          "output_type": "stream",
          "name": "stdout",
          "text": [
            "2025-05-15 11:48:41,672 DEV : loss 2.72883939743042 - f1-score (micro avg)  0.7048\n",
            "2025-05-15 11:48:41,696  - 1 epochs without improvement\n",
            "2025-05-15 11:48:41,697 ----------------------------------------------------------------------------------------------------\n",
            "2025-05-15 11:48:42,680 epoch 4 - iter 10/105 - loss 0.00004080 - time (sec): 0.98 - samples/sec: 81.65 - lr: 0.026726 - momentum: 0.000000\n",
            "2025-05-15 11:48:43,632 epoch 4 - iter 20/105 - loss 0.00003385 - time (sec): 1.93 - samples/sec: 82.81 - lr: 0.026726 - momentum: 0.000000\n",
            "2025-05-15 11:48:44,581 epoch 4 - iter 30/105 - loss 0.00007683 - time (sec): 2.88 - samples/sec: 83.30 - lr: 0.026726 - momentum: 0.000000\n",
            "2025-05-15 11:48:45,667 epoch 4 - iter 40/105 - loss 0.00007135 - time (sec): 3.97 - samples/sec: 80.66 - lr: 0.026726 - momentum: 0.000000\n",
            "2025-05-15 11:48:46,733 epoch 4 - iter 50/105 - loss 0.00006258 - time (sec): 5.03 - samples/sec: 79.47 - lr: 0.026726 - momentum: 0.000000\n",
            "2025-05-15 11:48:47,729 epoch 4 - iter 60/105 - loss 0.00006029 - time (sec): 6.03 - samples/sec: 79.62 - lr: 0.026726 - momentum: 0.000000\n",
            "2025-05-15 11:48:48,741 epoch 4 - iter 70/105 - loss 0.01316303 - time (sec): 7.04 - samples/sec: 79.54 - lr: 0.026726 - momentum: 0.000000\n",
            "2025-05-15 11:48:49,877 epoch 4 - iter 80/105 - loss 0.01152385 - time (sec): 8.18 - samples/sec: 78.27 - lr: 0.026726 - momentum: 0.000000\n",
            "2025-05-15 11:48:50,878 epoch 4 - iter 90/105 - loss 0.01434375 - time (sec): 9.18 - samples/sec: 78.45 - lr: 0.026726 - momentum: 0.000000\n",
            "2025-05-15 11:48:51,877 epoch 4 - iter 100/105 - loss 0.01291280 - time (sec): 10.18 - samples/sec: 78.61 - lr: 0.026726 - momentum: 0.000000\n",
            "2025-05-15 11:48:52,454 ----------------------------------------------------------------------------------------------------\n",
            "2025-05-15 11:48:52,457 EPOCH 4 done: loss 0.0123 - lr: 0.026726\n"
          ]
        },
        {
          "output_type": "stream",
          "name": "stderr",
          "text": [
            "100%|██████████| 2/2 [00:00<00:00,  3.57it/s]"
          ]
        },
        {
          "output_type": "stream",
          "name": "stdout",
          "text": [
            "2025-05-15 11:48:53,046 DEV : loss 2.5218024253845215 - f1-score (micro avg)  0.6857\n",
            "2025-05-15 11:48:53,090  - 2 epochs without improvement\n",
            "2025-05-15 11:48:53,091 ----------------------------------------------------------------------------------------------------\n"
          ]
        },
        {
          "output_type": "stream",
          "name": "stderr",
          "text": [
            "\n"
          ]
        },
        {
          "output_type": "stream",
          "name": "stdout",
          "text": [
            "2025-05-15 11:48:54,066 epoch 5 - iter 10/105 - loss 0.00003229 - time (sec): 0.97 - samples/sec: 82.25 - lr: 0.026726 - momentum: 0.000000\n",
            "2025-05-15 11:48:55,007 epoch 5 - iter 20/105 - loss 0.00014699 - time (sec): 1.91 - samples/sec: 83.61 - lr: 0.026726 - momentum: 0.000000\n",
            "2025-05-15 11:48:55,994 epoch 5 - iter 30/105 - loss 0.00011419 - time (sec): 2.90 - samples/sec: 82.74 - lr: 0.026726 - momentum: 0.000000\n",
            "2025-05-15 11:48:56,931 epoch 5 - iter 40/105 - loss 0.02369692 - time (sec): 3.84 - samples/sec: 83.38 - lr: 0.026726 - momentum: 0.000000\n",
            "2025-05-15 11:48:57,990 epoch 5 - iter 50/105 - loss 0.01896609 - time (sec): 4.90 - samples/sec: 81.70 - lr: 0.026726 - momentum: 0.000000\n",
            "2025-05-15 11:48:59,044 epoch 5 - iter 60/105 - loss 0.01581021 - time (sec): 5.95 - samples/sec: 80.67 - lr: 0.026726 - momentum: 0.000000\n",
            "2025-05-15 11:49:00,055 epoch 5 - iter 70/105 - loss 0.01355571 - time (sec): 6.96 - samples/sec: 80.44 - lr: 0.026726 - momentum: 0.000000\n",
            "2025-05-15 11:49:01,197 epoch 5 - iter 80/105 - loss 0.01186467 - time (sec): 8.10 - samples/sec: 78.98 - lr: 0.026726 - momentum: 0.000000\n",
            "2025-05-15 11:49:02,110 epoch 5 - iter 90/105 - loss 0.01055014 - time (sec): 9.02 - samples/sec: 79.85 - lr: 0.026726 - momentum: 0.000000\n",
            "2025-05-15 11:49:03,090 epoch 5 - iter 100/105 - loss 0.00949905 - time (sec): 10.00 - samples/sec: 80.03 - lr: 0.026726 - momentum: 0.000000\n",
            "2025-05-15 11:49:03,569 ----------------------------------------------------------------------------------------------------\n",
            "2025-05-15 11:49:03,570 EPOCH 5 done: loss 0.0091 - lr: 0.026726\n"
          ]
        },
        {
          "output_type": "stream",
          "name": "stderr",
          "text": [
            "100%|██████████| 2/2 [00:00<00:00,  3.59it/s]\n"
          ]
        },
        {
          "output_type": "stream",
          "name": "stdout",
          "text": [
            "2025-05-15 11:49:04,164 DEV : loss 2.8100297451019287 - f1-score (micro avg)  0.6667\n",
            "2025-05-15 11:49:04,213  - 3 epochs without improvement\n",
            "2025-05-15 11:49:04,216 ----------------------------------------------------------------------------------------------------\n",
            "2025-05-15 11:49:05,174 epoch 6 - iter 10/105 - loss 0.00002712 - time (sec): 0.96 - samples/sec: 83.77 - lr: 0.026726 - momentum: 0.000000\n",
            "2025-05-15 11:49:06,149 epoch 6 - iter 20/105 - loss 0.00003445 - time (sec): 1.93 - samples/sec: 82.89 - lr: 0.026726 - momentum: 0.000000\n",
            "2025-05-15 11:49:07,119 epoch 6 - iter 30/105 - loss 0.00002983 - time (sec): 2.90 - samples/sec: 82.74 - lr: 0.026726 - momentum: 0.000000\n",
            "2025-05-15 11:49:08,180 epoch 6 - iter 40/105 - loss 0.00034464 - time (sec): 3.96 - samples/sec: 80.78 - lr: 0.026726 - momentum: 0.000000\n",
            "2025-05-15 11:49:09,167 epoch 6 - iter 50/105 - loss 0.00028392 - time (sec): 4.95 - samples/sec: 80.83 - lr: 0.026726 - momentum: 0.000000\n",
            "2025-05-15 11:49:10,155 epoch 6 - iter 60/105 - loss 0.00024000 - time (sec): 5.94 - samples/sec: 80.85 - lr: 0.026726 - momentum: 0.000000\n",
            "2025-05-15 11:49:11,252 epoch 6 - iter 70/105 - loss 0.00249424 - time (sec): 7.03 - samples/sec: 79.62 - lr: 0.026726 - momentum: 0.000000\n",
            "2025-05-15 11:49:12,366 epoch 6 - iter 80/105 - loss 0.00218783 - time (sec): 8.15 - samples/sec: 78.55 - lr: 0.026726 - momentum: 0.000000\n",
            "2025-05-15 11:49:13,260 epoch 6 - iter 90/105 - loss 0.00194905 - time (sec): 9.04 - samples/sec: 79.64 - lr: 0.026726 - momentum: 0.000000\n",
            "2025-05-15 11:49:14,235 epoch 6 - iter 100/105 - loss 0.00175675 - time (sec): 10.02 - samples/sec: 79.87 - lr: 0.026726 - momentum: 0.000000\n",
            "2025-05-15 11:49:14,750 ----------------------------------------------------------------------------------------------------\n",
            "2025-05-15 11:49:14,751 EPOCH 6 done: loss 0.0103 - lr: 0.026726\n"
          ]
        },
        {
          "output_type": "stream",
          "name": "stderr",
          "text": [
            "100%|██████████| 2/2 [00:00<00:00,  3.80it/s]\n"
          ]
        },
        {
          "output_type": "stream",
          "name": "stdout",
          "text": [
            "2025-05-15 11:49:15,301 DEV : loss 2.78551983833313 - f1-score (micro avg)  0.6952\n",
            "2025-05-15 11:49:15,324  - 4 epochs without improvement (above 'patience')-> annealing learning_rate to [0.013362978235919021]\n",
            "2025-05-15 11:49:15,325 ----------------------------------------------------------------------------------------------------\n",
            "2025-05-15 11:49:16,373 epoch 7 - iter 10/105 - loss 0.00004128 - time (sec): 1.05 - samples/sec: 76.52 - lr: 0.013363 - momentum: 0.000000\n",
            "2025-05-15 11:49:17,372 epoch 7 - iter 20/105 - loss 0.00007185 - time (sec): 2.04 - samples/sec: 78.28 - lr: 0.013363 - momentum: 0.000000\n",
            "2025-05-15 11:49:18,368 epoch 7 - iter 30/105 - loss 0.00005516 - time (sec): 3.04 - samples/sec: 78.94 - lr: 0.013363 - momentum: 0.000000\n",
            "2025-05-15 11:49:19,387 epoch 7 - iter 40/105 - loss 0.00004474 - time (sec): 4.06 - samples/sec: 78.84 - lr: 0.013363 - momentum: 0.000000\n",
            "2025-05-15 11:49:20,379 epoch 7 - iter 50/105 - loss 0.00004394 - time (sec): 5.05 - samples/sec: 79.19 - lr: 0.013363 - momentum: 0.000000\n",
            "2025-05-15 11:49:21,349 epoch 7 - iter 60/105 - loss 0.00003912 - time (sec): 6.02 - samples/sec: 79.72 - lr: 0.013363 - momentum: 0.000000\n",
            "2025-05-15 11:49:22,328 epoch 7 - iter 70/105 - loss 0.00053700 - time (sec): 7.00 - samples/sec: 80.00 - lr: 0.013363 - momentum: 0.000000\n",
            "2025-05-15 11:49:23,350 epoch 7 - iter 80/105 - loss 0.00047215 - time (sec): 8.02 - samples/sec: 79.78 - lr: 0.013363 - momentum: 0.000000\n",
            "2025-05-15 11:49:24,336 epoch 7 - iter 90/105 - loss 0.00542913 - time (sec): 9.01 - samples/sec: 79.93 - lr: 0.013363 - momentum: 0.000000\n",
            "2025-05-15 11:49:25,325 epoch 7 - iter 100/105 - loss 0.00488709 - time (sec): 10.00 - samples/sec: 80.02 - lr: 0.013363 - momentum: 0.000000\n",
            "2025-05-15 11:49:25,850 ----------------------------------------------------------------------------------------------------\n",
            "2025-05-15 11:49:25,851 EPOCH 7 done: loss 0.0047 - lr: 0.013363\n"
          ]
        },
        {
          "output_type": "stream",
          "name": "stderr",
          "text": [
            "100%|██████████| 2/2 [00:00<00:00,  3.83it/s]\n"
          ]
        },
        {
          "output_type": "stream",
          "name": "stdout",
          "text": [
            "2025-05-15 11:49:26,394 DEV : loss 3.195112705230713 - f1-score (micro avg)  0.6667\n",
            "2025-05-15 11:49:26,421  - 1 epochs without improvement\n",
            "2025-05-15 11:49:26,422 ----------------------------------------------------------------------------------------------------\n",
            "2025-05-15 11:49:27,335 epoch 8 - iter 10/105 - loss 0.00002406 - time (sec): 0.91 - samples/sec: 87.85 - lr: 0.013363 - momentum: 0.000000\n",
            "2025-05-15 11:49:28,409 epoch 8 - iter 20/105 - loss 0.00001847 - time (sec): 1.99 - samples/sec: 80.60 - lr: 0.013363 - momentum: 0.000000\n",
            "2025-05-15 11:49:29,399 epoch 8 - iter 30/105 - loss 0.00001642 - time (sec): 2.97 - samples/sec: 80.68 - lr: 0.013363 - momentum: 0.000000\n",
            "2025-05-15 11:49:30,342 epoch 8 - iter 40/105 - loss 0.00066822 - time (sec): 3.92 - samples/sec: 81.67 - lr: 0.013363 - momentum: 0.000000\n",
            "2025-05-15 11:49:31,309 epoch 8 - iter 50/105 - loss 0.00053802 - time (sec): 4.89 - samples/sec: 81.88 - lr: 0.013363 - momentum: 0.000000\n",
            "2025-05-15 11:49:32,267 epoch 8 - iter 60/105 - loss 0.00045028 - time (sec): 5.84 - samples/sec: 82.15 - lr: 0.013363 - momentum: 0.000000\n",
            "2025-05-15 11:49:33,246 epoch 8 - iter 70/105 - loss 0.00038858 - time (sec): 6.82 - samples/sec: 82.10 - lr: 0.013363 - momentum: 0.000000\n",
            "2025-05-15 11:49:34,142 epoch 8 - iter 80/105 - loss 0.00034191 - time (sec): 7.72 - samples/sec: 82.92 - lr: 0.013363 - momentum: 0.000000\n",
            "2025-05-15 11:49:35,268 epoch 8 - iter 90/105 - loss 0.00517752 - time (sec): 8.84 - samples/sec: 81.42 - lr: 0.013363 - momentum: 0.000000\n",
            "2025-05-15 11:49:36,309 epoch 8 - iter 100/105 - loss 0.00466124 - time (sec): 9.88 - samples/sec: 80.93 - lr: 0.013363 - momentum: 0.000000\n",
            "2025-05-15 11:49:36,832 ----------------------------------------------------------------------------------------------------\n",
            "2025-05-15 11:49:36,832 EPOCH 8 done: loss 0.0045 - lr: 0.013363\n"
          ]
        },
        {
          "output_type": "stream",
          "name": "stderr",
          "text": [
            "100%|██████████| 2/2 [00:00<00:00,  3.65it/s]\n"
          ]
        },
        {
          "output_type": "stream",
          "name": "stdout",
          "text": [
            "2025-05-15 11:49:37,406 DEV : loss 3.2321715354919434 - f1-score (micro avg)  0.6571\n",
            "2025-05-15 11:49:37,434  - 2 epochs without improvement\n",
            "2025-05-15 11:49:37,434 ----------------------------------------------------------------------------------------------------\n",
            "2025-05-15 11:49:38,420 epoch 9 - iter 10/105 - loss 0.00001517 - time (sec): 0.98 - samples/sec: 81.43 - lr: 0.013363 - momentum: 0.000000\n",
            "2025-05-15 11:49:39,518 epoch 9 - iter 20/105 - loss 0.00002877 - time (sec): 2.08 - samples/sec: 76.89 - lr: 0.013363 - momentum: 0.000000\n",
            "2025-05-15 11:49:40,553 epoch 9 - iter 30/105 - loss 0.00002265 - time (sec): 3.12 - samples/sec: 77.02 - lr: 0.013363 - momentum: 0.000000\n",
            "2025-05-15 11:49:41,576 epoch 9 - iter 40/105 - loss 0.00003010 - time (sec): 4.14 - samples/sec: 77.32 - lr: 0.013363 - momentum: 0.000000\n",
            "2025-05-15 11:49:42,444 epoch 9 - iter 50/105 - loss 0.00199061 - time (sec): 5.01 - samples/sec: 79.89 - lr: 0.013363 - momentum: 0.000000\n",
            "2025-05-15 11:49:43,394 epoch 9 - iter 60/105 - loss 0.00166090 - time (sec): 5.96 - samples/sec: 80.59 - lr: 0.013363 - momentum: 0.000000\n",
            "2025-05-15 11:49:44,335 epoch 9 - iter 70/105 - loss 0.00142632 - time (sec): 6.90 - samples/sec: 81.19 - lr: 0.013363 - momentum: 0.000000\n",
            "2025-05-15 11:49:45,298 epoch 9 - iter 80/105 - loss 0.00124964 - time (sec): 7.86 - samples/sec: 81.41 - lr: 0.013363 - momentum: 0.000000\n",
            "2025-05-15 11:49:46,462 epoch 9 - iter 90/105 - loss 0.00111283 - time (sec): 9.02 - samples/sec: 79.78 - lr: 0.013363 - momentum: 0.000000\n",
            "2025-05-15 11:49:47,491 epoch 9 - iter 100/105 - loss 0.00100251 - time (sec): 10.05 - samples/sec: 79.58 - lr: 0.013363 - momentum: 0.000000\n",
            "2025-05-15 11:49:47,910 ----------------------------------------------------------------------------------------------------\n",
            "2025-05-15 11:49:47,911 EPOCH 9 done: loss 0.0010 - lr: 0.013363\n"
          ]
        },
        {
          "output_type": "stream",
          "name": "stderr",
          "text": [
            "100%|██████████| 2/2 [00:00<00:00,  3.61it/s]\n"
          ]
        },
        {
          "output_type": "stream",
          "name": "stdout",
          "text": [
            "2025-05-15 11:49:48,490 DEV : loss 2.7369544506073 - f1-score (micro avg)  0.6762\n",
            "2025-05-15 11:49:48,513  - 3 epochs without improvement\n",
            "2025-05-15 11:49:49,676 ----------------------------------------------------------------------------------------------------\n",
            "2025-05-15 11:49:49,679 Loading model from best epoch ...\n"
          ]
        },
        {
          "output_type": "stream",
          "name": "stderr",
          "text": [
            "100%|██████████| 2/2 [00:00<00:00,  2.88it/s]"
          ]
        },
        {
          "output_type": "stream",
          "name": "stdout",
          "text": [
            "2025-05-15 11:49:52,469 \n",
            "Results:\n",
            "- F-score (micro) 0.6381\n",
            "- F-score (macro) 0.5602\n",
            "- Accuracy 0.6381\n",
            "\n",
            "By class:\n",
            "              precision    recall  f1-score   support\n",
            "\n",
            "       가설구조물     0.6970    0.7931    0.7419        29\n",
            "          공통     0.7826    0.6000    0.6792        30\n",
            "          교량     0.6250    0.7895    0.6977        19\n",
            "        굴착공사     0.5000    0.6000    0.5455        10\n",
            "          건축     0.4000    0.1667    0.2353        12\n",
            "        양중작업     0.3750    0.6000    0.4615         5\n",
            "\n",
            "    accuracy                         0.6381       105\n",
            "   macro avg     0.5633    0.5915    0.5602       105\n",
            "weighted avg     0.6404    0.6381    0.6260       105\n",
            "\n",
            "2025-05-15 11:49:52,470 ----------------------------------------------------------------------------------------------------\n"
          ]
        },
        {
          "output_type": "stream",
          "name": "stderr",
          "text": [
            "\n"
          ]
        },
        {
          "output_type": "execute_result",
          "data": {
            "text/plain": [
              "{'test_score': 0.638095238095238}"
            ]
          },
          "metadata": {},
          "execution_count": 11
        }
      ]
    },
    {
      "cell_type": "code",
      "source": [
        "# 최종 테스트 수행\n",
        "test_result = trainer.tewt('models/final_construction_model/best-model.pt')\n",
        "print(f\"최종 테스트 성능: {test_result}\") # 내가 랜덤서치 + 교차검증으로 추적한 최적의 하이퍼파라미터를 최초의 test 데이터에 적용했을때 나오는 성능평가점수"
      ],
      "metadata": {
        "id": "Usvf4Ocq7vy6",
        "colab": {
          "base_uri": "https://localhost:8080/",
          "height": 188
        },
        "outputId": "7c6194bf-2cb8-449c-d78f-47255f6b1791"
      },
      "execution_count": 13,
      "outputs": [
        {
          "output_type": "error",
          "ename": "AttributeError",
          "evalue": "'ModelTrainer' object has no attribute 'test'",
          "traceback": [
            "\u001b[0;31m---------------------------------------------------------------------------\u001b[0m",
            "\u001b[0;31mAttributeError\u001b[0m                            Traceback (most recent call last)",
            "\u001b[0;32m<ipython-input-13-36d733265bab>\u001b[0m in \u001b[0;36m<cell line: 0>\u001b[0;34m()\u001b[0m\n\u001b[1;32m      1\u001b[0m \u001b[0;31m# 최종 테스트 수행\u001b[0m\u001b[0;34m\u001b[0m\u001b[0;34m\u001b[0m\u001b[0m\n\u001b[0;32m----> 2\u001b[0;31m \u001b[0mtest_result\u001b[0m \u001b[0;34m=\u001b[0m \u001b[0mtrainer\u001b[0m\u001b[0;34m.\u001b[0m\u001b[0mtest\u001b[0m\u001b[0;34m(\u001b[0m\u001b[0;34m'models/final_construction_model/best-model.pt'\u001b[0m\u001b[0;34m)\u001b[0m\u001b[0;34m\u001b[0m\u001b[0;34m\u001b[0m\u001b[0m\n\u001b[0m\u001b[1;32m      3\u001b[0m \u001b[0mprint\u001b[0m\u001b[0;34m(\u001b[0m\u001b[0;34mf\"최종 테스트 성능: {test_result}\"\u001b[0m\u001b[0;34m)\u001b[0m \u001b[0;31m# 내가 랜덤서치 + 교차검증으로 추적한 최적의 하이퍼파라미터를 최초의 test 데이터에 적용했을때 나오는 성능평가점수\u001b[0m\u001b[0;34m\u001b[0m\u001b[0;34m\u001b[0m\u001b[0m\n",
            "\u001b[0;31mAttributeError\u001b[0m: 'ModelTrainer' object has no attribute 'test'"
          ]
        }
      ]
    },
    {
      "cell_type": "markdown",
      "source": [
        "#교차검증의 효과는 파라미터 최적화 보다는 실제 성능평가값을 더 정확하게 나타낼 수 있다는 점에 포커스를 맞추는건가?\n",
        "\n",
        "- 맞습니다. 교차검증(Cross-validation)의 주요 목적은 실제 성능평가값을 더 정확하게 추정하는 데 있습니다.\n",
        "\n",
        "##교차검증의 핵심 가치는:\n",
        "\n",
        "- 데이터 활용 효율성: 제한된 데이터셋을 최대한 활용하여 모델의 일반화 성능을 평가합니다.\n",
        "- 성능 평가의 신뢰성: 단일 테스트셋에 의존할 때 발생할 수 있는 편향을 줄이고, 여러 분할에서의 평균 성능을 측정함으로써 더 안정적인 평가 지표를 얻습니다.\n",
        "- 과적합 감지: 학습 데이터와 검증 데이터 간의 성능 차이를 통해 모델의 과적합 여부를 확인할 수 있습니다.\n",
        "\n",
        "## 단일 테스트셋에 의존하면 편향이 많이 발생하는가?\n",
        "\n",
        "- 네, 단일 테스트셋에 의존하면 여러 종류의 편향이 발생할 수 있습니다:\n",
        "\n",
        "- 샘플링 편향: 특정 테스트셋이 전체 데이터 분포를 충분히 대표하지 못할 수 있습니다. 예를 들어, 우연히 쉬운 샘플이나 어려운 샘플이 많이 포함될 수 있습니다.\n",
        "- 데이터 분할 운(luck): 단일 분할에서는 우연히 \"운 좋은\" 또는 \"운 나쁜\" 분할이 발생할 수 있습니다. 즉, 특정 분할에서 모델이 비정상적으로 좋거나 나쁜 성능을 보일 수 있습니다.\n",
        "- 과적합에 취약: 단일 테스트셋을 반복적으로 사용하면, 무의식적으로 이 특정 테스트셋에 최적화된 모델을 선택하게 되어 실제 환경에서의 일반화 성능이 떨어질 수 있습니다.\n",
        "- 이상치(outlier) 영향: 작은 테스트셋에서는 소수의 이상치가 전체 성능 평가에 큰 영향을 미칠 수 있습니다.\n",
        "\n",
        "교차검증은 이러한 문제들을 여러 번의 다른 데이터 분할을 통해 평균화함으로써 완화합니다. 예를 들어, k-fold 교차검증에서는 데이터를 k개의 부분으로 나누고 k번의 다른 학습-테스트 조합으로 모델을 평가합니다. 이렇게 하면 모든 데이터 포인트가 한 번은 테스트 세트에 포함되므로 더 안정적이고 일반화된 성능 추정치를 얻을 수 있습니다."
      ],
      "metadata": {
        "id": "Au3dTAIC8BBV"
      }
    },
    {
      "cell_type": "code",
      "source": [
        "# 1. 지침 유형 분류 모델 학습\n",
        "# 데이터셋 로드 및 준비\n",
        "type_corpus = ClassificationCorpus(\"/content/sample_data/type_train_dev_test\",  # 데이터 디렉토리 경로\n",
        "                                 train_file='type_train.txt',  # 학습 데이터 파일\n",
        "                                 dev_file='type_dev.txt',  # 검증 데이터 파일\n",
        "                                 test_file='type_test.txt')  # 테스트 데이터 파일\n",
        "\n",
        "#-> 이 밑에 label_type 이라는 다른 속성을 따로 설정을 하지 않았으니 우리의 type_train.txt 의 라벨은 기본 설정인 class 라벨의 타입으로 변환된다.\n",
        "\n",
        "# 한국어에 특화된 KLUE BERT 모델을 문서 임베딩으로 사용\n",
        "document_embeddings = TransformerDocumentEmbeddings('klue/bert-base')\n",
        "\n",
        "# 지침 유형 분류기 모델 초기화\n",
        "# label_dictionary는 학습 데이터에서 자동으로 생성됨\n",
        "type_classifier = TextClassifier(document_embeddings,\n",
        "                                label_dictionary=type_corpus.make_label_dictionary(label_type= 'class'), label_type='class')\n",
        "# 마지막의 label_type = 'class' 의 의미는 예측 결과로 나올 값의 타입이 class 라는 것\n",
        "\n",
        "# 모델 트레이너 초기화\n",
        "type_trainer = ModelTrainer(type_classifier, type_corpus)\n",
        "\n",
        "# 모델 학습 시작\n",
        "# models/type-classifier 경로에 모델 저장\n",
        "type_trainer.train('models/type-classifier',\n",
        "                  learning_rate=0.02,  # 학습률 설정\n",
        "                  mini_batch_size=16,  # 배치 크기 설정\n",
        "                  max_epochs=10,\n",
        "                   )  # 최대 에폭 수 설정\n",
        "\n",
        "# 지침 유형 중 위험 경고의 데이터가 너무 적어서 그런지 -> accuracy 가 지나치게 낮게 나옴.(train용 데이터가 더 많이 필요할 듯.)\n",
        "\n",
        "# 샘플 데이터 출력해보기\n",
        "print(\"훈련 데이터 샘플:\")\n",
        "for i, sentence in enumerate(type_corpus.train):\n",
        "    print(f\"문장 {i}: {sentence.text}\")\n",
        "    print(f\"레이블: {sentence.get_label('class')}\")\n",
        "    if i >= 2: break  # 처음 3개만 출력"
      ],
      "metadata": {
        "id": "cU1iDTfMdRyg",
        "colab": {
          "base_uri": "https://localhost:8080/"
        },
        "outputId": "8f10fe94-fcaf-4128-9059-7ddff3702663",
        "collapsed": true
      },
      "execution_count": 14,
      "outputs": [
        {
          "output_type": "stream",
          "name": "stdout",
          "text": [
            "2025-05-15 11:55:18,166 Reading data from /content/sample_data/type_train_dev_test\n",
            "2025-05-15 11:55:18,167 Train: /content/sample_data/type_train_dev_test/type_train.txt\n",
            "2025-05-15 11:55:18,168 Dev: /content/sample_data/type_train_dev_test/type_dev.txt\n",
            "2025-05-15 11:55:18,169 Test: /content/sample_data/type_train_dev_test/type_test.txt\n",
            "2025-05-15 11:55:18,209 Initialized corpus /content/sample_data/type_train_dev_test (label type name is 'class')\n",
            "2025-05-15 11:55:19,293 Computing label dictionary. Progress:\n"
          ]
        },
        {
          "output_type": "stream",
          "name": "stderr",
          "text": [
            "0it [00:00, ?it/s]\n",
            "838it [00:00, 5213.93it/s]"
          ]
        },
        {
          "output_type": "stream",
          "name": "stdout",
          "text": [
            "2025-05-15 11:55:19,460 Dictionary created for label 'class' with 3 values: 예방조치 (seen 433 times), 점검사항 (seen 316 times), 위험경고 (seen 89 times)\n",
            "2025-05-15 11:55:19,468 ----------------------------------------------------------------------------------------------------\n",
            "2025-05-15 11:55:19,470 Model: \"TextClassifier(\n",
            "  (embeddings): TransformerDocumentEmbeddings(\n",
            "    (model): BertModel(\n",
            "      (embeddings): BertEmbeddings(\n",
            "        (word_embeddings): Embedding(32001, 768, padding_idx=0)\n",
            "        (position_embeddings): Embedding(512, 768)\n",
            "        (token_type_embeddings): Embedding(2, 768)\n",
            "        (LayerNorm): LayerNorm((768,), eps=1e-12, elementwise_affine=True)\n",
            "        (dropout): Dropout(p=0.1, inplace=False)\n",
            "      )\n",
            "      (encoder): BertEncoder(\n",
            "        (layer): ModuleList(\n",
            "          (0-11): 12 x BertLayer(\n",
            "            (attention): BertAttention(\n",
            "              (self): BertSdpaSelfAttention(\n",
            "                (query): Linear(in_features=768, out_features=768, bias=True)\n",
            "                (key): Linear(in_features=768, out_features=768, bias=True)\n",
            "                (value): Linear(in_features=768, out_features=768, bias=True)\n",
            "                (dropout): Dropout(p=0.1, inplace=False)\n",
            "              )\n",
            "              (output): BertSelfOutput(\n",
            "                (dense): Linear(in_features=768, out_features=768, bias=True)\n",
            "                (LayerNorm): LayerNorm((768,), eps=1e-12, elementwise_affine=True)\n",
            "                (dropout): Dropout(p=0.1, inplace=False)\n",
            "              )\n",
            "            )\n",
            "            (intermediate): BertIntermediate(\n",
            "              (dense): Linear(in_features=768, out_features=3072, bias=True)\n",
            "              (intermediate_act_fn): GELUActivation()\n",
            "            )\n",
            "            (output): BertOutput(\n",
            "              (dense): Linear(in_features=3072, out_features=768, bias=True)\n",
            "              (LayerNorm): LayerNorm((768,), eps=1e-12, elementwise_affine=True)\n",
            "              (dropout): Dropout(p=0.1, inplace=False)\n",
            "            )\n",
            "          )\n",
            "        )\n",
            "      )\n",
            "      (pooler): BertPooler(\n",
            "        (dense): Linear(in_features=768, out_features=768, bias=True)\n",
            "        (activation): Tanh()\n",
            "      )\n",
            "    )\n",
            "  )\n",
            "  (decoder): Linear(in_features=768, out_features=3, bias=True)\n",
            "  (dropout): Dropout(p=0.0, inplace=False)\n",
            "  (locked_dropout): LockedDropout(p=0.0)\n",
            "  (word_dropout): WordDropout(p=0.0)\n",
            "  (loss_function): CrossEntropyLoss()\n",
            "  (weights): None\n",
            "  (weight_tensor) None\n",
            ")\"\n",
            "2025-05-15 11:55:19,471 ----------------------------------------------------------------------------------------------------\n",
            "2025-05-15 11:55:19,472 Corpus: 838 train + 105 dev + 105 test sentences\n",
            "2025-05-15 11:55:19,473 ----------------------------------------------------------------------------------------------------\n",
            "2025-05-15 11:55:19,474 Train:  838 sentences\n",
            "2025-05-15 11:55:19,475         (train_with_dev=False, train_with_test=False)\n",
            "2025-05-15 11:55:19,476 ----------------------------------------------------------------------------------------------------\n",
            "2025-05-15 11:55:19,477 Training Params:\n",
            "2025-05-15 11:55:19,478  - learning_rate: \"0.02\" \n",
            "2025-05-15 11:55:19,479  - mini_batch_size: \"16\"\n",
            "2025-05-15 11:55:19,480  - max_epochs: \"10\"\n",
            "2025-05-15 11:55:19,481  - shuffle: \"True\"\n",
            "2025-05-15 11:55:19,482 ----------------------------------------------------------------------------------------------------\n",
            "2025-05-15 11:55:19,483 Plugins:\n",
            "2025-05-15 11:55:19,484  - AnnealOnPlateau | patience: '3', anneal_factor: '0.5', min_learning_rate: '0.0001'\n",
            "2025-05-15 11:55:19,484 ----------------------------------------------------------------------------------------------------\n",
            "2025-05-15 11:55:19,485 Final evaluation on model from best epoch (best-model.pt)\n",
            "2025-05-15 11:55:19,486  - metric: \"('micro avg', 'f1-score')\"\n",
            "2025-05-15 11:55:19,487 ----------------------------------------------------------------------------------------------------\n",
            "2025-05-15 11:55:19,488 Computation:\n",
            "2025-05-15 11:55:19,488  - compute on device: cuda:0\n",
            "2025-05-15 11:55:19,489  - embedding storage: cpu\n",
            "2025-05-15 11:55:19,490 ----------------------------------------------------------------------------------------------------\n",
            "2025-05-15 11:55:19,491 Model training base path: \"models/type-classifier\"\n",
            "2025-05-15 11:55:19,491 ----------------------------------------------------------------------------------------------------\n",
            "2025-05-15 11:55:19,492 ----------------------------------------------------------------------------------------------------\n"
          ]
        },
        {
          "output_type": "stream",
          "name": "stderr",
          "text": [
            "\n",
            "/usr/local/lib/python3.11/dist-packages/flair/trainers/trainer.py:545: FutureWarning: `torch.cuda.amp.GradScaler(args...)` is deprecated. Please use `torch.amp.GradScaler('cuda', args...)` instead.\n",
            "  scaler = torch.cuda.amp.GradScaler(enabled=use_amp and flair.device.type != \"cpu\")\n"
          ]
        },
        {
          "output_type": "stream",
          "name": "stdout",
          "text": [
            "2025-05-15 11:55:20,440 epoch 1 - iter 5/53 - loss 1.62210064 - time (sec): 0.95 - samples/sec: 84.58 - lr: 0.020000 - momentum: 0.000000\n",
            "2025-05-15 11:55:21,401 epoch 1 - iter 10/53 - loss 1.54063457 - time (sec): 1.91 - samples/sec: 83.93 - lr: 0.020000 - momentum: 0.000000\n",
            "2025-05-15 11:55:22,320 epoch 1 - iter 15/53 - loss 1.49796633 - time (sec): 2.83 - samples/sec: 84.94 - lr: 0.020000 - momentum: 0.000000\n",
            "2025-05-15 11:55:23,298 epoch 1 - iter 20/53 - loss 1.42164707 - time (sec): 3.80 - samples/sec: 84.19 - lr: 0.020000 - momentum: 0.000000\n",
            "2025-05-15 11:55:24,340 epoch 1 - iter 25/53 - loss 1.40926189 - time (sec): 4.85 - samples/sec: 82.55 - lr: 0.020000 - momentum: 0.000000\n",
            "2025-05-15 11:55:25,226 epoch 1 - iter 30/53 - loss 1.36832807 - time (sec): 5.73 - samples/sec: 83.75 - lr: 0.020000 - momentum: 0.000000\n",
            "2025-05-15 11:55:26,355 epoch 1 - iter 35/53 - loss 1.36252960 - time (sec): 6.86 - samples/sec: 81.62 - lr: 0.020000 - momentum: 0.000000\n",
            "2025-05-15 11:55:27,369 epoch 1 - iter 40/53 - loss 1.31703685 - time (sec): 7.87 - samples/sec: 81.27 - lr: 0.020000 - momentum: 0.000000\n",
            "2025-05-15 11:55:28,449 epoch 1 - iter 45/53 - loss 1.27802617 - time (sec): 8.96 - samples/sec: 80.40 - lr: 0.020000 - momentum: 0.000000\n",
            "2025-05-15 11:55:29,481 epoch 1 - iter 50/53 - loss 1.23360079 - time (sec): 9.99 - samples/sec: 80.11 - lr: 0.020000 - momentum: 0.000000\n",
            "2025-05-15 11:55:29,963 ----------------------------------------------------------------------------------------------------\n",
            "2025-05-15 11:55:29,967 EPOCH 1 done: loss 1.2246 - lr: 0.020000\n"
          ]
        },
        {
          "output_type": "stream",
          "name": "stderr",
          "text": [
            "100%|██████████| 2/2 [00:00<00:00,  3.57it/s]\n"
          ]
        },
        {
          "output_type": "stream",
          "name": "stdout",
          "text": [
            "2025-05-15 11:55:30,550 DEV : loss 0.8524291515350342 - f1-score (micro avg)  0.619\n",
            "2025-05-15 11:55:30,573  - 0 epochs without improvement\n",
            "2025-05-15 11:55:30,574 saving best model\n",
            "2025-05-15 11:55:31,764 ----------------------------------------------------------------------------------------------------\n",
            "2025-05-15 11:55:32,568 epoch 2 - iter 5/53 - loss 0.69660034 - time (sec): 0.80 - samples/sec: 99.75 - lr: 0.020000 - momentum: 0.000000\n",
            "2025-05-15 11:55:33,599 epoch 2 - iter 10/53 - loss 0.83114900 - time (sec): 1.83 - samples/sec: 87.28 - lr: 0.020000 - momentum: 0.000000\n",
            "2025-05-15 11:55:34,673 epoch 2 - iter 15/53 - loss 0.82002687 - time (sec): 2.91 - samples/sec: 82.56 - lr: 0.020000 - momentum: 0.000000\n",
            "2025-05-15 11:55:35,800 epoch 2 - iter 20/53 - loss 0.80882377 - time (sec): 4.03 - samples/sec: 79.33 - lr: 0.020000 - momentum: 0.000000\n",
            "2025-05-15 11:55:36,873 epoch 2 - iter 25/53 - loss 0.87305266 - time (sec): 5.11 - samples/sec: 78.32 - lr: 0.020000 - momentum: 0.000000\n",
            "2025-05-15 11:55:37,845 epoch 2 - iter 30/53 - loss 0.87907591 - time (sec): 6.08 - samples/sec: 78.96 - lr: 0.020000 - momentum: 0.000000\n",
            "2025-05-15 11:55:38,997 epoch 2 - iter 35/53 - loss 0.89153238 - time (sec): 7.23 - samples/sec: 77.44 - lr: 0.020000 - momentum: 0.000000\n",
            "2025-05-15 11:55:40,202 epoch 2 - iter 40/53 - loss 0.89225558 - time (sec): 8.44 - samples/sec: 75.87 - lr: 0.020000 - momentum: 0.000000\n",
            "2025-05-15 11:55:41,142 epoch 2 - iter 45/53 - loss 0.87489267 - time (sec): 9.38 - samples/sec: 76.79 - lr: 0.020000 - momentum: 0.000000\n",
            "2025-05-15 11:55:42,185 epoch 2 - iter 50/53 - loss 0.90665247 - time (sec): 10.42 - samples/sec: 76.78 - lr: 0.020000 - momentum: 0.000000\n",
            "2025-05-15 11:55:42,786 ----------------------------------------------------------------------------------------------------\n",
            "2025-05-15 11:55:42,787 EPOCH 2 done: loss 0.9086 - lr: 0.020000\n"
          ]
        },
        {
          "output_type": "stream",
          "name": "stderr",
          "text": [
            "100%|██████████| 2/2 [00:00<00:00,  3.00it/s]"
          ]
        },
        {
          "output_type": "stream",
          "name": "stdout",
          "text": [
            "2025-05-15 11:55:43,480 DEV : loss 0.759185254573822 - f1-score (micro avg)  0.6476\n",
            "2025-05-15 11:55:43,517  - 0 epochs without improvement\n",
            "2025-05-15 11:55:43,518 saving best model\n"
          ]
        },
        {
          "output_type": "stream",
          "name": "stderr",
          "text": [
            "\n"
          ]
        },
        {
          "output_type": "stream",
          "name": "stdout",
          "text": [
            "2025-05-15 11:55:44,768 ----------------------------------------------------------------------------------------------------\n",
            "2025-05-15 11:55:45,605 epoch 3 - iter 5/53 - loss 0.81773479 - time (sec): 0.83 - samples/sec: 95.94 - lr: 0.020000 - momentum: 0.000000\n",
            "2025-05-15 11:55:46,625 epoch 3 - iter 10/53 - loss 0.72138368 - time (sec): 1.85 - samples/sec: 86.29 - lr: 0.020000 - momentum: 0.000000\n",
            "2025-05-15 11:55:47,800 epoch 3 - iter 15/53 - loss 0.72741269 - time (sec): 3.03 - samples/sec: 79.23 - lr: 0.020000 - momentum: 0.000000\n",
            "2025-05-15 11:55:49,033 epoch 3 - iter 20/53 - loss 0.76676676 - time (sec): 4.26 - samples/sec: 75.09 - lr: 0.020000 - momentum: 0.000000\n",
            "2025-05-15 11:55:50,014 epoch 3 - iter 25/53 - loss 0.76137540 - time (sec): 5.24 - samples/sec: 76.29 - lr: 0.020000 - momentum: 0.000000\n",
            "2025-05-15 11:55:50,981 epoch 3 - iter 30/53 - loss 0.75807476 - time (sec): 6.21 - samples/sec: 77.29 - lr: 0.020000 - momentum: 0.000000\n",
            "2025-05-15 11:55:51,960 epoch 3 - iter 35/53 - loss 0.74465294 - time (sec): 7.19 - samples/sec: 77.90 - lr: 0.020000 - momentum: 0.000000\n",
            "2025-05-15 11:55:53,105 epoch 3 - iter 40/53 - loss 0.73499555 - time (sec): 8.33 - samples/sec: 76.79 - lr: 0.020000 - momentum: 0.000000\n",
            "2025-05-15 11:55:54,139 epoch 3 - iter 45/53 - loss 0.72974911 - time (sec): 9.37 - samples/sec: 76.86 - lr: 0.020000 - momentum: 0.000000\n",
            "2025-05-15 11:55:55,162 epoch 3 - iter 50/53 - loss 0.70768339 - time (sec): 10.39 - samples/sec: 76.99 - lr: 0.020000 - momentum: 0.000000\n",
            "2025-05-15 11:55:55,736 ----------------------------------------------------------------------------------------------------\n",
            "2025-05-15 11:55:55,737 EPOCH 3 done: loss 0.6983 - lr: 0.020000\n"
          ]
        },
        {
          "output_type": "stream",
          "name": "stderr",
          "text": [
            "100%|██████████| 2/2 [00:00<00:00,  3.65it/s]\n"
          ]
        },
        {
          "output_type": "stream",
          "name": "stdout",
          "text": [
            "2025-05-15 11:55:56,306 DEV : loss 0.9714174270629883 - f1-score (micro avg)  0.5905\n",
            "2025-05-15 11:55:56,332  - 1 epochs without improvement\n",
            "2025-05-15 11:55:56,333 ----------------------------------------------------------------------------------------------------\n",
            "2025-05-15 11:55:57,089 epoch 4 - iter 5/53 - loss 0.47427403 - time (sec): 0.75 - samples/sec: 106.23 - lr: 0.020000 - momentum: 0.000000\n",
            "2025-05-15 11:55:58,205 epoch 4 - iter 10/53 - loss 0.56655319 - time (sec): 1.87 - samples/sec: 85.61 - lr: 0.020000 - momentum: 0.000000\n",
            "2025-05-15 11:55:59,331 epoch 4 - iter 15/53 - loss 0.61714351 - time (sec): 3.00 - samples/sec: 80.12 - lr: 0.020000 - momentum: 0.000000\n",
            "2025-05-15 11:56:00,380 epoch 4 - iter 20/53 - loss 0.61962400 - time (sec): 4.04 - samples/sec: 79.13 - lr: 0.020000 - momentum: 0.000000\n",
            "2025-05-15 11:56:01,568 epoch 4 - iter 25/53 - loss 0.57229044 - time (sec): 5.23 - samples/sec: 76.45 - lr: 0.020000 - momentum: 0.000000\n",
            "2025-05-15 11:56:02,632 epoch 4 - iter 30/53 - loss 0.60847068 - time (sec): 6.30 - samples/sec: 76.23 - lr: 0.020000 - momentum: 0.000000\n",
            "2025-05-15 11:56:03,542 epoch 4 - iter 35/53 - loss 0.62094948 - time (sec): 7.21 - samples/sec: 77.71 - lr: 0.020000 - momentum: 0.000000\n",
            "2025-05-15 11:56:04,529 epoch 4 - iter 40/53 - loss 0.61837046 - time (sec): 8.19 - samples/sec: 78.11 - lr: 0.020000 - momentum: 0.000000\n",
            "2025-05-15 11:56:05,623 epoch 4 - iter 45/53 - loss 0.61877383 - time (sec): 9.29 - samples/sec: 77.52 - lr: 0.020000 - momentum: 0.000000\n",
            "2025-05-15 11:56:06,631 epoch 4 - iter 50/53 - loss 0.61321297 - time (sec): 10.30 - samples/sec: 77.71 - lr: 0.020000 - momentum: 0.000000\n",
            "2025-05-15 11:56:07,155 ----------------------------------------------------------------------------------------------------\n",
            "2025-05-15 11:56:07,156 EPOCH 4 done: loss 0.6133 - lr: 0.020000\n"
          ]
        },
        {
          "output_type": "stream",
          "name": "stderr",
          "text": [
            "100%|██████████| 2/2 [00:00<00:00,  3.73it/s]\n"
          ]
        },
        {
          "output_type": "stream",
          "name": "stdout",
          "text": [
            "2025-05-15 11:56:07,715 DEV : loss 0.9319131374359131 - f1-score (micro avg)  0.6\n",
            "2025-05-15 11:56:07,742  - 2 epochs without improvement\n",
            "2025-05-15 11:56:07,743 ----------------------------------------------------------------------------------------------------\n",
            "2025-05-15 11:56:08,657 epoch 5 - iter 5/53 - loss 0.34699780 - time (sec): 0.91 - samples/sec: 87.80 - lr: 0.020000 - momentum: 0.000000\n",
            "2025-05-15 11:56:09,750 epoch 5 - iter 10/53 - loss 0.48358839 - time (sec): 2.00 - samples/sec: 79.85 - lr: 0.020000 - momentum: 0.000000\n",
            "2025-05-15 11:56:10,670 epoch 5 - iter 15/53 - loss 0.48765853 - time (sec): 2.92 - samples/sec: 82.07 - lr: 0.020000 - momentum: 0.000000\n",
            "2025-05-15 11:56:11,645 epoch 5 - iter 20/53 - loss 0.47213355 - time (sec): 3.90 - samples/sec: 82.07 - lr: 0.020000 - momentum: 0.000000\n",
            "2025-05-15 11:56:12,745 epoch 5 - iter 25/53 - loss 0.46200062 - time (sec): 5.00 - samples/sec: 80.02 - lr: 0.020000 - momentum: 0.000000\n",
            "2025-05-15 11:56:13,766 epoch 5 - iter 30/53 - loss 0.47569482 - time (sec): 6.02 - samples/sec: 79.73 - lr: 0.020000 - momentum: 0.000000\n",
            "2025-05-15 11:56:14,821 epoch 5 - iter 35/53 - loss 0.49395470 - time (sec): 7.08 - samples/sec: 79.15 - lr: 0.020000 - momentum: 0.000000\n",
            "2025-05-15 11:56:15,812 epoch 5 - iter 40/53 - loss 0.50212632 - time (sec): 8.07 - samples/sec: 79.34 - lr: 0.020000 - momentum: 0.000000\n",
            "2025-05-15 11:56:16,861 epoch 5 - iter 45/53 - loss 0.49090974 - time (sec): 9.11 - samples/sec: 78.99 - lr: 0.020000 - momentum: 0.000000\n",
            "2025-05-15 11:56:17,784 epoch 5 - iter 50/53 - loss 0.47901184 - time (sec): 10.04 - samples/sec: 79.70 - lr: 0.020000 - momentum: 0.000000\n",
            "2025-05-15 11:56:18,491 ----------------------------------------------------------------------------------------------------\n",
            "2025-05-15 11:56:18,494 EPOCH 5 done: loss 0.4744 - lr: 0.020000\n"
          ]
        },
        {
          "output_type": "stream",
          "name": "stderr",
          "text": [
            "100%|██████████| 2/2 [00:00<00:00,  3.05it/s]"
          ]
        },
        {
          "output_type": "stream",
          "name": "stdout",
          "text": [
            "2025-05-15 11:56:19,174 DEV : loss 0.9618698358535767 - f1-score (micro avg)  0.6952\n"
          ]
        },
        {
          "output_type": "stream",
          "name": "stderr",
          "text": [
            "\n"
          ]
        },
        {
          "output_type": "stream",
          "name": "stdout",
          "text": [
            "2025-05-15 11:56:19,200  - 0 epochs without improvement\n",
            "2025-05-15 11:56:19,201 saving best model\n",
            "2025-05-15 11:56:20,557 ----------------------------------------------------------------------------------------------------\n",
            "2025-05-15 11:56:21,464 epoch 6 - iter 5/53 - loss 0.39846521 - time (sec): 0.90 - samples/sec: 88.49 - lr: 0.020000 - momentum: 0.000000\n",
            "2025-05-15 11:56:22,427 epoch 6 - iter 10/53 - loss 0.37270211 - time (sec): 1.87 - samples/sec: 85.70 - lr: 0.020000 - momentum: 0.000000\n",
            "2025-05-15 11:56:23,520 epoch 6 - iter 15/53 - loss 0.35708702 - time (sec): 2.96 - samples/sec: 81.09 - lr: 0.020000 - momentum: 0.000000\n",
            "2025-05-15 11:56:24,466 epoch 6 - iter 20/53 - loss 0.37030314 - time (sec): 3.91 - samples/sec: 81.92 - lr: 0.020000 - momentum: 0.000000\n",
            "2025-05-15 11:56:25,504 epoch 6 - iter 25/53 - loss 0.35678391 - time (sec): 4.94 - samples/sec: 80.90 - lr: 0.020000 - momentum: 0.000000\n",
            "2025-05-15 11:56:26,495 epoch 6 - iter 30/53 - loss 0.36352665 - time (sec): 5.94 - samples/sec: 80.87 - lr: 0.020000 - momentum: 0.000000\n",
            "2025-05-15 11:56:27,515 epoch 6 - iter 35/53 - loss 0.35325177 - time (sec): 6.95 - samples/sec: 80.52 - lr: 0.020000 - momentum: 0.000000\n",
            "2025-05-15 11:56:28,531 epoch 6 - iter 40/53 - loss 0.33500086 - time (sec): 7.97 - samples/sec: 80.29 - lr: 0.020000 - momentum: 0.000000\n",
            "2025-05-15 11:56:29,694 epoch 6 - iter 45/53 - loss 0.32409266 - time (sec): 9.13 - samples/sec: 78.82 - lr: 0.020000 - momentum: 0.000000\n",
            "2025-05-15 11:56:30,612 epoch 6 - iter 50/53 - loss 0.33915503 - time (sec): 10.05 - samples/sec: 79.59 - lr: 0.020000 - momentum: 0.000000\n",
            "2025-05-15 11:56:31,197 ----------------------------------------------------------------------------------------------------\n",
            "2025-05-15 11:56:31,200 EPOCH 6 done: loss 0.3321 - lr: 0.020000\n"
          ]
        },
        {
          "output_type": "stream",
          "name": "stderr",
          "text": [
            "100%|██████████| 2/2 [00:00<00:00,  3.60it/s]"
          ]
        },
        {
          "output_type": "stream",
          "name": "stdout",
          "text": [
            "2025-05-15 11:56:31,785 DEV : loss 0.9517015814781189 - f1-score (micro avg)  0.6762\n",
            "2025-05-15 11:56:31,826  - 1 epochs without improvement\n",
            "2025-05-15 11:56:31,828 ----------------------------------------------------------------------------------------------------\n"
          ]
        },
        {
          "output_type": "stream",
          "name": "stderr",
          "text": [
            "\n"
          ]
        },
        {
          "output_type": "stream",
          "name": "stdout",
          "text": [
            "2025-05-15 11:56:32,751 epoch 7 - iter 5/53 - loss 0.27209992 - time (sec): 0.92 - samples/sec: 86.97 - lr: 0.020000 - momentum: 0.000000\n",
            "2025-05-15 11:56:33,647 epoch 7 - iter 10/53 - loss 0.20075980 - time (sec): 1.82 - samples/sec: 88.11 - lr: 0.020000 - momentum: 0.000000\n",
            "2025-05-15 11:56:34,781 epoch 7 - iter 15/53 - loss 0.19215269 - time (sec): 2.95 - samples/sec: 81.36 - lr: 0.020000 - momentum: 0.000000\n",
            "2025-05-15 11:56:35,890 epoch 7 - iter 20/53 - loss 0.23543183 - time (sec): 4.06 - samples/sec: 78.83 - lr: 0.020000 - momentum: 0.000000\n",
            "2025-05-15 11:56:36,978 epoch 7 - iter 25/53 - loss 0.23692563 - time (sec): 5.15 - samples/sec: 77.71 - lr: 0.020000 - momentum: 0.000000\n",
            "2025-05-15 11:56:37,925 epoch 7 - iter 30/53 - loss 0.23169284 - time (sec): 6.09 - samples/sec: 78.76 - lr: 0.020000 - momentum: 0.000000\n",
            "2025-05-15 11:56:38,938 epoch 7 - iter 35/53 - loss 0.23166264 - time (sec): 7.11 - samples/sec: 78.79 - lr: 0.020000 - momentum: 0.000000\n",
            "2025-05-15 11:56:39,911 epoch 7 - iter 40/53 - loss 0.24198202 - time (sec): 8.08 - samples/sec: 79.21 - lr: 0.020000 - momentum: 0.000000\n",
            "2025-05-15 11:56:40,944 epoch 7 - iter 45/53 - loss 0.26525904 - time (sec): 9.11 - samples/sec: 79.00 - lr: 0.020000 - momentum: 0.000000\n",
            "2025-05-15 11:56:41,839 epoch 7 - iter 50/53 - loss 0.27006320 - time (sec): 10.01 - samples/sec: 79.93 - lr: 0.020000 - momentum: 0.000000\n",
            "2025-05-15 11:56:42,369 ----------------------------------------------------------------------------------------------------\n",
            "2025-05-15 11:56:42,370 EPOCH 7 done: loss 0.2678 - lr: 0.020000\n"
          ]
        },
        {
          "output_type": "stream",
          "name": "stderr",
          "text": [
            "100%|██████████| 2/2 [00:00<00:00,  3.60it/s]"
          ]
        },
        {
          "output_type": "stream",
          "name": "stdout",
          "text": [
            "2025-05-15 11:56:42,954 DEV : loss 1.0353740453720093 - f1-score (micro avg)  0.6476\n",
            "2025-05-15 11:56:42,995  - 2 epochs without improvement\n",
            "2025-05-15 11:56:42,998 ----------------------------------------------------------------------------------------------------\n"
          ]
        },
        {
          "output_type": "stream",
          "name": "stderr",
          "text": [
            "\n"
          ]
        },
        {
          "output_type": "stream",
          "name": "stdout",
          "text": [
            "2025-05-15 11:56:43,809 epoch 8 - iter 5/53 - loss 0.17277918 - time (sec): 0.81 - samples/sec: 99.01 - lr: 0.020000 - momentum: 0.000000\n",
            "2025-05-15 11:56:44,878 epoch 8 - iter 10/53 - loss 0.15925762 - time (sec): 1.88 - samples/sec: 85.22 - lr: 0.020000 - momentum: 0.000000\n",
            "2025-05-15 11:56:45,807 epoch 8 - iter 15/53 - loss 0.17519046 - time (sec): 2.81 - samples/sec: 85.53 - lr: 0.020000 - momentum: 0.000000\n",
            "2025-05-15 11:56:46,901 epoch 8 - iter 20/53 - loss 0.18402420 - time (sec): 3.90 - samples/sec: 82.04 - lr: 0.020000 - momentum: 0.000000\n",
            "2025-05-15 11:56:47,916 epoch 8 - iter 25/53 - loss 0.19374489 - time (sec): 4.92 - samples/sec: 81.37 - lr: 0.020000 - momentum: 0.000000\n",
            "2025-05-15 11:56:49,048 epoch 8 - iter 30/53 - loss 0.20098581 - time (sec): 6.05 - samples/sec: 79.37 - lr: 0.020000 - momentum: 0.000000\n",
            "2025-05-15 11:56:50,189 epoch 8 - iter 35/53 - loss 0.20779935 - time (sec): 7.19 - samples/sec: 77.90 - lr: 0.020000 - momentum: 0.000000\n",
            "2025-05-15 11:56:51,101 epoch 8 - iter 40/53 - loss 0.20857973 - time (sec): 8.10 - samples/sec: 79.00 - lr: 0.020000 - momentum: 0.000000\n",
            "2025-05-15 11:56:52,113 epoch 8 - iter 45/53 - loss 0.20192951 - time (sec): 9.11 - samples/sec: 79.02 - lr: 0.020000 - momentum: 0.000000\n",
            "2025-05-15 11:56:52,998 epoch 8 - iter 50/53 - loss 0.19466382 - time (sec): 10.00 - samples/sec: 80.02 - lr: 0.020000 - momentum: 0.000000\n",
            "2025-05-15 11:56:53,553 ----------------------------------------------------------------------------------------------------\n",
            "2025-05-15 11:56:53,554 EPOCH 8 done: loss 0.1994 - lr: 0.020000\n"
          ]
        },
        {
          "output_type": "stream",
          "name": "stderr",
          "text": [
            "100%|██████████| 2/2 [00:00<00:00,  3.70it/s]\n"
          ]
        },
        {
          "output_type": "stream",
          "name": "stdout",
          "text": [
            "2025-05-15 11:56:54,116 DEV : loss 1.2046077251434326 - f1-score (micro avg)  0.6476\n",
            "2025-05-15 11:56:54,140  - 3 epochs without improvement\n",
            "2025-05-15 11:56:54,141 ----------------------------------------------------------------------------------------------------\n",
            "2025-05-15 11:56:55,039 epoch 9 - iter 5/53 - loss 0.12869875 - time (sec): 0.90 - samples/sec: 89.27 - lr: 0.020000 - momentum: 0.000000\n",
            "2025-05-15 11:56:55,966 epoch 9 - iter 10/53 - loss 0.11624886 - time (sec): 1.82 - samples/sec: 87.77 - lr: 0.020000 - momentum: 0.000000\n",
            "2025-05-15 11:56:57,028 epoch 9 - iter 15/53 - loss 0.11820787 - time (sec): 2.88 - samples/sec: 83.19 - lr: 0.020000 - momentum: 0.000000\n",
            "2025-05-15 11:56:58,144 epoch 9 - iter 20/53 - loss 0.12369385 - time (sec): 4.00 - samples/sec: 79.99 - lr: 0.020000 - momentum: 0.000000\n",
            "2025-05-15 11:56:59,120 epoch 9 - iter 25/53 - loss 0.11945706 - time (sec): 4.98 - samples/sec: 80.37 - lr: 0.020000 - momentum: 0.000000\n",
            "2025-05-15 11:57:00,100 epoch 9 - iter 30/53 - loss 0.11845828 - time (sec): 5.96 - samples/sec: 80.59 - lr: 0.020000 - momentum: 0.000000\n",
            "2025-05-15 11:57:01,405 epoch 9 - iter 35/53 - loss 0.13159814 - time (sec): 7.26 - samples/sec: 77.12 - lr: 0.020000 - momentum: 0.000000\n",
            "2025-05-15 11:57:02,315 epoch 9 - iter 40/53 - loss 0.12517850 - time (sec): 8.17 - samples/sec: 78.32 - lr: 0.020000 - momentum: 0.000000\n",
            "2025-05-15 11:57:03,336 epoch 9 - iter 45/53 - loss 0.12436119 - time (sec): 9.19 - samples/sec: 78.32 - lr: 0.020000 - momentum: 0.000000\n",
            "2025-05-15 11:57:04,279 epoch 9 - iter 50/53 - loss 0.12747154 - time (sec): 10.14 - samples/sec: 78.93 - lr: 0.020000 - momentum: 0.000000\n",
            "2025-05-15 11:57:04,832 ----------------------------------------------------------------------------------------------------\n",
            "2025-05-15 11:57:04,833 EPOCH 9 done: loss 0.1271 - lr: 0.020000\n"
          ]
        },
        {
          "output_type": "stream",
          "name": "stderr",
          "text": [
            "100%|██████████| 2/2 [00:00<00:00,  3.58it/s]\n"
          ]
        },
        {
          "output_type": "stream",
          "name": "stdout",
          "text": [
            "2025-05-15 11:57:05,415 DEV : loss 1.2341564893722534 - f1-score (micro avg)  0.6762\n",
            "2025-05-15 11:57:05,440  - 4 epochs without improvement (above 'patience')-> annealing learning_rate to [0.01]\n",
            "2025-05-15 11:57:05,441 ----------------------------------------------------------------------------------------------------\n",
            "2025-05-15 11:57:06,208 epoch 10 - iter 5/53 - loss 0.07627781 - time (sec): 0.76 - samples/sec: 104.70 - lr: 0.010000 - momentum: 0.000000\n",
            "2025-05-15 11:57:07,201 epoch 10 - iter 10/53 - loss 0.06038835 - time (sec): 1.76 - samples/sec: 91.04 - lr: 0.010000 - momentum: 0.000000\n",
            "2025-05-15 11:57:08,739 epoch 10 - iter 15/53 - loss 0.06708431 - time (sec): 3.29 - samples/sec: 72.84 - lr: 0.010000 - momentum: 0.000000\n",
            "2025-05-15 11:57:09,713 epoch 10 - iter 20/53 - loss 0.06360532 - time (sec): 4.27 - samples/sec: 74.96 - lr: 0.010000 - momentum: 0.000000\n",
            "2025-05-15 11:57:10,764 epoch 10 - iter 25/53 - loss 0.06004942 - time (sec): 5.32 - samples/sec: 75.18 - lr: 0.010000 - momentum: 0.000000\n",
            "2025-05-15 11:57:11,763 epoch 10 - iter 30/53 - loss 0.05475668 - time (sec): 6.32 - samples/sec: 75.95 - lr: 0.010000 - momentum: 0.000000\n",
            "2025-05-15 11:57:12,957 epoch 10 - iter 35/53 - loss 0.05214430 - time (sec): 7.51 - samples/sec: 74.53 - lr: 0.010000 - momentum: 0.000000\n",
            "2025-05-15 11:57:13,966 epoch 10 - iter 40/53 - loss 0.05085837 - time (sec): 8.52 - samples/sec: 75.10 - lr: 0.010000 - momentum: 0.000000\n",
            "2025-05-15 11:57:14,960 epoch 10 - iter 45/53 - loss 0.05806077 - time (sec): 9.52 - samples/sec: 75.66 - lr: 0.010000 - momentum: 0.000000\n",
            "2025-05-15 11:57:15,872 epoch 10 - iter 50/53 - loss 0.05682069 - time (sec): 10.43 - samples/sec: 76.71 - lr: 0.010000 - momentum: 0.000000\n",
            "2025-05-15 11:57:16,527 ----------------------------------------------------------------------------------------------------\n",
            "2025-05-15 11:57:16,528 EPOCH 10 done: loss 0.0571 - lr: 0.010000\n"
          ]
        },
        {
          "output_type": "stream",
          "name": "stderr",
          "text": [
            "100%|██████████| 2/2 [00:00<00:00,  3.49it/s]"
          ]
        },
        {
          "output_type": "stream",
          "name": "stdout",
          "text": [
            "2025-05-15 11:57:17,119 DEV : loss 1.4586684703826904 - f1-score (micro avg)  0.6762\n"
          ]
        },
        {
          "output_type": "stream",
          "name": "stderr",
          "text": [
            "\n"
          ]
        },
        {
          "output_type": "stream",
          "name": "stdout",
          "text": [
            "2025-05-15 11:57:17,162  - 1 epochs without improvement\n",
            "2025-05-15 11:57:18,333 ----------------------------------------------------------------------------------------------------\n",
            "2025-05-15 11:57:18,335 Loading model from best epoch ...\n"
          ]
        },
        {
          "output_type": "stream",
          "name": "stderr",
          "text": [
            "100%|██████████| 2/2 [00:00<00:00,  3.02it/s]"
          ]
        },
        {
          "output_type": "stream",
          "name": "stdout",
          "text": [
            "2025-05-15 11:57:21,235 \n",
            "Results:\n",
            "- F-score (micro) 0.6476\n",
            "- F-score (macro) 0.5151\n",
            "- Accuracy 0.6476\n",
            "\n",
            "By class:\n",
            "              precision    recall  f1-score   support\n",
            "\n",
            "        예방조치     0.6400    0.8727    0.7385        55\n",
            "        점검사항     0.6667    0.5000    0.5714        36\n",
            "        위험경고     0.6667    0.1429    0.2353        14\n",
            "\n",
            "    accuracy                         0.6476       105\n",
            "   macro avg     0.6578    0.5052    0.5151       105\n",
            "weighted avg     0.6527    0.6476    0.6141       105\n",
            "\n",
            "2025-05-15 11:57:21,236 ----------------------------------------------------------------------------------------------------\n",
            "훈련 데이터 샘플:\n",
            "문장 0: 철거작업에 사용되는 수동 및 전동기계․기구에 대하여는 반입 전에 이상 유무 점검을 실시한다.\n",
            "레이블: Sentence[13]: \"철거작업에 사용되는 수동 및 전동기계․기구에 대하여는 반입 전에 이상 유무 점검을 실시한다.\" → 점검사항 (1.0)\n",
            "문장 1: 굴착작업 진행 시 일반 슬래브는 토압, 수압 등의 횡력에 버팀 역할을 하나, 램프 슬래브는 상하층 경사로로 시공되어 구조물이 완성되기 전까지는 횡력에 대한 버팀대의 역할을 하지 못하므로 횡력에 저항토록 버팀대(Strut)등을 별도로 설치 하여 붕괴 및 변형을 방지하도록 하여야 한다.\n",
            "레이블: Sentence[43]: \"굴착작업 진행 시 일반 슬래브는 토압, 수압 등의 횡력에 버팀 역할을 하나, 램프 슬래브는 상하층 경사로로 시공되어 구조물이 완성되기 전까지는 횡력에 대한 버팀대의 역할을 하지 못하므로 횡력에 저항토록 버팀대(Strut)등을 별도로 설치 하여 붕괴 및 변형을 방지하도록 하여야 한다.\" → 예방조치 (1.0)\n",
            "문장 2: 프리스트레스공법에 의한 보강작업 시 사용강선의 규격, 보강대상 부재의 종류, 크리프 계수, 응력이완 등에 대하여 구조기술사의 구조검토를 실시하고 적정한 초기장력을 결정함으로써 과도한 응력에 의한 구조물의 변형, 균열 등이 발생되지 않도록 작업하여야 한다.\n",
            "레이블: Sentence[36]: \"프리스트레스공법에 의한 보강작업 시 사용강선의 규격, 보강대상 부재의 종류, 크리프 계수, 응력이완 등에 대하여 구조기술사의 구조검토를 실시하고 적정한 초기장력을 결정함으로써 과도한 응력에 의한 구조물의 변형, 균열 등이 발생되지 않도록 작업하여야 한다.\" → 예방조치 (1.0)\n"
          ]
        },
        {
          "output_type": "stream",
          "name": "stderr",
          "text": [
            "\n"
          ]
        }
      ]
    },
    {
      "cell_type": "code",
      "source": [
        "!pip install git+https://github.com/flairNLP/flair.git"
      ],
      "metadata": {
        "colab": {
          "base_uri": "https://localhost:8080/"
        },
        "collapsed": true,
        "id": "D3byJNGxNeWj",
        "outputId": "4f7a2e40-1394-49a9-d95d-a8536cb9486f"
      },
      "execution_count": 15,
      "outputs": [
        {
          "output_type": "stream",
          "name": "stdout",
          "text": [
            "Collecting git+https://github.com/flairNLP/flair.git\n",
            "  Cloning https://github.com/flairNLP/flair.git to /tmp/pip-req-build-9euhzx8_\n",
            "  Running command git clone --filter=blob:none --quiet https://github.com/flairNLP/flair.git /tmp/pip-req-build-9euhzx8_\n",
            "  Resolved https://github.com/flairNLP/flair.git to commit ee8596c2bbe737ec9ddeb1c6cb62fa0b161f4d84\n",
            "  Installing build dependencies ... \u001b[?25l\u001b[?25hdone\n",
            "  Getting requirements to build wheel ... \u001b[?25l\u001b[?25hdone\n",
            "  Preparing metadata (pyproject.toml) ... \u001b[?25l\u001b[?25hdone\n",
            "Requirement already satisfied: boto3>=1.20.27 in /usr/local/lib/python3.11/dist-packages (from flair==0.15.1) (1.38.16)\n",
            "Requirement already satisfied: conllu<5.0.0,>=4.0 in /usr/local/lib/python3.11/dist-packages (from flair==0.15.1) (4.5.3)\n",
            "Requirement already satisfied: deprecated>=1.2.13 in /usr/local/lib/python3.11/dist-packages (from flair==0.15.1) (1.2.18)\n",
            "Requirement already satisfied: ftfy>=6.1.0 in /usr/local/lib/python3.11/dist-packages (from flair==0.15.1) (6.3.1)\n",
            "Requirement already satisfied: gdown>=4.4.0 in /usr/local/lib/python3.11/dist-packages (from flair==0.15.1) (5.2.0)\n",
            "Requirement already satisfied: huggingface-hub>=0.10.0 in /usr/local/lib/python3.11/dist-packages (from flair==0.15.1) (0.31.2)\n",
            "Requirement already satisfied: langdetect>=1.0.9 in /usr/local/lib/python3.11/dist-packages (from flair==0.15.1) (1.0.9)\n",
            "Requirement already satisfied: lxml>=4.8.0 in /usr/local/lib/python3.11/dist-packages (from flair==0.15.1) (5.4.0)\n",
            "Requirement already satisfied: matplotlib>=2.2.3 in /usr/local/lib/python3.11/dist-packages (from flair==0.15.1) (3.10.0)\n",
            "Requirement already satisfied: more-itertools>=8.13.0 in /usr/local/lib/python3.11/dist-packages (from flair==0.15.1) (10.7.0)\n",
            "Requirement already satisfied: mpld3>=0.3 in /usr/local/lib/python3.11/dist-packages (from flair==0.15.1) (0.5.10)\n",
            "Requirement already satisfied: pptree>=3.1 in /usr/local/lib/python3.11/dist-packages (from flair==0.15.1) (3.1)\n",
            "Requirement already satisfied: python-dateutil>=2.8.2 in /usr/local/lib/python3.11/dist-packages (from flair==0.15.1) (2.9.0.post0)\n",
            "Requirement already satisfied: pytorch_revgrad>=0.2.0 in /usr/local/lib/python3.11/dist-packages (from flair==0.15.1) (0.2.0)\n",
            "Requirement already satisfied: regex>=2022.1.18 in /usr/local/lib/python3.11/dist-packages (from flair==0.15.1) (2024.11.6)\n",
            "Requirement already satisfied: scikit-learn>=1.0.2 in /usr/local/lib/python3.11/dist-packages (from flair==0.15.1) (1.6.1)\n",
            "Requirement already satisfied: segtok>=1.5.11 in /usr/local/lib/python3.11/dist-packages (from flair==0.15.1) (1.5.11)\n",
            "Requirement already satisfied: sqlitedict>=2.0.0 in /usr/local/lib/python3.11/dist-packages (from flair==0.15.1) (2.1.0)\n",
            "Requirement already satisfied: tabulate>=0.8.10 in /usr/local/lib/python3.11/dist-packages (from flair==0.15.1) (0.9.0)\n",
            "Requirement already satisfied: torch>=1.13.1 in /usr/local/lib/python3.11/dist-packages (from flair==0.15.1) (2.6.0+cu124)\n",
            "Requirement already satisfied: tqdm>=4.63.0 in /usr/local/lib/python3.11/dist-packages (from flair==0.15.1) (4.67.1)\n",
            "Requirement already satisfied: transformer-smaller-training-vocab>=0.2.3 in /usr/local/lib/python3.11/dist-packages (from flair==0.15.1) (0.4.1)\n",
            "Requirement already satisfied: transformers<5.0.0,>=4.25.0 in /usr/local/lib/python3.11/dist-packages (from transformers[sentencepiece]<5.0.0,>=4.25.0->flair==0.15.1) (4.51.3)\n",
            "Requirement already satisfied: wikipedia-api>=0.5.7 in /usr/local/lib/python3.11/dist-packages (from flair==0.15.1) (0.8.1)\n",
            "Requirement already satisfied: bioc<3.0.0,>=2.0.0 in /usr/local/lib/python3.11/dist-packages (from flair==0.15.1) (2.1)\n",
            "Requirement already satisfied: jsonlines>=1.2.0 in /usr/local/lib/python3.11/dist-packages (from bioc<3.0.0,>=2.0.0->flair==0.15.1) (4.0.0)\n",
            "Requirement already satisfied: intervaltree in /usr/local/lib/python3.11/dist-packages (from bioc<3.0.0,>=2.0.0->flair==0.15.1) (3.1.0)\n",
            "Requirement already satisfied: docopt in /usr/local/lib/python3.11/dist-packages (from bioc<3.0.0,>=2.0.0->flair==0.15.1) (0.6.2)\n",
            "Requirement already satisfied: botocore<1.39.0,>=1.38.16 in /usr/local/lib/python3.11/dist-packages (from boto3>=1.20.27->flair==0.15.1) (1.38.16)\n",
            "Requirement already satisfied: jmespath<2.0.0,>=0.7.1 in /usr/local/lib/python3.11/dist-packages (from boto3>=1.20.27->flair==0.15.1) (1.0.1)\n",
            "Requirement already satisfied: s3transfer<0.13.0,>=0.12.0 in /usr/local/lib/python3.11/dist-packages (from boto3>=1.20.27->flair==0.15.1) (0.12.0)\n",
            "Requirement already satisfied: wrapt<2,>=1.10 in /usr/local/lib/python3.11/dist-packages (from deprecated>=1.2.13->flair==0.15.1) (1.17.2)\n",
            "Requirement already satisfied: wcwidth in /usr/local/lib/python3.11/dist-packages (from ftfy>=6.1.0->flair==0.15.1) (0.2.13)\n",
            "Requirement already satisfied: beautifulsoup4 in /usr/local/lib/python3.11/dist-packages (from gdown>=4.4.0->flair==0.15.1) (4.13.4)\n",
            "Requirement already satisfied: filelock in /usr/local/lib/python3.11/dist-packages (from gdown>=4.4.0->flair==0.15.1) (3.18.0)\n",
            "Requirement already satisfied: requests[socks] in /usr/local/lib/python3.11/dist-packages (from gdown>=4.4.0->flair==0.15.1) (2.32.3)\n",
            "Requirement already satisfied: fsspec>=2023.5.0 in /usr/local/lib/python3.11/dist-packages (from huggingface-hub>=0.10.0->flair==0.15.1) (2025.3.2)\n",
            "Requirement already satisfied: packaging>=20.9 in /usr/local/lib/python3.11/dist-packages (from huggingface-hub>=0.10.0->flair==0.15.1) (24.2)\n",
            "Requirement already satisfied: pyyaml>=5.1 in /usr/local/lib/python3.11/dist-packages (from huggingface-hub>=0.10.0->flair==0.15.1) (6.0.2)\n",
            "Requirement already satisfied: typing-extensions>=3.7.4.3 in /usr/local/lib/python3.11/dist-packages (from huggingface-hub>=0.10.0->flair==0.15.1) (4.13.2)\n",
            "Requirement already satisfied: six in /usr/local/lib/python3.11/dist-packages (from langdetect>=1.0.9->flair==0.15.1) (1.17.0)\n",
            "Requirement already satisfied: contourpy>=1.0.1 in /usr/local/lib/python3.11/dist-packages (from matplotlib>=2.2.3->flair==0.15.1) (1.3.2)\n",
            "Requirement already satisfied: cycler>=0.10 in /usr/local/lib/python3.11/dist-packages (from matplotlib>=2.2.3->flair==0.15.1) (0.12.1)\n",
            "Requirement already satisfied: fonttools>=4.22.0 in /usr/local/lib/python3.11/dist-packages (from matplotlib>=2.2.3->flair==0.15.1) (4.57.0)\n",
            "Requirement already satisfied: kiwisolver>=1.3.1 in /usr/local/lib/python3.11/dist-packages (from matplotlib>=2.2.3->flair==0.15.1) (1.4.8)\n",
            "Requirement already satisfied: numpy>=1.23 in /usr/local/lib/python3.11/dist-packages (from matplotlib>=2.2.3->flair==0.15.1) (2.0.2)\n",
            "Requirement already satisfied: pillow>=8 in /usr/local/lib/python3.11/dist-packages (from matplotlib>=2.2.3->flair==0.15.1) (11.2.1)\n",
            "Requirement already satisfied: pyparsing>=2.3.1 in /usr/local/lib/python3.11/dist-packages (from matplotlib>=2.2.3->flair==0.15.1) (3.2.3)\n",
            "Requirement already satisfied: jinja2 in /usr/local/lib/python3.11/dist-packages (from mpld3>=0.3->flair==0.15.1) (3.1.6)\n",
            "Requirement already satisfied: scipy>=1.6.0 in /usr/local/lib/python3.11/dist-packages (from scikit-learn>=1.0.2->flair==0.15.1) (1.15.3)\n",
            "Requirement already satisfied: joblib>=1.2.0 in /usr/local/lib/python3.11/dist-packages (from scikit-learn>=1.0.2->flair==0.15.1) (1.5.0)\n",
            "Requirement already satisfied: threadpoolctl>=3.1.0 in /usr/local/lib/python3.11/dist-packages (from scikit-learn>=1.0.2->flair==0.15.1) (3.6.0)\n",
            "Requirement already satisfied: networkx in /usr/local/lib/python3.11/dist-packages (from torch>=1.13.1->flair==0.15.1) (3.4.2)\n",
            "Requirement already satisfied: nvidia-cuda-nvrtc-cu12==12.4.127 in /usr/local/lib/python3.11/dist-packages (from torch>=1.13.1->flair==0.15.1) (12.4.127)\n",
            "Requirement already satisfied: nvidia-cuda-runtime-cu12==12.4.127 in /usr/local/lib/python3.11/dist-packages (from torch>=1.13.1->flair==0.15.1) (12.4.127)\n",
            "Requirement already satisfied: nvidia-cuda-cupti-cu12==12.4.127 in /usr/local/lib/python3.11/dist-packages (from torch>=1.13.1->flair==0.15.1) (12.4.127)\n",
            "Requirement already satisfied: nvidia-cudnn-cu12==9.1.0.70 in /usr/local/lib/python3.11/dist-packages (from torch>=1.13.1->flair==0.15.1) (9.1.0.70)\n",
            "Requirement already satisfied: nvidia-cublas-cu12==12.4.5.8 in /usr/local/lib/python3.11/dist-packages (from torch>=1.13.1->flair==0.15.1) (12.4.5.8)\n",
            "Requirement already satisfied: nvidia-cufft-cu12==11.2.1.3 in /usr/local/lib/python3.11/dist-packages (from torch>=1.13.1->flair==0.15.1) (11.2.1.3)\n",
            "Requirement already satisfied: nvidia-curand-cu12==10.3.5.147 in /usr/local/lib/python3.11/dist-packages (from torch>=1.13.1->flair==0.15.1) (10.3.5.147)\n",
            "Requirement already satisfied: nvidia-cusolver-cu12==11.6.1.9 in /usr/local/lib/python3.11/dist-packages (from torch>=1.13.1->flair==0.15.1) (11.6.1.9)\n",
            "Requirement already satisfied: nvidia-cusparse-cu12==12.3.1.170 in /usr/local/lib/python3.11/dist-packages (from torch>=1.13.1->flair==0.15.1) (12.3.1.170)\n",
            "Requirement already satisfied: nvidia-cusparselt-cu12==0.6.2 in /usr/local/lib/python3.11/dist-packages (from torch>=1.13.1->flair==0.15.1) (0.6.2)\n",
            "Requirement already satisfied: nvidia-nccl-cu12==2.21.5 in /usr/local/lib/python3.11/dist-packages (from torch>=1.13.1->flair==0.15.1) (2.21.5)\n",
            "Requirement already satisfied: nvidia-nvtx-cu12==12.4.127 in /usr/local/lib/python3.11/dist-packages (from torch>=1.13.1->flair==0.15.1) (12.4.127)\n",
            "Requirement already satisfied: nvidia-nvjitlink-cu12==12.4.127 in /usr/local/lib/python3.11/dist-packages (from torch>=1.13.1->flair==0.15.1) (12.4.127)\n",
            "Requirement already satisfied: triton==3.2.0 in /usr/local/lib/python3.11/dist-packages (from torch>=1.13.1->flair==0.15.1) (3.2.0)\n",
            "Requirement already satisfied: sympy==1.13.1 in /usr/local/lib/python3.11/dist-packages (from torch>=1.13.1->flair==0.15.1) (1.13.1)\n",
            "Requirement already satisfied: mpmath<1.4,>=1.1.0 in /usr/local/lib/python3.11/dist-packages (from sympy==1.13.1->torch>=1.13.1->flair==0.15.1) (1.3.0)\n",
            "Requirement already satisfied: tokenizers<0.22,>=0.21 in /usr/local/lib/python3.11/dist-packages (from transformers<5.0.0,>=4.25.0->transformers[sentencepiece]<5.0.0,>=4.25.0->flair==0.15.1) (0.21.1)\n",
            "Requirement already satisfied: safetensors>=0.4.3 in /usr/local/lib/python3.11/dist-packages (from transformers<5.0.0,>=4.25.0->transformers[sentencepiece]<5.0.0,>=4.25.0->flair==0.15.1) (0.5.3)\n",
            "Requirement already satisfied: sentencepiece!=0.1.92,>=0.1.91 in /usr/local/lib/python3.11/dist-packages (from transformers[sentencepiece]<5.0.0,>=4.25.0->flair==0.15.1) (0.2.0)\n",
            "Requirement already satisfied: protobuf in /usr/local/lib/python3.11/dist-packages (from transformers[sentencepiece]<5.0.0,>=4.25.0->flair==0.15.1) (5.29.4)\n",
            "Requirement already satisfied: urllib3!=2.2.0,<3,>=1.25.4 in /usr/local/lib/python3.11/dist-packages (from botocore<1.39.0,>=1.38.16->boto3>=1.20.27->flair==0.15.1) (2.4.0)\n",
            "Requirement already satisfied: attrs>=19.2.0 in /usr/local/lib/python3.11/dist-packages (from jsonlines>=1.2.0->bioc<3.0.0,>=2.0.0->flair==0.15.1) (25.3.0)\n",
            "Requirement already satisfied: accelerate>=0.26.0 in /usr/local/lib/python3.11/dist-packages (from transformers[sentencepiece,torch]<5.0,>=4.1->transformer-smaller-training-vocab>=0.2.3->flair==0.15.1) (1.6.0)\n",
            "Requirement already satisfied: soupsieve>1.2 in /usr/local/lib/python3.11/dist-packages (from beautifulsoup4->gdown>=4.4.0->flair==0.15.1) (2.7)\n",
            "Requirement already satisfied: sortedcontainers<3.0,>=2.0 in /usr/local/lib/python3.11/dist-packages (from intervaltree->bioc<3.0.0,>=2.0.0->flair==0.15.1) (2.4.0)\n",
            "Requirement already satisfied: MarkupSafe>=2.0 in /usr/local/lib/python3.11/dist-packages (from jinja2->mpld3>=0.3->flair==0.15.1) (3.0.2)\n",
            "Requirement already satisfied: charset-normalizer<4,>=2 in /usr/local/lib/python3.11/dist-packages (from requests[socks]->gdown>=4.4.0->flair==0.15.1) (3.4.2)\n",
            "Requirement already satisfied: idna<4,>=2.5 in /usr/local/lib/python3.11/dist-packages (from requests[socks]->gdown>=4.4.0->flair==0.15.1) (3.10)\n",
            "Requirement already satisfied: certifi>=2017.4.17 in /usr/local/lib/python3.11/dist-packages (from requests[socks]->gdown>=4.4.0->flair==0.15.1) (2025.4.26)\n",
            "Requirement already satisfied: PySocks!=1.5.7,>=1.5.6 in /usr/local/lib/python3.11/dist-packages (from requests[socks]->gdown>=4.4.0->flair==0.15.1) (1.7.1)\n",
            "Requirement already satisfied: psutil in /usr/local/lib/python3.11/dist-packages (from accelerate>=0.26.0->transformers[sentencepiece,torch]<5.0,>=4.1->transformer-smaller-training-vocab>=0.2.3->flair==0.15.1) (5.9.5)\n"
          ]
        }
      ]
    },
    {
      "cell_type": "code",
      "source": [
        "import flair\n",
        "print(flair.__version__)"
      ],
      "metadata": {
        "colab": {
          "base_uri": "https://localhost:8080/"
        },
        "id": "iTQnHcLMNsFy",
        "outputId": "73ccb2b1-a6fa-4f4e-9cf1-c0f7faf02b8d"
      },
      "execution_count": 16,
      "outputs": [
        {
          "output_type": "stream",
          "name": "stdout",
          "text": [
            "0.15.1\n"
          ]
        }
      ]
    },
    {
      "cell_type": "code",
      "source": [
        "# 2. 공사 종류 분류 모델 학습\n",
        "# 데이터셋 로드 및 준비\n",
        "construction_corpus = ClassificationCorpus(\"/content/sample_data/construction_train_dev_test\",  # 데이터 디렉토리 경로\n",
        "                                         train_file='construction_train.txt',  # 학습 데이터 파일\n",
        "                                         dev_file='construction_dev.txt',  # 검증 데이터 파일\n",
        "                                         test_file='construction_test.txt', # 테스트 데이터 파일\n",
        "                                         )\n",
        "# test.txt에 있는 레이블 확인하기\n",
        "label_counts = {}\n",
        "\n",
        "# 테스트 데이터의 각 문장을 순회하며 레이블 카운트\n",
        "for sentence in construction_corpus.train:\n",
        "    label = sentence.get_label('class').value\n",
        "    if label in label_counts:\n",
        "        label_counts[label] += 1\n",
        "    else:\n",
        "        label_counts[label] = 1\n",
        "\n",
        "# 결과 출력\n",
        "print(\"=== 테스트 데이터(test.txt) 레이블 분포 ===\")\n",
        "for label, count in sorted(label_counts.items()):\n",
        "    percentage = (count / sum(label_counts.values())) * 100\n",
        "    print(f\"레이블: {label} - {count}개 ({percentage:.2f}%)\")\n",
        "\n",
        "print(f\"총 샘플 수: {sum(label_counts.values())}\")\n",
        "print(f\"고유 레이블 수: {len(label_counts)}\")\n",
        "print(f\"레이블 목록: {list(label_counts.keys())}\")\n",
        "\n",
        "# test.txt에 있는 레이블 확인하기\n",
        "label_counts = {}\n",
        "\n",
        "# 테스트 데이터의 각 문장을 순회하며 레이블 카운트\n",
        "for sentence in construction_corpus.test:\n",
        "    label = sentence.get_label('class').value\n",
        "    if label in label_counts:\n",
        "        label_counts[label] += 1\n",
        "    else:\n",
        "        label_counts[label] = 1\n",
        "\n",
        "# 결과 출력\n",
        "print(\"=== 테스트 데이터(test.txt) 레이블 분포 ===\")\n",
        "for label, count in sorted(label_counts.items()):\n",
        "    percentage = (count / sum(label_counts.values())) * 100\n",
        "    print(f\"레이블: {label} - {count}개 ({percentage:.2f}%)\")\n",
        "\n",
        "print(f\"총 샘플 수: {sum(label_counts.values())}\")\n",
        "print(f\"고유 레이블 수: {len(label_counts)}\")\n",
        "print(f\"레이블 목록: {list(label_counts.keys())}\")\n",
        "\n",
        "# 앞서 생성한 document_embeddings를 재사용 (모델 공유)\n",
        "construction_classifier = TextClassifier(document_embeddings,\n",
        "                                       label_dictionary=construction_corpus.make_label_dictionary(label_type= 'class'), label_type='class')  # 공사 유형 레이블 사전 생성\n",
        "\n",
        "# 모델 트레이너 초기화\n",
        "construction_trainer = ModelTrainer(construction_classifier, construction_corpus)\n",
        "\n",
        "construction_trainer.train('models/construction-classifier',\n",
        "                  learning_rate=0.0382,  # 학습률 설정\n",
        "                  mini_batch_size=16,  # 배치 크기 설정\n",
        "                  max_epochs=18\n",
        "                  )  # 최대 에폭 수 설정\n",
        "\n",
        "print(\"레이블 분포:\", label_counts)\n"
      ],
      "metadata": {
        "colab": {
          "base_uri": "https://localhost:8080/"
        },
        "collapsed": true,
        "id": "xWnhNv6L33JB",
        "outputId": "c734b256-1482-46f9-ac13-6d259a8cd339"
      },
      "execution_count": 17,
      "outputs": [
        {
          "output_type": "stream",
          "name": "stdout",
          "text": [
            "2025-05-15 11:57:57,535 Reading data from /content/sample_data/construction_train_dev_test\n",
            "2025-05-15 11:57:57,536 Train: /content/sample_data/construction_train_dev_test/construction_train.txt\n",
            "2025-05-15 11:57:57,537 Dev: /content/sample_data/construction_train_dev_test/construction_dev.txt\n",
            "2025-05-15 11:57:57,538 Test: /content/sample_data/construction_train_dev_test/construction_test.txt\n",
            "2025-05-15 11:57:57,577 Initialized corpus /content/sample_data/construction_train_dev_test (label type name is 'class')\n",
            "=== 테스트 데이터(test.txt) 레이블 분포 ===\n",
            "레이블: 가설구조물 - 191개 (22.79%)\n",
            "레이블: 건축 - 76개 (9.07%)\n",
            "레이블: 공통 - 246개 (29.36%)\n",
            "레이블: 교량 - 143개 (17.06%)\n",
            "레이블: 굴착공사 - 109개 (13.01%)\n",
            "레이블: 양중작업 - 73개 (8.71%)\n",
            "총 샘플 수: 838\n",
            "고유 레이블 수: 6\n",
            "레이블 목록: ['공통', '굴착공사', '건축', '교량', '가설구조물', '양중작업']\n",
            "=== 테스트 데이터(test.txt) 레이블 분포 ===\n",
            "레이블: 가설구조물 - 29개 (27.62%)\n",
            "레이블: 건축 - 12개 (11.43%)\n",
            "레이블: 공통 - 30개 (28.57%)\n",
            "레이블: 교량 - 19개 (18.10%)\n",
            "레이블: 굴착공사 - 10개 (9.52%)\n",
            "레이블: 양중작업 - 5개 (4.76%)\n",
            "총 샘플 수: 105\n",
            "고유 레이블 수: 6\n",
            "레이블 목록: ['공통', '굴착공사', '가설구조물', '건축', '교량', '양중작업']\n",
            "2025-05-15 11:57:57,753 Computing label dictionary. Progress:\n"
          ]
        },
        {
          "output_type": "stream",
          "name": "stderr",
          "text": [
            "0it [00:00, ?it/s]\n",
            "838it [00:00, 2152.54it/s]"
          ]
        },
        {
          "output_type": "stream",
          "name": "stdout",
          "text": [
            "2025-05-15 11:57:58,151 Dictionary created for label 'class' with 6 values: 공통 (seen 246 times), 가설구조물 (seen 191 times), 교량 (seen 143 times), 굴착공사 (seen 109 times), 건축 (seen 76 times), 양중작업 (seen 73 times)\n",
            "2025-05-15 11:57:58,157 ----------------------------------------------------------------------------------------------------\n",
            "2025-05-15 11:57:58,160 Model: \"TextClassifier(\n",
            "  (embeddings): TransformerDocumentEmbeddings(\n",
            "    (model): BertModel(\n",
            "      (embeddings): BertEmbeddings(\n",
            "        (word_embeddings): Embedding(32001, 768, padding_idx=0)\n",
            "        (position_embeddings): Embedding(512, 768)\n",
            "        (token_type_embeddings): Embedding(2, 768)\n",
            "        (LayerNorm): LayerNorm((768,), eps=1e-12, elementwise_affine=True)\n",
            "        (dropout): Dropout(p=0.1, inplace=False)\n",
            "      )\n",
            "      (encoder): BertEncoder(\n",
            "        (layer): ModuleList(\n",
            "          (0-11): 12 x BertLayer(\n",
            "            (attention): BertAttention(\n",
            "              (self): BertSdpaSelfAttention(\n",
            "                (query): Linear(in_features=768, out_features=768, bias=True)\n",
            "                (key): Linear(in_features=768, out_features=768, bias=True)\n",
            "                (value): Linear(in_features=768, out_features=768, bias=True)\n",
            "                (dropout): Dropout(p=0.1, inplace=False)\n",
            "              )\n",
            "              (output): BertSelfOutput(\n",
            "                (dense): Linear(in_features=768, out_features=768, bias=True)\n",
            "                (LayerNorm): LayerNorm((768,), eps=1e-12, elementwise_affine=True)\n",
            "                (dropout): Dropout(p=0.1, inplace=False)\n",
            "              )\n",
            "            )\n",
            "            (intermediate): BertIntermediate(\n",
            "              (dense): Linear(in_features=768, out_features=3072, bias=True)\n",
            "              (intermediate_act_fn): GELUActivation()\n",
            "            )\n",
            "            (output): BertOutput(\n",
            "              (dense): Linear(in_features=3072, out_features=768, bias=True)\n",
            "              (LayerNorm): LayerNorm((768,), eps=1e-12, elementwise_affine=True)\n",
            "              (dropout): Dropout(p=0.1, inplace=False)\n",
            "            )\n",
            "          )\n",
            "        )\n",
            "      )\n",
            "      (pooler): BertPooler(\n",
            "        (dense): Linear(in_features=768, out_features=768, bias=True)\n",
            "        (activation): Tanh()\n",
            "      )\n",
            "    )\n",
            "  )\n",
            "  (decoder): Linear(in_features=768, out_features=6, bias=True)\n",
            "  (dropout): Dropout(p=0.0, inplace=False)\n",
            "  (locked_dropout): LockedDropout(p=0.0)\n",
            "  (word_dropout): WordDropout(p=0.0)\n",
            "  (loss_function): CrossEntropyLoss()\n",
            "  (weights): None\n",
            "  (weight_tensor) None\n",
            ")\"\n",
            "2025-05-15 11:57:58,160 ----------------------------------------------------------------------------------------------------\n",
            "2025-05-15 11:57:58,163 Corpus: 838 train + 105 dev + 105 test sentences\n",
            "2025-05-15 11:57:58,163 ----------------------------------------------------------------------------------------------------\n",
            "2025-05-15 11:57:58,164 Train:  838 sentences\n",
            "2025-05-15 11:57:58,165         (train_with_dev=False, train_with_test=False)\n",
            "2025-05-15 11:57:58,167 ----------------------------------------------------------------------------------------------------\n",
            "2025-05-15 11:57:58,168 Training Params:\n",
            "2025-05-15 11:57:58,169  - learning_rate: \"0.0382\" \n",
            "2025-05-15 11:57:58,170  - mini_batch_size: \"16\"\n",
            "2025-05-15 11:57:58,171  - max_epochs: \"18\"\n",
            "2025-05-15 11:57:58,172  - shuffle: \"True\"\n",
            "2025-05-15 11:57:58,173 ----------------------------------------------------------------------------------------------------\n"
          ]
        },
        {
          "output_type": "stream",
          "name": "stderr",
          "text": [
            "\n",
            "/usr/local/lib/python3.11/dist-packages/flair/trainers/trainer.py:545: FutureWarning: `torch.cuda.amp.GradScaler(args...)` is deprecated. Please use `torch.amp.GradScaler('cuda', args...)` instead.\n",
            "  scaler = torch.cuda.amp.GradScaler(enabled=use_amp and flair.device.type != \"cpu\")\n"
          ]
        },
        {
          "output_type": "stream",
          "name": "stdout",
          "text": [
            "2025-05-15 11:57:58,174 Plugins:\n",
            "2025-05-15 11:57:58,175  - AnnealOnPlateau | patience: '3', anneal_factor: '0.5', min_learning_rate: '0.0001'\n",
            "2025-05-15 11:57:58,176 ----------------------------------------------------------------------------------------------------\n",
            "2025-05-15 11:57:58,177 Final evaluation on model from best epoch (best-model.pt)\n",
            "2025-05-15 11:57:58,178  - metric: \"('micro avg', 'f1-score')\"\n",
            "2025-05-15 11:57:58,179 ----------------------------------------------------------------------------------------------------\n",
            "2025-05-15 11:57:58,180 Computation:\n",
            "2025-05-15 11:57:58,180  - compute on device: cuda:0\n",
            "2025-05-15 11:57:58,181  - embedding storage: cpu\n",
            "2025-05-15 11:57:58,182 ----------------------------------------------------------------------------------------------------\n",
            "2025-05-15 11:57:58,182 Model training base path: \"models/construction-classifier\"\n",
            "2025-05-15 11:57:58,183 ----------------------------------------------------------------------------------------------------\n",
            "2025-05-15 11:57:58,184 ----------------------------------------------------------------------------------------------------\n",
            "2025-05-15 11:57:58,972 epoch 1 - iter 5/53 - loss 2.56277542 - time (sec): 0.79 - samples/sec: 101.85 - lr: 0.038200 - momentum: 0.000000\n",
            "2025-05-15 11:58:00,051 epoch 1 - iter 10/53 - loss 2.39471949 - time (sec): 1.86 - samples/sec: 85.82 - lr: 0.038200 - momentum: 0.000000\n",
            "2025-05-15 11:58:01,032 epoch 1 - iter 15/53 - loss 2.24237817 - time (sec): 2.85 - samples/sec: 84.34 - lr: 0.038200 - momentum: 0.000000\n",
            "2025-05-15 11:58:02,098 epoch 1 - iter 20/53 - loss 2.14988824 - time (sec): 3.91 - samples/sec: 81.81 - lr: 0.038200 - momentum: 0.000000\n",
            "2025-05-15 11:58:03,020 epoch 1 - iter 25/53 - loss 2.11999404 - time (sec): 4.83 - samples/sec: 82.76 - lr: 0.038200 - momentum: 0.000000\n",
            "2025-05-15 11:58:03,950 epoch 1 - iter 30/53 - loss 2.05255821 - time (sec): 5.76 - samples/sec: 83.29 - lr: 0.038200 - momentum: 0.000000\n",
            "2025-05-15 11:58:04,888 epoch 1 - iter 35/53 - loss 2.06752984 - time (sec): 6.70 - samples/sec: 83.57 - lr: 0.038200 - momentum: 0.000000\n",
            "2025-05-15 11:58:06,007 epoch 1 - iter 40/53 - loss 2.01749595 - time (sec): 7.82 - samples/sec: 81.84 - lr: 0.038200 - momentum: 0.000000\n",
            "2025-05-15 11:58:07,099 epoch 1 - iter 45/53 - loss 1.98951835 - time (sec): 8.91 - samples/sec: 80.78 - lr: 0.038200 - momentum: 0.000000\n",
            "2025-05-15 11:58:08,130 epoch 1 - iter 50/53 - loss 1.95636794 - time (sec): 9.94 - samples/sec: 80.46 - lr: 0.038200 - momentum: 0.000000\n",
            "2025-05-15 11:58:08,642 ----------------------------------------------------------------------------------------------------\n",
            "2025-05-15 11:58:08,643 EPOCH 1 done: loss 1.9309 - lr: 0.038200\n"
          ]
        },
        {
          "output_type": "stream",
          "name": "stderr",
          "text": [
            "100%|██████████| 2/2 [00:00<00:00,  3.62it/s]\n"
          ]
        },
        {
          "output_type": "stream",
          "name": "stdout",
          "text": [
            "2025-05-15 11:58:09,218 DEV : loss 1.5163596868515015 - f1-score (micro avg)  0.4952\n",
            "2025-05-15 11:58:09,244  - 0 epochs without improvement\n",
            "2025-05-15 11:58:09,245 saving best model\n",
            "2025-05-15 11:58:10,440 ----------------------------------------------------------------------------------------------------\n",
            "2025-05-15 11:58:11,154 epoch 2 - iter 5/53 - loss 1.34179237 - time (sec): 0.71 - samples/sec: 112.43 - lr: 0.038200 - momentum: 0.000000\n",
            "2025-05-15 11:58:12,144 epoch 2 - iter 10/53 - loss 1.20461338 - time (sec): 1.70 - samples/sec: 94.04 - lr: 0.038200 - momentum: 0.000000\n",
            "2025-05-15 11:58:13,065 epoch 2 - iter 15/53 - loss 1.20348287 - time (sec): 2.62 - samples/sec: 91.52 - lr: 0.038200 - momentum: 0.000000\n",
            "2025-05-15 11:58:14,225 epoch 2 - iter 20/53 - loss 1.27618899 - time (sec): 3.78 - samples/sec: 84.61 - lr: 0.038200 - momentum: 0.000000\n",
            "2025-05-15 11:58:15,163 epoch 2 - iter 25/53 - loss 1.27885993 - time (sec): 4.72 - samples/sec: 84.75 - lr: 0.038200 - momentum: 0.000000\n",
            "2025-05-15 11:58:16,287 epoch 2 - iter 30/53 - loss 1.24897883 - time (sec): 5.84 - samples/sec: 82.13 - lr: 0.038200 - momentum: 0.000000\n",
            "2025-05-15 11:58:17,262 epoch 2 - iter 35/53 - loss 1.25894345 - time (sec): 6.82 - samples/sec: 82.12 - lr: 0.038200 - momentum: 0.000000\n",
            "2025-05-15 11:58:18,219 epoch 2 - iter 40/53 - loss 1.28252759 - time (sec): 7.78 - samples/sec: 82.31 - lr: 0.038200 - momentum: 0.000000\n",
            "2025-05-15 11:58:19,280 epoch 2 - iter 45/53 - loss 1.27638507 - time (sec): 8.84 - samples/sec: 81.47 - lr: 0.038200 - momentum: 0.000000\n",
            "2025-05-15 11:58:20,612 epoch 2 - iter 50/53 - loss 1.25864445 - time (sec): 10.17 - samples/sec: 78.67 - lr: 0.038200 - momentum: 0.000000\n",
            "2025-05-15 11:58:21,183 ----------------------------------------------------------------------------------------------------\n",
            "2025-05-15 11:58:21,184 EPOCH 2 done: loss 1.2483 - lr: 0.038200\n"
          ]
        },
        {
          "output_type": "stream",
          "name": "stderr",
          "text": [
            "100%|██████████| 2/2 [00:00<00:00,  3.66it/s]\n"
          ]
        },
        {
          "output_type": "stream",
          "name": "stdout",
          "text": [
            "2025-05-15 11:58:21,756 DEV : loss 1.212584137916565 - f1-score (micro avg)  0.5524\n",
            "2025-05-15 11:58:21,779  - 0 epochs without improvement\n",
            "2025-05-15 11:58:21,780 saving best model\n",
            "2025-05-15 11:58:24,972 ----------------------------------------------------------------------------------------------------\n",
            "2025-05-15 11:58:25,968 epoch 3 - iter 5/53 - loss 1.11635226 - time (sec): 0.99 - samples/sec: 80.49 - lr: 0.038200 - momentum: 0.000000\n",
            "2025-05-15 11:58:26,895 epoch 3 - iter 10/53 - loss 1.00319952 - time (sec): 1.92 - samples/sec: 83.32 - lr: 0.038200 - momentum: 0.000000\n",
            "2025-05-15 11:58:27,939 epoch 3 - iter 15/53 - loss 0.91621244 - time (sec): 2.96 - samples/sec: 80.97 - lr: 0.038200 - momentum: 0.000000\n",
            "2025-05-15 11:58:28,966 epoch 3 - iter 20/53 - loss 0.86333455 - time (sec): 3.99 - samples/sec: 80.17 - lr: 0.038200 - momentum: 0.000000\n",
            "2025-05-15 11:58:30,080 epoch 3 - iter 25/53 - loss 0.85559037 - time (sec): 5.11 - samples/sec: 78.35 - lr: 0.038200 - momentum: 0.000000\n",
            "2025-05-15 11:58:31,166 epoch 3 - iter 30/53 - loss 0.85726623 - time (sec): 6.19 - samples/sec: 77.52 - lr: 0.038200 - momentum: 0.000000\n",
            "2025-05-15 11:58:32,057 epoch 3 - iter 35/53 - loss 0.86064182 - time (sec): 7.08 - samples/sec: 79.07 - lr: 0.038200 - momentum: 0.000000\n",
            "2025-05-15 11:58:33,262 epoch 3 - iter 40/53 - loss 0.83911144 - time (sec): 8.29 - samples/sec: 77.23 - lr: 0.038200 - momentum: 0.000000\n",
            "2025-05-15 11:58:34,292 epoch 3 - iter 45/53 - loss 0.84759284 - time (sec): 9.32 - samples/sec: 77.28 - lr: 0.038200 - momentum: 0.000000\n",
            "2025-05-15 11:58:35,284 epoch 3 - iter 50/53 - loss 0.85265496 - time (sec): 10.31 - samples/sec: 77.59 - lr: 0.038200 - momentum: 0.000000\n",
            "2025-05-15 11:58:35,862 ----------------------------------------------------------------------------------------------------\n",
            "2025-05-15 11:58:35,863 EPOCH 3 done: loss 0.8490 - lr: 0.038200\n"
          ]
        },
        {
          "output_type": "stream",
          "name": "stderr",
          "text": [
            "100%|██████████| 2/2 [00:00<00:00,  3.49it/s]\n"
          ]
        },
        {
          "output_type": "stream",
          "name": "stdout",
          "text": [
            "2025-05-15 11:58:36,460 DEV : loss 1.2778860330581665 - f1-score (micro avg)  0.5714\n",
            "2025-05-15 11:58:36,483  - 0 epochs without improvement\n",
            "2025-05-15 11:58:36,484 saving best model\n",
            "2025-05-15 11:58:39,926 ----------------------------------------------------------------------------------------------------\n",
            "2025-05-15 11:58:41,120 epoch 4 - iter 5/53 - loss 0.53448505 - time (sec): 1.19 - samples/sec: 67.29 - lr: 0.038200 - momentum: 0.000000\n",
            "2025-05-15 11:58:42,187 epoch 4 - iter 10/53 - loss 0.58593169 - time (sec): 2.26 - samples/sec: 70.91 - lr: 0.038200 - momentum: 0.000000\n",
            "2025-05-15 11:58:43,211 epoch 4 - iter 15/53 - loss 0.56812711 - time (sec): 3.28 - samples/sec: 73.17 - lr: 0.038200 - momentum: 0.000000\n",
            "2025-05-15 11:58:44,212 epoch 4 - iter 20/53 - loss 0.52467203 - time (sec): 4.28 - samples/sec: 74.74 - lr: 0.038200 - momentum: 0.000000\n",
            "2025-05-15 11:58:45,273 epoch 4 - iter 25/53 - loss 0.54438777 - time (sec): 5.34 - samples/sec: 74.87 - lr: 0.038200 - momentum: 0.000000\n",
            "2025-05-15 11:58:46,476 epoch 4 - iter 30/53 - loss 0.58164103 - time (sec): 6.55 - samples/sec: 73.34 - lr: 0.038200 - momentum: 0.000000\n",
            "2025-05-15 11:58:47,495 epoch 4 - iter 35/53 - loss 0.61577330 - time (sec): 7.56 - samples/sec: 74.03 - lr: 0.038200 - momentum: 0.000000\n",
            "2025-05-15 11:58:48,465 epoch 4 - iter 40/53 - loss 0.64778678 - time (sec): 8.53 - samples/sec: 74.99 - lr: 0.038200 - momentum: 0.000000\n",
            "2025-05-15 11:58:49,629 epoch 4 - iter 45/53 - loss 0.62848444 - time (sec): 9.70 - samples/sec: 74.24 - lr: 0.038200 - momentum: 0.000000\n",
            "2025-05-15 11:58:50,654 epoch 4 - iter 50/53 - loss 0.61722198 - time (sec): 10.72 - samples/sec: 74.60 - lr: 0.038200 - momentum: 0.000000\n",
            "2025-05-15 11:58:51,206 ----------------------------------------------------------------------------------------------------\n",
            "2025-05-15 11:58:51,207 EPOCH 4 done: loss 0.6077 - lr: 0.038200\n"
          ]
        },
        {
          "output_type": "stream",
          "name": "stderr",
          "text": [
            "100%|██████████| 2/2 [00:00<00:00,  3.60it/s]\n"
          ]
        },
        {
          "output_type": "stream",
          "name": "stdout",
          "text": [
            "2025-05-15 11:58:51,786 DEV : loss 1.3265174627304077 - f1-score (micro avg)  0.619\n",
            "2025-05-15 11:58:51,809  - 0 epochs without improvement\n",
            "2025-05-15 11:58:51,810 saving best model\n",
            "2025-05-15 11:58:52,971 ----------------------------------------------------------------------------------------------------\n",
            "2025-05-15 11:58:53,917 epoch 5 - iter 5/53 - loss 0.31470299 - time (sec): 0.94 - samples/sec: 84.84 - lr: 0.038200 - momentum: 0.000000\n",
            "2025-05-15 11:58:54,848 epoch 5 - iter 10/53 - loss 0.41460564 - time (sec): 1.87 - samples/sec: 85.38 - lr: 0.038200 - momentum: 0.000000\n",
            "2025-05-15 11:58:55,813 epoch 5 - iter 15/53 - loss 0.43909128 - time (sec): 2.84 - samples/sec: 84.54 - lr: 0.038200 - momentum: 0.000000\n",
            "2025-05-15 11:58:56,811 epoch 5 - iter 20/53 - loss 0.44611278 - time (sec): 3.84 - samples/sec: 83.40 - lr: 0.038200 - momentum: 0.000000\n",
            "2025-05-15 11:58:57,975 epoch 5 - iter 25/53 - loss 0.41991821 - time (sec): 5.00 - samples/sec: 79.99 - lr: 0.038200 - momentum: 0.000000\n",
            "2025-05-15 11:58:59,028 epoch 5 - iter 30/53 - loss 0.43895984 - time (sec): 6.05 - samples/sec: 79.29 - lr: 0.038200 - momentum: 0.000000\n",
            "2025-05-15 11:59:00,120 epoch 5 - iter 35/53 - loss 0.42949769 - time (sec): 7.15 - samples/sec: 78.36 - lr: 0.038200 - momentum: 0.000000\n",
            "2025-05-15 11:59:01,090 epoch 5 - iter 40/53 - loss 0.40817591 - time (sec): 8.12 - samples/sec: 78.86 - lr: 0.038200 - momentum: 0.000000\n",
            "2025-05-15 11:59:02,254 epoch 5 - iter 45/53 - loss 0.41339263 - time (sec): 9.28 - samples/sec: 77.59 - lr: 0.038200 - momentum: 0.000000\n",
            "2025-05-15 11:59:03,168 epoch 5 - iter 50/53 - loss 0.42600993 - time (sec): 10.19 - samples/sec: 78.48 - lr: 0.038200 - momentum: 0.000000\n",
            "2025-05-15 11:59:03,705 ----------------------------------------------------------------------------------------------------\n",
            "2025-05-15 11:59:03,706 EPOCH 5 done: loss 0.4289 - lr: 0.038200\n"
          ]
        },
        {
          "output_type": "stream",
          "name": "stderr",
          "text": [
            "100%|██████████| 2/2 [00:00<00:00,  3.53it/s]"
          ]
        },
        {
          "output_type": "stream",
          "name": "stdout",
          "text": [
            "2025-05-15 11:59:04,292 DEV : loss 1.206929087638855 - f1-score (micro avg)  0.5905\n"
          ]
        },
        {
          "output_type": "stream",
          "name": "stderr",
          "text": [
            "\n"
          ]
        },
        {
          "output_type": "stream",
          "name": "stdout",
          "text": [
            "2025-05-15 11:59:04,317  - 1 epochs without improvement\n",
            "2025-05-15 11:59:04,318 ----------------------------------------------------------------------------------------------------\n",
            "2025-05-15 11:59:05,166 epoch 6 - iter 5/53 - loss 0.31112451 - time (sec): 0.85 - samples/sec: 94.58 - lr: 0.038200 - momentum: 0.000000\n",
            "2025-05-15 11:59:06,190 epoch 6 - iter 10/53 - loss 0.23175206 - time (sec): 1.87 - samples/sec: 85.58 - lr: 0.038200 - momentum: 0.000000\n",
            "2025-05-15 11:59:07,414 epoch 6 - iter 15/53 - loss 0.21288090 - time (sec): 3.09 - samples/sec: 77.57 - lr: 0.038200 - momentum: 0.000000\n",
            "2025-05-15 11:59:08,437 epoch 6 - iter 20/53 - loss 0.20120405 - time (sec): 4.12 - samples/sec: 77.72 - lr: 0.038200 - momentum: 0.000000\n",
            "2025-05-15 11:59:09,401 epoch 6 - iter 25/53 - loss 0.23205077 - time (sec): 5.08 - samples/sec: 78.72 - lr: 0.038200 - momentum: 0.000000\n",
            "2025-05-15 11:59:10,396 epoch 6 - iter 30/53 - loss 0.24781433 - time (sec): 6.08 - samples/sec: 79.00 - lr: 0.038200 - momentum: 0.000000\n",
            "2025-05-15 11:59:11,282 epoch 6 - iter 35/53 - loss 0.23622048 - time (sec): 6.96 - samples/sec: 80.43 - lr: 0.038200 - momentum: 0.000000\n",
            "2025-05-15 11:59:12,313 epoch 6 - iter 40/53 - loss 0.27451167 - time (sec): 7.99 - samples/sec: 80.07 - lr: 0.038200 - momentum: 0.000000\n",
            "2025-05-15 11:59:13,282 epoch 6 - iter 45/53 - loss 0.27383240 - time (sec): 8.96 - samples/sec: 80.34 - lr: 0.038200 - momentum: 0.000000\n",
            "2025-05-15 11:59:14,344 epoch 6 - iter 50/53 - loss 0.27965132 - time (sec): 10.02 - samples/sec: 79.81 - lr: 0.038200 - momentum: 0.000000\n",
            "2025-05-15 11:59:14,900 ----------------------------------------------------------------------------------------------------\n",
            "2025-05-15 11:59:14,901 EPOCH 6 done: loss 0.2814 - lr: 0.038200\n"
          ]
        },
        {
          "output_type": "stream",
          "name": "stderr",
          "text": [
            "100%|██████████| 2/2 [00:00<00:00,  3.69it/s]\n"
          ]
        },
        {
          "output_type": "stream",
          "name": "stdout",
          "text": [
            "2025-05-15 11:59:15,464 DEV : loss 1.2968460321426392 - f1-score (micro avg)  0.6762\n",
            "2025-05-15 11:59:15,488  - 0 epochs without improvement\n",
            "2025-05-15 11:59:15,489 saving best model\n",
            "2025-05-15 11:59:18,331 ----------------------------------------------------------------------------------------------------\n",
            "2025-05-15 11:59:19,471 epoch 7 - iter 5/53 - loss 0.26162038 - time (sec): 1.14 - samples/sec: 70.38 - lr: 0.038200 - momentum: 0.000000\n",
            "2025-05-15 11:59:20,364 epoch 7 - iter 10/53 - loss 0.24240459 - time (sec): 2.03 - samples/sec: 78.83 - lr: 0.038200 - momentum: 0.000000\n",
            "2025-05-15 11:59:21,431 epoch 7 - iter 15/53 - loss 0.21717728 - time (sec): 3.10 - samples/sec: 77.52 - lr: 0.038200 - momentum: 0.000000\n",
            "2025-05-15 11:59:22,454 epoch 7 - iter 20/53 - loss 0.21148248 - time (sec): 4.12 - samples/sec: 77.68 - lr: 0.038200 - momentum: 0.000000\n",
            "2025-05-15 11:59:23,416 epoch 7 - iter 25/53 - loss 0.22193794 - time (sec): 5.08 - samples/sec: 78.73 - lr: 0.038200 - momentum: 0.000000\n",
            "2025-05-15 11:59:24,427 epoch 7 - iter 30/53 - loss 0.21000569 - time (sec): 6.09 - samples/sec: 78.78 - lr: 0.038200 - momentum: 0.000000\n",
            "2025-05-15 11:59:25,409 epoch 7 - iter 35/53 - loss 0.23996412 - time (sec): 7.07 - samples/sec: 79.16 - lr: 0.038200 - momentum: 0.000000\n",
            "2025-05-15 11:59:26,406 epoch 7 - iter 40/53 - loss 0.23385870 - time (sec): 8.07 - samples/sec: 79.29 - lr: 0.038200 - momentum: 0.000000\n",
            "2025-05-15 11:59:27,555 epoch 7 - iter 45/53 - loss 0.23548385 - time (sec): 9.22 - samples/sec: 78.09 - lr: 0.038200 - momentum: 0.000000\n",
            "2025-05-15 11:59:28,513 epoch 7 - iter 50/53 - loss 0.23526767 - time (sec): 10.18 - samples/sec: 78.60 - lr: 0.038200 - momentum: 0.000000\n",
            "2025-05-15 11:59:29,119 ----------------------------------------------------------------------------------------------------\n",
            "2025-05-15 11:59:29,120 EPOCH 7 done: loss 0.2295 - lr: 0.038200\n"
          ]
        },
        {
          "output_type": "stream",
          "name": "stderr",
          "text": [
            "100%|██████████| 2/2 [00:00<00:00,  3.70it/s]"
          ]
        },
        {
          "output_type": "stream",
          "name": "stdout",
          "text": [
            "2025-05-15 11:59:29,679 DEV : loss 1.227455735206604 - f1-score (micro avg)  0.6952\n"
          ]
        },
        {
          "output_type": "stream",
          "name": "stderr",
          "text": [
            "\n"
          ]
        },
        {
          "output_type": "stream",
          "name": "stdout",
          "text": [
            "2025-05-15 11:59:29,703  - 0 epochs without improvement\n",
            "2025-05-15 11:59:29,704 saving best model\n",
            "2025-05-15 11:59:32,691 ----------------------------------------------------------------------------------------------------\n",
            "2025-05-15 11:59:33,632 epoch 8 - iter 5/53 - loss 0.07502741 - time (sec): 0.94 - samples/sec: 85.26 - lr: 0.038200 - momentum: 0.000000\n",
            "2025-05-15 11:59:34,776 epoch 8 - iter 10/53 - loss 0.08604264 - time (sec): 2.08 - samples/sec: 76.85 - lr: 0.038200 - momentum: 0.000000\n",
            "2025-05-15 11:59:35,754 epoch 8 - iter 15/53 - loss 0.08276618 - time (sec): 3.06 - samples/sec: 78.43 - lr: 0.038200 - momentum: 0.000000\n",
            "2025-05-15 11:59:36,848 epoch 8 - iter 20/53 - loss 0.11036412 - time (sec): 4.15 - samples/sec: 77.03 - lr: 0.038200 - momentum: 0.000000\n",
            "2025-05-15 11:59:37,991 epoch 8 - iter 25/53 - loss 0.16027556 - time (sec): 5.30 - samples/sec: 75.52 - lr: 0.038200 - momentum: 0.000000\n",
            "2025-05-15 11:59:38,916 epoch 8 - iter 30/53 - loss 0.17591765 - time (sec): 6.22 - samples/sec: 77.14 - lr: 0.038200 - momentum: 0.000000\n",
            "2025-05-15 11:59:39,935 epoch 8 - iter 35/53 - loss 0.17812654 - time (sec): 7.24 - samples/sec: 77.34 - lr: 0.038200 - momentum: 0.000000\n",
            "2025-05-15 11:59:41,000 epoch 8 - iter 40/53 - loss 0.17859766 - time (sec): 8.31 - samples/sec: 77.05 - lr: 0.038200 - momentum: 0.000000\n",
            "2025-05-15 11:59:42,009 epoch 8 - iter 45/53 - loss 0.17233254 - time (sec): 9.32 - samples/sec: 77.29 - lr: 0.038200 - momentum: 0.000000\n",
            "2025-05-15 11:59:43,060 epoch 8 - iter 50/53 - loss 0.17294594 - time (sec): 10.37 - samples/sec: 77.17 - lr: 0.038200 - momentum: 0.000000\n",
            "2025-05-15 11:59:43,612 ----------------------------------------------------------------------------------------------------\n",
            "2025-05-15 11:59:43,613 EPOCH 8 done: loss 0.1725 - lr: 0.038200\n"
          ]
        },
        {
          "output_type": "stream",
          "name": "stderr",
          "text": [
            "100%|██████████| 2/2 [00:00<00:00,  3.71it/s]\n"
          ]
        },
        {
          "output_type": "stream",
          "name": "stdout",
          "text": [
            "2025-05-15 11:59:44,174 DEV : loss 1.1947369575500488 - f1-score (micro avg)  0.7143\n",
            "2025-05-15 11:59:44,197  - 0 epochs without improvement\n",
            "2025-05-15 11:59:44,199 saving best model\n",
            "2025-05-15 11:59:45,519 ----------------------------------------------------------------------------------------------------\n",
            "2025-05-15 11:59:46,345 epoch 9 - iter 5/53 - loss 0.06501836 - time (sec): 0.82 - samples/sec: 97.18 - lr: 0.038200 - momentum: 0.000000\n",
            "2025-05-15 11:59:47,451 epoch 9 - iter 10/53 - loss 0.08318066 - time (sec): 1.93 - samples/sec: 82.94 - lr: 0.038200 - momentum: 0.000000\n",
            "2025-05-15 11:59:48,332 epoch 9 - iter 15/53 - loss 0.06861258 - time (sec): 2.81 - samples/sec: 85.43 - lr: 0.038200 - momentum: 0.000000\n",
            "2025-05-15 11:59:49,294 epoch 9 - iter 20/53 - loss 0.12150161 - time (sec): 3.77 - samples/sec: 84.84 - lr: 0.038200 - momentum: 0.000000\n",
            "2025-05-15 11:59:50,413 epoch 9 - iter 25/53 - loss 0.10761343 - time (sec): 4.89 - samples/sec: 81.78 - lr: 0.038200 - momentum: 0.000000\n",
            "2025-05-15 11:59:51,449 epoch 9 - iter 30/53 - loss 0.09628115 - time (sec): 5.93 - samples/sec: 80.98 - lr: 0.038200 - momentum: 0.000000\n",
            "2025-05-15 11:59:52,433 epoch 9 - iter 35/53 - loss 0.09743993 - time (sec): 6.91 - samples/sec: 81.03 - lr: 0.038200 - momentum: 0.000000\n",
            "2025-05-15 11:59:53,399 epoch 9 - iter 40/53 - loss 0.09607308 - time (sec): 7.88 - samples/sec: 81.25 - lr: 0.038200 - momentum: 0.000000\n",
            "2025-05-15 11:59:54,528 epoch 9 - iter 45/53 - loss 0.09875871 - time (sec): 9.01 - samples/sec: 79.95 - lr: 0.038200 - momentum: 0.000000\n",
            "2025-05-15 11:59:55,695 epoch 9 - iter 50/53 - loss 0.10098952 - time (sec): 10.17 - samples/sec: 78.64 - lr: 0.038200 - momentum: 0.000000\n",
            "2025-05-15 11:59:56,293 ----------------------------------------------------------------------------------------------------\n",
            "2025-05-15 11:59:56,294 EPOCH 9 done: loss 0.1055 - lr: 0.038200\n"
          ]
        },
        {
          "output_type": "stream",
          "name": "stderr",
          "text": [
            "100%|██████████| 2/2 [00:00<00:00,  3.72it/s]"
          ]
        },
        {
          "output_type": "stream",
          "name": "stdout",
          "text": [
            "2025-05-15 11:59:56,852 DEV : loss 1.3151036500930786 - f1-score (micro avg)  0.6952\n"
          ]
        },
        {
          "output_type": "stream",
          "name": "stderr",
          "text": [
            "\n"
          ]
        },
        {
          "output_type": "stream",
          "name": "stdout",
          "text": [
            "2025-05-15 11:59:56,877  - 1 epochs without improvement\n",
            "2025-05-15 11:59:56,878 ----------------------------------------------------------------------------------------------------\n",
            "2025-05-15 11:59:57,757 epoch 10 - iter 5/53 - loss 0.04617545 - time (sec): 0.88 - samples/sec: 91.32 - lr: 0.038200 - momentum: 0.000000\n",
            "2025-05-15 11:59:58,984 epoch 10 - iter 10/53 - loss 0.09157340 - time (sec): 2.10 - samples/sec: 76.05 - lr: 0.038200 - momentum: 0.000000\n",
            "2025-05-15 11:59:59,879 epoch 10 - iter 15/53 - loss 0.08500225 - time (sec): 3.00 - samples/sec: 80.03 - lr: 0.038200 - momentum: 0.000000\n",
            "2025-05-15 12:00:00,803 epoch 10 - iter 20/53 - loss 0.07715502 - time (sec): 3.92 - samples/sec: 81.58 - lr: 0.038200 - momentum: 0.000000\n",
            "2025-05-15 12:00:01,971 epoch 10 - iter 25/53 - loss 0.08341950 - time (sec): 5.09 - samples/sec: 78.58 - lr: 0.038200 - momentum: 0.000000\n",
            "2025-05-15 12:00:03,023 epoch 10 - iter 30/53 - loss 0.07614316 - time (sec): 6.14 - samples/sec: 78.15 - lr: 0.038200 - momentum: 0.000000\n",
            "2025-05-15 12:00:04,040 epoch 10 - iter 35/53 - loss 0.08078006 - time (sec): 7.16 - samples/sec: 78.21 - lr: 0.038200 - momentum: 0.000000\n",
            "2025-05-15 12:00:05,117 epoch 10 - iter 40/53 - loss 0.07578290 - time (sec): 8.24 - samples/sec: 77.70 - lr: 0.038200 - momentum: 0.000000\n",
            "2025-05-15 12:00:06,046 epoch 10 - iter 45/53 - loss 0.07347975 - time (sec): 9.17 - samples/sec: 78.55 - lr: 0.038200 - momentum: 0.000000\n",
            "2025-05-15 12:00:07,195 epoch 10 - iter 50/53 - loss 0.08287826 - time (sec): 10.31 - samples/sec: 77.56 - lr: 0.038200 - momentum: 0.000000\n",
            "2025-05-15 12:00:07,777 ----------------------------------------------------------------------------------------------------\n",
            "2025-05-15 12:00:07,778 EPOCH 10 done: loss 0.0937 - lr: 0.038200\n"
          ]
        },
        {
          "output_type": "stream",
          "name": "stderr",
          "text": [
            "100%|██████████| 2/2 [00:00<00:00,  3.69it/s]\n"
          ]
        },
        {
          "output_type": "stream",
          "name": "stdout",
          "text": [
            "2025-05-15 12:00:08,340 DEV : loss 1.6940809488296509 - f1-score (micro avg)  0.6857\n",
            "2025-05-15 12:00:08,366  - 2 epochs without improvement\n",
            "2025-05-15 12:00:08,367 ----------------------------------------------------------------------------------------------------\n",
            "2025-05-15 12:00:09,289 epoch 11 - iter 5/53 - loss 0.04420666 - time (sec): 0.92 - samples/sec: 86.98 - lr: 0.038200 - momentum: 0.000000\n",
            "2025-05-15 12:00:10,473 epoch 11 - iter 10/53 - loss 0.03537928 - time (sec): 2.10 - samples/sec: 76.05 - lr: 0.038200 - momentum: 0.000000\n",
            "2025-05-15 12:00:11,394 epoch 11 - iter 15/53 - loss 0.03330156 - time (sec): 3.03 - samples/sec: 79.34 - lr: 0.038200 - momentum: 0.000000\n",
            "2025-05-15 12:00:12,397 epoch 11 - iter 20/53 - loss 0.03847880 - time (sec): 4.03 - samples/sec: 79.46 - lr: 0.038200 - momentum: 0.000000\n",
            "2025-05-15 12:00:13,506 epoch 11 - iter 25/53 - loss 0.03436572 - time (sec): 5.14 - samples/sec: 77.88 - lr: 0.038200 - momentum: 0.000000\n",
            "2025-05-15 12:00:14,562 epoch 11 - iter 30/53 - loss 0.04533258 - time (sec): 6.19 - samples/sec: 77.51 - lr: 0.038200 - momentum: 0.000000\n",
            "2025-05-15 12:00:15,566 epoch 11 - iter 35/53 - loss 0.05775002 - time (sec): 7.20 - samples/sec: 77.81 - lr: 0.038200 - momentum: 0.000000\n",
            "2025-05-15 12:00:16,463 epoch 11 - iter 40/53 - loss 0.06561127 - time (sec): 8.09 - samples/sec: 79.07 - lr: 0.038200 - momentum: 0.000000\n",
            "2025-05-15 12:00:17,425 epoch 11 - iter 45/53 - loss 0.06112785 - time (sec): 9.06 - samples/sec: 79.50 - lr: 0.038200 - momentum: 0.000000\n",
            "2025-05-15 12:00:18,446 epoch 11 - iter 50/53 - loss 0.05821721 - time (sec): 10.08 - samples/sec: 79.39 - lr: 0.038200 - momentum: 0.000000\n",
            "2025-05-15 12:00:18,859 ----------------------------------------------------------------------------------------------------\n",
            "2025-05-15 12:00:18,860 EPOCH 11 done: loss 0.0605 - lr: 0.038200\n"
          ]
        },
        {
          "output_type": "stream",
          "name": "stderr",
          "text": [
            "100%|██████████| 2/2 [00:00<00:00,  3.78it/s]\n"
          ]
        },
        {
          "output_type": "stream",
          "name": "stdout",
          "text": [
            "2025-05-15 12:00:19,410 DEV : loss 1.3798847198486328 - f1-score (micro avg)  0.7333\n",
            "2025-05-15 12:00:19,433  - 0 epochs without improvement\n",
            "2025-05-15 12:00:19,434 saving best model\n",
            "2025-05-15 12:00:20,665 ----------------------------------------------------------------------------------------------------\n",
            "2025-05-15 12:00:21,419 epoch 12 - iter 5/53 - loss 0.02726606 - time (sec): 0.75 - samples/sec: 106.55 - lr: 0.038200 - momentum: 0.000000\n",
            "2025-05-15 12:00:22,504 epoch 12 - iter 10/53 - loss 0.07952296 - time (sec): 1.84 - samples/sec: 87.16 - lr: 0.038200 - momentum: 0.000000\n",
            "2025-05-15 12:00:23,430 epoch 12 - iter 15/53 - loss 0.09040236 - time (sec): 2.76 - samples/sec: 86.89 - lr: 0.038200 - momentum: 0.000000\n",
            "2025-05-15 12:00:24,512 epoch 12 - iter 20/53 - loss 0.07807318 - time (sec): 3.84 - samples/sec: 83.24 - lr: 0.038200 - momentum: 0.000000\n",
            "2025-05-15 12:00:25,573 epoch 12 - iter 25/53 - loss 0.06845783 - time (sec): 4.91 - samples/sec: 81.55 - lr: 0.038200 - momentum: 0.000000\n",
            "2025-05-15 12:00:26,625 epoch 12 - iter 30/53 - loss 0.06243042 - time (sec): 5.96 - samples/sec: 80.58 - lr: 0.038200 - momentum: 0.000000\n",
            "2025-05-15 12:00:27,623 epoch 12 - iter 35/53 - loss 0.05518814 - time (sec): 6.96 - samples/sec: 80.52 - lr: 0.038200 - momentum: 0.000000\n",
            "2025-05-15 12:00:28,659 epoch 12 - iter 40/53 - loss 0.05839758 - time (sec): 7.99 - samples/sec: 80.08 - lr: 0.038200 - momentum: 0.000000\n",
            "2025-05-15 12:00:29,718 epoch 12 - iter 45/53 - loss 0.05311593 - time (sec): 9.05 - samples/sec: 79.56 - lr: 0.038200 - momentum: 0.000000\n",
            "2025-05-15 12:00:30,686 epoch 12 - iter 50/53 - loss 0.05399421 - time (sec): 10.02 - samples/sec: 79.86 - lr: 0.038200 - momentum: 0.000000\n",
            "2025-05-15 12:00:31,356 ----------------------------------------------------------------------------------------------------\n",
            "2025-05-15 12:00:31,357 EPOCH 12 done: loss 0.0533 - lr: 0.038200\n"
          ]
        },
        {
          "output_type": "stream",
          "name": "stderr",
          "text": [
            "100%|██████████| 2/2 [00:00<00:00,  3.56it/s]\n"
          ]
        },
        {
          "output_type": "stream",
          "name": "stdout",
          "text": [
            "2025-05-15 12:00:31,943 DEV : loss 1.9540739059448242 - f1-score (micro avg)  0.6857\n",
            "2025-05-15 12:00:31,967  - 1 epochs without improvement\n",
            "2025-05-15 12:00:31,968 ----------------------------------------------------------------------------------------------------\n",
            "2025-05-15 12:00:32,932 epoch 13 - iter 5/53 - loss 0.01208511 - time (sec): 0.96 - samples/sec: 83.21 - lr: 0.038200 - momentum: 0.000000\n",
            "2025-05-15 12:00:33,845 epoch 13 - iter 10/53 - loss 0.00783405 - time (sec): 1.87 - samples/sec: 85.36 - lr: 0.038200 - momentum: 0.000000\n",
            "2025-05-15 12:00:34,731 epoch 13 - iter 15/53 - loss 0.07209476 - time (sec): 2.76 - samples/sec: 86.96 - lr: 0.038200 - momentum: 0.000000\n",
            "2025-05-15 12:00:35,611 epoch 13 - iter 20/53 - loss 0.06885283 - time (sec): 3.64 - samples/sec: 87.90 - lr: 0.038200 - momentum: 0.000000\n",
            "2025-05-15 12:00:36,625 epoch 13 - iter 25/53 - loss 0.07482352 - time (sec): 4.65 - samples/sec: 85.95 - lr: 0.038200 - momentum: 0.000000\n",
            "2025-05-15 12:00:37,617 epoch 13 - iter 30/53 - loss 0.08367393 - time (sec): 5.65 - samples/sec: 85.01 - lr: 0.038200 - momentum: 0.000000\n",
            "2025-05-15 12:00:38,677 epoch 13 - iter 35/53 - loss 0.07243974 - time (sec): 6.71 - samples/sec: 83.50 - lr: 0.038200 - momentum: 0.000000\n",
            "2025-05-15 12:00:39,676 epoch 13 - iter 40/53 - loss 0.06522846 - time (sec): 7.71 - samples/sec: 83.06 - lr: 0.038200 - momentum: 0.000000\n",
            "2025-05-15 12:00:40,659 epoch 13 - iter 45/53 - loss 0.06577586 - time (sec): 8.69 - samples/sec: 82.87 - lr: 0.038200 - momentum: 0.000000\n",
            "2025-05-15 12:00:41,850 epoch 13 - iter 50/53 - loss 0.06145911 - time (sec): 9.88 - samples/sec: 80.98 - lr: 0.038200 - momentum: 0.000000\n",
            "2025-05-15 12:00:42,429 ----------------------------------------------------------------------------------------------------\n",
            "2025-05-15 12:00:42,430 EPOCH 13 done: loss 0.0588 - lr: 0.038200\n"
          ]
        },
        {
          "output_type": "stream",
          "name": "stderr",
          "text": [
            "100%|██████████| 2/2 [00:00<00:00,  3.73it/s]\n"
          ]
        },
        {
          "output_type": "stream",
          "name": "stdout",
          "text": [
            "2025-05-15 12:00:42,986 DEV : loss 2.0972039699554443 - f1-score (micro avg)  0.6857\n",
            "2025-05-15 12:00:43,011  - 2 epochs without improvement\n",
            "2025-05-15 12:00:43,012 ----------------------------------------------------------------------------------------------------\n",
            "2025-05-15 12:00:43,955 epoch 14 - iter 5/53 - loss 0.02176218 - time (sec): 0.94 - samples/sec: 85.03 - lr: 0.038200 - momentum: 0.000000\n",
            "2025-05-15 12:00:45,090 epoch 14 - iter 10/53 - loss 0.02606097 - time (sec): 2.08 - samples/sec: 77.07 - lr: 0.038200 - momentum: 0.000000\n",
            "2025-05-15 12:00:46,088 epoch 14 - iter 15/53 - loss 0.02038928 - time (sec): 3.07 - samples/sec: 78.07 - lr: 0.038200 - momentum: 0.000000\n",
            "2025-05-15 12:00:47,161 epoch 14 - iter 20/53 - loss 0.01810066 - time (sec): 4.15 - samples/sec: 77.18 - lr: 0.038200 - momentum: 0.000000\n",
            "2025-05-15 12:00:48,132 epoch 14 - iter 25/53 - loss 0.05540341 - time (sec): 5.12 - samples/sec: 78.16 - lr: 0.038200 - momentum: 0.000000\n",
            "2025-05-15 12:00:49,156 epoch 14 - iter 30/53 - loss 0.06860201 - time (sec): 6.14 - samples/sec: 78.15 - lr: 0.038200 - momentum: 0.000000\n",
            "2025-05-15 12:00:50,150 epoch 14 - iter 35/53 - loss 0.07889167 - time (sec): 7.14 - samples/sec: 78.47 - lr: 0.038200 - momentum: 0.000000\n",
            "2025-05-15 12:00:51,247 epoch 14 - iter 40/53 - loss 0.07304884 - time (sec): 8.23 - samples/sec: 77.74 - lr: 0.038200 - momentum: 0.000000\n",
            "2025-05-15 12:00:52,212 epoch 14 - iter 45/53 - loss 0.06823532 - time (sec): 9.20 - samples/sec: 78.28 - lr: 0.038200 - momentum: 0.000000\n",
            "2025-05-15 12:00:53,162 epoch 14 - iter 50/53 - loss 0.06654893 - time (sec): 10.15 - samples/sec: 78.84 - lr: 0.038200 - momentum: 0.000000\n",
            "2025-05-15 12:00:53,729 ----------------------------------------------------------------------------------------------------\n",
            "2025-05-15 12:00:53,730 EPOCH 14 done: loss 0.0659 - lr: 0.038200\n"
          ]
        },
        {
          "output_type": "stream",
          "name": "stderr",
          "text": [
            "100%|██████████| 2/2 [00:00<00:00,  3.64it/s]"
          ]
        },
        {
          "output_type": "stream",
          "name": "stdout",
          "text": [
            "2025-05-15 12:00:54,300 DEV : loss 1.977201223373413 - f1-score (micro avg)  0.6857\n"
          ]
        },
        {
          "output_type": "stream",
          "name": "stderr",
          "text": [
            "\n"
          ]
        },
        {
          "output_type": "stream",
          "name": "stdout",
          "text": [
            "2025-05-15 12:00:54,324  - 3 epochs without improvement\n",
            "2025-05-15 12:00:54,324 ----------------------------------------------------------------------------------------------------\n",
            "2025-05-15 12:00:55,125 epoch 15 - iter 5/53 - loss 0.07210049 - time (sec): 0.80 - samples/sec: 100.32 - lr: 0.038200 - momentum: 0.000000\n",
            "2025-05-15 12:00:56,124 epoch 15 - iter 10/53 - loss 0.06482727 - time (sec): 1.80 - samples/sec: 89.03 - lr: 0.038200 - momentum: 0.000000\n",
            "2025-05-15 12:00:57,139 epoch 15 - iter 15/53 - loss 0.06643423 - time (sec): 2.81 - samples/sec: 85.35 - lr: 0.038200 - momentum: 0.000000\n",
            "2025-05-15 12:00:58,227 epoch 15 - iter 20/53 - loss 0.05215414 - time (sec): 3.90 - samples/sec: 82.05 - lr: 0.038200 - momentum: 0.000000\n",
            "2025-05-15 12:00:59,422 epoch 15 - iter 25/53 - loss 0.04272001 - time (sec): 5.09 - samples/sec: 78.51 - lr: 0.038200 - momentum: 0.000000\n",
            "2025-05-15 12:01:00,564 epoch 15 - iter 30/53 - loss 0.03875765 - time (sec): 6.24 - samples/sec: 76.97 - lr: 0.038200 - momentum: 0.000000\n",
            "2025-05-15 12:01:01,606 epoch 15 - iter 35/53 - loss 0.05563047 - time (sec): 7.28 - samples/sec: 76.94 - lr: 0.038200 - momentum: 0.000000\n",
            "2025-05-15 12:01:02,552 epoch 15 - iter 40/53 - loss 0.05635399 - time (sec): 8.22 - samples/sec: 77.81 - lr: 0.038200 - momentum: 0.000000\n",
            "2025-05-15 12:01:03,499 epoch 15 - iter 45/53 - loss 0.05902333 - time (sec): 9.17 - samples/sec: 78.50 - lr: 0.038200 - momentum: 0.000000\n",
            "2025-05-15 12:01:04,558 epoch 15 - iter 50/53 - loss 0.05686995 - time (sec): 10.23 - samples/sec: 78.20 - lr: 0.038200 - momentum: 0.000000\n",
            "2025-05-15 12:01:05,084 ----------------------------------------------------------------------------------------------------\n",
            "2025-05-15 12:01:05,088 EPOCH 15 done: loss 0.0546 - lr: 0.038200\n"
          ]
        },
        {
          "output_type": "stream",
          "name": "stderr",
          "text": [
            "100%|██████████| 2/2 [00:00<00:00,  3.56it/s]"
          ]
        },
        {
          "output_type": "stream",
          "name": "stdout",
          "text": [
            "2025-05-15 12:01:05,676 DEV : loss 2.1677520275115967 - f1-score (micro avg)  0.7048\n",
            "2025-05-15 12:01:05,710  - 4 epochs without improvement (above 'patience')-> annealing learning_rate to [0.0191]\n",
            "2025-05-15 12:01:05,713 ----------------------------------------------------------------------------------------------------\n"
          ]
        },
        {
          "output_type": "stream",
          "name": "stderr",
          "text": [
            "\n"
          ]
        },
        {
          "output_type": "stream",
          "name": "stdout",
          "text": [
            "2025-05-15 12:01:06,826 epoch 16 - iter 5/53 - loss 0.01966932 - time (sec): 1.11 - samples/sec: 72.12 - lr: 0.019100 - momentum: 0.000000\n",
            "2025-05-15 12:01:07,840 epoch 16 - iter 10/53 - loss 0.01034533 - time (sec): 2.12 - samples/sec: 75.36 - lr: 0.019100 - momentum: 0.000000\n",
            "2025-05-15 12:01:09,004 epoch 16 - iter 15/53 - loss 0.00708841 - time (sec): 3.29 - samples/sec: 73.00 - lr: 0.019100 - momentum: 0.000000\n",
            "2025-05-15 12:01:10,004 epoch 16 - iter 20/53 - loss 0.00552861 - time (sec): 4.29 - samples/sec: 74.63 - lr: 0.019100 - momentum: 0.000000\n",
            "2025-05-15 12:01:11,126 epoch 16 - iter 25/53 - loss 0.00569809 - time (sec): 5.41 - samples/sec: 73.95 - lr: 0.019100 - momentum: 0.000000\n",
            "2025-05-15 12:01:12,200 epoch 16 - iter 30/53 - loss 0.01921653 - time (sec): 6.48 - samples/sec: 74.03 - lr: 0.019100 - momentum: 0.000000\n",
            "2025-05-15 12:01:13,215 epoch 16 - iter 35/53 - loss 0.03019982 - time (sec): 7.50 - samples/sec: 74.69 - lr: 0.019100 - momentum: 0.000000\n",
            "2025-05-15 12:01:14,082 epoch 16 - iter 40/53 - loss 0.03357072 - time (sec): 8.37 - samples/sec: 76.50 - lr: 0.019100 - momentum: 0.000000\n",
            "2025-05-15 12:01:15,125 epoch 16 - iter 45/53 - loss 0.03030171 - time (sec): 9.41 - samples/sec: 76.53 - lr: 0.019100 - momentum: 0.000000\n",
            "2025-05-15 12:01:16,106 epoch 16 - iter 50/53 - loss 0.02728990 - time (sec): 10.39 - samples/sec: 77.00 - lr: 0.019100 - momentum: 0.000000\n",
            "2025-05-15 12:01:16,608 ----------------------------------------------------------------------------------------------------\n",
            "2025-05-15 12:01:16,609 EPOCH 16 done: loss 0.0263 - lr: 0.019100\n"
          ]
        },
        {
          "output_type": "stream",
          "name": "stderr",
          "text": [
            "100%|██████████| 2/2 [00:00<00:00,  3.68it/s]"
          ]
        },
        {
          "output_type": "stream",
          "name": "stdout",
          "text": [
            "2025-05-15 12:01:17,179 DEV : loss 2.1422207355499268 - f1-score (micro avg)  0.6952\n",
            "2025-05-15 12:01:17,217  - 1 epochs without improvement\n",
            "2025-05-15 12:01:17,221 ----------------------------------------------------------------------------------------------------\n"
          ]
        },
        {
          "output_type": "stream",
          "name": "stderr",
          "text": [
            "\n"
          ]
        },
        {
          "output_type": "stream",
          "name": "stdout",
          "text": [
            "2025-05-15 12:01:18,047 epoch 17 - iter 5/53 - loss 0.00022131 - time (sec): 0.82 - samples/sec: 97.10 - lr: 0.019100 - momentum: 0.000000\n",
            "2025-05-15 12:01:18,939 epoch 17 - iter 10/53 - loss 0.00066135 - time (sec): 1.72 - samples/sec: 93.21 - lr: 0.019100 - momentum: 0.000000\n",
            "2025-05-15 12:01:19,996 epoch 17 - iter 15/53 - loss 0.01597934 - time (sec): 2.77 - samples/sec: 86.55 - lr: 0.019100 - momentum: 0.000000\n",
            "2025-05-15 12:01:21,016 epoch 17 - iter 20/53 - loss 0.01201806 - time (sec): 3.79 - samples/sec: 84.35 - lr: 0.019100 - momentum: 0.000000\n",
            "2025-05-15 12:01:21,993 epoch 17 - iter 25/53 - loss 0.00977525 - time (sec): 4.77 - samples/sec: 83.86 - lr: 0.019100 - momentum: 0.000000\n",
            "2025-05-15 12:01:23,034 epoch 17 - iter 30/53 - loss 0.00818725 - time (sec): 5.81 - samples/sec: 82.60 - lr: 0.019100 - momentum: 0.000000\n",
            "2025-05-15 12:01:24,077 epoch 17 - iter 35/53 - loss 0.00703341 - time (sec): 6.85 - samples/sec: 81.70 - lr: 0.019100 - momentum: 0.000000\n",
            "2025-05-15 12:01:25,239 epoch 17 - iter 40/53 - loss 0.00626382 - time (sec): 8.02 - samples/sec: 79.84 - lr: 0.019100 - momentum: 0.000000\n",
            "2025-05-15 12:01:26,171 epoch 17 - iter 45/53 - loss 0.00560340 - time (sec): 8.95 - samples/sec: 80.46 - lr: 0.019100 - momentum: 0.000000\n",
            "2025-05-15 12:01:27,813 epoch 17 - iter 50/53 - loss 0.00507322 - time (sec): 10.59 - samples/sec: 75.54 - lr: 0.019100 - momentum: 0.000000\n",
            "2025-05-15 12:01:28,367 ----------------------------------------------------------------------------------------------------\n",
            "2025-05-15 12:01:28,368 EPOCH 17 done: loss 0.0048 - lr: 0.019100\n"
          ]
        },
        {
          "output_type": "stream",
          "name": "stderr",
          "text": [
            "100%|██████████| 2/2 [00:00<00:00,  3.76it/s]\n"
          ]
        },
        {
          "output_type": "stream",
          "name": "stdout",
          "text": [
            "2025-05-15 12:01:28,924 DEV : loss 2.1089236736297607 - f1-score (micro avg)  0.6952\n",
            "2025-05-15 12:01:28,948  - 2 epochs without improvement\n",
            "2025-05-15 12:01:28,949 ----------------------------------------------------------------------------------------------------\n",
            "2025-05-15 12:01:30,025 epoch 18 - iter 5/53 - loss 0.00012969 - time (sec): 1.07 - samples/sec: 74.53 - lr: 0.019100 - momentum: 0.000000\n",
            "2025-05-15 12:01:30,938 epoch 18 - iter 10/53 - loss 0.00014987 - time (sec): 1.99 - samples/sec: 80.54 - lr: 0.019100 - momentum: 0.000000\n",
            "2025-05-15 12:01:31,985 epoch 18 - iter 15/53 - loss 0.00023216 - time (sec): 3.03 - samples/sec: 79.11 - lr: 0.019100 - momentum: 0.000000\n",
            "2025-05-15 12:01:33,064 epoch 18 - iter 20/53 - loss 0.00042484 - time (sec): 4.11 - samples/sec: 77.81 - lr: 0.019100 - momentum: 0.000000\n",
            "2025-05-15 12:01:34,064 epoch 18 - iter 25/53 - loss 0.00038332 - time (sec): 5.11 - samples/sec: 78.24 - lr: 0.019100 - momentum: 0.000000\n",
            "2025-05-15 12:01:34,932 epoch 18 - iter 30/53 - loss 0.00033151 - time (sec): 5.98 - samples/sec: 80.26 - lr: 0.019100 - momentum: 0.000000\n",
            "2025-05-15 12:01:35,979 epoch 18 - iter 35/53 - loss 0.00194954 - time (sec): 7.03 - samples/sec: 79.69 - lr: 0.019100 - momentum: 0.000000\n",
            "2025-05-15 12:01:36,994 epoch 18 - iter 40/53 - loss 0.00548173 - time (sec): 8.04 - samples/sec: 79.58 - lr: 0.019100 - momentum: 0.000000\n",
            "2025-05-15 12:01:38,011 epoch 18 - iter 45/53 - loss 0.00489320 - time (sec): 9.06 - samples/sec: 79.47 - lr: 0.019100 - momentum: 0.000000\n",
            "2025-05-15 12:01:38,994 epoch 18 - iter 50/53 - loss 0.00442860 - time (sec): 10.04 - samples/sec: 79.67 - lr: 0.019100 - momentum: 0.000000\n",
            "2025-05-15 12:01:39,507 ----------------------------------------------------------------------------------------------------\n",
            "2025-05-15 12:01:39,508 EPOCH 18 done: loss 0.0042 - lr: 0.019100\n"
          ]
        },
        {
          "output_type": "stream",
          "name": "stderr",
          "text": [
            "100%|██████████| 2/2 [00:00<00:00,  3.73it/s]\n"
          ]
        },
        {
          "output_type": "stream",
          "name": "stdout",
          "text": [
            "2025-05-15 12:01:40,065 DEV : loss 1.992823600769043 - f1-score (micro avg)  0.7048\n",
            "2025-05-15 12:01:40,093  - 3 epochs without improvement\n",
            "2025-05-15 12:01:41,326 ----------------------------------------------------------------------------------------------------\n",
            "2025-05-15 12:01:41,329 Loading model from best epoch ...\n"
          ]
        },
        {
          "output_type": "stream",
          "name": "stderr",
          "text": [
            "100%|██████████| 2/2 [00:00<00:00,  2.89it/s]"
          ]
        },
        {
          "output_type": "stream",
          "name": "stdout",
          "text": [
            "2025-05-15 12:01:44,476 \n",
            "Results:\n",
            "- F-score (micro) 0.6667\n",
            "- F-score (macro) 0.5985\n",
            "- Accuracy 0.6667\n",
            "\n",
            "By class:\n",
            "              precision    recall  f1-score   support\n",
            "\n",
            "          공통     0.7586    0.7333    0.7458        30\n",
            "       가설구조물     0.9474    0.6207    0.7500        29\n",
            "          교량     0.7500    0.7895    0.7692        19\n",
            "        굴착공사     0.5333    0.8000    0.6400        10\n",
            "          건축     0.3846    0.4167    0.4000        12\n",
            "        양중작업     0.2222    0.4000    0.2857         5\n",
            "\n",
            "    accuracy                         0.6667       105\n",
            "   macro avg     0.5994    0.6267    0.5985       105\n",
            "weighted avg     0.7194    0.6667    0.6797       105\n",
            "\n",
            "2025-05-15 12:01:44,479 ----------------------------------------------------------------------------------------------------\n",
            "레이블 분포: {'공통': 30, '굴착공사': 10, '가설구조물': 29, '건축': 12, '교량': 19, '양중작업': 5}\n"
          ]
        },
        {
          "output_type": "stream",
          "name": "stderr",
          "text": [
            "\n"
          ]
        }
      ]
    },
    {
      "cell_type": "markdown",
      "source": [
        "학습 단계:\n",
        "\n",
        "- 코퍼스에 있는 텍스트 데이터들을 document_embeddings를 통해 벡터화합니다.\n",
        "- 각 벡터와 해당 텍스트의 라벨('label'로 시작하는) 간의 관계를 학습합니다.\n",
        "- 이 과정에서 각 클래스(라벨)에 해당하는 벡터 공간의 특성을 파악합니다.\n",
        "\n",
        "\n",
        "예측 단계:\n",
        "\n",
        "- 새로운 텍스트가 입력되면, 같은 document_embeddings를 사용해 벡터로 변환합니다.\n",
        "- 이 벡터가 학습 데이터의 어떤 클래스 벡터들과 가장 유사한지 계산합니다.\n",
        "- 가장 유사도가 높은 클래스를 예측 결과로 출력합니다.\n",
        "\n",
        "\n",
        "\n",
        "이는 마치 벡터 공간에서 각 클래스별로 데이터 포인트들이 모여있는 영역(클러스터)이 형성되고, 새로운 데이터가 어떤 클러스터에 가장 가까운지를 판단하는 것과 유사합니다. 라벨 사전(label_dictionary)은 이 클래스들의 정보를 관리하는 역할을 합니다."
      ],
      "metadata": {
        "id": "8_nx312R2Z5O"
      }
    },
    {
      "cell_type": "markdown",
      "source": [
        "--------------------------------------\n",
        "\n",
        "학습률(learning_rate=0.02):\n",
        "\n",
        "- 모델이 학습 과정에서 가중치를 업데이트하는 스텝 크기를 결정합니다.\n",
        "  값이 크면 학습이 빠르게 진행되지만 최적점을 지나칠 수 있고, 작으면 학습이 느리지만 더 정확한 최적점에 도달할 가능성이 높아집니다.\n",
        "\n",
        "\n",
        "\n",
        "배치 크기(mini_batch_size=16):\n",
        "\n",
        "- 한 번에 처리되는 학습 데이터 샘플의 수입니다.\n",
        "메모리 사용량과 학습 안정성 사이의 균형을 맞추는 중요한 요소입니다.\n",
        "\n",
        "\n",
        "\n",
        "최대 에폭 수(max_epochs=10):\n",
        "\n",
        "- 전체 학습 데이터셋을 몇 번 반복해서 학습할지 결정합니다.\n",
        "너무 적으면 학습이 부족할 수 있고, 너무 많으면 과적합이 발생할 수 있습니다.\n",
        "\n",
        "\n",
        "\n",
        "이 매개변수들이 달라지면 모델 성능에 다음과 같은 영향을 미칩니다:\n",
        "\n",
        "- 학습률 변경 시: 너무 높으면 학습이 불안정해지고, 너무 낮으면 학습이 매우 느리거나 지역 최적점에 갇힐 수 있습니다.\n",
        "- 배치 크기 변경 시: 큰 배치는 더 안정적인 그래디언트를 제공하지만 메모리를 많이 사용하고 일반화 성능이 떨어질 수 있습니다. 작은 배치는 노이즈가 있지만 종종 더 나은 일반화를 제공합니다.\n",
        "- 에폭 수 변경 시: 에폭이 너무 적으면 과소적합, 너무 많으면 과적합이 발생할 수 있습니다.\n",
        "\n",
        "이러한 매개변수들은 모델의 학습 과정과 최종 성능에 직접적인 영향을 미치므로, 일반적으로 하이퍼파라미터 튜닝 과정을 통해 최적값을 찾는 것이 중요합니다."
      ],
      "metadata": {
        "id": "WGbZPiMeL6W-"
      }
    },
    {
      "cell_type": "markdown",
      "source": [
        "![learning-rate-visualization.svg](data:image/svg+xml;base64,PHN2ZyB4bWxucz0iaHR0cDovL3d3dy53My5vcmcvMjAwMC9zdmciIHZpZXdCb3g9IjAgMCA2MDAgNDAwIj4KICA8IS0tIOuwsOqyvSAtLT4KICA8cmVjdCB3aWR0aD0iNjAwIiBoZWlnaHQ9IjQwMCIgZmlsbD0iI2Y4ZjlmYSIgLz4KICAKICA8IS0tIOyijO2RnOy2lSAtLT4KICA8bGluZSB4MT0iNTAiIHkxPSIzNTAiIHgyPSI1NTAiIHkyPSIzNTAiIHN0cm9rZT0iIzMzMyIgc3Ryb2tlLXdpZHRoPSIyIiAvPgogIDxsaW5lIHgxPSI1MCIgeTE9IjUwIiB4Mj0iNTAiIHkyPSIzNTAiIHN0cm9rZT0iIzMzMyIgc3Ryb2tlLXdpZHRoPSIyIiAvPgogIAogIDwhLS0g7IaQ7IukIO2VqOyImCDqs6HshKAgLS0+CiAgPHBhdGggZD0iTTUwLDIwMCBRMTUwLDM1MCAzMDAsMTUwIFE0NTAsNTAgNTUwLDIwMCIgc3Ryb2tlPSIjNjY2IiBzdHJva2Utd2lkdGg9IjIiIGZpbGw9Im5vbmUiIC8+CiAgCiAgPCEtLSDrhpLsnYAg7ZWZ7Iq166WgIC0tPgogIDxjaXJjbGUgY3g9IjE1MCIgY3k9IjM1MCIgcj0iOCIgZmlsbD0iI2ZmNmI2YiIgLz4KICA8bGluZSB4MT0iMTUwIiB5MT0iMzUwIiB4Mj0iMzAwIiB5Mj0iMTUwIiBzdHJva2U9IiNmZjZiNmIiIHN0cm9rZS13aWR0aD0iMiIgc3Ryb2tlLWRhc2hhcnJheT0iNSw1IiAvPgogIDxjaXJjbGUgY3g9IjMwMCIgY3k9IjE1MCIgcj0iOCIgZmlsbD0iI2ZmNmI2YiIgLz4KICA8bGluZSB4MT0iMzAwIiB5MT0iMTUwIiB4Mj0iNDUwIiB5Mj0iNTAiIHN0cm9rZT0iI2ZmNmI2YiIgc3Ryb2tlLXdpZHRoPSIyIiBzdHJva2UtZGFzaGFycmF5PSI1LDUiIC8+CiAgPGNpcmNsZSBjeD0iNDUwIiBjeT0iNTAiIHI9IjgiIGZpbGw9IiNmZjZiNmIiIC8+CiAgPGxpbmUgeDE9IjQ1MCIgeTE9IjUwIiB4Mj0iNTUwIiB5Mj0iMjAwIiBzdHJva2U9IiNmZjZiNmIiIHN0cm9rZS13aWR0aD0iMiIgc3Ryb2tlLWRhc2hhcnJheT0iNSw1IiAvPgogIDxjaXJjbGUgY3g9IjU1MCIgY3k9IjIwMCIgcj0iOCIgZmlsbD0iI2ZmNmI2YiIgLz4KICAKICA8IS0tIOyggeygiO2VnCDtlZnsirXrpaAgLS0+CiAgPGNpcmNsZSBjeD0iMTUwIiBjeT0iMzUwIiByPSI2IiBmaWxsPSIjMzM5YWYwIiAvPgogIDxsaW5lIHgxPSIxNTAiIHkxPSIzNTAiIHgyPSIyMjAiIHkyPSIyNTAiIHN0cm9rZT0iIzMzOWFmMCIgc3Ryb2tlLXdpZHRoPSIyIiBzdHJva2UtZGFzaGFycmF5PSI1LDUiIC8+CiAgPGNpcmNsZSBjeD0iMjIwIiBjeT0iMjUwIiByPSI2IiBmaWxsPSIjMzM5YWYwIiAvPgogIDxsaW5lIHgxPSIyMjAiIHkxPSIyNTAiIHgyPSIyNzAiIHkyPSIxODAiIHN0cm9rZT0iIzMzOWFmMCIgc3Ryb2tlLXdpZHRoPSIyIiBzdHJva2UtZGFzaGFycmF5PSI1LDUiIC8+CiAgPGNpcmNsZSBjeD0iMjcwIiBjeT0iMTgwIiByPSI2IiBmaWxsPSIjMzM5YWYwIiAvPgogIDxsaW5lIHgxPSIyNzAiIHkxPSIxODAiIHgyPSIzMTAiIHkyPSIxNTAiIHN0cm9rZT0iIzMzOWFmMCIgc3Ryb2tlLXdpZHRoPSIyIiBzdHJva2UtZGFzaGFycmF5PSI1LDUiIC8+CiAgPGNpcmNsZSBjeD0iMzEwIiBjeT0iMTUwIiByPSI2IiBmaWxsPSIjMzM5YWYwIiAvPgogIDxsaW5lIHgxPSIzMTAiIHkxPSIxNTAiIHgyPSIzNTAiIHkyPSIxNDAiIHN0cm9rZT0iIzMzOWFmMCIgc3Ryb2tlLXdpZHRoPSIyIiBzdHJva2UtZGFzaGFycmF5PSI1LDUiIC8+CiAgPGNpcmNsZSBjeD0iMzUwIiBjeT0iMTQwIiByPSI2IiBmaWxsPSIjMzM5YWYwIiAvPgogIAogIDwhLS0g64Ku7J2AIO2VmeyKteuloCAtLT4KICA8Y2lyY2xlIGN4PSIxNTAiIGN5PSIzNTAiIHI9IjQiIGZpbGw9IiMyMGM5OTciIC8+CiAgPGxpbmUgeDE9IjE1MCIgeTE9IjM1MCIgeDI9IjE3MCIgeTI9IjMzMCIgc3Ryb2tlPSIjMjBjOTk3IiBzdHJva2Utd2lkdGg9IjIiIHN0cm9rZS1kYXNoYXJyYXk9IjUsNSIgLz4KICA8Y2lyY2xlIGN4PSIxNzAiIGN5PSIzMzAiIHI9IjQiIGZpbGw9IiMyMGM5OTciIC8+CiAgPGxpbmUgeDE9IjE3MCIgeTE9IjMzMCIgeDI9IjE5MCIgeTI9IjMxMCIgc3Ryb2tlPSIjMjBjOTk3IiBzdHJva2Utd2lkdGg9IjIiIHN0cm9rZS1kYXNoYXJyYXk9IjUsNSIgLz4KICA8Y2lyY2xlIGN4PSIxOTAiIGN5PSIzMTAiIHI9IjQiIGZpbGw9IiMyMGM5OTciIC8+CiAgPGxpbmUgeDE9IjE5MCIgeTE9IjMxMCIgeDI9IjIxMCIgeTI9IjI5MCIgc3Ryb2tlPSIjMjBjOTk3IiBzdHJva2Utd2lkdGg9IjIiIHN0cm9rZS1kYXNoYXJyYXk9IjUsNSIgLz4KICA8Y2lyY2xlIGN4PSIyMTAiIGN5PSIyOTAiIHI9IjQiIGZpbGw9IiMyMGM5OTciIC8+CiAgPGxpbmUgeDE9IjIxMCIgeTE9IjI5MCIgeDI9IjIzMCIgeTI9IjI3MCIgc3Ryb2tlPSIjMjBjOTk3IiBzdHJva2Utd2lkdGg9IjIiIHN0cm9rZS1kYXNoYXJyYXk9IjUsNSIgLz4KICA8Y2lyY2xlIGN4PSIyMzAiIGN5PSIyNzAiIHI9IjQiIGZpbGw9IiMyMGM5OTciIC8+CiAgPGxpbmUgeDE9IjIzMCIgeTE9IjI3MCIgeDI9IjI1MCIgeTI9IjI1MCIgc3Ryb2tlPSIjMjBjOTk3IiBzdHJva2Utd2lkdGg9IjIiIHN0cm9rZS1kYXNoYXJyYXk9IjUsNSIgLz4KICA8Y2lyY2xlIGN4PSIyNTAiIGN5PSIyNTAiIHI9IjQiIGZpbGw9IiMyMGM5OTciIC8+CiAgCiAgPCEtLSDroIjsnbTruJQgLS0+CiAgPHRleHQgeD0iMzAwIiB5PSIzOTAiIGZvbnQtZmFtaWx5PSJBcmlhbCIgZm9udC1zaXplPSIxNiIgdGV4dC1hbmNob3I9Im1pZGRsZSIgZmlsbD0iIzMzMyI+6rCA7KSR7LmYIO2MjOudvOuvuO2EsDwvdGV4dD4KICA8dGV4dCB4PSIyMCIgeT0iMjAwIiBmb250LWZhbWlseT0iQXJpYWwiIGZvbnQtc2l6ZT0iMTYiIHRleHQtYW5jaG9yPSJtaWRkbGUiIHRyYW5zZm9ybT0icm90YXRlKC05MCwgMjAsIDIwMCkiIGZpbGw9IiMzMzMiPuyGkOyLpCDtlajsiJgg6rCSPC90ZXh0PgogIDx0ZXh0IHg9IjQ4MCIgeT0iMzAiIGZvbnQtZmFtaWx5PSJBcmlhbCIgZm9udC1zaXplPSIxNCIgZmlsbD0iI2ZmNmI2YiI+64aS7J2AIO2VmeyKteuloDwvdGV4dD4KICA8dGV4dCB4PSIzODAiIHk9IjEyMCIgZm9udC1mYW1pbHk9IkFyaWFsIiBmb250LXNpemU9IjE0IiBmaWxsPSIjMzM5YWYwIj7soIHsoIjtlZwg7ZWZ7Iq166WgPC90ZXh0PgogIDx0ZXh0IHg9IjI2MCIgeT0iMjMwIiBmb250LWZhbWlseT0iQXJpYWwiIGZvbnQtc2l6ZT0iMTQiIGZpbGw9IiMyMGM5OTciPuuCruydgCDtlZnsirXrpaA8L3RleHQ+CiAgPHRleHQgeD0iMzMwIiB5PSIxMDAiIGZvbnQtZmFtaWx5PSJBcmlhbCIgZm9udC1zaXplPSIxNiIgZm9udC13ZWlnaHQ9ImJvbGQiIGZpbGw9IiMzMzMiPuy1nOyggeygkDwvdGV4dD4KPC9zdmc+Cg==)"
      ],
      "metadata": {
        "id": "Dz11lKcZMti4"
      }
    },
    {
      "cell_type": "markdown",
      "source": [
        "![correct-epochs-error-graph.svg](data:image/svg+xml;base64,PHN2ZyB4bWxucz0iaHR0cDovL3d3dy53My5vcmcvMjAwMC9zdmciIHZpZXdCb3g9IjAgMCA2MDAgNDAwIj4KICA8IS0tIOuwsOqyvSAtLT4KICA8cmVjdCB3aWR0aD0iNjAwIiBoZWlnaHQ9IjQwMCIgZmlsbD0iI2Y4ZjlmYSIgLz4KICAKICA8IS0tIOyijO2RnOy2lSAtLT4KICA8bGluZSB4MT0iNTAiIHkxPSI1MCIgeDI9IjUwIiB5Mj0iMzUwIiBzdHJva2U9IiMzMzMiIHN0cm9rZS13aWR0aD0iMiIgLz4KICA8bGluZSB4MT0iNTAiIHkxPSIzNTAiIHgyPSI1NTAiIHkyPSIzNTAiIHN0cm9rZT0iIzMzMyIgc3Ryb2tlLXdpZHRoPSIyIiAvPgogIAogIDwhLS0g7JeQ7Y+tIOuIiOq4iCAtLT4KICA8bGluZSB4MT0iNTAiIHkxPSIzNTAiIHgyPSI1MCIgeTI9IjM1NSIgc3Ryb2tlPSIjMzMzIiBzdHJva2Utd2lkdGg9IjIiIC8+CiAgPHRleHQgeD0iNTAiIHk9IjM3MCIgdGV4dC1hbmNob3I9Im1pZGRsZSIgZm9udC1mYW1pbHk9IkFyaWFsIiBmb250LXNpemU9IjEyIiBmaWxsPSIjMzMzIj4wPC90ZXh0PgogIAogIDxsaW5lIHgxPSIxNTAiIHkxPSIzNTAiIHgyPSIxNTAiIHkyPSIzNTUiIHN0cm9rZT0iIzMzMyIgc3Ryb2tlLXdpZHRoPSIyIiAvPgogIDx0ZXh0IHg9IjE1MCIgeT0iMzcwIiB0ZXh0LWFuY2hvcj0ibWlkZGxlIiBmb250LWZhbWlseT0iQXJpYWwiIGZvbnQtc2l6ZT0iMTIiIGZpbGw9IiMzMzMiPjU8L3RleHQ+CiAgCiAgPGxpbmUgeDE9IjI1MCIgeTE9IjM1MCIgeDI9IjI1MCIgeTI9IjM1NSIgc3Ryb2tlPSIjMzMzIiBzdHJva2Utd2lkdGg9IjIiIC8+CiAgPHRleHQgeD0iMjUwIiB5PSIzNzAiIHRleHQtYW5jaG9yPSJtaWRkbGUiIGZvbnQtZmFtaWx5PSJBcmlhbCIgZm9udC1zaXplPSIxMiIgZmlsbD0iIzMzMyI+MTA8L3RleHQ+CiAgCiAgPGxpbmUgeDE9IjM1MCIgeTE9IjM1MCIgeDI9IjM1MCIgeTI9IjM1NSIgc3Ryb2tlPSIjMzMzIiBzdHJva2Utd2lkdGg9IjIiIC8+CiAgPHRleHQgeD0iMzUwIiB5PSIzNzAiIHRleHQtYW5jaG9yPSJtaWRkbGUiIGZvbnQtZmFtaWx5PSJBcmlhbCIgZm9udC1zaXplPSIxMiIgZmlsbD0iIzMzMyI+MTU8L3RleHQ+CiAgCiAgPGxpbmUgeDE9IjQ1MCIgeTE9IjM1MCIgeDI9IjQ1MCIgeTI9IjM1NSIgc3Ryb2tlPSIjMzMzIiBzdHJva2Utd2lkdGg9IjIiIC8+CiAgPHRleHQgeD0iNDUwIiB5PSIzNzAiIHRleHQtYW5jaG9yPSJtaWRkbGUiIGZvbnQtZmFtaWx5PSJBcmlhbCIgZm9udC1zaXplPSIxMiIgZmlsbD0iIzMzMyI+MjA8L3RleHQ+CiAgCiAgPGxpbmUgeDE9IjU1MCIgeTE9IjM1MCIgeDI9IjU1MCIgeTI9IjM1NSIgc3Ryb2tlPSIjMzMzIiBzdHJva2Utd2lkdGg9IjIiIC8+CiAgPHRleHQgeD0iNTUwIiB5PSIzNzAiIHRleHQtYW5jaG9yPSJtaWRkbGUiIGZvbnQtZmFtaWx5PSJBcmlhbCIgZm9udC1zaXplPSIxMiIgZmlsbD0iIzMzMyI+MjU8L3RleHQ+CiAgCiAgPCEtLSDsmKTssKgg64iI6riIIC0tPgogIDxsaW5lIHgxPSI0NSIgeTE9IjM1MCIgeDI9IjUwIiB5Mj0iMzUwIiBzdHJva2U9IiMzMzMiIHN0cm9rZS13aWR0aD0iMiIgLz4KICA8dGV4dCB4PSI0MCIgeT0iMzU1IiB0ZXh0LWFuY2hvcj0iZW5kIiBmb250LWZhbWlseT0iQXJpYWwiIGZvbnQtc2l6ZT0iMTIiIGZpbGw9IiMzMzMiPjA8L3RleHQ+CiAgCiAgPGxpbmUgeDE9IjQ1IiB5MT0iMzAwIiB4Mj0iNTAiIHkyPSIzMDAiIHN0cm9rZT0iIzMzMyIgc3Ryb2tlLXdpZHRoPSIyIiAvPgogIDx0ZXh0IHg9IjQwIiB5PSIzMDUiIHRleHQtYW5jaG9yPSJlbmQiIGZvbnQtZmFtaWx5PSJBcmlhbCIgZm9udC1zaXplPSIxMiIgZmlsbD0iIzMzMyI+MC4yPC90ZXh0PgogIAogIDxsaW5lIHgxPSI0NSIgeTE9IjI1MCIgeDI9IjUwIiB5Mj0iMjUwIiBzdHJva2U9IiMzMzMiIHN0cm9rZS13aWR0aD0iMiIgLz4KICA8dGV4dCB4PSI0MCIgeT0iMjU1IiB0ZXh0LWFuY2hvcj0iZW5kIiBmb250LWZhbWlseT0iQXJpYWwiIGZvbnQtc2l6ZT0iMTIiIGZpbGw9IiMzMzMiPjAuNDwvdGV4dD4KICAKICA8bGluZSB4MT0iNDUiIHkxPSIyMDAiIHgyPSI1MCIgeTI9IjIwMCIgc3Ryb2tlPSIjMzMzIiBzdHJva2Utd2lkdGg9IjIiIC8+CiAgPHRleHQgeD0iNDAiIHk9IjIwNSIgdGV4dC1hbmNob3I9ImVuZCIgZm9udC1mYW1pbHk9IkFyaWFsIiBmb250LXNpemU9IjEyIiBmaWxsPSIjMzMzIj4wLjY8L3RleHQ+CiAgCiAgPGxpbmUgeDE9IjQ1IiB5MT0iMTUwIiB4Mj0iNTAiIHkyPSIxNTAiIHN0cm9rZT0iIzMzMyIgc3Ryb2tlLXdpZHRoPSIyIiAvPgogIDx0ZXh0IHg9IjQwIiB5PSIxNTUiIHRleHQtYW5jaG9yPSJlbmQiIGZvbnQtZmFtaWx5PSJBcmlhbCIgZm9udC1zaXplPSIxMiIgZmlsbD0iIzMzMyI+MC44PC90ZXh0PgogIAogIDxsaW5lIHgxPSI0NSIgeTE9IjEwMCIgeDI9IjUwIiB5Mj0iMTAwIiBzdHJva2U9IiMzMzMiIHN0cm9rZS13aWR0aD0iMiIgLz4KICA8dGV4dCB4PSI0MCIgeT0iMTA1IiB0ZXh0LWFuY2hvcj0iZW5kIiBmb250LWZhbWlseT0iQXJpYWwiIGZvbnQtc2l6ZT0iMTIiIGZpbGw9IiMzMzMiPjEuMDwvdGV4dD4KICAKICA8bGluZSB4MT0iNDUiIHkxPSI1MCIgeDI9IjUwIiB5Mj0iNTAiIHN0cm9rZT0iIzMzMyIgc3Ryb2tlLXdpZHRoPSIyIiAvPgogIDx0ZXh0IHg9IjQwIiB5PSI1NSIgdGV4dC1hbmNob3I9ImVuZCIgZm9udC1mYW1pbHk9IkFyaWFsIiBmb250LXNpemU9IjEyIiBmaWxsPSIjMzMzIj4xLjI8L3RleHQ+CgogIDwhLS0g6rKA7KadIOyYpOywqCDqs6HshKAgLS0+CiAgPHBhdGggZD0iTTUwLDEwMCBDMTAwLDE1MCAxNTAsMTgwIDIwMCwyMDAgQzI1MCwyMTUgMzAwLDIyNSAzNTAsMjMyIEM0MDAsMjM4IDQ1MCwyNDIgNTUwLDI0NSIgCiAgICAgICAgc3Ryb2tlPSIjMzM5YWYwIiBzdHJva2Utd2lkdGg9IjMiIGZpbGw9Im5vbmUiIC8+CiAgCiAgPCEtLSDtm4jroKgg7Jik7LCoIOqzoeyEoCAtLT4KICA8cGF0aCBkPSJNNTAsMTIwIEMxMDAsMTcwIDE1MCwxOTUgMjAwLDIwNSBDMjUwLDIxMCAzMDAsMjE1IDM1MCwyMjUgQzQwMCwyNTAgNDUwLDI4MCA1NTAsMzIwIiAKICAgICAgICBzdHJva2U9IiNmZjZiNmIiIHN0cm9rZS13aWR0aD0iMyIgZmlsbD0ibm9uZSIgLz4KICAKICA8IS0tIOy1nOyggSDsp4DsoJAg7ZGc7IucIC0tPgogIDxjaXJjbGUgY3g9IjI1MCIgY3k9IjIxMCIgcj0iOCIgZmlsbD0iIzJlY2M3MSIgLz4KICA8bGluZSB4MT0iMjUwIiB5MT0iNTAiIHgyPSIyNTAiIHkyPSIzNTAiIHN0cm9rZT0iIzJlY2M3MSIgc3Ryb2tlLXdpZHRoPSIxIiBzdHJva2UtZGFzaGFycmF5PSI1LDUiIC8+CiAgCiAgPCEtLSDsmIHsl60g6rWs67aEIC0tPgogIDxyZWN0IHg9IjUwIiB5PSI1MCIgd2lkdGg9IjE1MCIgaGVpZ2h0PSIzMDAiIGZpbGw9IiNmZmVhYTciIGZpbGwtb3BhY2l0eT0iMC4yIiAvPgogIDxyZWN0IHg9IjIwMCIgeT0iNTAiIHdpZHRoPSIxMDAiIGhlaWdodD0iMzAwIiBmaWxsPSIjNTVlZmM0IiBmaWxsLW9wYWNpdHk9IjAuMiIgLz4KICA8cmVjdCB4PSIzMDAiIHk9IjUwIiB3aWR0aD0iMjUwIiBoZWlnaHQ9IjMwMCIgZmlsbD0iI2ZhYjFhMCIgZmlsbC1vcGFjaXR5PSIwLjIiIC8+CiAgCiAgPCEtLSDroIjsnbTruJQgLS0+CiAgPHRleHQgeD0iMzAwIiB5PSIzOTAiIGZvbnQtZmFtaWx5PSJBcmlhbCIgZm9udC1zaXplPSIxNiIgdGV4dC1hbmNob3I9Im1pZGRsZSIgZmlsbD0iIzMzMyI+7JeQ7Y+tIOyImDwvdGV4dD4KICA8dGV4dCB4PSIyMCIgeT0iMjAwIiBmb250LWZhbWlseT0iQXJpYWwiIGZvbnQtc2l6ZT0iMTYiIHRleHQtYW5jaG9yPSJtaWRkbGUiIHRyYW5zZm9ybT0icm90YXRlKC05MCwgMjAsIDIwMCkiIGZpbGw9IiMzMzMiPuyYpOywqCDqsJI8L3RleHQ+CiAgCiAgPHRleHQgeD0iNTAwIiB5PSIyNDUiIGZvbnQtZmFtaWx5PSJBcmlhbCIgZm9udC1zaXplPSIxNCIgZmlsbD0iIzMzOWFmMCI+6rKA7KadIOyYpOywqDwvdGV4dD4KICA8dGV4dCB4PSI1MDAiIHk9IjMyMCIgZm9udC1mYW1pbHk9IkFyaWFsIiBmb250LXNpemU9IjE0IiBmaWxsPSIjZmY2YjZiIj7tm4jroKgg7Jik7LCoPC90ZXh0PgogIDx0ZXh0IHg9IjI1MCIgeT0iMTgwIiBmb250LWZhbWlseT0iQXJpYWwiIGZvbnQtc2l6ZT0iMTQiIGZpbGw9IiMyZWNjNzEiPuy1nOyggSDsp4DsoJAgKOyhsOq4sCDsooXro4wpPC90ZXh0PgogIAogIDwhLS0g7JiB7JetIOugiOydtOu4lCAtLT4KICA8dGV4dCB4PSIxMjUiIHk9IjcwIiBmb250LWZhbWlseT0iQXJpYWwiIGZvbnQtc2l6ZT0iMTQiIHRleHQtYW5jaG9yPSJtaWRkbGUiIGZpbGw9IiMzMzMiPuqzvOyGjOygge2VqSDsmIHsl608L3RleHQ+CiAgPHRleHQgeD0iMjUwIiB5PSI3MCIgZm9udC1mYW1pbHk9IkFyaWFsIiBmb250LXNpemU9IjE0IiB0ZXh0LWFuY2hvcj0ibWlkZGxlIiBmaWxsPSIjMzMzIj7stZzsoIEg7JiB7JetPC90ZXh0PgogIDx0ZXh0IHg9IjQyNSIgeT0iNzAiIGZvbnQtZmFtaWx5PSJBcmlhbCIgZm9udC1zaXplPSIxNCIgdGV4dC1hbmNob3I9Im1pZGRsZSIgZmlsbD0iIzMzMyI+6rO87KCB7ZWpIOyYgeyXrTwvdGV4dD4KPC9zdmc+Cg==)"
      ],
      "metadata": {
        "id": "gHHGWk9HPSF5"
      }
    },
    {
      "cell_type": "markdown",
      "source": [
        "가중치의 의미:\n",
        "\n",
        "- 머신러닝 모델에서 가중치는 입력 데이터의 각 특성(feature)이 최종 출력에 얼마나 영향을 미치는지 결정하는 값입니다.\n",
        "예를 들어 신경망에서는 뉴런 간의 연결 강도를 나타냅니다.\n",
        "\n",
        "\n",
        "가중치 업데이트 과정:\n",
        "\n",
        "- 초기에는 가중치가 랜덤한 값으로 설정됩니다.\n",
        "모델이 훈련 데이터로 예측을 수행하고, 실제 값과 예측 값의 차이(오차)를 계산합니다.\n",
        "이 오차를 최소화하는 방향으로 가중치를 조정합니다.\n",
        "이 과정을 반복하며 모델이 점점 더 정확한 예측을 할 수 있도록 합니다.\n",
        "\n",
        "\n",
        "업데이트 수식:\n",
        "\n",
        "- 가장 기본적인 형태: 새 가중치 = 기존 가중치 - (학습률 × 오차에 대한 가중치의 영향도)\n",
        "여기서 '오차에 대한 가중치의 영향도'는 경사(gradient)로 계산됩니다.\n",
        "학습률(learning rate)은 한 번에 가중치를 얼마나 크게 조정할지 결정합니다.\n",
        "\n",
        "\n",
        "에폭과의 관계:\n",
        "\n",
        "- 한 에폭은 전체 훈련 데이터를 한 번 순회하는 것을 의미합니다.\n",
        "각 에폭에서 모델은 훈련 데이터를 보고 가중치를 여러 번 업데이트합니다.\n",
        "에폭을 반복할수록 모델의 가중치는 최적값에 가까워지게 됩니다.\n",
        "\n",
        "\n",
        "\n",
        "이 가중치 업데이트 과정이 바로 머신러닝에서 말하는 '학습'의 본질. 모델이 데이터로부터 패턴을 학습한다는 것은 결국 이 가중치들을 데이터에 맞게 조정해나가는 과정입다."
      ],
      "metadata": {
        "id": "ckCCto_nP_F9"
      }
    },
    {
      "cell_type": "code",
      "source": [
        "# 우리가 직접 입력한\n",
        "\n",
        "from sentence_transformers import SentenceTransformer\n",
        "\n",
        "# 두 모델 로드\n",
        "type_classifier = TextClassifier.load('/content/models/type-classifier/best-model.pt')\n",
        "construction_classifier = TextClassifier.load('/content/models/construction-classifier/best-model.pt')\n",
        "\n",
        "def classify_guideline(text):\n",
        "    # 지침 유형 분류\n",
        "    type_sentence = Sentence(text)\n",
        "    type_classifier.predict(type_sentence)\n",
        "    guideline_type = type_sentence.labels[0].value\n",
        "    type_confidence = type_sentence.labels[0].score\n",
        "\n",
        "    # 공사 종류 분류\n",
        "    construction_sentence = Sentence(text)\n",
        "    construction_classifier.predict(construction_sentence)\n",
        "    construction_type = construction_sentence.labels[0].value\n",
        "    construction_confidence = construction_sentence.labels[0].score\n",
        "\n",
        "    return {\n",
        "        'text': text,\n",
        "        'guideline_type': guideline_type,\n",
        "        'construction_type': construction_type,\n",
        "        'type_confidence': type_confidence,\n",
        "        'construction_confidence': construction_confidence\n",
        "    }"
      ],
      "metadata": {
        "id": "IhPK5EkwNfsC",
        "colab": {
          "base_uri": "https://localhost:8080/",
          "height": 225
        },
        "outputId": "3d97361c-6677-4c1b-dcab-d3d1b77b02a4"
      },
      "execution_count": 22,
      "outputs": [
        {
          "output_type": "error",
          "ename": "NameError",
          "evalue": "name 'fcm_guidelines' is not defined",
          "traceback": [
            "\u001b[0;31m---------------------------------------------------------------------------\u001b[0m",
            "\u001b[0;31mNameError\u001b[0m                                 Traceback (most recent call last)",
            "\u001b[0;32m<ipython-input-22-a2ee32f41e26>\u001b[0m in \u001b[0;36m<cell line: 0>\u001b[0;34m()\u001b[0m\n\u001b[1;32m     30\u001b[0m \u001b[0;31m# PDF에서 추출한 모든 지침에 적용\u001b[0m\u001b[0;34m\u001b[0m\u001b[0;34m\u001b[0m\u001b[0m\n\u001b[1;32m     31\u001b[0m \u001b[0mclassified_guidelines\u001b[0m \u001b[0;34m=\u001b[0m \u001b[0;34m[\u001b[0m\u001b[0;34m]\u001b[0m\u001b[0;34m\u001b[0m\u001b[0;34m\u001b[0m\u001b[0m\n\u001b[0;32m---> 32\u001b[0;31m \u001b[0;32mfor\u001b[0m \u001b[0mguideline\u001b[0m \u001b[0;32min\u001b[0m \u001b[0mfcm_guidelines\u001b[0m \u001b[0;34m+\u001b[0m \u001b[0milm_guidelines\u001b[0m\u001b[0;34m:\u001b[0m\u001b[0;34m\u001b[0m\u001b[0;34m\u001b[0m\u001b[0m\n\u001b[0m\u001b[1;32m     33\u001b[0m     \u001b[0mclassification\u001b[0m \u001b[0;34m=\u001b[0m \u001b[0mclassify_guideline\u001b[0m\u001b[0;34m(\u001b[0m\u001b[0mguideline\u001b[0m\u001b[0;34m)\u001b[0m\u001b[0;34m\u001b[0m\u001b[0;34m\u001b[0m\u001b[0m\n\u001b[1;32m     34\u001b[0m \u001b[0;34m\u001b[0m\u001b[0m\n",
            "\u001b[0;31mNameError\u001b[0m: name 'fcm_guidelines' is not defined"
          ]
        }
      ]
    },
    {
      "cell_type": "code",
      "source": [
        "from google.colab import drive\n",
        "drive.mount('/content/drive')"
      ],
      "metadata": {
        "id": "pOFI61_a2NgF"
      },
      "execution_count": null,
      "outputs": []
    },
    {
      "cell_type": "code",
      "source": [
        "# PDF에서 추출한 모든 지침에 적용\n",
        "classified_guidelines = []\n",
        "for guideline in fcm_guidelines + ilm_guidelines:\n",
        "    classification = classify_guideline(guideline)\n",
        "\n",
        "    # 두 분류 모두 충분한 신뢰도를 가질 경우만 사용\n",
        "    if classification['type_confidence'] > 0.7 and classification['construction_confidence'] > 0.7:\n",
        "        # 임베딩 생성\n",
        "        embedding = model.encode(guideline)\n",
        "        classification['embedding'] = embedding\n",
        "        classified_guidelines.append(classification)"
      ],
      "metadata": {
        "id": "-rBQvN5d2GtW"
      },
      "execution_count": null,
      "outputs": []
    }
  ]
}